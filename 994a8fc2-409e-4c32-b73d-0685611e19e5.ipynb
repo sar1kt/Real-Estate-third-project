{
 "cells": [
  {
   "cell_type": "markdown",
   "metadata": {},
   "source": [
    "# Исследование объявлений о продаже квартир\n",
    "\n",
    "В вашем распоряжении данные сервиса Яндекс.Недвижимость — архив объявлений о продаже квартир в Санкт-Петербурге и соседних населённых пунктов за несколько лет. Нужно научиться определять рыночную стоимость объектов недвижимости. Ваша задача — установить параметры. Это позволит построить автоматизированную систему: она отследит аномалии и мошенническую деятельность. \n",
    "\n",
    "По каждой квартире на продажу доступны два вида данных. Первые вписаны пользователем, вторые — получены автоматически на основе картографических данных. Например, расстояние до центра, аэропорта, ближайшего парка и водоёма. "
   ]
  },
  {
   "cell_type": "markdown",
   "metadata": {},
   "source": [
    "### Откройте файл с данными и изучите общую информацию. "
   ]
  },
  {
   "cell_type": "markdown",
   "metadata": {},
   "source": [
    "открываем файл и сразу рассматриваем общую иноформацию о данных"
   ]
  },
  {
   "cell_type": "code",
   "execution_count": 1,
   "metadata": {},
   "outputs": [],
   "source": [
    "import pandas as pd\n",
    "import numpy as np\n",
    "import seaborn as sns"
   ]
  },
  {
   "cell_type": "code",
   "execution_count": 2,
   "metadata": {},
   "outputs": [
    {
     "name": "stdout",
     "output_type": "stream",
     "text": [
      "<class 'pandas.core.frame.DataFrame'>\n",
      "RangeIndex: 23699 entries, 0 to 23698\n",
      "Data columns (total 22 columns):\n",
      " #   Column                Non-Null Count  Dtype  \n",
      "---  ------                --------------  -----  \n",
      " 0   total_images          23699 non-null  int64  \n",
      " 1   last_price            23699 non-null  float64\n",
      " 2   total_area            23699 non-null  float64\n",
      " 3   first_day_exposition  23699 non-null  object \n",
      " 4   rooms                 23699 non-null  int64  \n",
      " 5   ceiling_height        14504 non-null  float64\n",
      " 6   floors_total          23613 non-null  float64\n",
      " 7   living_area           21796 non-null  float64\n",
      " 8   floor                 23699 non-null  int64  \n",
      " 9   is_apartment          2775 non-null   object \n",
      " 10  studio                23699 non-null  bool   \n",
      " 11  open_plan             23699 non-null  bool   \n",
      " 12  kitchen_area          21421 non-null  float64\n",
      " 13  balcony               12180 non-null  float64\n",
      " 14  locality_name         23650 non-null  object \n",
      " 15  airports_nearest      18157 non-null  float64\n",
      " 16  cityCenters_nearest   18180 non-null  float64\n",
      " 17  parks_around3000      18181 non-null  float64\n",
      " 18  parks_nearest         8079 non-null   float64\n",
      " 19  ponds_around3000      18181 non-null  float64\n",
      " 20  ponds_nearest         9110 non-null   float64\n",
      " 21  days_exposition       20518 non-null  float64\n",
      "dtypes: bool(2), float64(14), int64(3), object(3)\n",
      "memory usage: 3.7+ MB\n"
     ]
    }
   ],
   "source": [
    "data = pd.read_csv('/datasets/real_estate_data.csv', sep = '\\t')\n",
    "#print(data.head(10))\n",
    "data.info()"
   ]
  },
  {
   "cell_type": "code",
   "execution_count": 3,
   "metadata": {},
   "outputs": [
    {
     "data": {
      "text/html": [
       "<div>\n",
       "<style scoped>\n",
       "    .dataframe tbody tr th:only-of-type {\n",
       "        vertical-align: middle;\n",
       "    }\n",
       "\n",
       "    .dataframe tbody tr th {\n",
       "        vertical-align: top;\n",
       "    }\n",
       "\n",
       "    .dataframe thead th {\n",
       "        text-align: right;\n",
       "    }\n",
       "</style>\n",
       "<table border=\"1\" class=\"dataframe\">\n",
       "  <thead>\n",
       "    <tr style=\"text-align: right;\">\n",
       "      <th></th>\n",
       "      <th>total_images</th>\n",
       "      <th>last_price</th>\n",
       "      <th>total_area</th>\n",
       "      <th>first_day_exposition</th>\n",
       "      <th>rooms</th>\n",
       "      <th>ceiling_height</th>\n",
       "      <th>floors_total</th>\n",
       "      <th>living_area</th>\n",
       "      <th>floor</th>\n",
       "      <th>is_apartment</th>\n",
       "      <th>...</th>\n",
       "      <th>kitchen_area</th>\n",
       "      <th>balcony</th>\n",
       "      <th>locality_name</th>\n",
       "      <th>airports_nearest</th>\n",
       "      <th>cityCenters_nearest</th>\n",
       "      <th>parks_around3000</th>\n",
       "      <th>parks_nearest</th>\n",
       "      <th>ponds_around3000</th>\n",
       "      <th>ponds_nearest</th>\n",
       "      <th>days_exposition</th>\n",
       "    </tr>\n",
       "  </thead>\n",
       "  <tbody>\n",
       "    <tr>\n",
       "      <th>0</th>\n",
       "      <td>20</td>\n",
       "      <td>13000000.0</td>\n",
       "      <td>108.00</td>\n",
       "      <td>2019-03-07T00:00:00</td>\n",
       "      <td>3</td>\n",
       "      <td>2.70</td>\n",
       "      <td>16.0</td>\n",
       "      <td>51.0</td>\n",
       "      <td>8</td>\n",
       "      <td>NaN</td>\n",
       "      <td>...</td>\n",
       "      <td>25.00</td>\n",
       "      <td>NaN</td>\n",
       "      <td>Санкт-Петербург</td>\n",
       "      <td>18863.0</td>\n",
       "      <td>16028.0</td>\n",
       "      <td>1.0</td>\n",
       "      <td>482.0</td>\n",
       "      <td>2.0</td>\n",
       "      <td>755.0</td>\n",
       "      <td>NaN</td>\n",
       "    </tr>\n",
       "    <tr>\n",
       "      <th>1</th>\n",
       "      <td>7</td>\n",
       "      <td>3350000.0</td>\n",
       "      <td>40.40</td>\n",
       "      <td>2018-12-04T00:00:00</td>\n",
       "      <td>1</td>\n",
       "      <td>NaN</td>\n",
       "      <td>11.0</td>\n",
       "      <td>18.6</td>\n",
       "      <td>1</td>\n",
       "      <td>NaN</td>\n",
       "      <td>...</td>\n",
       "      <td>11.00</td>\n",
       "      <td>2.0</td>\n",
       "      <td>посёлок Шушары</td>\n",
       "      <td>12817.0</td>\n",
       "      <td>18603.0</td>\n",
       "      <td>0.0</td>\n",
       "      <td>NaN</td>\n",
       "      <td>0.0</td>\n",
       "      <td>NaN</td>\n",
       "      <td>81.0</td>\n",
       "    </tr>\n",
       "    <tr>\n",
       "      <th>2</th>\n",
       "      <td>10</td>\n",
       "      <td>5196000.0</td>\n",
       "      <td>56.00</td>\n",
       "      <td>2015-08-20T00:00:00</td>\n",
       "      <td>2</td>\n",
       "      <td>NaN</td>\n",
       "      <td>5.0</td>\n",
       "      <td>34.3</td>\n",
       "      <td>4</td>\n",
       "      <td>NaN</td>\n",
       "      <td>...</td>\n",
       "      <td>8.30</td>\n",
       "      <td>0.0</td>\n",
       "      <td>Санкт-Петербург</td>\n",
       "      <td>21741.0</td>\n",
       "      <td>13933.0</td>\n",
       "      <td>1.0</td>\n",
       "      <td>90.0</td>\n",
       "      <td>2.0</td>\n",
       "      <td>574.0</td>\n",
       "      <td>558.0</td>\n",
       "    </tr>\n",
       "    <tr>\n",
       "      <th>3</th>\n",
       "      <td>0</td>\n",
       "      <td>64900000.0</td>\n",
       "      <td>159.00</td>\n",
       "      <td>2015-07-24T00:00:00</td>\n",
       "      <td>3</td>\n",
       "      <td>NaN</td>\n",
       "      <td>14.0</td>\n",
       "      <td>NaN</td>\n",
       "      <td>9</td>\n",
       "      <td>NaN</td>\n",
       "      <td>...</td>\n",
       "      <td>NaN</td>\n",
       "      <td>0.0</td>\n",
       "      <td>Санкт-Петербург</td>\n",
       "      <td>28098.0</td>\n",
       "      <td>6800.0</td>\n",
       "      <td>2.0</td>\n",
       "      <td>84.0</td>\n",
       "      <td>3.0</td>\n",
       "      <td>234.0</td>\n",
       "      <td>424.0</td>\n",
       "    </tr>\n",
       "    <tr>\n",
       "      <th>4</th>\n",
       "      <td>2</td>\n",
       "      <td>10000000.0</td>\n",
       "      <td>100.00</td>\n",
       "      <td>2018-06-19T00:00:00</td>\n",
       "      <td>2</td>\n",
       "      <td>3.03</td>\n",
       "      <td>14.0</td>\n",
       "      <td>32.0</td>\n",
       "      <td>13</td>\n",
       "      <td>NaN</td>\n",
       "      <td>...</td>\n",
       "      <td>41.00</td>\n",
       "      <td>NaN</td>\n",
       "      <td>Санкт-Петербург</td>\n",
       "      <td>31856.0</td>\n",
       "      <td>8098.0</td>\n",
       "      <td>2.0</td>\n",
       "      <td>112.0</td>\n",
       "      <td>1.0</td>\n",
       "      <td>48.0</td>\n",
       "      <td>121.0</td>\n",
       "    </tr>\n",
       "    <tr>\n",
       "      <th>...</th>\n",
       "      <td>...</td>\n",
       "      <td>...</td>\n",
       "      <td>...</td>\n",
       "      <td>...</td>\n",
       "      <td>...</td>\n",
       "      <td>...</td>\n",
       "      <td>...</td>\n",
       "      <td>...</td>\n",
       "      <td>...</td>\n",
       "      <td>...</td>\n",
       "      <td>...</td>\n",
       "      <td>...</td>\n",
       "      <td>...</td>\n",
       "      <td>...</td>\n",
       "      <td>...</td>\n",
       "      <td>...</td>\n",
       "      <td>...</td>\n",
       "      <td>...</td>\n",
       "      <td>...</td>\n",
       "      <td>...</td>\n",
       "      <td>...</td>\n",
       "    </tr>\n",
       "    <tr>\n",
       "      <th>23694</th>\n",
       "      <td>9</td>\n",
       "      <td>9700000.0</td>\n",
       "      <td>133.81</td>\n",
       "      <td>2017-03-21T00:00:00</td>\n",
       "      <td>3</td>\n",
       "      <td>3.70</td>\n",
       "      <td>5.0</td>\n",
       "      <td>73.3</td>\n",
       "      <td>3</td>\n",
       "      <td>NaN</td>\n",
       "      <td>...</td>\n",
       "      <td>13.83</td>\n",
       "      <td>NaN</td>\n",
       "      <td>Санкт-Петербург</td>\n",
       "      <td>24665.0</td>\n",
       "      <td>4232.0</td>\n",
       "      <td>1.0</td>\n",
       "      <td>796.0</td>\n",
       "      <td>3.0</td>\n",
       "      <td>381.0</td>\n",
       "      <td>NaN</td>\n",
       "    </tr>\n",
       "    <tr>\n",
       "      <th>23695</th>\n",
       "      <td>14</td>\n",
       "      <td>3100000.0</td>\n",
       "      <td>59.00</td>\n",
       "      <td>2018-01-15T00:00:00</td>\n",
       "      <td>3</td>\n",
       "      <td>NaN</td>\n",
       "      <td>5.0</td>\n",
       "      <td>38.0</td>\n",
       "      <td>4</td>\n",
       "      <td>NaN</td>\n",
       "      <td>...</td>\n",
       "      <td>8.50</td>\n",
       "      <td>NaN</td>\n",
       "      <td>Тосно</td>\n",
       "      <td>NaN</td>\n",
       "      <td>NaN</td>\n",
       "      <td>NaN</td>\n",
       "      <td>NaN</td>\n",
       "      <td>NaN</td>\n",
       "      <td>NaN</td>\n",
       "      <td>45.0</td>\n",
       "    </tr>\n",
       "    <tr>\n",
       "      <th>23696</th>\n",
       "      <td>18</td>\n",
       "      <td>2500000.0</td>\n",
       "      <td>56.70</td>\n",
       "      <td>2018-02-11T00:00:00</td>\n",
       "      <td>2</td>\n",
       "      <td>NaN</td>\n",
       "      <td>3.0</td>\n",
       "      <td>29.7</td>\n",
       "      <td>1</td>\n",
       "      <td>NaN</td>\n",
       "      <td>...</td>\n",
       "      <td>NaN</td>\n",
       "      <td>NaN</td>\n",
       "      <td>село Рождествено</td>\n",
       "      <td>NaN</td>\n",
       "      <td>NaN</td>\n",
       "      <td>NaN</td>\n",
       "      <td>NaN</td>\n",
       "      <td>NaN</td>\n",
       "      <td>NaN</td>\n",
       "      <td>NaN</td>\n",
       "    </tr>\n",
       "    <tr>\n",
       "      <th>23697</th>\n",
       "      <td>13</td>\n",
       "      <td>11475000.0</td>\n",
       "      <td>76.75</td>\n",
       "      <td>2017-03-28T00:00:00</td>\n",
       "      <td>2</td>\n",
       "      <td>3.00</td>\n",
       "      <td>17.0</td>\n",
       "      <td>NaN</td>\n",
       "      <td>12</td>\n",
       "      <td>NaN</td>\n",
       "      <td>...</td>\n",
       "      <td>23.30</td>\n",
       "      <td>2.0</td>\n",
       "      <td>Санкт-Петербург</td>\n",
       "      <td>39140.0</td>\n",
       "      <td>10364.0</td>\n",
       "      <td>2.0</td>\n",
       "      <td>173.0</td>\n",
       "      <td>3.0</td>\n",
       "      <td>196.0</td>\n",
       "      <td>602.0</td>\n",
       "    </tr>\n",
       "    <tr>\n",
       "      <th>23698</th>\n",
       "      <td>4</td>\n",
       "      <td>1350000.0</td>\n",
       "      <td>32.30</td>\n",
       "      <td>2017-07-21T00:00:00</td>\n",
       "      <td>1</td>\n",
       "      <td>2.50</td>\n",
       "      <td>5.0</td>\n",
       "      <td>12.3</td>\n",
       "      <td>1</td>\n",
       "      <td>NaN</td>\n",
       "      <td>...</td>\n",
       "      <td>9.00</td>\n",
       "      <td>NaN</td>\n",
       "      <td>поселок Новый Учхоз</td>\n",
       "      <td>NaN</td>\n",
       "      <td>NaN</td>\n",
       "      <td>NaN</td>\n",
       "      <td>NaN</td>\n",
       "      <td>NaN</td>\n",
       "      <td>NaN</td>\n",
       "      <td>NaN</td>\n",
       "    </tr>\n",
       "  </tbody>\n",
       "</table>\n",
       "<p>23699 rows × 22 columns</p>\n",
       "</div>"
      ],
      "text/plain": [
       "       total_images  last_price  total_area first_day_exposition  rooms  \\\n",
       "0                20  13000000.0      108.00  2019-03-07T00:00:00      3   \n",
       "1                 7   3350000.0       40.40  2018-12-04T00:00:00      1   \n",
       "2                10   5196000.0       56.00  2015-08-20T00:00:00      2   \n",
       "3                 0  64900000.0      159.00  2015-07-24T00:00:00      3   \n",
       "4                 2  10000000.0      100.00  2018-06-19T00:00:00      2   \n",
       "...             ...         ...         ...                  ...    ...   \n",
       "23694             9   9700000.0      133.81  2017-03-21T00:00:00      3   \n",
       "23695            14   3100000.0       59.00  2018-01-15T00:00:00      3   \n",
       "23696            18   2500000.0       56.70  2018-02-11T00:00:00      2   \n",
       "23697            13  11475000.0       76.75  2017-03-28T00:00:00      2   \n",
       "23698             4   1350000.0       32.30  2017-07-21T00:00:00      1   \n",
       "\n",
       "       ceiling_height  floors_total  living_area  floor is_apartment  ...  \\\n",
       "0                2.70          16.0         51.0      8          NaN  ...   \n",
       "1                 NaN          11.0         18.6      1          NaN  ...   \n",
       "2                 NaN           5.0         34.3      4          NaN  ...   \n",
       "3                 NaN          14.0          NaN      9          NaN  ...   \n",
       "4                3.03          14.0         32.0     13          NaN  ...   \n",
       "...               ...           ...          ...    ...          ...  ...   \n",
       "23694            3.70           5.0         73.3      3          NaN  ...   \n",
       "23695             NaN           5.0         38.0      4          NaN  ...   \n",
       "23696             NaN           3.0         29.7      1          NaN  ...   \n",
       "23697            3.00          17.0          NaN     12          NaN  ...   \n",
       "23698            2.50           5.0         12.3      1          NaN  ...   \n",
       "\n",
       "       kitchen_area  balcony        locality_name  airports_nearest  \\\n",
       "0             25.00      NaN      Санкт-Петербург           18863.0   \n",
       "1             11.00      2.0       посёлок Шушары           12817.0   \n",
       "2              8.30      0.0      Санкт-Петербург           21741.0   \n",
       "3               NaN      0.0      Санкт-Петербург           28098.0   \n",
       "4             41.00      NaN      Санкт-Петербург           31856.0   \n",
       "...             ...      ...                  ...               ...   \n",
       "23694         13.83      NaN      Санкт-Петербург           24665.0   \n",
       "23695          8.50      NaN                Тосно               NaN   \n",
       "23696           NaN      NaN     село Рождествено               NaN   \n",
       "23697         23.30      2.0      Санкт-Петербург           39140.0   \n",
       "23698          9.00      NaN  поселок Новый Учхоз               NaN   \n",
       "\n",
       "      cityCenters_nearest  parks_around3000  parks_nearest  ponds_around3000  \\\n",
       "0                 16028.0               1.0          482.0               2.0   \n",
       "1                 18603.0               0.0            NaN               0.0   \n",
       "2                 13933.0               1.0           90.0               2.0   \n",
       "3                  6800.0               2.0           84.0               3.0   \n",
       "4                  8098.0               2.0          112.0               1.0   \n",
       "...                   ...               ...            ...               ...   \n",
       "23694              4232.0               1.0          796.0               3.0   \n",
       "23695                 NaN               NaN            NaN               NaN   \n",
       "23696                 NaN               NaN            NaN               NaN   \n",
       "23697             10364.0               2.0          173.0               3.0   \n",
       "23698                 NaN               NaN            NaN               NaN   \n",
       "\n",
       "       ponds_nearest  days_exposition  \n",
       "0              755.0              NaN  \n",
       "1                NaN             81.0  \n",
       "2              574.0            558.0  \n",
       "3              234.0            424.0  \n",
       "4               48.0            121.0  \n",
       "...              ...              ...  \n",
       "23694          381.0              NaN  \n",
       "23695            NaN             45.0  \n",
       "23696            NaN              NaN  \n",
       "23697          196.0            602.0  \n",
       "23698            NaN              NaN  \n",
       "\n",
       "[23699 rows x 22 columns]"
      ]
     },
     "metadata": {},
     "output_type": "display_data"
    }
   ],
   "source": [
    "display(data)"
   ]
  },
  {
   "cell_type": "markdown",
   "metadata": {},
   "source": [
    "рассмотрим каждый из столбцов и в цеом что представляет из себя каждый из столбцов"
   ]
  },
  {
   "cell_type": "code",
   "execution_count": 4,
   "metadata": {},
   "outputs": [
    {
     "data": {
      "text/html": [
       "<div>\n",
       "<style scoped>\n",
       "    .dataframe tbody tr th:only-of-type {\n",
       "        vertical-align: middle;\n",
       "    }\n",
       "\n",
       "    .dataframe tbody tr th {\n",
       "        vertical-align: top;\n",
       "    }\n",
       "\n",
       "    .dataframe thead th {\n",
       "        text-align: right;\n",
       "    }\n",
       "</style>\n",
       "<table border=\"1\" class=\"dataframe\">\n",
       "  <thead>\n",
       "    <tr style=\"text-align: right;\">\n",
       "      <th></th>\n",
       "      <th>total_images</th>\n",
       "      <th>last_price</th>\n",
       "      <th>total_area</th>\n",
       "      <th>rooms</th>\n",
       "      <th>ceiling_height</th>\n",
       "      <th>floors_total</th>\n",
       "      <th>living_area</th>\n",
       "      <th>floor</th>\n",
       "      <th>kitchen_area</th>\n",
       "      <th>balcony</th>\n",
       "      <th>airports_nearest</th>\n",
       "      <th>cityCenters_nearest</th>\n",
       "      <th>parks_around3000</th>\n",
       "      <th>parks_nearest</th>\n",
       "      <th>ponds_around3000</th>\n",
       "      <th>ponds_nearest</th>\n",
       "      <th>days_exposition</th>\n",
       "    </tr>\n",
       "  </thead>\n",
       "  <tbody>\n",
       "    <tr>\n",
       "      <th>count</th>\n",
       "      <td>23699.000000</td>\n",
       "      <td>2.369900e+04</td>\n",
       "      <td>23699.000000</td>\n",
       "      <td>23699.000000</td>\n",
       "      <td>14504.000000</td>\n",
       "      <td>23613.000000</td>\n",
       "      <td>21796.000000</td>\n",
       "      <td>23699.000000</td>\n",
       "      <td>21421.000000</td>\n",
       "      <td>12180.000000</td>\n",
       "      <td>18157.000000</td>\n",
       "      <td>18180.000000</td>\n",
       "      <td>18181.000000</td>\n",
       "      <td>8079.000000</td>\n",
       "      <td>18181.000000</td>\n",
       "      <td>9110.000000</td>\n",
       "      <td>20518.000000</td>\n",
       "    </tr>\n",
       "    <tr>\n",
       "      <th>mean</th>\n",
       "      <td>9.858475</td>\n",
       "      <td>6.541549e+06</td>\n",
       "      <td>60.348651</td>\n",
       "      <td>2.070636</td>\n",
       "      <td>2.771499</td>\n",
       "      <td>10.673824</td>\n",
       "      <td>34.457852</td>\n",
       "      <td>5.892358</td>\n",
       "      <td>10.569807</td>\n",
       "      <td>1.150082</td>\n",
       "      <td>28793.672193</td>\n",
       "      <td>14191.277833</td>\n",
       "      <td>0.611408</td>\n",
       "      <td>490.804555</td>\n",
       "      <td>0.770255</td>\n",
       "      <td>517.980900</td>\n",
       "      <td>180.888634</td>\n",
       "    </tr>\n",
       "    <tr>\n",
       "      <th>std</th>\n",
       "      <td>5.682529</td>\n",
       "      <td>1.088701e+07</td>\n",
       "      <td>35.654083</td>\n",
       "      <td>1.078405</td>\n",
       "      <td>1.261056</td>\n",
       "      <td>6.597173</td>\n",
       "      <td>22.030445</td>\n",
       "      <td>4.885249</td>\n",
       "      <td>5.905438</td>\n",
       "      <td>1.071300</td>\n",
       "      <td>12630.880622</td>\n",
       "      <td>8608.386210</td>\n",
       "      <td>0.802074</td>\n",
       "      <td>342.317995</td>\n",
       "      <td>0.938346</td>\n",
       "      <td>277.720643</td>\n",
       "      <td>219.727988</td>\n",
       "    </tr>\n",
       "    <tr>\n",
       "      <th>min</th>\n",
       "      <td>0.000000</td>\n",
       "      <td>1.219000e+04</td>\n",
       "      <td>12.000000</td>\n",
       "      <td>0.000000</td>\n",
       "      <td>1.000000</td>\n",
       "      <td>1.000000</td>\n",
       "      <td>2.000000</td>\n",
       "      <td>1.000000</td>\n",
       "      <td>1.300000</td>\n",
       "      <td>0.000000</td>\n",
       "      <td>0.000000</td>\n",
       "      <td>181.000000</td>\n",
       "      <td>0.000000</td>\n",
       "      <td>1.000000</td>\n",
       "      <td>0.000000</td>\n",
       "      <td>13.000000</td>\n",
       "      <td>1.000000</td>\n",
       "    </tr>\n",
       "    <tr>\n",
       "      <th>25%</th>\n",
       "      <td>6.000000</td>\n",
       "      <td>3.400000e+06</td>\n",
       "      <td>40.000000</td>\n",
       "      <td>1.000000</td>\n",
       "      <td>2.520000</td>\n",
       "      <td>5.000000</td>\n",
       "      <td>18.600000</td>\n",
       "      <td>2.000000</td>\n",
       "      <td>7.000000</td>\n",
       "      <td>0.000000</td>\n",
       "      <td>18585.000000</td>\n",
       "      <td>9238.000000</td>\n",
       "      <td>0.000000</td>\n",
       "      <td>288.000000</td>\n",
       "      <td>0.000000</td>\n",
       "      <td>294.000000</td>\n",
       "      <td>45.000000</td>\n",
       "    </tr>\n",
       "    <tr>\n",
       "      <th>50%</th>\n",
       "      <td>9.000000</td>\n",
       "      <td>4.650000e+06</td>\n",
       "      <td>52.000000</td>\n",
       "      <td>2.000000</td>\n",
       "      <td>2.650000</td>\n",
       "      <td>9.000000</td>\n",
       "      <td>30.000000</td>\n",
       "      <td>4.000000</td>\n",
       "      <td>9.100000</td>\n",
       "      <td>1.000000</td>\n",
       "      <td>26726.000000</td>\n",
       "      <td>13098.500000</td>\n",
       "      <td>0.000000</td>\n",
       "      <td>455.000000</td>\n",
       "      <td>1.000000</td>\n",
       "      <td>502.000000</td>\n",
       "      <td>95.000000</td>\n",
       "    </tr>\n",
       "    <tr>\n",
       "      <th>75%</th>\n",
       "      <td>14.000000</td>\n",
       "      <td>6.800000e+06</td>\n",
       "      <td>69.900000</td>\n",
       "      <td>3.000000</td>\n",
       "      <td>2.800000</td>\n",
       "      <td>16.000000</td>\n",
       "      <td>42.300000</td>\n",
       "      <td>8.000000</td>\n",
       "      <td>12.000000</td>\n",
       "      <td>2.000000</td>\n",
       "      <td>37273.000000</td>\n",
       "      <td>16293.000000</td>\n",
       "      <td>1.000000</td>\n",
       "      <td>612.000000</td>\n",
       "      <td>1.000000</td>\n",
       "      <td>729.000000</td>\n",
       "      <td>232.000000</td>\n",
       "    </tr>\n",
       "    <tr>\n",
       "      <th>max</th>\n",
       "      <td>50.000000</td>\n",
       "      <td>7.630000e+08</td>\n",
       "      <td>900.000000</td>\n",
       "      <td>19.000000</td>\n",
       "      <td>100.000000</td>\n",
       "      <td>60.000000</td>\n",
       "      <td>409.700000</td>\n",
       "      <td>33.000000</td>\n",
       "      <td>112.000000</td>\n",
       "      <td>5.000000</td>\n",
       "      <td>84869.000000</td>\n",
       "      <td>65968.000000</td>\n",
       "      <td>3.000000</td>\n",
       "      <td>3190.000000</td>\n",
       "      <td>3.000000</td>\n",
       "      <td>1344.000000</td>\n",
       "      <td>1580.000000</td>\n",
       "    </tr>\n",
       "  </tbody>\n",
       "</table>\n",
       "</div>"
      ],
      "text/plain": [
       "       total_images    last_price    total_area         rooms  ceiling_height  \\\n",
       "count  23699.000000  2.369900e+04  23699.000000  23699.000000    14504.000000   \n",
       "mean       9.858475  6.541549e+06     60.348651      2.070636        2.771499   \n",
       "std        5.682529  1.088701e+07     35.654083      1.078405        1.261056   \n",
       "min        0.000000  1.219000e+04     12.000000      0.000000        1.000000   \n",
       "25%        6.000000  3.400000e+06     40.000000      1.000000        2.520000   \n",
       "50%        9.000000  4.650000e+06     52.000000      2.000000        2.650000   \n",
       "75%       14.000000  6.800000e+06     69.900000      3.000000        2.800000   \n",
       "max       50.000000  7.630000e+08    900.000000     19.000000      100.000000   \n",
       "\n",
       "       floors_total   living_area         floor  kitchen_area       balcony  \\\n",
       "count  23613.000000  21796.000000  23699.000000  21421.000000  12180.000000   \n",
       "mean      10.673824     34.457852      5.892358     10.569807      1.150082   \n",
       "std        6.597173     22.030445      4.885249      5.905438      1.071300   \n",
       "min        1.000000      2.000000      1.000000      1.300000      0.000000   \n",
       "25%        5.000000     18.600000      2.000000      7.000000      0.000000   \n",
       "50%        9.000000     30.000000      4.000000      9.100000      1.000000   \n",
       "75%       16.000000     42.300000      8.000000     12.000000      2.000000   \n",
       "max       60.000000    409.700000     33.000000    112.000000      5.000000   \n",
       "\n",
       "       airports_nearest  cityCenters_nearest  parks_around3000  parks_nearest  \\\n",
       "count      18157.000000         18180.000000      18181.000000    8079.000000   \n",
       "mean       28793.672193         14191.277833          0.611408     490.804555   \n",
       "std        12630.880622          8608.386210          0.802074     342.317995   \n",
       "min            0.000000           181.000000          0.000000       1.000000   \n",
       "25%        18585.000000          9238.000000          0.000000     288.000000   \n",
       "50%        26726.000000         13098.500000          0.000000     455.000000   \n",
       "75%        37273.000000         16293.000000          1.000000     612.000000   \n",
       "max        84869.000000         65968.000000          3.000000    3190.000000   \n",
       "\n",
       "       ponds_around3000  ponds_nearest  days_exposition  \n",
       "count      18181.000000    9110.000000     20518.000000  \n",
       "mean           0.770255     517.980900       180.888634  \n",
       "std            0.938346     277.720643       219.727988  \n",
       "min            0.000000      13.000000         1.000000  \n",
       "25%            0.000000     294.000000        45.000000  \n",
       "50%            1.000000     502.000000        95.000000  \n",
       "75%            1.000000     729.000000       232.000000  \n",
       "max            3.000000    1344.000000      1580.000000  "
      ]
     },
     "execution_count": 4,
     "metadata": {},
     "output_type": "execute_result"
    }
   ],
   "source": [
    "data.describe()"
   ]
  },
  {
   "cell_type": "markdown",
   "metadata": {},
   "source": [
    "выводим статистические значения и сразу видем несколько аномальных значений такие как высота потолка "
   ]
  },
  {
   "cell_type": "code",
   "execution_count": 5,
   "metadata": {},
   "outputs": [
    {
     "data": {
      "text/plain": [
       "array([[<AxesSubplot:title={'center':'total_images'}>,\n",
       "        <AxesSubplot:title={'center':'last_price'}>,\n",
       "        <AxesSubplot:title={'center':'total_area'}>,\n",
       "        <AxesSubplot:title={'center':'rooms'}>],\n",
       "       [<AxesSubplot:title={'center':'ceiling_height'}>,\n",
       "        <AxesSubplot:title={'center':'floors_total'}>,\n",
       "        <AxesSubplot:title={'center':'living_area'}>,\n",
       "        <AxesSubplot:title={'center':'floor'}>],\n",
       "       [<AxesSubplot:title={'center':'kitchen_area'}>,\n",
       "        <AxesSubplot:title={'center':'balcony'}>,\n",
       "        <AxesSubplot:title={'center':'airports_nearest'}>,\n",
       "        <AxesSubplot:title={'center':'cityCenters_nearest'}>],\n",
       "       [<AxesSubplot:title={'center':'parks_around3000'}>,\n",
       "        <AxesSubplot:title={'center':'parks_nearest'}>,\n",
       "        <AxesSubplot:title={'center':'ponds_around3000'}>,\n",
       "        <AxesSubplot:title={'center':'ponds_nearest'}>],\n",
       "       [<AxesSubplot:title={'center':'days_exposition'}>, <AxesSubplot:>,\n",
       "        <AxesSubplot:>, <AxesSubplot:>]], dtype=object)"
      ]
     },
     "execution_count": 5,
     "metadata": {},
     "output_type": "execute_result"
    },
    {
     "data": {
      "image/png": "[encoded data removed]",
      "text/plain": [
       "<Figure size 1080x1440 with 20 Axes>"
      ]
     },
     "metadata": {
      "needs_background": "light"
     },
     "output_type": "display_data"
    }
   ],
   "source": [
    "data.hist(figsize=(15, 20))"
   ]
  },
  {
   "cell_type": "markdown",
   "metadata": {},
   "source": [
    "По некоторым колонкам сложно делать какой либо вывод так как там содержиться только одна колонка так как скорее всего очень много нулевых значений или у остальных слишком низкие значения, но также можем заметить и информативные графики такие как : cityCenter_nearest, ponds_nearest"
   ]
  },
  {
   "cell_type": "markdown",
   "metadata": {},
   "source": [
    "### Предобработка данных"
   ]
  },
  {
   "cell_type": "markdown",
   "metadata": {},
   "source": [
    "Рассмотрим кол-во ячеек в которых нет данных "
   ]
  },
  {
   "cell_type": "code",
   "execution_count": 6,
   "metadata": {},
   "outputs": [
    {
     "data": {
      "text/plain": [
       "total_images                0\n",
       "last_price                  0\n",
       "total_area                  0\n",
       "first_day_exposition        0\n",
       "rooms                       0\n",
       "ceiling_height           9195\n",
       "floors_total               86\n",
       "living_area              1903\n",
       "floor                       0\n",
       "is_apartment            20924\n",
       "studio                      0\n",
       "open_plan                   0\n",
       "kitchen_area             2278\n",
       "balcony                 11519\n",
       "locality_name              49\n",
       "airports_nearest         5542\n",
       "cityCenters_nearest      5519\n",
       "parks_around3000         5518\n",
       "parks_nearest           15620\n",
       "ponds_around3000         5518\n",
       "ponds_nearest           14589\n",
       "days_exposition          3181\n",
       "dtype: int64"
      ]
     },
     "execution_count": 6,
     "metadata": {},
     "output_type": "execute_result"
    }
   ],
   "source": [
    "data.isna().sum()"
   ]
  },
  {
   "cell_type": "markdown",
   "metadata": {},
   "source": [
    "Заполняет путсые значения в столбце floots_total нулем а также столбец bacony "
   ]
  },
  {
   "cell_type": "code",
   "execution_count": 7,
   "metadata": {},
   "outputs": [
    {
     "data": {
      "text/html": [
       "<div>\n",
       "<style scoped>\n",
       "    .dataframe tbody tr th:only-of-type {\n",
       "        vertical-align: middle;\n",
       "    }\n",
       "\n",
       "    .dataframe tbody tr th {\n",
       "        vertical-align: top;\n",
       "    }\n",
       "\n",
       "    .dataframe thead th {\n",
       "        text-align: right;\n",
       "    }\n",
       "</style>\n",
       "<table border=\"1\" class=\"dataframe\">\n",
       "  <thead>\n",
       "    <tr style=\"text-align: right;\">\n",
       "      <th></th>\n",
       "      <th>total_images</th>\n",
       "      <th>last_price</th>\n",
       "      <th>total_area</th>\n",
       "      <th>first_day_exposition</th>\n",
       "      <th>rooms</th>\n",
       "      <th>ceiling_height</th>\n",
       "      <th>floors_total</th>\n",
       "      <th>living_area</th>\n",
       "      <th>floor</th>\n",
       "      <th>is_apartment</th>\n",
       "      <th>...</th>\n",
       "      <th>kitchen_area</th>\n",
       "      <th>balcony</th>\n",
       "      <th>locality_name</th>\n",
       "      <th>airports_nearest</th>\n",
       "      <th>cityCenters_nearest</th>\n",
       "      <th>parks_around3000</th>\n",
       "      <th>parks_nearest</th>\n",
       "      <th>ponds_around3000</th>\n",
       "      <th>ponds_nearest</th>\n",
       "      <th>days_exposition</th>\n",
       "    </tr>\n",
       "  </thead>\n",
       "  <tbody>\n",
       "    <tr>\n",
       "      <th>0</th>\n",
       "      <td>20</td>\n",
       "      <td>13000000.0</td>\n",
       "      <td>108.00</td>\n",
       "      <td>2019-03-07T00:00:00</td>\n",
       "      <td>3</td>\n",
       "      <td>2.70</td>\n",
       "      <td>16.0</td>\n",
       "      <td>51.0</td>\n",
       "      <td>8</td>\n",
       "      <td>NaN</td>\n",
       "      <td>...</td>\n",
       "      <td>25.00</td>\n",
       "      <td>0</td>\n",
       "      <td>Санкт-Петербург</td>\n",
       "      <td>18863.0</td>\n",
       "      <td>16028.0</td>\n",
       "      <td>1.0</td>\n",
       "      <td>482.0</td>\n",
       "      <td>2.0</td>\n",
       "      <td>755.0</td>\n",
       "      <td>NaN</td>\n",
       "    </tr>\n",
       "    <tr>\n",
       "      <th>1</th>\n",
       "      <td>7</td>\n",
       "      <td>3350000.0</td>\n",
       "      <td>40.40</td>\n",
       "      <td>2018-12-04T00:00:00</td>\n",
       "      <td>1</td>\n",
       "      <td>NaN</td>\n",
       "      <td>11.0</td>\n",
       "      <td>18.6</td>\n",
       "      <td>1</td>\n",
       "      <td>NaN</td>\n",
       "      <td>...</td>\n",
       "      <td>11.00</td>\n",
       "      <td>2</td>\n",
       "      <td>посёлок Шушары</td>\n",
       "      <td>12817.0</td>\n",
       "      <td>18603.0</td>\n",
       "      <td>0.0</td>\n",
       "      <td>NaN</td>\n",
       "      <td>0.0</td>\n",
       "      <td>NaN</td>\n",
       "      <td>81.0</td>\n",
       "    </tr>\n",
       "    <tr>\n",
       "      <th>2</th>\n",
       "      <td>10</td>\n",
       "      <td>5196000.0</td>\n",
       "      <td>56.00</td>\n",
       "      <td>2015-08-20T00:00:00</td>\n",
       "      <td>2</td>\n",
       "      <td>NaN</td>\n",
       "      <td>5.0</td>\n",
       "      <td>34.3</td>\n",
       "      <td>4</td>\n",
       "      <td>NaN</td>\n",
       "      <td>...</td>\n",
       "      <td>8.30</td>\n",
       "      <td>0</td>\n",
       "      <td>Санкт-Петербург</td>\n",
       "      <td>21741.0</td>\n",
       "      <td>13933.0</td>\n",
       "      <td>1.0</td>\n",
       "      <td>90.0</td>\n",
       "      <td>2.0</td>\n",
       "      <td>574.0</td>\n",
       "      <td>558.0</td>\n",
       "    </tr>\n",
       "    <tr>\n",
       "      <th>3</th>\n",
       "      <td>0</td>\n",
       "      <td>64900000.0</td>\n",
       "      <td>159.00</td>\n",
       "      <td>2015-07-24T00:00:00</td>\n",
       "      <td>3</td>\n",
       "      <td>NaN</td>\n",
       "      <td>14.0</td>\n",
       "      <td>NaN</td>\n",
       "      <td>9</td>\n",
       "      <td>NaN</td>\n",
       "      <td>...</td>\n",
       "      <td>NaN</td>\n",
       "      <td>0</td>\n",
       "      <td>Санкт-Петербург</td>\n",
       "      <td>28098.0</td>\n",
       "      <td>6800.0</td>\n",
       "      <td>2.0</td>\n",
       "      <td>84.0</td>\n",
       "      <td>3.0</td>\n",
       "      <td>234.0</td>\n",
       "      <td>424.0</td>\n",
       "    </tr>\n",
       "    <tr>\n",
       "      <th>4</th>\n",
       "      <td>2</td>\n",
       "      <td>10000000.0</td>\n",
       "      <td>100.00</td>\n",
       "      <td>2018-06-19T00:00:00</td>\n",
       "      <td>2</td>\n",
       "      <td>3.03</td>\n",
       "      <td>14.0</td>\n",
       "      <td>32.0</td>\n",
       "      <td>13</td>\n",
       "      <td>NaN</td>\n",
       "      <td>...</td>\n",
       "      <td>41.00</td>\n",
       "      <td>0</td>\n",
       "      <td>Санкт-Петербург</td>\n",
       "      <td>31856.0</td>\n",
       "      <td>8098.0</td>\n",
       "      <td>2.0</td>\n",
       "      <td>112.0</td>\n",
       "      <td>1.0</td>\n",
       "      <td>48.0</td>\n",
       "      <td>121.0</td>\n",
       "    </tr>\n",
       "    <tr>\n",
       "      <th>...</th>\n",
       "      <td>...</td>\n",
       "      <td>...</td>\n",
       "      <td>...</td>\n",
       "      <td>...</td>\n",
       "      <td>...</td>\n",
       "      <td>...</td>\n",
       "      <td>...</td>\n",
       "      <td>...</td>\n",
       "      <td>...</td>\n",
       "      <td>...</td>\n",
       "      <td>...</td>\n",
       "      <td>...</td>\n",
       "      <td>...</td>\n",
       "      <td>...</td>\n",
       "      <td>...</td>\n",
       "      <td>...</td>\n",
       "      <td>...</td>\n",
       "      <td>...</td>\n",
       "      <td>...</td>\n",
       "      <td>...</td>\n",
       "      <td>...</td>\n",
       "    </tr>\n",
       "    <tr>\n",
       "      <th>23694</th>\n",
       "      <td>9</td>\n",
       "      <td>9700000.0</td>\n",
       "      <td>133.81</td>\n",
       "      <td>2017-03-21T00:00:00</td>\n",
       "      <td>3</td>\n",
       "      <td>3.70</td>\n",
       "      <td>5.0</td>\n",
       "      <td>73.3</td>\n",
       "      <td>3</td>\n",
       "      <td>NaN</td>\n",
       "      <td>...</td>\n",
       "      <td>13.83</td>\n",
       "      <td>0</td>\n",
       "      <td>Санкт-Петербург</td>\n",
       "      <td>24665.0</td>\n",
       "      <td>4232.0</td>\n",
       "      <td>1.0</td>\n",
       "      <td>796.0</td>\n",
       "      <td>3.0</td>\n",
       "      <td>381.0</td>\n",
       "      <td>NaN</td>\n",
       "    </tr>\n",
       "    <tr>\n",
       "      <th>23695</th>\n",
       "      <td>14</td>\n",
       "      <td>3100000.0</td>\n",
       "      <td>59.00</td>\n",
       "      <td>2018-01-15T00:00:00</td>\n",
       "      <td>3</td>\n",
       "      <td>NaN</td>\n",
       "      <td>5.0</td>\n",
       "      <td>38.0</td>\n",
       "      <td>4</td>\n",
       "      <td>NaN</td>\n",
       "      <td>...</td>\n",
       "      <td>8.50</td>\n",
       "      <td>0</td>\n",
       "      <td>Тосно</td>\n",
       "      <td>NaN</td>\n",
       "      <td>NaN</td>\n",
       "      <td>NaN</td>\n",
       "      <td>NaN</td>\n",
       "      <td>NaN</td>\n",
       "      <td>NaN</td>\n",
       "      <td>45.0</td>\n",
       "    </tr>\n",
       "    <tr>\n",
       "      <th>23696</th>\n",
       "      <td>18</td>\n",
       "      <td>2500000.0</td>\n",
       "      <td>56.70</td>\n",
       "      <td>2018-02-11T00:00:00</td>\n",
       "      <td>2</td>\n",
       "      <td>NaN</td>\n",
       "      <td>3.0</td>\n",
       "      <td>29.7</td>\n",
       "      <td>1</td>\n",
       "      <td>NaN</td>\n",
       "      <td>...</td>\n",
       "      <td>NaN</td>\n",
       "      <td>0</td>\n",
       "      <td>село Рождествено</td>\n",
       "      <td>NaN</td>\n",
       "      <td>NaN</td>\n",
       "      <td>NaN</td>\n",
       "      <td>NaN</td>\n",
       "      <td>NaN</td>\n",
       "      <td>NaN</td>\n",
       "      <td>NaN</td>\n",
       "    </tr>\n",
       "    <tr>\n",
       "      <th>23697</th>\n",
       "      <td>13</td>\n",
       "      <td>11475000.0</td>\n",
       "      <td>76.75</td>\n",
       "      <td>2017-03-28T00:00:00</td>\n",
       "      <td>2</td>\n",
       "      <td>3.00</td>\n",
       "      <td>17.0</td>\n",
       "      <td>NaN</td>\n",
       "      <td>12</td>\n",
       "      <td>NaN</td>\n",
       "      <td>...</td>\n",
       "      <td>23.30</td>\n",
       "      <td>2</td>\n",
       "      <td>Санкт-Петербург</td>\n",
       "      <td>39140.0</td>\n",
       "      <td>10364.0</td>\n",
       "      <td>2.0</td>\n",
       "      <td>173.0</td>\n",
       "      <td>3.0</td>\n",
       "      <td>196.0</td>\n",
       "      <td>602.0</td>\n",
       "    </tr>\n",
       "    <tr>\n",
       "      <th>23698</th>\n",
       "      <td>4</td>\n",
       "      <td>1350000.0</td>\n",
       "      <td>32.30</td>\n",
       "      <td>2017-07-21T00:00:00</td>\n",
       "      <td>1</td>\n",
       "      <td>2.50</td>\n",
       "      <td>5.0</td>\n",
       "      <td>12.3</td>\n",
       "      <td>1</td>\n",
       "      <td>NaN</td>\n",
       "      <td>...</td>\n",
       "      <td>9.00</td>\n",
       "      <td>0</td>\n",
       "      <td>поселок Новый Учхоз</td>\n",
       "      <td>NaN</td>\n",
       "      <td>NaN</td>\n",
       "      <td>NaN</td>\n",
       "      <td>NaN</td>\n",
       "      <td>NaN</td>\n",
       "      <td>NaN</td>\n",
       "      <td>NaN</td>\n",
       "    </tr>\n",
       "  </tbody>\n",
       "</table>\n",
       "<p>23699 rows × 22 columns</p>\n",
       "</div>"
      ],
      "text/plain": [
       "       total_images  last_price  total_area first_day_exposition  rooms  \\\n",
       "0                20  13000000.0      108.00  2019-03-07T00:00:00      3   \n",
       "1                 7   3350000.0       40.40  2018-12-04T00:00:00      1   \n",
       "2                10   5196000.0       56.00  2015-08-20T00:00:00      2   \n",
       "3                 0  64900000.0      159.00  2015-07-24T00:00:00      3   \n",
       "4                 2  10000000.0      100.00  2018-06-19T00:00:00      2   \n",
       "...             ...         ...         ...                  ...    ...   \n",
       "23694             9   9700000.0      133.81  2017-03-21T00:00:00      3   \n",
       "23695            14   3100000.0       59.00  2018-01-15T00:00:00      3   \n",
       "23696            18   2500000.0       56.70  2018-02-11T00:00:00      2   \n",
       "23697            13  11475000.0       76.75  2017-03-28T00:00:00      2   \n",
       "23698             4   1350000.0       32.30  2017-07-21T00:00:00      1   \n",
       "\n",
       "       ceiling_height  floors_total  living_area  floor is_apartment  ...  \\\n",
       "0                2.70          16.0         51.0      8          NaN  ...   \n",
       "1                 NaN          11.0         18.6      1          NaN  ...   \n",
       "2                 NaN           5.0         34.3      4          NaN  ...   \n",
       "3                 NaN          14.0          NaN      9          NaN  ...   \n",
       "4                3.03          14.0         32.0     13          NaN  ...   \n",
       "...               ...           ...          ...    ...          ...  ...   \n",
       "23694            3.70           5.0         73.3      3          NaN  ...   \n",
       "23695             NaN           5.0         38.0      4          NaN  ...   \n",
       "23696             NaN           3.0         29.7      1          NaN  ...   \n",
       "23697            3.00          17.0          NaN     12          NaN  ...   \n",
       "23698            2.50           5.0         12.3      1          NaN  ...   \n",
       "\n",
       "       kitchen_area  balcony        locality_name  airports_nearest  \\\n",
       "0             25.00        0      Санкт-Петербург           18863.0   \n",
       "1             11.00        2       посёлок Шушары           12817.0   \n",
       "2              8.30        0      Санкт-Петербург           21741.0   \n",
       "3               NaN        0      Санкт-Петербург           28098.0   \n",
       "4             41.00        0      Санкт-Петербург           31856.0   \n",
       "...             ...      ...                  ...               ...   \n",
       "23694         13.83        0      Санкт-Петербург           24665.0   \n",
       "23695          8.50        0                Тосно               NaN   \n",
       "23696           NaN        0     село Рождествено               NaN   \n",
       "23697         23.30        2      Санкт-Петербург           39140.0   \n",
       "23698          9.00        0  поселок Новый Учхоз               NaN   \n",
       "\n",
       "      cityCenters_nearest  parks_around3000  parks_nearest  ponds_around3000  \\\n",
       "0                 16028.0               1.0          482.0               2.0   \n",
       "1                 18603.0               0.0            NaN               0.0   \n",
       "2                 13933.0               1.0           90.0               2.0   \n",
       "3                  6800.0               2.0           84.0               3.0   \n",
       "4                  8098.0               2.0          112.0               1.0   \n",
       "...                   ...               ...            ...               ...   \n",
       "23694              4232.0               1.0          796.0               3.0   \n",
       "23695                 NaN               NaN            NaN               NaN   \n",
       "23696                 NaN               NaN            NaN               NaN   \n",
       "23697             10364.0               2.0          173.0               3.0   \n",
       "23698                 NaN               NaN            NaN               NaN   \n",
       "\n",
       "       ponds_nearest  days_exposition  \n",
       "0              755.0              NaN  \n",
       "1                NaN             81.0  \n",
       "2              574.0            558.0  \n",
       "3              234.0            424.0  \n",
       "4               48.0            121.0  \n",
       "...              ...              ...  \n",
       "23694          381.0              NaN  \n",
       "23695            NaN             45.0  \n",
       "23696            NaN              NaN  \n",
       "23697          196.0            602.0  \n",
       "23698            NaN              NaN  \n",
       "\n",
       "[23699 rows x 22 columns]"
      ]
     },
     "metadata": {},
     "output_type": "display_data"
    },
    {
     "name": "stdout",
     "output_type": "stream",
     "text": [
      "0        0\n",
      "1        2\n",
      "2        0\n",
      "3        0\n",
      "4        0\n",
      "        ..\n",
      "23694    0\n",
      "23695    0\n",
      "23696    0\n",
      "23697    2\n",
      "23698    0\n",
      "Name: balcony, Length: 23699, dtype: int64\n",
      "86\n"
     ]
    }
   ],
   "source": [
    "#data['floors_total'] = data['floors_total'].dropna()\n",
    "data['balcony'] = data['balcony'].fillna(value = 0)\n",
    "data['balcony'] =data['balcony'].astype(int)\n",
    "display(data)\n",
    "print(data['balcony'])\n",
    "print(data['floors_total'].isna().sum())"
   ]
  },
  {
   "cell_type": "markdown",
   "metadata": {},
   "source": [
    "Также меняем тип данных столбца days_exposition на int так как с ним делать матем расчеты легче "
   ]
  },
  {
   "cell_type": "code",
   "execution_count": 8,
   "metadata": {},
   "outputs": [
    {
     "name": "stdout",
     "output_type": "stream",
     "text": [
      "0    <NA>\n",
      "1      81\n",
      "2     558\n",
      "3     424\n",
      "4     121\n",
      "5      55\n",
      "6     155\n",
      "7    <NA>\n",
      "8     189\n",
      "9     289\n",
      "Name: days_exposition, dtype: Int64\n"
     ]
    }
   ],
   "source": [
    "data['days_exposition'] = np.floor(pd.to_numeric(data['days_exposition'], errors='coerce')).astype('Int64')\n",
    "#data['days_exposition'] = data['days_exposition'].astype(int)\n",
    "print(data['days_exposition'].head(10))"
   ]
  },
  {
   "cell_type": "markdown",
   "metadata": {},
   "source": [
    "делаем все тоже самое так как мы будем делить категории этажи а для этого нам нужно делать сравнения с одинаковыми типами данных"
   ]
  },
  {
   "cell_type": "code",
   "execution_count": 9,
   "metadata": {},
   "outputs": [
    {
     "name": "stdout",
     "output_type": "stream",
     "text": [
      "312\n"
     ]
    }
   ],
   "source": [
    "data['locality_name'].unique()\n",
    "data['locality_name'] = (\n",
    "    data['locality_name']\n",
    "    .str.replace('ё', 'е')\n",
    "    .replace(['госелок ', 'городской поселок ', 'деревня ', 'поселок городского типа ', 'село ', 'городской ', 'поселок ', 'при железнодорожной станции '], '', regex=True)\n",
    ") \n",
    "print(len(data['locality_name'].unique()))"
   ]
  },
  {
   "cell_type": "markdown",
   "metadata": {},
   "source": [
    "меняем тип данных object на datetime"
   ]
  },
  {
   "cell_type": "code",
   "execution_count": 10,
   "metadata": {},
   "outputs": [
    {
     "name": "stdout",
     "output_type": "stream",
     "text": [
      "0   2019-03-07\n",
      "1   2018-12-04\n",
      "2   2015-08-20\n",
      "3   2015-07-24\n",
      "4   2018-06-19\n",
      "5   2018-09-10\n",
      "6   2017-11-02\n",
      "7   2019-04-18\n",
      "8   2018-05-23\n",
      "9   2017-02-26\n",
      "Name: first_day_exposition, dtype: datetime64[ns]\n"
     ]
    }
   ],
   "source": [
    "#print(data.head(10))\n",
    "data['first_day_exposition'] = pd.to_datetime(\n",
    "    data['first_day_exposition'], format='%Y-%m-%dT%H:%M:%S'\n",
    ")\n",
    "print(data['first_day_exposition'].head(10))"
   ]
  },
  {
   "cell_type": "markdown",
   "metadata": {},
   "source": [
    "здесь мы приобразовали данные во время и так же убрали часы и минуты так как везде стояли нули"
   ]
  },
  {
   "cell_type": "markdown",
   "metadata": {},
   "source": [
    "### Посчитайте и добавьте в таблицу новые столбцы"
   ]
  },
  {
   "cell_type": "markdown",
   "metadata": {},
   "source": [
    "Здесь мы расчитывает цену каждой из недвижимости за квадратный метер "
   ]
  },
  {
   "cell_type": "code",
   "execution_count": 11,
   "metadata": {},
   "outputs": [
    {
     "name": "stdout",
     "output_type": "stream",
     "text": [
      "0        120370.0\n",
      "1         82921.0\n",
      "2         92786.0\n",
      "3        408176.0\n",
      "4        100000.0\n",
      "           ...   \n",
      "23694     72491.0\n",
      "23695     52542.0\n",
      "23696     44092.0\n",
      "23697    149511.0\n",
      "23698     41796.0\n",
      "Name: price_meter, Length: 23699, dtype: float64\n"
     ]
    }
   ],
   "source": [
    "data['price_meter'] = (data['last_price'] / data['total_area']).round()\n",
    "print(data['price_meter'])"
   ]
  },
  {
   "cell_type": "markdown",
   "metadata": {},
   "source": [
    "Здесь мы создаем новые столбцы которые показывают день недели, месяц и год публикации недвижимости "
   ]
  },
  {
   "cell_type": "code",
   "execution_count": 12,
   "metadata": {},
   "outputs": [
    {
     "name": "stdout",
     "output_type": "stream",
     "text": [
      "0   2019-03-07\n",
      "1   2018-12-04\n",
      "2   2015-08-20\n",
      "3   2015-07-24\n",
      "4   2018-06-19\n",
      "Name: first_day_exposition, dtype: datetime64[ns]\n",
      "0    3\n",
      "1    1\n",
      "2    3\n",
      "3    4\n",
      "4    1\n",
      "Name: week_num, dtype: int64\n",
      "0     3\n",
      "1    12\n",
      "2     8\n",
      "3     7\n",
      "4     6\n",
      "Name: month_num, dtype: int64\n",
      "0    2019\n",
      "1    2018\n",
      "2    2015\n",
      "3    2015\n",
      "4    2018\n",
      "Name: year_num, dtype: int64\n"
     ]
    }
   ],
   "source": [
    "data['week_num'] = data['first_day_exposition'].dt.weekday\n",
    "#data['month_num'] = pd.datetimeIndex(data['first_day_exposition']).month\n",
    "data['month_num'] = data['first_day_exposition'].dt.month\n",
    "data['year_num'] = data['first_day_exposition'].dt.year\n",
    "print(data['first_day_exposition'].head(5))\n",
    "print(data['week_num'].head(5))\n",
    "print(data['month_num'].head(5))\n",
    "print(data['year_num'].head(5))"
   ]
  },
  {
   "cell_type": "markdown",
   "metadata": {},
   "source": [
    "Здесь мы создаем функцию которая будет делить этажи на три категории \"первый\", \"последний\", \"другой\""
   ]
  },
  {
   "cell_type": "code",
   "execution_count": 13,
   "metadata": {},
   "outputs": [],
   "source": [
    "def floor_type(row):\n",
    "    if row['floor'] == 1:\n",
    "         return \"первый\"\n",
    "    elif row['floor'] == row['floors_total']:\n",
    "         return \"последний\"\n",
    "    else:\n",
    "         return \"другой\""
   ]
  },
  {
   "cell_type": "code",
   "execution_count": 14,
   "metadata": {},
   "outputs": [
    {
     "name": "stdout",
     "output_type": "stream",
     "text": [
      "0    другой\n",
      "1    первый\n",
      "2    другой\n",
      "3    другой\n",
      "4    другой\n",
      "Name: floor_type, dtype: object\n"
     ]
    }
   ],
   "source": [
    "data['floor_type'] = data.apply(floor_type,axis = 1)\n",
    "print(data['floor_type'].head())"
   ]
  },
  {
   "cell_type": "markdown",
   "metadata": {},
   "source": [
    "меняем расстояние с метров на километры"
   ]
  },
  {
   "cell_type": "code",
   "execution_count": 15,
   "metadata": {},
   "outputs": [],
   "source": [
    "data['cityCenters_nearest'] = (data['cityCenters_nearest'] / 1000).round()\n",
    "#data['cityCenters_nearest'].dropna()"
   ]
  },
  {
   "cell_type": "code",
   "execution_count": 16,
   "metadata": {},
   "outputs": [
    {
     "name": "stdout",
     "output_type": "stream",
     "text": [
      "66.0\n"
     ]
    }
   ],
   "source": [
    "print(data['cityCenters_nearest'].max())"
   ]
  },
  {
   "cell_type": "markdown",
   "metadata": {},
   "source": [
    "### Проведите исследовательский анализ данных"
   ]
  },
  {
   "cell_type": "markdown",
   "metadata": {},
   "source": [
    "Здесь мы создали цикл который берет аномально высокие потолки и делит их на 10 чтобы сделать их нормальными"
   ]
  },
  {
   "cell_type": "code",
   "execution_count": 17,
   "metadata": {},
   "outputs": [],
   "source": [
    "#1\n",
    "for value in data['ceiling_height']:\n",
    "     if value >= 6:\n",
    "        data['ceiling_height'] = data['ceiling_height'].replace({value: value/10})"
   ]
  },
  {
   "cell_type": "code",
   "execution_count": 18,
   "metadata": {},
   "outputs": [
    {
     "data": {
      "text/html": [
       "<div>\n",
       "<style scoped>\n",
       "    .dataframe tbody tr th:only-of-type {\n",
       "        vertical-align: middle;\n",
       "    }\n",
       "\n",
       "    .dataframe tbody tr th {\n",
       "        vertical-align: top;\n",
       "    }\n",
       "\n",
       "    .dataframe thead th {\n",
       "        text-align: right;\n",
       "    }\n",
       "</style>\n",
       "<table border=\"1\" class=\"dataframe\">\n",
       "  <thead>\n",
       "    <tr style=\"text-align: right;\">\n",
       "      <th></th>\n",
       "      <th>total_images</th>\n",
       "      <th>last_price</th>\n",
       "      <th>total_area</th>\n",
       "      <th>first_day_exposition</th>\n",
       "      <th>rooms</th>\n",
       "      <th>ceiling_height</th>\n",
       "      <th>floors_total</th>\n",
       "      <th>living_area</th>\n",
       "      <th>floor</th>\n",
       "      <th>is_apartment</th>\n",
       "      <th>...</th>\n",
       "      <th>parks_around3000</th>\n",
       "      <th>parks_nearest</th>\n",
       "      <th>ponds_around3000</th>\n",
       "      <th>ponds_nearest</th>\n",
       "      <th>days_exposition</th>\n",
       "      <th>price_meter</th>\n",
       "      <th>week_num</th>\n",
       "      <th>month_num</th>\n",
       "      <th>year_num</th>\n",
       "      <th>floor_type</th>\n",
       "    </tr>\n",
       "  </thead>\n",
       "  <tbody>\n",
       "    <tr>\n",
       "      <th>0</th>\n",
       "      <td>20</td>\n",
       "      <td>13000000.0</td>\n",
       "      <td>108.00</td>\n",
       "      <td>2019-03-07</td>\n",
       "      <td>3</td>\n",
       "      <td>2.70</td>\n",
       "      <td>16.0</td>\n",
       "      <td>51.0</td>\n",
       "      <td>8</td>\n",
       "      <td>NaN</td>\n",
       "      <td>...</td>\n",
       "      <td>1.0</td>\n",
       "      <td>482.0</td>\n",
       "      <td>2.0</td>\n",
       "      <td>755.0</td>\n",
       "      <td>&lt;NA&gt;</td>\n",
       "      <td>120370.0</td>\n",
       "      <td>3</td>\n",
       "      <td>3</td>\n",
       "      <td>2019</td>\n",
       "      <td>другой</td>\n",
       "    </tr>\n",
       "    <tr>\n",
       "      <th>1</th>\n",
       "      <td>7</td>\n",
       "      <td>3350000.0</td>\n",
       "      <td>40.40</td>\n",
       "      <td>2018-12-04</td>\n",
       "      <td>1</td>\n",
       "      <td>NaN</td>\n",
       "      <td>11.0</td>\n",
       "      <td>18.6</td>\n",
       "      <td>1</td>\n",
       "      <td>NaN</td>\n",
       "      <td>...</td>\n",
       "      <td>0.0</td>\n",
       "      <td>NaN</td>\n",
       "      <td>0.0</td>\n",
       "      <td>NaN</td>\n",
       "      <td>81</td>\n",
       "      <td>82921.0</td>\n",
       "      <td>1</td>\n",
       "      <td>12</td>\n",
       "      <td>2018</td>\n",
       "      <td>первый</td>\n",
       "    </tr>\n",
       "    <tr>\n",
       "      <th>2</th>\n",
       "      <td>10</td>\n",
       "      <td>5196000.0</td>\n",
       "      <td>56.00</td>\n",
       "      <td>2015-08-20</td>\n",
       "      <td>2</td>\n",
       "      <td>NaN</td>\n",
       "      <td>5.0</td>\n",
       "      <td>34.3</td>\n",
       "      <td>4</td>\n",
       "      <td>NaN</td>\n",
       "      <td>...</td>\n",
       "      <td>1.0</td>\n",
       "      <td>90.0</td>\n",
       "      <td>2.0</td>\n",
       "      <td>574.0</td>\n",
       "      <td>558</td>\n",
       "      <td>92786.0</td>\n",
       "      <td>3</td>\n",
       "      <td>8</td>\n",
       "      <td>2015</td>\n",
       "      <td>другой</td>\n",
       "    </tr>\n",
       "    <tr>\n",
       "      <th>3</th>\n",
       "      <td>0</td>\n",
       "      <td>64900000.0</td>\n",
       "      <td>159.00</td>\n",
       "      <td>2015-07-24</td>\n",
       "      <td>3</td>\n",
       "      <td>NaN</td>\n",
       "      <td>14.0</td>\n",
       "      <td>NaN</td>\n",
       "      <td>9</td>\n",
       "      <td>NaN</td>\n",
       "      <td>...</td>\n",
       "      <td>2.0</td>\n",
       "      <td>84.0</td>\n",
       "      <td>3.0</td>\n",
       "      <td>234.0</td>\n",
       "      <td>424</td>\n",
       "      <td>408176.0</td>\n",
       "      <td>4</td>\n",
       "      <td>7</td>\n",
       "      <td>2015</td>\n",
       "      <td>другой</td>\n",
       "    </tr>\n",
       "    <tr>\n",
       "      <th>4</th>\n",
       "      <td>2</td>\n",
       "      <td>10000000.0</td>\n",
       "      <td>100.00</td>\n",
       "      <td>2018-06-19</td>\n",
       "      <td>2</td>\n",
       "      <td>3.03</td>\n",
       "      <td>14.0</td>\n",
       "      <td>32.0</td>\n",
       "      <td>13</td>\n",
       "      <td>NaN</td>\n",
       "      <td>...</td>\n",
       "      <td>2.0</td>\n",
       "      <td>112.0</td>\n",
       "      <td>1.0</td>\n",
       "      <td>48.0</td>\n",
       "      <td>121</td>\n",
       "      <td>100000.0</td>\n",
       "      <td>1</td>\n",
       "      <td>6</td>\n",
       "      <td>2018</td>\n",
       "      <td>другой</td>\n",
       "    </tr>\n",
       "    <tr>\n",
       "      <th>...</th>\n",
       "      <td>...</td>\n",
       "      <td>...</td>\n",
       "      <td>...</td>\n",
       "      <td>...</td>\n",
       "      <td>...</td>\n",
       "      <td>...</td>\n",
       "      <td>...</td>\n",
       "      <td>...</td>\n",
       "      <td>...</td>\n",
       "      <td>...</td>\n",
       "      <td>...</td>\n",
       "      <td>...</td>\n",
       "      <td>...</td>\n",
       "      <td>...</td>\n",
       "      <td>...</td>\n",
       "      <td>...</td>\n",
       "      <td>...</td>\n",
       "      <td>...</td>\n",
       "      <td>...</td>\n",
       "      <td>...</td>\n",
       "      <td>...</td>\n",
       "    </tr>\n",
       "    <tr>\n",
       "      <th>23694</th>\n",
       "      <td>9</td>\n",
       "      <td>9700000.0</td>\n",
       "      <td>133.81</td>\n",
       "      <td>2017-03-21</td>\n",
       "      <td>3</td>\n",
       "      <td>3.70</td>\n",
       "      <td>5.0</td>\n",
       "      <td>73.3</td>\n",
       "      <td>3</td>\n",
       "      <td>NaN</td>\n",
       "      <td>...</td>\n",
       "      <td>1.0</td>\n",
       "      <td>796.0</td>\n",
       "      <td>3.0</td>\n",
       "      <td>381.0</td>\n",
       "      <td>&lt;NA&gt;</td>\n",
       "      <td>72491.0</td>\n",
       "      <td>1</td>\n",
       "      <td>3</td>\n",
       "      <td>2017</td>\n",
       "      <td>другой</td>\n",
       "    </tr>\n",
       "    <tr>\n",
       "      <th>23695</th>\n",
       "      <td>14</td>\n",
       "      <td>3100000.0</td>\n",
       "      <td>59.00</td>\n",
       "      <td>2018-01-15</td>\n",
       "      <td>3</td>\n",
       "      <td>NaN</td>\n",
       "      <td>5.0</td>\n",
       "      <td>38.0</td>\n",
       "      <td>4</td>\n",
       "      <td>NaN</td>\n",
       "      <td>...</td>\n",
       "      <td>NaN</td>\n",
       "      <td>NaN</td>\n",
       "      <td>NaN</td>\n",
       "      <td>NaN</td>\n",
       "      <td>45</td>\n",
       "      <td>52542.0</td>\n",
       "      <td>0</td>\n",
       "      <td>1</td>\n",
       "      <td>2018</td>\n",
       "      <td>другой</td>\n",
       "    </tr>\n",
       "    <tr>\n",
       "      <th>23696</th>\n",
       "      <td>18</td>\n",
       "      <td>2500000.0</td>\n",
       "      <td>56.70</td>\n",
       "      <td>2018-02-11</td>\n",
       "      <td>2</td>\n",
       "      <td>NaN</td>\n",
       "      <td>3.0</td>\n",
       "      <td>29.7</td>\n",
       "      <td>1</td>\n",
       "      <td>NaN</td>\n",
       "      <td>...</td>\n",
       "      <td>NaN</td>\n",
       "      <td>NaN</td>\n",
       "      <td>NaN</td>\n",
       "      <td>NaN</td>\n",
       "      <td>&lt;NA&gt;</td>\n",
       "      <td>44092.0</td>\n",
       "      <td>6</td>\n",
       "      <td>2</td>\n",
       "      <td>2018</td>\n",
       "      <td>первый</td>\n",
       "    </tr>\n",
       "    <tr>\n",
       "      <th>23697</th>\n",
       "      <td>13</td>\n",
       "      <td>11475000.0</td>\n",
       "      <td>76.75</td>\n",
       "      <td>2017-03-28</td>\n",
       "      <td>2</td>\n",
       "      <td>3.00</td>\n",
       "      <td>17.0</td>\n",
       "      <td>NaN</td>\n",
       "      <td>12</td>\n",
       "      <td>NaN</td>\n",
       "      <td>...</td>\n",
       "      <td>2.0</td>\n",
       "      <td>173.0</td>\n",
       "      <td>3.0</td>\n",
       "      <td>196.0</td>\n",
       "      <td>602</td>\n",
       "      <td>149511.0</td>\n",
       "      <td>1</td>\n",
       "      <td>3</td>\n",
       "      <td>2017</td>\n",
       "      <td>другой</td>\n",
       "    </tr>\n",
       "    <tr>\n",
       "      <th>23698</th>\n",
       "      <td>4</td>\n",
       "      <td>1350000.0</td>\n",
       "      <td>32.30</td>\n",
       "      <td>2017-07-21</td>\n",
       "      <td>1</td>\n",
       "      <td>2.50</td>\n",
       "      <td>5.0</td>\n",
       "      <td>12.3</td>\n",
       "      <td>1</td>\n",
       "      <td>NaN</td>\n",
       "      <td>...</td>\n",
       "      <td>NaN</td>\n",
       "      <td>NaN</td>\n",
       "      <td>NaN</td>\n",
       "      <td>NaN</td>\n",
       "      <td>&lt;NA&gt;</td>\n",
       "      <td>41796.0</td>\n",
       "      <td>4</td>\n",
       "      <td>7</td>\n",
       "      <td>2017</td>\n",
       "      <td>первый</td>\n",
       "    </tr>\n",
       "  </tbody>\n",
       "</table>\n",
       "<p>23699 rows × 27 columns</p>\n",
       "</div>"
      ],
      "text/plain": [
       "       total_images  last_price  total_area first_day_exposition  rooms  \\\n",
       "0                20  13000000.0      108.00           2019-03-07      3   \n",
       "1                 7   3350000.0       40.40           2018-12-04      1   \n",
       "2                10   5196000.0       56.00           2015-08-20      2   \n",
       "3                 0  64900000.0      159.00           2015-07-24      3   \n",
       "4                 2  10000000.0      100.00           2018-06-19      2   \n",
       "...             ...         ...         ...                  ...    ...   \n",
       "23694             9   9700000.0      133.81           2017-03-21      3   \n",
       "23695            14   3100000.0       59.00           2018-01-15      3   \n",
       "23696            18   2500000.0       56.70           2018-02-11      2   \n",
       "23697            13  11475000.0       76.75           2017-03-28      2   \n",
       "23698             4   1350000.0       32.30           2017-07-21      1   \n",
       "\n",
       "       ceiling_height  floors_total  living_area  floor is_apartment  ...  \\\n",
       "0                2.70          16.0         51.0      8          NaN  ...   \n",
       "1                 NaN          11.0         18.6      1          NaN  ...   \n",
       "2                 NaN           5.0         34.3      4          NaN  ...   \n",
       "3                 NaN          14.0          NaN      9          NaN  ...   \n",
       "4                3.03          14.0         32.0     13          NaN  ...   \n",
       "...               ...           ...          ...    ...          ...  ...   \n",
       "23694            3.70           5.0         73.3      3          NaN  ...   \n",
       "23695             NaN           5.0         38.0      4          NaN  ...   \n",
       "23696             NaN           3.0         29.7      1          NaN  ...   \n",
       "23697            3.00          17.0          NaN     12          NaN  ...   \n",
       "23698            2.50           5.0         12.3      1          NaN  ...   \n",
       "\n",
       "       parks_around3000  parks_nearest  ponds_around3000  ponds_nearest  \\\n",
       "0                   1.0          482.0               2.0          755.0   \n",
       "1                   0.0            NaN               0.0            NaN   \n",
       "2                   1.0           90.0               2.0          574.0   \n",
       "3                   2.0           84.0               3.0          234.0   \n",
       "4                   2.0          112.0               1.0           48.0   \n",
       "...                 ...            ...               ...            ...   \n",
       "23694               1.0          796.0               3.0          381.0   \n",
       "23695               NaN            NaN               NaN            NaN   \n",
       "23696               NaN            NaN               NaN            NaN   \n",
       "23697               2.0          173.0               3.0          196.0   \n",
       "23698               NaN            NaN               NaN            NaN   \n",
       "\n",
       "      days_exposition  price_meter  week_num  month_num  year_num  floor_type  \n",
       "0                <NA>     120370.0         3          3      2019      другой  \n",
       "1                  81      82921.0         1         12      2018      первый  \n",
       "2                 558      92786.0         3          8      2015      другой  \n",
       "3                 424     408176.0         4          7      2015      другой  \n",
       "4                 121     100000.0         1          6      2018      другой  \n",
       "...               ...          ...       ...        ...       ...         ...  \n",
       "23694            <NA>      72491.0         1          3      2017      другой  \n",
       "23695              45      52542.0         0          1      2018      другой  \n",
       "23696            <NA>      44092.0         6          2      2018      первый  \n",
       "23697             602     149511.0         1          3      2017      другой  \n",
       "23698            <NA>      41796.0         4          7      2017      первый  \n",
       "\n",
       "[23699 rows x 27 columns]"
      ]
     },
     "metadata": {},
     "output_type": "display_data"
    },
    {
     "data": {
      "text/plain": [
       "<AxesSubplot:>"
      ]
     },
     "execution_count": 18,
     "metadata": {},
     "output_type": "execute_result"
    },
    {
     "data": {
      "image/png": "[encoded data removed]",
      "text/plain": [
       "<Figure size 432x288 with 1 Axes>"
      ]
     },
     "metadata": {
      "needs_background": "light"
     },
     "output_type": "display_data"
    }
   ],
   "source": [
    "data_ceiling_height = data.query('ceiling_height > 1 & ceiling_height < 10')\n",
    "display(data)\n",
    "data_ceiling_height['ceiling_height'].hist()"
   ]
  },
  {
   "cell_type": "markdown",
   "metadata": {},
   "source": [
    "Средняя высота потолка составляет от 2.3 до 4 метров и это особо не связанно с общей площадью помещения"
   ]
  },
  {
   "cell_type": "code",
   "execution_count": 19,
   "metadata": {},
   "outputs": [
    {
     "data": {
      "text/plain": [
       "<AxesSubplot:>"
      ]
     },
     "execution_count": 19,
     "metadata": {},
     "output_type": "execute_result"
    },
    {
     "data": {
      "image/png": "[encoded data removed]",
      "text/plain": [
       "<Figure size 432x288 with 1 Axes>"
      ]
     },
     "metadata": {
      "needs_background": "light"
     },
     "output_type": "display_data"
    }
   ],
   "source": [
    "data['last_price'] = data['last_price'].astype(int)\n",
    "m = data['last_price'].median()\n",
    "data_last_price = data.query('last_price > 800000 & last_price < 50000000')\n",
    "data['last_price'] = data['last_price'].fillna(m)\n",
    "#data.plot(kind = 'scatter', x='total_area', y='last_price', grid = True)\n",
    "data_last_price['total_area'].hist()"
   ]
  },
  {
   "cell_type": "markdown",
   "metadata": {},
   "source": [
    "в среднем площадь квартиры состоявляет от 20 до 105 кв метров"
   ]
  },
  {
   "cell_type": "markdown",
   "metadata": {},
   "source": []
  },
  {
   "cell_type": "code",
   "execution_count": 20,
   "metadata": {
    "scrolled": true
   },
   "outputs": [
    {
     "data": {
      "text/html": [
       "<div>\n",
       "<style scoped>\n",
       "    .dataframe tbody tr th:only-of-type {\n",
       "        vertical-align: middle;\n",
       "    }\n",
       "\n",
       "    .dataframe tbody tr th {\n",
       "        vertical-align: top;\n",
       "    }\n",
       "\n",
       "    .dataframe thead th {\n",
       "        text-align: right;\n",
       "    }\n",
       "</style>\n",
       "<table border=\"1\" class=\"dataframe\">\n",
       "  <thead>\n",
       "    <tr style=\"text-align: right;\">\n",
       "      <th></th>\n",
       "      <th>total_images</th>\n",
       "      <th>last_price</th>\n",
       "      <th>total_area</th>\n",
       "      <th>first_day_exposition</th>\n",
       "      <th>rooms</th>\n",
       "      <th>ceiling_height</th>\n",
       "      <th>floors_total</th>\n",
       "      <th>living_area</th>\n",
       "      <th>floor</th>\n",
       "      <th>is_apartment</th>\n",
       "      <th>...</th>\n",
       "      <th>parks_around3000</th>\n",
       "      <th>parks_nearest</th>\n",
       "      <th>ponds_around3000</th>\n",
       "      <th>ponds_nearest</th>\n",
       "      <th>days_exposition</th>\n",
       "      <th>price_meter</th>\n",
       "      <th>week_num</th>\n",
       "      <th>month_num</th>\n",
       "      <th>year_num</th>\n",
       "      <th>floor_type</th>\n",
       "    </tr>\n",
       "  </thead>\n",
       "  <tbody>\n",
       "    <tr>\n",
       "      <th>0</th>\n",
       "      <td>20</td>\n",
       "      <td>13000000</td>\n",
       "      <td>108.00</td>\n",
       "      <td>2019-03-07</td>\n",
       "      <td>3</td>\n",
       "      <td>2.70</td>\n",
       "      <td>16.0</td>\n",
       "      <td>51.0</td>\n",
       "      <td>8</td>\n",
       "      <td>NaN</td>\n",
       "      <td>...</td>\n",
       "      <td>1.0</td>\n",
       "      <td>482.0</td>\n",
       "      <td>2.0</td>\n",
       "      <td>755.0</td>\n",
       "      <td>&lt;NA&gt;</td>\n",
       "      <td>120370.0</td>\n",
       "      <td>3</td>\n",
       "      <td>3</td>\n",
       "      <td>2019</td>\n",
       "      <td>другой</td>\n",
       "    </tr>\n",
       "    <tr>\n",
       "      <th>1</th>\n",
       "      <td>7</td>\n",
       "      <td>3350000</td>\n",
       "      <td>40.40</td>\n",
       "      <td>2018-12-04</td>\n",
       "      <td>1</td>\n",
       "      <td>NaN</td>\n",
       "      <td>11.0</td>\n",
       "      <td>18.6</td>\n",
       "      <td>1</td>\n",
       "      <td>NaN</td>\n",
       "      <td>...</td>\n",
       "      <td>0.0</td>\n",
       "      <td>NaN</td>\n",
       "      <td>0.0</td>\n",
       "      <td>NaN</td>\n",
       "      <td>81</td>\n",
       "      <td>82921.0</td>\n",
       "      <td>1</td>\n",
       "      <td>12</td>\n",
       "      <td>2018</td>\n",
       "      <td>первый</td>\n",
       "    </tr>\n",
       "    <tr>\n",
       "      <th>2</th>\n",
       "      <td>10</td>\n",
       "      <td>5196000</td>\n",
       "      <td>56.00</td>\n",
       "      <td>2015-08-20</td>\n",
       "      <td>2</td>\n",
       "      <td>NaN</td>\n",
       "      <td>5.0</td>\n",
       "      <td>34.3</td>\n",
       "      <td>4</td>\n",
       "      <td>NaN</td>\n",
       "      <td>...</td>\n",
       "      <td>1.0</td>\n",
       "      <td>90.0</td>\n",
       "      <td>2.0</td>\n",
       "      <td>574.0</td>\n",
       "      <td>558</td>\n",
       "      <td>92786.0</td>\n",
       "      <td>3</td>\n",
       "      <td>8</td>\n",
       "      <td>2015</td>\n",
       "      <td>другой</td>\n",
       "    </tr>\n",
       "    <tr>\n",
       "      <th>3</th>\n",
       "      <td>0</td>\n",
       "      <td>64900000</td>\n",
       "      <td>159.00</td>\n",
       "      <td>2015-07-24</td>\n",
       "      <td>3</td>\n",
       "      <td>NaN</td>\n",
       "      <td>14.0</td>\n",
       "      <td>NaN</td>\n",
       "      <td>9</td>\n",
       "      <td>NaN</td>\n",
       "      <td>...</td>\n",
       "      <td>2.0</td>\n",
       "      <td>84.0</td>\n",
       "      <td>3.0</td>\n",
       "      <td>234.0</td>\n",
       "      <td>424</td>\n",
       "      <td>408176.0</td>\n",
       "      <td>4</td>\n",
       "      <td>7</td>\n",
       "      <td>2015</td>\n",
       "      <td>другой</td>\n",
       "    </tr>\n",
       "    <tr>\n",
       "      <th>4</th>\n",
       "      <td>2</td>\n",
       "      <td>10000000</td>\n",
       "      <td>100.00</td>\n",
       "      <td>2018-06-19</td>\n",
       "      <td>2</td>\n",
       "      <td>3.03</td>\n",
       "      <td>14.0</td>\n",
       "      <td>32.0</td>\n",
       "      <td>13</td>\n",
       "      <td>NaN</td>\n",
       "      <td>...</td>\n",
       "      <td>2.0</td>\n",
       "      <td>112.0</td>\n",
       "      <td>1.0</td>\n",
       "      <td>48.0</td>\n",
       "      <td>121</td>\n",
       "      <td>100000.0</td>\n",
       "      <td>1</td>\n",
       "      <td>6</td>\n",
       "      <td>2018</td>\n",
       "      <td>другой</td>\n",
       "    </tr>\n",
       "    <tr>\n",
       "      <th>...</th>\n",
       "      <td>...</td>\n",
       "      <td>...</td>\n",
       "      <td>...</td>\n",
       "      <td>...</td>\n",
       "      <td>...</td>\n",
       "      <td>...</td>\n",
       "      <td>...</td>\n",
       "      <td>...</td>\n",
       "      <td>...</td>\n",
       "      <td>...</td>\n",
       "      <td>...</td>\n",
       "      <td>...</td>\n",
       "      <td>...</td>\n",
       "      <td>...</td>\n",
       "      <td>...</td>\n",
       "      <td>...</td>\n",
       "      <td>...</td>\n",
       "      <td>...</td>\n",
       "      <td>...</td>\n",
       "      <td>...</td>\n",
       "      <td>...</td>\n",
       "    </tr>\n",
       "    <tr>\n",
       "      <th>23694</th>\n",
       "      <td>9</td>\n",
       "      <td>9700000</td>\n",
       "      <td>133.81</td>\n",
       "      <td>2017-03-21</td>\n",
       "      <td>3</td>\n",
       "      <td>3.70</td>\n",
       "      <td>5.0</td>\n",
       "      <td>73.3</td>\n",
       "      <td>3</td>\n",
       "      <td>NaN</td>\n",
       "      <td>...</td>\n",
       "      <td>1.0</td>\n",
       "      <td>796.0</td>\n",
       "      <td>3.0</td>\n",
       "      <td>381.0</td>\n",
       "      <td>&lt;NA&gt;</td>\n",
       "      <td>72491.0</td>\n",
       "      <td>1</td>\n",
       "      <td>3</td>\n",
       "      <td>2017</td>\n",
       "      <td>другой</td>\n",
       "    </tr>\n",
       "    <tr>\n",
       "      <th>23695</th>\n",
       "      <td>14</td>\n",
       "      <td>3100000</td>\n",
       "      <td>59.00</td>\n",
       "      <td>2018-01-15</td>\n",
       "      <td>3</td>\n",
       "      <td>NaN</td>\n",
       "      <td>5.0</td>\n",
       "      <td>38.0</td>\n",
       "      <td>4</td>\n",
       "      <td>NaN</td>\n",
       "      <td>...</td>\n",
       "      <td>NaN</td>\n",
       "      <td>NaN</td>\n",
       "      <td>NaN</td>\n",
       "      <td>NaN</td>\n",
       "      <td>45</td>\n",
       "      <td>52542.0</td>\n",
       "      <td>0</td>\n",
       "      <td>1</td>\n",
       "      <td>2018</td>\n",
       "      <td>другой</td>\n",
       "    </tr>\n",
       "    <tr>\n",
       "      <th>23696</th>\n",
       "      <td>18</td>\n",
       "      <td>2500000</td>\n",
       "      <td>56.70</td>\n",
       "      <td>2018-02-11</td>\n",
       "      <td>2</td>\n",
       "      <td>NaN</td>\n",
       "      <td>3.0</td>\n",
       "      <td>29.7</td>\n",
       "      <td>1</td>\n",
       "      <td>NaN</td>\n",
       "      <td>...</td>\n",
       "      <td>NaN</td>\n",
       "      <td>NaN</td>\n",
       "      <td>NaN</td>\n",
       "      <td>NaN</td>\n",
       "      <td>&lt;NA&gt;</td>\n",
       "      <td>44092.0</td>\n",
       "      <td>6</td>\n",
       "      <td>2</td>\n",
       "      <td>2018</td>\n",
       "      <td>первый</td>\n",
       "    </tr>\n",
       "    <tr>\n",
       "      <th>23697</th>\n",
       "      <td>13</td>\n",
       "      <td>11475000</td>\n",
       "      <td>76.75</td>\n",
       "      <td>2017-03-28</td>\n",
       "      <td>2</td>\n",
       "      <td>3.00</td>\n",
       "      <td>17.0</td>\n",
       "      <td>NaN</td>\n",
       "      <td>12</td>\n",
       "      <td>NaN</td>\n",
       "      <td>...</td>\n",
       "      <td>2.0</td>\n",
       "      <td>173.0</td>\n",
       "      <td>3.0</td>\n",
       "      <td>196.0</td>\n",
       "      <td>602</td>\n",
       "      <td>149511.0</td>\n",
       "      <td>1</td>\n",
       "      <td>3</td>\n",
       "      <td>2017</td>\n",
       "      <td>другой</td>\n",
       "    </tr>\n",
       "    <tr>\n",
       "      <th>23698</th>\n",
       "      <td>4</td>\n",
       "      <td>1350000</td>\n",
       "      <td>32.30</td>\n",
       "      <td>2017-07-21</td>\n",
       "      <td>1</td>\n",
       "      <td>2.50</td>\n",
       "      <td>5.0</td>\n",
       "      <td>12.3</td>\n",
       "      <td>1</td>\n",
       "      <td>NaN</td>\n",
       "      <td>...</td>\n",
       "      <td>NaN</td>\n",
       "      <td>NaN</td>\n",
       "      <td>NaN</td>\n",
       "      <td>NaN</td>\n",
       "      <td>&lt;NA&gt;</td>\n",
       "      <td>41796.0</td>\n",
       "      <td>4</td>\n",
       "      <td>7</td>\n",
       "      <td>2017</td>\n",
       "      <td>первый</td>\n",
       "    </tr>\n",
       "  </tbody>\n",
       "</table>\n",
       "<p>23699 rows × 27 columns</p>\n",
       "</div>"
      ],
      "text/plain": [
       "       total_images  last_price  total_area first_day_exposition  rooms  \\\n",
       "0                20    13000000      108.00           2019-03-07      3   \n",
       "1                 7     3350000       40.40           2018-12-04      1   \n",
       "2                10     5196000       56.00           2015-08-20      2   \n",
       "3                 0    64900000      159.00           2015-07-24      3   \n",
       "4                 2    10000000      100.00           2018-06-19      2   \n",
       "...             ...         ...         ...                  ...    ...   \n",
       "23694             9     9700000      133.81           2017-03-21      3   \n",
       "23695            14     3100000       59.00           2018-01-15      3   \n",
       "23696            18     2500000       56.70           2018-02-11      2   \n",
       "23697            13    11475000       76.75           2017-03-28      2   \n",
       "23698             4     1350000       32.30           2017-07-21      1   \n",
       "\n",
       "       ceiling_height  floors_total  living_area  floor is_apartment  ...  \\\n",
       "0                2.70          16.0         51.0      8          NaN  ...   \n",
       "1                 NaN          11.0         18.6      1          NaN  ...   \n",
       "2                 NaN           5.0         34.3      4          NaN  ...   \n",
       "3                 NaN          14.0          NaN      9          NaN  ...   \n",
       "4                3.03          14.0         32.0     13          NaN  ...   \n",
       "...               ...           ...          ...    ...          ...  ...   \n",
       "23694            3.70           5.0         73.3      3          NaN  ...   \n",
       "23695             NaN           5.0         38.0      4          NaN  ...   \n",
       "23696             NaN           3.0         29.7      1          NaN  ...   \n",
       "23697            3.00          17.0          NaN     12          NaN  ...   \n",
       "23698            2.50           5.0         12.3      1          NaN  ...   \n",
       "\n",
       "       parks_around3000  parks_nearest  ponds_around3000  ponds_nearest  \\\n",
       "0                   1.0          482.0               2.0          755.0   \n",
       "1                   0.0            NaN               0.0            NaN   \n",
       "2                   1.0           90.0               2.0          574.0   \n",
       "3                   2.0           84.0               3.0          234.0   \n",
       "4                   2.0          112.0               1.0           48.0   \n",
       "...                 ...            ...               ...            ...   \n",
       "23694               1.0          796.0               3.0          381.0   \n",
       "23695               NaN            NaN               NaN            NaN   \n",
       "23696               NaN            NaN               NaN            NaN   \n",
       "23697               2.0          173.0               3.0          196.0   \n",
       "23698               NaN            NaN               NaN            NaN   \n",
       "\n",
       "      days_exposition  price_meter  week_num  month_num  year_num  floor_type  \n",
       "0                <NA>     120370.0         3          3      2019      другой  \n",
       "1                  81      82921.0         1         12      2018      первый  \n",
       "2                 558      92786.0         3          8      2015      другой  \n",
       "3                 424     408176.0         4          7      2015      другой  \n",
       "4                 121     100000.0         1          6      2018      другой  \n",
       "...               ...          ...       ...        ...       ...         ...  \n",
       "23694            <NA>      72491.0         1          3      2017      другой  \n",
       "23695              45      52542.0         0          1      2018      другой  \n",
       "23696            <NA>      44092.0         6          2      2018      первый  \n",
       "23697             602     149511.0         1          3      2017      другой  \n",
       "23698            <NA>      41796.0         4          7      2017      первый  \n",
       "\n",
       "[23699 rows x 27 columns]"
      ]
     },
     "metadata": {},
     "output_type": "display_data"
    },
    {
     "data": {
      "text/plain": [
       "<AxesSubplot:>"
      ]
     },
     "execution_count": 20,
     "metadata": {},
     "output_type": "execute_result"
    },
    {
     "data": {
      "image/png": "[encoded data removed]",
      "text/plain": [
       "<Figure size 432x288 with 1 Axes>"
      ]
     },
     "metadata": {
      "needs_background": "light"
     },
     "output_type": "display_data"
    }
   ],
   "source": [
    "clean_rooms = data.query('rooms > 0')\n",
    "#clean_rooms.plot(kind = 'scatter', x='rooms', y='last_price', grid = True)\n",
    "display(data)\n",
    "clean_rooms['rooms'].hist()"
   ]
  },
  {
   "cell_type": "markdown",
   "metadata": {},
   "source": [
    "Здесь тяжело делать какие либо выводы поэтому лучше всего построить сводную таблицу и сделать вывод по ней"
   ]
  },
  {
   "cell_type": "code",
   "execution_count": 21,
   "metadata": {},
   "outputs": [
    {
     "name": "stdout",
     "output_type": "stream",
     "text": [
      "       last_price\n",
      "rooms            \n",
      "1         3600000\n",
      "2         4770169\n",
      "3         6200000\n",
      "4         9000000\n",
      "5        14000000\n",
      "6        19000000\n",
      "7        24900000\n",
      "8        23095000\n",
      "9        23750000\n",
      "10       23000000\n",
      "11       25250000\n",
      "12      420000000\n",
      "14       26829500\n",
      "15       65000000\n",
      "16       28500000\n",
      "19       32250000\n"
     ]
    },
    {
     "data": {
      "text/plain": [
       "<AxesSubplot:>"
      ]
     },
     "execution_count": 21,
     "metadata": {},
     "output_type": "execute_result"
    },
    {
     "data": {
      "image/png": "[encoded data removed]",
      "text/plain": [
       "<Figure size 432x288 with 1 Axes>"
      ]
     },
     "metadata": {
      "needs_background": "light"
     },
     "output_type": "display_data"
    }
   ],
   "source": [
    "gg = clean_rooms.pivot_table(index = 'rooms', values = 'last_price', aggfunc = 'median')\n",
    "data = data.query('rooms < 7 & rooms > 0')\n",
    "print(gg)\n",
    "data['rooms'].hist()"
   ]
  },
  {
   "cell_type": "code",
   "execution_count": 22,
   "metadata": {},
   "outputs": [
    {
     "name": "stdout",
     "output_type": "stream",
     "text": [
      "count    2.341200e+04\n",
      "mean     6.395420e+06\n",
      "std      8.773774e+06\n",
      "min      1.219000e+04\n",
      "25%      3.450000e+06\n",
      "50%      4.650000e+06\n",
      "75%      6.755720e+06\n",
      "max      4.013000e+08\n",
      "Name: last_price, dtype: float64\n"
     ]
    },
    {
     "data": {
      "text/plain": [
       "<AxesSubplot:>"
      ]
     },
     "execution_count": 22,
     "metadata": {},
     "output_type": "execute_result"
    },
    {
     "data": {
      "image/png": "[encoded data removed]",
      "text/plain": [
       "<Figure size 432x288 with 1 Axes>"
      ]
     },
     "metadata": {
      "needs_background": "light"
     },
     "output_type": "display_data"
    }
   ],
   "source": [
    "print(data['last_price'].describe())\n",
    "data = data.query('last_price < 25000000')\n",
    "data['last_price'].hist()"
   ]
  },
  {
   "cell_type": "markdown",
   "metadata": {},
   "source": [
    "Начниная от 1 комнаты до 7 цена ростет что и следоволо ожидать но если посмотрим на недвижимости у которых комнат больше 7 то цены очень сильно вариируются из чего можем сделать вывод что свыше 7 комнат уже играю другие факторы которые составляют цену"
   ]
  },
  {
   "cell_type": "code",
   "execution_count": 23,
   "metadata": {},
   "outputs": [
    {
     "data": {
      "text/html": [
       "<div>\n",
       "<style scoped>\n",
       "    .dataframe tbody tr th:only-of-type {\n",
       "        vertical-align: middle;\n",
       "    }\n",
       "\n",
       "    .dataframe tbody tr th {\n",
       "        vertical-align: top;\n",
       "    }\n",
       "\n",
       "    .dataframe thead th {\n",
       "        text-align: right;\n",
       "    }\n",
       "</style>\n",
       "<table border=\"1\" class=\"dataframe\">\n",
       "  <thead>\n",
       "    <tr style=\"text-align: right;\">\n",
       "      <th></th>\n",
       "      <th>total_images</th>\n",
       "      <th>last_price</th>\n",
       "      <th>total_area</th>\n",
       "      <th>first_day_exposition</th>\n",
       "      <th>rooms</th>\n",
       "      <th>ceiling_height</th>\n",
       "      <th>floors_total</th>\n",
       "      <th>living_area</th>\n",
       "      <th>floor</th>\n",
       "      <th>is_apartment</th>\n",
       "      <th>...</th>\n",
       "      <th>parks_around3000</th>\n",
       "      <th>parks_nearest</th>\n",
       "      <th>ponds_around3000</th>\n",
       "      <th>ponds_nearest</th>\n",
       "      <th>days_exposition</th>\n",
       "      <th>price_meter</th>\n",
       "      <th>week_num</th>\n",
       "      <th>month_num</th>\n",
       "      <th>year_num</th>\n",
       "      <th>floor_type</th>\n",
       "    </tr>\n",
       "  </thead>\n",
       "  <tbody>\n",
       "    <tr>\n",
       "      <th>0</th>\n",
       "      <td>20</td>\n",
       "      <td>13000000</td>\n",
       "      <td>108.00</td>\n",
       "      <td>2019-03-07</td>\n",
       "      <td>3</td>\n",
       "      <td>2.70</td>\n",
       "      <td>16.0</td>\n",
       "      <td>51.0</td>\n",
       "      <td>8</td>\n",
       "      <td>NaN</td>\n",
       "      <td>...</td>\n",
       "      <td>1.0</td>\n",
       "      <td>482.0</td>\n",
       "      <td>2.0</td>\n",
       "      <td>755.0</td>\n",
       "      <td>&lt;NA&gt;</td>\n",
       "      <td>120370.0</td>\n",
       "      <td>3</td>\n",
       "      <td>3</td>\n",
       "      <td>2019</td>\n",
       "      <td>другой</td>\n",
       "    </tr>\n",
       "    <tr>\n",
       "      <th>1</th>\n",
       "      <td>7</td>\n",
       "      <td>3350000</td>\n",
       "      <td>40.40</td>\n",
       "      <td>2018-12-04</td>\n",
       "      <td>1</td>\n",
       "      <td>NaN</td>\n",
       "      <td>11.0</td>\n",
       "      <td>18.6</td>\n",
       "      <td>1</td>\n",
       "      <td>NaN</td>\n",
       "      <td>...</td>\n",
       "      <td>0.0</td>\n",
       "      <td>NaN</td>\n",
       "      <td>0.0</td>\n",
       "      <td>NaN</td>\n",
       "      <td>81</td>\n",
       "      <td>82921.0</td>\n",
       "      <td>1</td>\n",
       "      <td>12</td>\n",
       "      <td>2018</td>\n",
       "      <td>первый</td>\n",
       "    </tr>\n",
       "    <tr>\n",
       "      <th>2</th>\n",
       "      <td>10</td>\n",
       "      <td>5196000</td>\n",
       "      <td>56.00</td>\n",
       "      <td>2015-08-20</td>\n",
       "      <td>2</td>\n",
       "      <td>NaN</td>\n",
       "      <td>5.0</td>\n",
       "      <td>34.3</td>\n",
       "      <td>4</td>\n",
       "      <td>NaN</td>\n",
       "      <td>...</td>\n",
       "      <td>1.0</td>\n",
       "      <td>90.0</td>\n",
       "      <td>2.0</td>\n",
       "      <td>574.0</td>\n",
       "      <td>558</td>\n",
       "      <td>92786.0</td>\n",
       "      <td>3</td>\n",
       "      <td>8</td>\n",
       "      <td>2015</td>\n",
       "      <td>другой</td>\n",
       "    </tr>\n",
       "    <tr>\n",
       "      <th>4</th>\n",
       "      <td>2</td>\n",
       "      <td>10000000</td>\n",
       "      <td>100.00</td>\n",
       "      <td>2018-06-19</td>\n",
       "      <td>2</td>\n",
       "      <td>3.03</td>\n",
       "      <td>14.0</td>\n",
       "      <td>32.0</td>\n",
       "      <td>13</td>\n",
       "      <td>NaN</td>\n",
       "      <td>...</td>\n",
       "      <td>2.0</td>\n",
       "      <td>112.0</td>\n",
       "      <td>1.0</td>\n",
       "      <td>48.0</td>\n",
       "      <td>121</td>\n",
       "      <td>100000.0</td>\n",
       "      <td>1</td>\n",
       "      <td>6</td>\n",
       "      <td>2018</td>\n",
       "      <td>другой</td>\n",
       "    </tr>\n",
       "    <tr>\n",
       "      <th>5</th>\n",
       "      <td>10</td>\n",
       "      <td>2890000</td>\n",
       "      <td>30.40</td>\n",
       "      <td>2018-09-10</td>\n",
       "      <td>1</td>\n",
       "      <td>NaN</td>\n",
       "      <td>12.0</td>\n",
       "      <td>14.4</td>\n",
       "      <td>5</td>\n",
       "      <td>NaN</td>\n",
       "      <td>...</td>\n",
       "      <td>NaN</td>\n",
       "      <td>NaN</td>\n",
       "      <td>NaN</td>\n",
       "      <td>NaN</td>\n",
       "      <td>55</td>\n",
       "      <td>95066.0</td>\n",
       "      <td>0</td>\n",
       "      <td>9</td>\n",
       "      <td>2018</td>\n",
       "      <td>другой</td>\n",
       "    </tr>\n",
       "    <tr>\n",
       "      <th>...</th>\n",
       "      <td>...</td>\n",
       "      <td>...</td>\n",
       "      <td>...</td>\n",
       "      <td>...</td>\n",
       "      <td>...</td>\n",
       "      <td>...</td>\n",
       "      <td>...</td>\n",
       "      <td>...</td>\n",
       "      <td>...</td>\n",
       "      <td>...</td>\n",
       "      <td>...</td>\n",
       "      <td>...</td>\n",
       "      <td>...</td>\n",
       "      <td>...</td>\n",
       "      <td>...</td>\n",
       "      <td>...</td>\n",
       "      <td>...</td>\n",
       "      <td>...</td>\n",
       "      <td>...</td>\n",
       "      <td>...</td>\n",
       "      <td>...</td>\n",
       "    </tr>\n",
       "    <tr>\n",
       "      <th>23694</th>\n",
       "      <td>9</td>\n",
       "      <td>9700000</td>\n",
       "      <td>133.81</td>\n",
       "      <td>2017-03-21</td>\n",
       "      <td>3</td>\n",
       "      <td>3.70</td>\n",
       "      <td>5.0</td>\n",
       "      <td>73.3</td>\n",
       "      <td>3</td>\n",
       "      <td>NaN</td>\n",
       "      <td>...</td>\n",
       "      <td>1.0</td>\n",
       "      <td>796.0</td>\n",
       "      <td>3.0</td>\n",
       "      <td>381.0</td>\n",
       "      <td>&lt;NA&gt;</td>\n",
       "      <td>72491.0</td>\n",
       "      <td>1</td>\n",
       "      <td>3</td>\n",
       "      <td>2017</td>\n",
       "      <td>другой</td>\n",
       "    </tr>\n",
       "    <tr>\n",
       "      <th>23695</th>\n",
       "      <td>14</td>\n",
       "      <td>3100000</td>\n",
       "      <td>59.00</td>\n",
       "      <td>2018-01-15</td>\n",
       "      <td>3</td>\n",
       "      <td>NaN</td>\n",
       "      <td>5.0</td>\n",
       "      <td>38.0</td>\n",
       "      <td>4</td>\n",
       "      <td>NaN</td>\n",
       "      <td>...</td>\n",
       "      <td>NaN</td>\n",
       "      <td>NaN</td>\n",
       "      <td>NaN</td>\n",
       "      <td>NaN</td>\n",
       "      <td>45</td>\n",
       "      <td>52542.0</td>\n",
       "      <td>0</td>\n",
       "      <td>1</td>\n",
       "      <td>2018</td>\n",
       "      <td>другой</td>\n",
       "    </tr>\n",
       "    <tr>\n",
       "      <th>23696</th>\n",
       "      <td>18</td>\n",
       "      <td>2500000</td>\n",
       "      <td>56.70</td>\n",
       "      <td>2018-02-11</td>\n",
       "      <td>2</td>\n",
       "      <td>NaN</td>\n",
       "      <td>3.0</td>\n",
       "      <td>29.7</td>\n",
       "      <td>1</td>\n",
       "      <td>NaN</td>\n",
       "      <td>...</td>\n",
       "      <td>NaN</td>\n",
       "      <td>NaN</td>\n",
       "      <td>NaN</td>\n",
       "      <td>NaN</td>\n",
       "      <td>&lt;NA&gt;</td>\n",
       "      <td>44092.0</td>\n",
       "      <td>6</td>\n",
       "      <td>2</td>\n",
       "      <td>2018</td>\n",
       "      <td>первый</td>\n",
       "    </tr>\n",
       "    <tr>\n",
       "      <th>23697</th>\n",
       "      <td>13</td>\n",
       "      <td>11475000</td>\n",
       "      <td>76.75</td>\n",
       "      <td>2017-03-28</td>\n",
       "      <td>2</td>\n",
       "      <td>3.00</td>\n",
       "      <td>17.0</td>\n",
       "      <td>NaN</td>\n",
       "      <td>12</td>\n",
       "      <td>NaN</td>\n",
       "      <td>...</td>\n",
       "      <td>2.0</td>\n",
       "      <td>173.0</td>\n",
       "      <td>3.0</td>\n",
       "      <td>196.0</td>\n",
       "      <td>602</td>\n",
       "      <td>149511.0</td>\n",
       "      <td>1</td>\n",
       "      <td>3</td>\n",
       "      <td>2017</td>\n",
       "      <td>другой</td>\n",
       "    </tr>\n",
       "    <tr>\n",
       "      <th>23698</th>\n",
       "      <td>4</td>\n",
       "      <td>1350000</td>\n",
       "      <td>32.30</td>\n",
       "      <td>2017-07-21</td>\n",
       "      <td>1</td>\n",
       "      <td>2.50</td>\n",
       "      <td>5.0</td>\n",
       "      <td>12.3</td>\n",
       "      <td>1</td>\n",
       "      <td>NaN</td>\n",
       "      <td>...</td>\n",
       "      <td>NaN</td>\n",
       "      <td>NaN</td>\n",
       "      <td>NaN</td>\n",
       "      <td>NaN</td>\n",
       "      <td>&lt;NA&gt;</td>\n",
       "      <td>41796.0</td>\n",
       "      <td>4</td>\n",
       "      <td>7</td>\n",
       "      <td>2017</td>\n",
       "      <td>первый</td>\n",
       "    </tr>\n",
       "  </tbody>\n",
       "</table>\n",
       "<p>22965 rows × 27 columns</p>\n",
       "</div>"
      ],
      "text/plain": [
       "       total_images  last_price  total_area first_day_exposition  rooms  \\\n",
       "0                20    13000000      108.00           2019-03-07      3   \n",
       "1                 7     3350000       40.40           2018-12-04      1   \n",
       "2                10     5196000       56.00           2015-08-20      2   \n",
       "4                 2    10000000      100.00           2018-06-19      2   \n",
       "5                10     2890000       30.40           2018-09-10      1   \n",
       "...             ...         ...         ...                  ...    ...   \n",
       "23694             9     9700000      133.81           2017-03-21      3   \n",
       "23695            14     3100000       59.00           2018-01-15      3   \n",
       "23696            18     2500000       56.70           2018-02-11      2   \n",
       "23697            13    11475000       76.75           2017-03-28      2   \n",
       "23698             4     1350000       32.30           2017-07-21      1   \n",
       "\n",
       "       ceiling_height  floors_total  living_area  floor is_apartment  ...  \\\n",
       "0                2.70          16.0         51.0      8          NaN  ...   \n",
       "1                 NaN          11.0         18.6      1          NaN  ...   \n",
       "2                 NaN           5.0         34.3      4          NaN  ...   \n",
       "4                3.03          14.0         32.0     13          NaN  ...   \n",
       "5                 NaN          12.0         14.4      5          NaN  ...   \n",
       "...               ...           ...          ...    ...          ...  ...   \n",
       "23694            3.70           5.0         73.3      3          NaN  ...   \n",
       "23695             NaN           5.0         38.0      4          NaN  ...   \n",
       "23696             NaN           3.0         29.7      1          NaN  ...   \n",
       "23697            3.00          17.0          NaN     12          NaN  ...   \n",
       "23698            2.50           5.0         12.3      1          NaN  ...   \n",
       "\n",
       "       parks_around3000  parks_nearest  ponds_around3000  ponds_nearest  \\\n",
       "0                   1.0          482.0               2.0          755.0   \n",
       "1                   0.0            NaN               0.0            NaN   \n",
       "2                   1.0           90.0               2.0          574.0   \n",
       "4                   2.0          112.0               1.0           48.0   \n",
       "5                   NaN            NaN               NaN            NaN   \n",
       "...                 ...            ...               ...            ...   \n",
       "23694               1.0          796.0               3.0          381.0   \n",
       "23695               NaN            NaN               NaN            NaN   \n",
       "23696               NaN            NaN               NaN            NaN   \n",
       "23697               2.0          173.0               3.0          196.0   \n",
       "23698               NaN            NaN               NaN            NaN   \n",
       "\n",
       "      days_exposition  price_meter  week_num  month_num  year_num  floor_type  \n",
       "0                <NA>     120370.0         3          3      2019      другой  \n",
       "1                  81      82921.0         1         12      2018      первый  \n",
       "2                 558      92786.0         3          8      2015      другой  \n",
       "4                 121     100000.0         1          6      2018      другой  \n",
       "5                  55      95066.0         0          9      2018      другой  \n",
       "...               ...          ...       ...        ...       ...         ...  \n",
       "23694            <NA>      72491.0         1          3      2017      другой  \n",
       "23695              45      52542.0         0          1      2018      другой  \n",
       "23696            <NA>      44092.0         6          2      2018      первый  \n",
       "23697             602     149511.0         1          3      2017      другой  \n",
       "23698            <NA>      41796.0         4          7      2017      первый  \n",
       "\n",
       "[22965 rows x 27 columns]"
      ]
     },
     "metadata": {},
     "output_type": "display_data"
    },
    {
     "data": {
      "text/plain": [
       "<AxesSubplot:>"
      ]
     },
     "execution_count": 23,
     "metadata": {},
     "output_type": "execute_result"
    },
    {
     "data": {
      "image/png": "[encoded data removed]",
      "text/plain": [
       "<Figure size 432x288 with 1 Axes>"
      ]
     },
     "metadata": {
      "needs_background": "light"
     },
     "output_type": "display_data"
    }
   ],
   "source": [
    "kitchen_clean = data.query('kitchen_area > 5 & kitchen_area < 50 & last_price < 170000000')\n",
    "#data = data.query('kitchen_area < 50')\n",
    "display(data)\n",
    "#kitchen_clean.plot(kind = 'scatter', x='kitchen_area', y='last_price', grid = True)\n",
    "#kitchen_clean.plot(kind = 'scatter', x='kitchen_area', y='total_area', grid = True)\n",
    "kitchen_clean['kitchen_area'].hist()"
   ]
  },
  {
   "cell_type": "markdown",
   "metadata": {},
   "source": [
    "Можем видеть кореляцию площади кухни с площадью всей квартиры а также с ценой квартиры, значит можем сказать что площадь кухни зависит на цену"
   ]
  },
  {
   "cell_type": "code",
   "execution_count": 24,
   "metadata": {},
   "outputs": [
    {
     "data": {
      "text/plain": [
       "<AxesSubplot:>"
      ]
     },
     "execution_count": 24,
     "metadata": {},
     "output_type": "execute_result"
    },
    {
     "data": {
      "image/png": "[encoded data removed]",
      "text/plain": [
       "<Figure size 432x288 with 1 Axes>"
      ]
     },
     "metadata": {
      "needs_background": "light"
     },
     "output_type": "display_data"
    }
   ],
   "source": [
    "#data.plot(kind = 'scatter', x='floor_type', y='last_price', grid = True)\n",
    "data.pivot_table(index = 'floor_type', values='last_price', aggfunc = {'median', 'mean', 'max', 'min'})\n",
    "data['floor_type'].hist()"
   ]
  },
  {
   "cell_type": "markdown",
   "metadata": {},
   "source": [
    "Последний этаж оказался самым дорогим ,на втором месте стоит квартиры которые находяться на первом этаже и остальные "
   ]
  },
  {
   "cell_type": "code",
   "execution_count": 25,
   "metadata": {},
   "outputs": [
    {
     "data": {
      "text/plain": [
       "<AxesSubplot:>"
      ]
     },
     "execution_count": 25,
     "metadata": {},
     "output_type": "execute_result"
    },
    {
     "data": {
      "image/png": "[encoded data removed]",
      "text/plain": [
       "<Figure size 432x288 with 1 Axes>"
      ]
     },
     "metadata": {
      "needs_background": "light"
     },
     "output_type": "display_data"
    }
   ],
   "source": [
    "data_floors = data.query('last_price > 5000000')\n",
    "#data.plot(kind = 'scatter', x='floors_total', y='last_price', grid = True)\n",
    "#print(data['last_price'].head(10))\n",
    "data['floors_total'].hist()"
   ]
  },
  {
   "cell_type": "markdown",
   "metadata": {},
   "source": [
    "Можем увидеть что цена за дома в которых от 3 до 9 этажей цена выше чем у остальных"
   ]
  },
  {
   "cell_type": "code",
   "execution_count": 26,
   "metadata": {},
   "outputs": [
    {
     "name": "stdout",
     "output_type": "stream",
     "text": [
      "        last_price\n",
      "studio            \n",
      "False      4600000\n",
      "True       2650000\n"
     ]
    }
   ],
   "source": [
    "ss = data.pivot_table(index = 'studio', values='last_price', aggfunc = 'median')\n",
    "print(ss)"
   ]
  },
  {
   "cell_type": "code",
   "execution_count": 27,
   "metadata": {},
   "outputs": [
    {
     "data": {
      "text/plain": [
       "<AxesSubplot:>"
      ]
     },
     "execution_count": 27,
     "metadata": {},
     "output_type": "execute_result"
    },
    {
     "data": {
      "image/png": "[encoded data removed]",
      "text/plain": [
       "<Figure size 432x288 with 1 Axes>"
      ]
     },
     "metadata": {
      "needs_background": "light"
     },
     "output_type": "display_data"
    }
   ],
   "source": [
    "data_total_area = data.query('total_area > 5 & total_area < 300')\n",
    "data = data.query('total_area < 200')\n",
    "data_total_area['total_area'].hist()"
   ]
  },
  {
   "cell_type": "markdown",
   "metadata": {},
   "source": [
    "средняя площадь квартиры равна 50 кв метрам "
   ]
  },
  {
   "cell_type": "code",
   "execution_count": 28,
   "metadata": {},
   "outputs": [
    {
     "data": {
      "text/plain": [
       "<AxesSubplot:>"
      ]
     },
     "execution_count": 28,
     "metadata": {},
     "output_type": "execute_result"
    },
    {
     "data": {
      "image/png": "[encoded data removed]",
      "text/plain": [
       "<Figure size 432x288 with 1 Axes>"
      ]
     },
     "metadata": {
      "needs_background": "light"
     },
     "output_type": "display_data"
    }
   ],
   "source": [
    "data_total_area = data.query('living_area > 5 & living_area < 200')\n",
    "data_total_area['living_area'].hist()"
   ]
  },
  {
   "cell_type": "markdown",
   "metadata": {},
   "source": [
    "в то время как жилая площадь квартиры равна 30-40 кв метрам "
   ]
  },
  {
   "cell_type": "code",
   "execution_count": 29,
   "metadata": {},
   "outputs": [
    {
     "data": {
      "text/plain": [
       "<AxesSubplot:>"
      ]
     },
     "execution_count": 29,
     "metadata": {},
     "output_type": "execute_result"
    },
    {
     "data": {
      "image/png": "[encoded data removed]",
      "text/plain": [
       "<Figure size 432x288 with 1 Axes>"
      ]
     },
     "metadata": {
      "needs_background": "light"
     },
     "output_type": "display_data"
    }
   ],
   "source": [
    "data_parks_nearest = data.query('parks_nearest < 3000')\n",
    "data_parks_nearest['parks_nearest'].hist()\n",
    "data['parks_nearest'].hist()"
   ]
  },
  {
   "cell_type": "markdown",
   "metadata": {},
   "source": [
    "Среднее расстояние до ближайшего парка равно 500 метрам "
   ]
  },
  {
   "cell_type": "code",
   "execution_count": 30,
   "metadata": {},
   "outputs": [
    {
     "data": {
      "text/html": [
       "<div>\n",
       "<style scoped>\n",
       "    .dataframe tbody tr th:only-of-type {\n",
       "        vertical-align: middle;\n",
       "    }\n",
       "\n",
       "    .dataframe tbody tr th {\n",
       "        vertical-align: top;\n",
       "    }\n",
       "\n",
       "    .dataframe thead th {\n",
       "        text-align: right;\n",
       "    }\n",
       "</style>\n",
       "<table border=\"1\" class=\"dataframe\">\n",
       "  <thead>\n",
       "    <tr style=\"text-align: right;\">\n",
       "      <th></th>\n",
       "      <th>total_images</th>\n",
       "      <th>last_price</th>\n",
       "      <th>total_area</th>\n",
       "      <th>first_day_exposition</th>\n",
       "      <th>rooms</th>\n",
       "      <th>ceiling_height</th>\n",
       "      <th>floors_total</th>\n",
       "      <th>living_area</th>\n",
       "      <th>floor</th>\n",
       "      <th>is_apartment</th>\n",
       "      <th>...</th>\n",
       "      <th>parks_around3000</th>\n",
       "      <th>parks_nearest</th>\n",
       "      <th>ponds_around3000</th>\n",
       "      <th>ponds_nearest</th>\n",
       "      <th>days_exposition</th>\n",
       "      <th>price_meter</th>\n",
       "      <th>week_num</th>\n",
       "      <th>month_num</th>\n",
       "      <th>year_num</th>\n",
       "      <th>floor_type</th>\n",
       "    </tr>\n",
       "  </thead>\n",
       "  <tbody>\n",
       "    <tr>\n",
       "      <th>0</th>\n",
       "      <td>20</td>\n",
       "      <td>13000000</td>\n",
       "      <td>108.00</td>\n",
       "      <td>2019-03-07</td>\n",
       "      <td>3</td>\n",
       "      <td>2.70</td>\n",
       "      <td>16.0</td>\n",
       "      <td>51.0</td>\n",
       "      <td>8</td>\n",
       "      <td>NaN</td>\n",
       "      <td>...</td>\n",
       "      <td>1.0</td>\n",
       "      <td>482.0</td>\n",
       "      <td>2.0</td>\n",
       "      <td>755.0</td>\n",
       "      <td>&lt;NA&gt;</td>\n",
       "      <td>120370.0</td>\n",
       "      <td>3</td>\n",
       "      <td>3</td>\n",
       "      <td>2019</td>\n",
       "      <td>другой</td>\n",
       "    </tr>\n",
       "    <tr>\n",
       "      <th>1</th>\n",
       "      <td>7</td>\n",
       "      <td>3350000</td>\n",
       "      <td>40.40</td>\n",
       "      <td>2018-12-04</td>\n",
       "      <td>1</td>\n",
       "      <td>NaN</td>\n",
       "      <td>11.0</td>\n",
       "      <td>18.6</td>\n",
       "      <td>1</td>\n",
       "      <td>NaN</td>\n",
       "      <td>...</td>\n",
       "      <td>0.0</td>\n",
       "      <td>NaN</td>\n",
       "      <td>0.0</td>\n",
       "      <td>NaN</td>\n",
       "      <td>81</td>\n",
       "      <td>82921.0</td>\n",
       "      <td>1</td>\n",
       "      <td>12</td>\n",
       "      <td>2018</td>\n",
       "      <td>первый</td>\n",
       "    </tr>\n",
       "    <tr>\n",
       "      <th>2</th>\n",
       "      <td>10</td>\n",
       "      <td>5196000</td>\n",
       "      <td>56.00</td>\n",
       "      <td>2015-08-20</td>\n",
       "      <td>2</td>\n",
       "      <td>NaN</td>\n",
       "      <td>5.0</td>\n",
       "      <td>34.3</td>\n",
       "      <td>4</td>\n",
       "      <td>NaN</td>\n",
       "      <td>...</td>\n",
       "      <td>1.0</td>\n",
       "      <td>90.0</td>\n",
       "      <td>2.0</td>\n",
       "      <td>574.0</td>\n",
       "      <td>558</td>\n",
       "      <td>92786.0</td>\n",
       "      <td>3</td>\n",
       "      <td>8</td>\n",
       "      <td>2015</td>\n",
       "      <td>другой</td>\n",
       "    </tr>\n",
       "    <tr>\n",
       "      <th>4</th>\n",
       "      <td>2</td>\n",
       "      <td>10000000</td>\n",
       "      <td>100.00</td>\n",
       "      <td>2018-06-19</td>\n",
       "      <td>2</td>\n",
       "      <td>3.03</td>\n",
       "      <td>14.0</td>\n",
       "      <td>32.0</td>\n",
       "      <td>13</td>\n",
       "      <td>NaN</td>\n",
       "      <td>...</td>\n",
       "      <td>2.0</td>\n",
       "      <td>112.0</td>\n",
       "      <td>1.0</td>\n",
       "      <td>48.0</td>\n",
       "      <td>121</td>\n",
       "      <td>100000.0</td>\n",
       "      <td>1</td>\n",
       "      <td>6</td>\n",
       "      <td>2018</td>\n",
       "      <td>другой</td>\n",
       "    </tr>\n",
       "    <tr>\n",
       "      <th>5</th>\n",
       "      <td>10</td>\n",
       "      <td>2890000</td>\n",
       "      <td>30.40</td>\n",
       "      <td>2018-09-10</td>\n",
       "      <td>1</td>\n",
       "      <td>NaN</td>\n",
       "      <td>12.0</td>\n",
       "      <td>14.4</td>\n",
       "      <td>5</td>\n",
       "      <td>NaN</td>\n",
       "      <td>...</td>\n",
       "      <td>NaN</td>\n",
       "      <td>NaN</td>\n",
       "      <td>NaN</td>\n",
       "      <td>NaN</td>\n",
       "      <td>55</td>\n",
       "      <td>95066.0</td>\n",
       "      <td>0</td>\n",
       "      <td>9</td>\n",
       "      <td>2018</td>\n",
       "      <td>другой</td>\n",
       "    </tr>\n",
       "    <tr>\n",
       "      <th>...</th>\n",
       "      <td>...</td>\n",
       "      <td>...</td>\n",
       "      <td>...</td>\n",
       "      <td>...</td>\n",
       "      <td>...</td>\n",
       "      <td>...</td>\n",
       "      <td>...</td>\n",
       "      <td>...</td>\n",
       "      <td>...</td>\n",
       "      <td>...</td>\n",
       "      <td>...</td>\n",
       "      <td>...</td>\n",
       "      <td>...</td>\n",
       "      <td>...</td>\n",
       "      <td>...</td>\n",
       "      <td>...</td>\n",
       "      <td>...</td>\n",
       "      <td>...</td>\n",
       "      <td>...</td>\n",
       "      <td>...</td>\n",
       "      <td>...</td>\n",
       "    </tr>\n",
       "    <tr>\n",
       "      <th>23694</th>\n",
       "      <td>9</td>\n",
       "      <td>9700000</td>\n",
       "      <td>133.81</td>\n",
       "      <td>2017-03-21</td>\n",
       "      <td>3</td>\n",
       "      <td>3.70</td>\n",
       "      <td>5.0</td>\n",
       "      <td>73.3</td>\n",
       "      <td>3</td>\n",
       "      <td>NaN</td>\n",
       "      <td>...</td>\n",
       "      <td>1.0</td>\n",
       "      <td>796.0</td>\n",
       "      <td>3.0</td>\n",
       "      <td>381.0</td>\n",
       "      <td>&lt;NA&gt;</td>\n",
       "      <td>72491.0</td>\n",
       "      <td>1</td>\n",
       "      <td>3</td>\n",
       "      <td>2017</td>\n",
       "      <td>другой</td>\n",
       "    </tr>\n",
       "    <tr>\n",
       "      <th>23695</th>\n",
       "      <td>14</td>\n",
       "      <td>3100000</td>\n",
       "      <td>59.00</td>\n",
       "      <td>2018-01-15</td>\n",
       "      <td>3</td>\n",
       "      <td>NaN</td>\n",
       "      <td>5.0</td>\n",
       "      <td>38.0</td>\n",
       "      <td>4</td>\n",
       "      <td>NaN</td>\n",
       "      <td>...</td>\n",
       "      <td>NaN</td>\n",
       "      <td>NaN</td>\n",
       "      <td>NaN</td>\n",
       "      <td>NaN</td>\n",
       "      <td>45</td>\n",
       "      <td>52542.0</td>\n",
       "      <td>0</td>\n",
       "      <td>1</td>\n",
       "      <td>2018</td>\n",
       "      <td>другой</td>\n",
       "    </tr>\n",
       "    <tr>\n",
       "      <th>23696</th>\n",
       "      <td>18</td>\n",
       "      <td>2500000</td>\n",
       "      <td>56.70</td>\n",
       "      <td>2018-02-11</td>\n",
       "      <td>2</td>\n",
       "      <td>NaN</td>\n",
       "      <td>3.0</td>\n",
       "      <td>29.7</td>\n",
       "      <td>1</td>\n",
       "      <td>NaN</td>\n",
       "      <td>...</td>\n",
       "      <td>NaN</td>\n",
       "      <td>NaN</td>\n",
       "      <td>NaN</td>\n",
       "      <td>NaN</td>\n",
       "      <td>&lt;NA&gt;</td>\n",
       "      <td>44092.0</td>\n",
       "      <td>6</td>\n",
       "      <td>2</td>\n",
       "      <td>2018</td>\n",
       "      <td>первый</td>\n",
       "    </tr>\n",
       "    <tr>\n",
       "      <th>23697</th>\n",
       "      <td>13</td>\n",
       "      <td>11475000</td>\n",
       "      <td>76.75</td>\n",
       "      <td>2017-03-28</td>\n",
       "      <td>2</td>\n",
       "      <td>3.00</td>\n",
       "      <td>17.0</td>\n",
       "      <td>NaN</td>\n",
       "      <td>12</td>\n",
       "      <td>NaN</td>\n",
       "      <td>...</td>\n",
       "      <td>2.0</td>\n",
       "      <td>173.0</td>\n",
       "      <td>3.0</td>\n",
       "      <td>196.0</td>\n",
       "      <td>602</td>\n",
       "      <td>149511.0</td>\n",
       "      <td>1</td>\n",
       "      <td>3</td>\n",
       "      <td>2017</td>\n",
       "      <td>другой</td>\n",
       "    </tr>\n",
       "    <tr>\n",
       "      <th>23698</th>\n",
       "      <td>4</td>\n",
       "      <td>1350000</td>\n",
       "      <td>32.30</td>\n",
       "      <td>2017-07-21</td>\n",
       "      <td>1</td>\n",
       "      <td>2.50</td>\n",
       "      <td>5.0</td>\n",
       "      <td>12.3</td>\n",
       "      <td>1</td>\n",
       "      <td>NaN</td>\n",
       "      <td>...</td>\n",
       "      <td>NaN</td>\n",
       "      <td>NaN</td>\n",
       "      <td>NaN</td>\n",
       "      <td>NaN</td>\n",
       "      <td>&lt;NA&gt;</td>\n",
       "      <td>41796.0</td>\n",
       "      <td>4</td>\n",
       "      <td>7</td>\n",
       "      <td>2017</td>\n",
       "      <td>первый</td>\n",
       "    </tr>\n",
       "  </tbody>\n",
       "</table>\n",
       "<p>22923 rows × 27 columns</p>\n",
       "</div>"
      ],
      "text/plain": [
       "       total_images  last_price  total_area first_day_exposition  rooms  \\\n",
       "0                20    13000000      108.00           2019-03-07      3   \n",
       "1                 7     3350000       40.40           2018-12-04      1   \n",
       "2                10     5196000       56.00           2015-08-20      2   \n",
       "4                 2    10000000      100.00           2018-06-19      2   \n",
       "5                10     2890000       30.40           2018-09-10      1   \n",
       "...             ...         ...         ...                  ...    ...   \n",
       "23694             9     9700000      133.81           2017-03-21      3   \n",
       "23695            14     3100000       59.00           2018-01-15      3   \n",
       "23696            18     2500000       56.70           2018-02-11      2   \n",
       "23697            13    11475000       76.75           2017-03-28      2   \n",
       "23698             4     1350000       32.30           2017-07-21      1   \n",
       "\n",
       "       ceiling_height  floors_total  living_area  floor is_apartment  ...  \\\n",
       "0                2.70          16.0         51.0      8          NaN  ...   \n",
       "1                 NaN          11.0         18.6      1          NaN  ...   \n",
       "2                 NaN           5.0         34.3      4          NaN  ...   \n",
       "4                3.03          14.0         32.0     13          NaN  ...   \n",
       "5                 NaN          12.0         14.4      5          NaN  ...   \n",
       "...               ...           ...          ...    ...          ...  ...   \n",
       "23694            3.70           5.0         73.3      3          NaN  ...   \n",
       "23695             NaN           5.0         38.0      4          NaN  ...   \n",
       "23696             NaN           3.0         29.7      1          NaN  ...   \n",
       "23697            3.00          17.0          NaN     12          NaN  ...   \n",
       "23698            2.50           5.0         12.3      1          NaN  ...   \n",
       "\n",
       "       parks_around3000  parks_nearest  ponds_around3000  ponds_nearest  \\\n",
       "0                   1.0          482.0               2.0          755.0   \n",
       "1                   0.0            NaN               0.0            NaN   \n",
       "2                   1.0           90.0               2.0          574.0   \n",
       "4                   2.0          112.0               1.0           48.0   \n",
       "5                   NaN            NaN               NaN            NaN   \n",
       "...                 ...            ...               ...            ...   \n",
       "23694               1.0          796.0               3.0          381.0   \n",
       "23695               NaN            NaN               NaN            NaN   \n",
       "23696               NaN            NaN               NaN            NaN   \n",
       "23697               2.0          173.0               3.0          196.0   \n",
       "23698               NaN            NaN               NaN            NaN   \n",
       "\n",
       "      days_exposition  price_meter  week_num  month_num  year_num  floor_type  \n",
       "0                <NA>     120370.0         3          3      2019      другой  \n",
       "1                  81      82921.0         1         12      2018      первый  \n",
       "2                 558      92786.0         3          8      2015      другой  \n",
       "4                 121     100000.0         1          6      2018      другой  \n",
       "5                  55      95066.0         0          9      2018      другой  \n",
       "...               ...          ...       ...        ...       ...         ...  \n",
       "23694            <NA>      72491.0         1          3      2017      другой  \n",
       "23695              45      52542.0         0          1      2018      другой  \n",
       "23696            <NA>      44092.0         6          2      2018      первый  \n",
       "23697             602     149511.0         1          3      2017      другой  \n",
       "23698            <NA>      41796.0         4          7      2017      первый  \n",
       "\n",
       "[22923 rows x 27 columns]"
      ]
     },
     "metadata": {},
     "output_type": "display_data"
    },
    {
     "data": {
      "image/png": "[encoded data removed]",
      "text/plain": [
       "<Figure size 432x288 with 1 Axes>"
      ]
     },
     "metadata": {
      "needs_background": "light"
     },
     "output_type": "display_data"
    }
   ],
   "source": [
    "data_cityCenters_nearest = data.query('cityCenters_nearest < 70')\n",
    "data_cityCenters_nearest['cityCenters_nearest'].hist()\n",
    "display(data)"
   ]
  },
  {
   "cell_type": "markdown",
   "metadata": {},
   "source": [
    "У большей части квартир расстояние до центра города от 1 до 20 км и также есть не большой скочек на 50 км от центра"
   ]
  },
  {
   "cell_type": "code",
   "execution_count": 31,
   "metadata": {},
   "outputs": [
    {
     "data": {
      "image/png": "[encoded data removed]",
      "text/plain": [
       "<Figure size 432x288 with 1 Axes>"
      ]
     },
     "metadata": {
      "needs_background": "light"
     },
     "output_type": "display_data"
    }
   ],
   "source": [
    "#код ревьюера\n",
    "data2 = pd.read_csv('/datasets/real_estate_data.csv', sep='\\t')\n",
    "(data2['total_area']).hist(bins=30);"
   ]
  },
  {
   "cell_type": "code",
   "execution_count": 32,
   "metadata": {},
   "outputs": [
    {
     "name": "stdout",
     "output_type": "stream",
     "text": [
      "AxesSubplot(0.125,0.125;0.775x0.755)\n"
     ]
    },
    {
     "data": {
      "image/png": "[encoded data removed]",
      "text/plain": [
       "<Figure size 432x288 with 1 Axes>"
      ]
     },
     "metadata": {
      "needs_background": "light"
     },
     "output_type": "display_data"
    }
   ],
   "source": [
    "#2\n",
    "print(data['days_exposition'].hist())"
   ]
  },
  {
   "cell_type": "markdown",
   "metadata": {},
   "source": [
    "Тяжело делать какие то выводы так как очень много квартир у которых объявление висело 0 дней поэтому уберем значения где days_exposition\n",
    "равен 0 и также уберем квартиры которые уже весят больше года в объявлении (365)"
   ]
  },
  {
   "cell_type": "code",
   "execution_count": 33,
   "metadata": {},
   "outputs": [
    {
     "name": "stdout",
     "output_type": "stream",
     "text": [
      "AxesSubplot(0.125,0.125;0.775x0.755)\n",
      "count    17011.000000\n",
      "mean       104.810476\n",
      "std         89.614513\n",
      "min          1.000000\n",
      "25%         37.000000\n",
      "50%         74.000000\n",
      "75%        154.000000\n",
      "max        365.000000\n",
      "Name: days_exposition, dtype: float64\n",
      "count    19910.000000\n",
      "mean       178.927524\n",
      "std        217.127771\n",
      "min          1.000000\n",
      "25%         45.000000\n",
      "50%         95.000000\n",
      "75%        229.000000\n",
      "max       1580.000000\n",
      "Name: days_exposition, dtype: float64\n"
     ]
    },
    {
     "data": {
      "image/png": "[encoded data removed]",
      "text/plain": [
       "<Figure size 432x288 with 1 Axes>"
      ]
     },
     "metadata": {
      "needs_background": "light"
     },
     "output_type": "display_data"
    }
   ],
   "source": [
    "days_exp_data = data.query('days_exposition > 0 & days_exposition < 366')\n",
    "print(days_exp_data['days_exposition'].hist())\n",
    "print(days_exp_data['days_exposition'].describe())\n",
    "print(data['days_exposition'].describe())"
   ]
  },
  {
   "cell_type": "markdown",
   "metadata": {},
   "source": [
    "За счет того что мы сократили зачения до 365 дней наше стандартное отклонение понизилось на чуть больше чем в два раза но при этом медиана сохраниась что не можем сказать о срднем значении\n",
    "вывод: срдней срок сколько дней объявление висит на сайте составляет 74 дня и среднем 104 дня"
   ]
  },
  {
   "cell_type": "code",
   "execution_count": 34,
   "metadata": {},
   "outputs": [
    {
     "name": "stdout",
     "output_type": "stream",
     "text": [
      "Средная цена по общей площади квартиры 7551700.706639526\n",
      "Медианая цена по общей площади квартиры 5695705.0\n",
      "Корреляция 0.7795727845468466\n"
     ]
    },
    {
     "data": {
      "text/plain": [
       "<AxesSubplot:xlabel='total_area', ylabel='last_price'>"
      ]
     },
     "execution_count": 34,
     "metadata": {},
     "output_type": "execute_result"
    },
    {
     "data": {
      "image/png": "[encoded data removed]",
      "text/plain": [
       "<Figure size 432x288 with 1 Axes>"
      ]
     },
     "metadata": {
      "needs_background": "light"
     },
     "output_type": "display_data"
    }
   ],
   "source": [
    "#3\n",
    "total_area_data = data.pivot_table(index = 'total_area', values = 'last_price', aggfunc = {'mean', 'median'})\n",
    "#print(total_area)\n",
    "mean_total_area = total_area_data['mean'].mean()\n",
    "median_total_area = total_area_data['median'].median()\n",
    "corr_total_area_data = data['last_price'].corr(data['total_area'])\n",
    "print(f'Средная цена по общей площади квартиры {mean_total_area}')\n",
    "print(f'Медианая цена по общей площади квартиры {median_total_area}')\n",
    "print(f'Корреляция {corr_total_area_data}')\n",
    "data.plot(x='total_area', y='last_price', kind = 'scatter')"
   ]
  },
  {
   "cell_type": "markdown",
   "metadata": {},
   "source": [
    "Здесь мы видем достаточно сильную корреляцию между ценой и площадью квартиры и также разницу между медианой и срездним что говорит нам о том что у нас очень много данных которые сильно отличаются от среднего "
   ]
  },
  {
   "cell_type": "code",
   "execution_count": 35,
   "metadata": {},
   "outputs": [
    {
     "name": "stdout",
     "output_type": "stream",
     "text": [
      "7670027.104557436\n",
      "5935346.0\n",
      "Корреляция 0.6637853239768274\n"
     ]
    },
    {
     "data": {
      "text/plain": [
       "<AxesSubplot:xlabel='living_area', ylabel='last_price'>"
      ]
     },
     "execution_count": 35,
     "metadata": {},
     "output_type": "execute_result"
    },
    {
     "data": {
      "image/png": "[encoded data removed]",
      "text/plain": [
       "<Figure size 432x288 with 1 Axes>"
      ]
     },
     "metadata": {
      "needs_background": "light"
     },
     "output_type": "display_data"
    }
   ],
   "source": [
    "living_area_data = data.pivot_table(index = 'living_area', values = 'last_price', aggfunc = {'mean', 'median'})\n",
    "#print(total_area)\n",
    "mean_living_area = living_area_data['mean'].mean()\n",
    "median_living_area = living_area_data['median'].median()\n",
    "corr_living_area_data = data['last_price'].corr(data['living_area'])\n",
    "print(mean_living_area)\n",
    "print(median_living_area)\n",
    "print(f'Корреляция {corr_living_area_data}')\n",
    "data.plot(x='living_area', y='last_price', kind = 'scatter')\n"
   ]
  },
  {
   "cell_type": "markdown",
   "metadata": {},
   "source": [
    "здесь корреляцию уже слабее но при этом она больше 50% и видна сильная разница между медианой и средним"
   ]
  },
  {
   "cell_type": "code",
   "execution_count": 36,
   "metadata": {},
   "outputs": [
    {
     "name": "stdout",
     "output_type": "stream",
     "text": [
      "10.18821295321917\n",
      "9.0\n",
      "Корреляция 0.5910669304436281\n"
     ]
    },
    {
     "data": {
      "text/plain": [
       "<AxesSubplot:xlabel='kitchen_area', ylabel='last_price'>"
      ]
     },
     "execution_count": 36,
     "metadata": {},
     "output_type": "execute_result"
    },
    {
     "data": {
      "image/png": "[encoded data removed]",
      "text/plain": [
       "<Figure size 432x288 with 1 Axes>"
      ]
     },
     "metadata": {
      "needs_background": "light"
     },
     "output_type": "display_data"
    }
   ],
   "source": [
    "mean_kitchen_area = data['kitchen_area'].mean()\n",
    "median_kitchen_area = data['kitchen_area'].median()\n",
    "corr_kitchen = data['last_price'].corr(data['kitchen_area'])\n",
    "print(mean_kitchen_area)\n",
    "print(median_kitchen_area)\n",
    "print(f'Корреляция {corr_kitchen}')\n",
    "data.plot(x='kitchen_area', y='last_price', kind = 'scatter')"
   ]
  },
  {
   "cell_type": "markdown",
   "metadata": {},
   "source": [
    "что касается площади кухни то тут все лучше так как медиана и среднее не сильно отличаются друг от друга а корреляция также положительна и выше 50%"
   ]
  },
  {
   "cell_type": "code",
   "execution_count": 37,
   "metadata": {},
   "outputs": [
    {
     "name": "stdout",
     "output_type": "stream",
     "text": [
      "2.027134319242682\n",
      "2.0\n",
      "Корреляция 0.49194361911838463\n"
     ]
    },
    {
     "data": {
      "text/plain": [
       "<AxesSubplot:xlabel='rooms'>"
      ]
     },
     "execution_count": 37,
     "metadata": {},
     "output_type": "execute_result"
    },
    {
     "data": {
      "image/png": "[encoded data removed]",
      "text/plain": [
       "<Figure size 432x288 with 1 Axes>"
      ]
     },
     "metadata": {
      "needs_background": "light"
     },
     "output_type": "display_data"
    }
   ],
   "source": [
    "mean_rooms = data['rooms'].mean()\n",
    "median_rooms = data['rooms'].median()\n",
    "corr_rooms = data['last_price'].corr(data['rooms'])\n",
    "print(mean_rooms)\n",
    "print(median_rooms)\n",
    "print(f'Корреляция {corr_rooms}')\n",
    "#data.plot(x='rooms', y='last_price', kind = 'scatter')\n",
    "rooms_data = data.pivot_table(index = 'rooms', values = 'last_price', aggfunc = 'median')\n",
    "rooms_data.plot.bar()"
   ]
  },
  {
   "cell_type": "markdown",
   "metadata": {},
   "source": [
    "здесь уже можно сказать что медиана и среднее одинаковые но при этом корреляция ниже 50% что говорит о том что связь между ценой и комнатами слабая "
   ]
  },
  {
   "cell_type": "code",
   "execution_count": 38,
   "metadata": {},
   "outputs": [
    {
     "name": "stdout",
     "output_type": "stream",
     "text": [
      "5550176.598541542\n",
      "4600000.0\n",
      "Корреляция 0.002722990773831758\n"
     ]
    },
    {
     "data": {
      "text/plain": [
       "<AxesSubplot:xlabel='month_num'>"
      ]
     },
     "execution_count": 38,
     "metadata": {},
     "output_type": "execute_result"
    },
    {
     "data": {
      "image/png": "[encoded data removed]",
      "text/plain": [
       "<Figure size 432x288 with 1 Axes>"
      ]
     },
     "metadata": {
      "needs_background": "light"
     },
     "output_type": "display_data"
    }
   ],
   "source": [
    "month_num_data = data.pivot_table(index = 'month_num', values = 'last_price', aggfunc = {'mean', 'median'})\n",
    "#print(week_num_data)\n",
    "corr_month_num = data['last_price'].corr(data['month_num'])\n",
    "print(month_num_data['mean'].mean())\n",
    "print(month_num_data['median'].median())\n",
    "print(f'Корреляция {corr_month_num}')\n",
    "#data.plot(x='month_num', y='last_price', kind = 'scatter')\n",
    "month_num_data.plot.bar()"
   ]
  },
  {
   "cell_type": "markdown",
   "metadata": {},
   "source": [
    "что касатается дня недели то тут нет никакой связи с ценой а средняя и медиана не сильно отличаются "
   ]
  },
  {
   "cell_type": "code",
   "execution_count": 39,
   "metadata": {},
   "outputs": [
    {
     "name": "stdout",
     "output_type": "stream",
     "text": [
      "6211219.269648164\n",
      "4772000.0\n",
      "Корреляция -0.0280952775977662\n"
     ]
    },
    {
     "data": {
      "text/plain": [
       "<AxesSubplot:xlabel='year_num'>"
      ]
     },
     "execution_count": 39,
     "metadata": {},
     "output_type": "execute_result"
    },
    {
     "data": {
      "image/png": "[encoded data removed]",
      "text/plain": [
       "<Figure size 432x288 with 1 Axes>"
      ]
     },
     "metadata": {
      "needs_background": "light"
     },
     "output_type": "display_data"
    }
   ],
   "source": [
    "year_num_data = data.pivot_table(index = 'year_num', values = 'last_price', aggfunc = {'mean', 'median'})\n",
    "#print(week_num_data)\n",
    "corr_year_num = data['last_price'].corr(data['year_num'])\n",
    "print(year_num_data['mean'].mean())\n",
    "print(year_num_data['median'].median())\n",
    "print(f'Корреляция {corr_year_num}')\n",
    "#data.plot(x='year_num', y='last_price', kind = 'scatter')\n",
    "year_num_data.plot.bar()"
   ]
  },
  {
   "cell_type": "markdown",
   "metadata": {},
   "source": [
    "года слегка влияют на цены мы можем видеть что корреляция отрицательная что очень странно"
   ]
  },
  {
   "cell_type": "code",
   "execution_count": 40,
   "metadata": {},
   "outputs": [
    {
     "name": "stdout",
     "output_type": "stream",
     "text": [
      "5526255.069087105\n",
      "4600000.0\n",
      "Корреляция -0.015726276270824072\n"
     ]
    },
    {
     "data": {
      "text/plain": [
       "<AxesSubplot:xlabel='week_num'>"
      ]
     },
     "execution_count": 40,
     "metadata": {},
     "output_type": "execute_result"
    },
    {
     "data": {
      "image/png": "[encoded data removed]",
      "text/plain": [
       "<Figure size 432x288 with 1 Axes>"
      ]
     },
     "metadata": {
      "needs_background": "light"
     },
     "output_type": "display_data"
    }
   ],
   "source": [
    "week_num_data = data.pivot_table(index = 'week_num', values = 'last_price', aggfunc = {'mean', 'median'})\n",
    "#print(week_num_data)\n",
    "corr_week_num = data['last_price'].corr(data['week_num'])\n",
    "print(week_num_data['mean'].mean())\n",
    "print(week_num_data['median'].median())\n",
    "print(f'Корреляция {corr_week_num}')\n",
    "#data.plot(x='week_num', y='last_price', kind = 'scatter')\n",
    "week_num_data.plot.bar()"
   ]
  },
  {
   "cell_type": "markdown",
   "metadata": {},
   "source": [
    "что касается недели то тут достаточно сильная разница между медианой и средним а корреляция очень слабая "
   ]
  },
  {
   "cell_type": "code",
   "execution_count": 41,
   "metadata": {},
   "outputs": [
    {
     "name": "stdout",
     "output_type": "stream",
     "text": [
      "            last_price\n",
      "floor_type            \n",
      "другой         4800000\n",
      "первый         3900000\n",
      "последний      4200000\n"
     ]
    },
    {
     "data": {
      "text/plain": [
       "<AxesSubplot:xlabel='floor_type'>"
      ]
     },
     "execution_count": 41,
     "metadata": {},
     "output_type": "execute_result"
    },
    {
     "data": {
      "image/png": "[encoded data removed]",
      "text/plain": [
       "<Figure size 432x288 with 1 Axes>"
      ]
     },
     "metadata": {
      "needs_background": "light"
     },
     "output_type": "display_data"
    }
   ],
   "source": [
    "floor_type_data = data.pivot_table(index = 'floor_type', values = 'last_price', aggfunc = 'median')\n",
    "print(floor_type_data)\n",
    "floor_type_data.plot.bar()"
   ]
  },
  {
   "cell_type": "markdown",
   "metadata": {},
   "source": [
    "Можем заметить слабую разницу между тремя категориями. Меньше всего квартиркоторые расположены на первом этаже дальше идет послдений этаж и логично что больше всего квартир из категории другие так как это все остальные квартиры "
   ]
  },
  {
   "cell_type": "code",
   "execution_count": 42,
   "metadata": {
    "scrolled": false
   },
   "outputs": [
    {
     "name": "stdout",
     "output_type": "stream",
     "text": [
      "                 count    median\n",
      "locality_name                   \n",
      "Санкт-Петербург  15051  103804.0\n",
      "Пушкин             361   99744.0\n",
      "Кудрово            451   95349.0\n",
      "Парголово          322   91984.5\n",
      "Мурино             562   84801.5\n",
      "Шушары             436   76748.0\n",
      "Колпино            337   74722.0\n",
      "Гатчина            307   67797.0\n",
      "Всеволожск         392   65789.0\n",
      "Выборг             237   58158.0\n"
     ]
    },
    {
     "data": {
      "text/plain": [
       "<AxesSubplot:xlabel='locality_name'>"
      ]
     },
     "execution_count": 42,
     "metadata": {},
     "output_type": "execute_result"
    },
    {
     "data": {
      "image/png": "[encoded data removed]",
      "text/plain": [
       "<Figure size 432x288 with 1 Axes>"
      ]
     },
     "metadata": {
      "needs_background": "light"
     },
     "output_type": "display_data"
    }
   ],
   "source": [
    "#4\n",
    "bb = data.groupby('locality_name')['locality_name'].count()\n",
    "aa = bb.sort_values(ascending = False).head(10)\n",
    "#print(aa)\n",
    "data_local_clean = data.query('locality_name in [\"Санкт-Петербург\", \"Мурино\", \"Кудрово\", \"Шушары\", \"Всеволожск\", \"Пушкин\", \"Колпино\", \"Парголово\", \"Гатчина\", \"Выборг\"]')\n",
    "#print(data_local_clean)\n",
    "location_data = data_local_clean.pivot_table(index = 'locality_name', values = 'price_meter', aggfunc = {'median', 'count'})\n",
    "print(location_data.sort_values(by = 'median', ascending = False))\n",
    "qq = location_data.sort_values(by = 'median', ascending = False)\n",
    "qq.plot.bar()"
   ]
  },
  {
   "cell_type": "markdown",
   "metadata": {},
   "source": [
    "Самая дорогая цена за квадратный метр в городе Санкт-Петербург и с не большим отстованием идет город Пушкин и последние место из топ-10 городов занимает город Выборг со средней ценой 58158 рублей за квадратный метр "
   ]
  },
  {
   "cell_type": "code",
   "execution_count": 43,
   "metadata": {},
   "outputs": [
    {
     "name": "stdout",
     "output_type": "stream",
     "text": [
      "                              mean    median\n",
      "cityCenters_nearest                         \n",
      "0.0                  118153.214286  109031.5\n",
      "1.0                  132573.860759  121904.0\n",
      "2.0                  127624.329502  116981.0\n",
      "3.0                  114828.310559  106874.5\n",
      "4.0                  123144.178344  114590.0\n",
      "5.0                  128866.598758  124588.0\n",
      "6.0                  128503.493151  121711.0\n",
      "7.0                  127480.120690  119298.5\n",
      "8.0                  123615.112084  121154.0\n",
      "9.0                  111193.523236  105519.0\n"
     ]
    },
    {
     "data": {
      "text/plain": [
       "<AxesSubplot:xlabel='cityCenters_nearest'>"
      ]
     },
     "execution_count": 43,
     "metadata": {},
     "output_type": "execute_result"
    },
    {
     "data": {
      "image/png": "[encoded data removed]",
      "text/plain": [
       "<Figure size 1296x1080 with 1 Axes>"
      ]
     },
     "metadata": {
      "needs_background": "light"
     },
     "output_type": "display_data"
    }
   ],
   "source": [
    "#5\n",
    "location_SPB = data.query('locality_name == \"Санкт-Петербург\"')\n",
    "ww = location_SPB.pivot_table(index = 'cityCenters_nearest', values = 'price_meter', aggfunc = {'mean', 'median'})\n",
    "print(ww.head(10))\n",
    "#ww.plot(y = 'median', kind = 'scatter', grid = True)\n",
    "ww.plot.bar(y='median', rot=0, figsize = (18, 15))"
   ]
  },
  {
   "cell_type": "markdown",
   "metadata": {},
   "source": [
    "Стоимость квартиры в диапазоне 8 км значительно выше тех кто находиться дальше и также очень интересно что на 26 км от центра цены резко ростут скорее всего это Питерская рублевка"
   ]
  },
  {
   "cell_type": "markdown",
   "metadata": {},
   "source": [
    "### Общий вывод"
   ]
  },
  {
   "cell_type": "markdown",
   "metadata": {},
   "source": [
    "Открыв файл мы сразу проверили общую информацию по данных и просмотрели тип данных, после чего сразу приступили к исправлению типа данных такие как даты. Также убрали в некоторых столбцах путсые значения и также значение равные нулю. Добавили новые необходимые столцы и также перевели метры в километры. \n",
    "После чего перешли к анализу. Нашли положительную кореляцию цен с площадью квартиры только до 400 кв метров также начниная от 1 комнаты до 7 цена ростет что и следоволо ожидать но если посмотрим на недвижимости у которых комнат больше 7 то цены очень сильно вариируются из чего можем сделать вывод что свыше 7 комнат уже другие факторы реагируют на цену и также пришли к выводу что площадь кухни зависит на цену\n",
    "Проверили корреляцию с ценой и также нашли среднее и медиану по выбранным столбцам\n",
    "Пришли также к выводу что последний этаж оказывается самым дорогим ,на втором месте стоит квартиры которые находяться на первом этаже и остальные\n",
    "срдней срок сколько дней объявление висит на сайте составляет 74 дня и среднем 104 дня. \n",
    "Самая дорогая цена за квадратный метр в городе Санкт-Петербург и с не большим отстованием идет город Пушкин и последние место из топ-10 городов занимает город Выборг со средней ценой 58158 рублей за квадратный метр \n",
    "Касательно города Санкт-Петербург, стоимость квартиры в диапазоне 8 км значительно выше тех кто находиться дальше и также очень интересно что на 26 км от центра цены резко ростут скорее всего это Питерская рублевка"
   ]
  },
  {
   "cell_type": "code",
   "execution_count": null,
   "metadata": {},
   "outputs": [],
   "source": []
  }
 ],
 "metadata": {
  "ExecuteTimeLog": [
   {
    "duration": 539,
    "start_time": "2023-10-11T08:37:21.045Z"
   },
   {
    "duration": 84,
    "start_time": "2023-10-11T08:37:36.886Z"
   },
   {
    "duration": 113,
    "start_time": "2023-10-11T08:37:45.962Z"
   },
   {
    "duration": 100,
    "start_time": "2023-10-11T08:37:57.200Z"
   },
   {
    "duration": 128,
    "start_time": "2023-10-11T08:38:30.652Z"
   },
   {
    "duration": 98,
    "start_time": "2023-10-11T08:38:45.154Z"
   },
   {
    "duration": 861,
    "start_time": "2023-10-11T17:51:02.845Z"
   },
   {
    "duration": 2959,
    "start_time": "2023-10-11T17:51:12.952Z"
   },
   {
    "duration": 933,
    "start_time": "2023-10-12T05:55:44.441Z"
   },
   {
    "duration": 3015,
    "start_time": "2023-10-12T05:55:49.284Z"
   },
   {
    "duration": 115,
    "start_time": "2023-10-12T05:56:14.342Z"
   },
   {
    "duration": 641,
    "start_time": "2023-10-12T07:55:43.735Z"
   },
   {
    "duration": 2658,
    "start_time": "2023-10-12T07:55:45.380Z"
   },
   {
    "duration": 84,
    "start_time": "2023-10-12T07:55:48.040Z"
   },
   {
    "duration": 15,
    "start_time": "2023-10-12T07:57:50.353Z"
   },
   {
    "duration": 8,
    "start_time": "2023-10-12T08:09:54.199Z"
   },
   {
    "duration": 5,
    "start_time": "2023-10-12T08:10:10.108Z"
   },
   {
    "duration": 8,
    "start_time": "2023-10-12T08:11:16.907Z"
   },
   {
    "duration": 11,
    "start_time": "2023-10-12T08:11:25.822Z"
   },
   {
    "duration": 5,
    "start_time": "2023-10-12T08:12:28.271Z"
   },
   {
    "duration": 8,
    "start_time": "2023-10-12T08:38:47.822Z"
   },
   {
    "duration": 7,
    "start_time": "2023-10-12T08:39:02.086Z"
   },
   {
    "duration": 4,
    "start_time": "2023-10-12T11:13:22.444Z"
   },
   {
    "duration": 15,
    "start_time": "2023-10-12T11:16:05.177Z"
   },
   {
    "duration": 12,
    "start_time": "2023-10-12T11:16:43.091Z"
   },
   {
    "duration": 11,
    "start_time": "2023-10-12T11:57:52.928Z"
   },
   {
    "duration": 14,
    "start_time": "2023-10-12T11:58:02.326Z"
   },
   {
    "duration": 13,
    "start_time": "2023-10-12T11:59:13.894Z"
   },
   {
    "duration": 48,
    "start_time": "2023-10-12T14:02:03.855Z"
   },
   {
    "duration": 778,
    "start_time": "2023-10-12T14:02:11.999Z"
   },
   {
    "duration": 2247,
    "start_time": "2023-10-12T14:02:12.779Z"
   },
   {
    "duration": 74,
    "start_time": "2023-10-12T14:02:15.028Z"
   },
   {
    "duration": 8,
    "start_time": "2023-10-12T14:02:15.103Z"
   },
   {
    "duration": 6,
    "start_time": "2023-10-12T14:02:15.113Z"
   },
   {
    "duration": 4,
    "start_time": "2023-10-12T14:02:16.011Z"
   },
   {
    "duration": 7,
    "start_time": "2023-10-12T14:02:55.205Z"
   },
   {
    "duration": 6,
    "start_time": "2023-10-12T14:03:35.790Z"
   },
   {
    "duration": 17,
    "start_time": "2023-10-12T14:03:53.131Z"
   },
   {
    "duration": 5,
    "start_time": "2023-10-12T14:04:54.552Z"
   },
   {
    "duration": 6,
    "start_time": "2023-10-12T14:09:50.687Z"
   },
   {
    "duration": 17,
    "start_time": "2023-10-12T14:10:53.801Z"
   },
   {
    "duration": 20,
    "start_time": "2023-10-12T14:11:31.964Z"
   },
   {
    "duration": 24,
    "start_time": "2023-10-12T14:12:04.265Z"
   },
   {
    "duration": 165,
    "start_time": "2023-10-12T14:30:54.921Z"
   },
   {
    "duration": 147,
    "start_time": "2023-10-12T14:31:05.055Z"
   },
   {
    "duration": 143,
    "start_time": "2023-10-12T14:31:15.529Z"
   },
   {
    "duration": 130,
    "start_time": "2023-10-12T14:32:53.729Z"
   },
   {
    "duration": 198,
    "start_time": "2023-10-12T14:33:22.357Z"
   },
   {
    "duration": 512,
    "start_time": "2023-10-12T14:33:50.427Z"
   },
   {
    "duration": 2210,
    "start_time": "2023-10-12T14:33:50.941Z"
   },
   {
    "duration": 70,
    "start_time": "2023-10-12T14:33:53.153Z"
   },
   {
    "duration": 8,
    "start_time": "2023-10-12T14:33:53.224Z"
   },
   {
    "duration": 26,
    "start_time": "2023-10-12T14:33:53.234Z"
   },
   {
    "duration": 13,
    "start_time": "2023-10-12T14:33:53.262Z"
   },
   {
    "duration": 142,
    "start_time": "2023-10-12T14:33:55.077Z"
   },
   {
    "duration": 157,
    "start_time": "2023-10-12T14:34:11.053Z"
   },
   {
    "duration": 200,
    "start_time": "2023-10-12T14:34:32.515Z"
   },
   {
    "duration": 235,
    "start_time": "2023-10-12T14:35:32.465Z"
   },
   {
    "duration": 17,
    "start_time": "2023-10-12T15:02:53.534Z"
   },
   {
    "duration": 1111,
    "start_time": "2023-10-13T04:36:59.517Z"
   },
   {
    "duration": 2367,
    "start_time": "2023-10-13T04:37:00.631Z"
   },
   {
    "duration": 73,
    "start_time": "2023-10-13T04:37:03.000Z"
   },
   {
    "duration": 8,
    "start_time": "2023-10-13T04:37:03.075Z"
   },
   {
    "duration": 6,
    "start_time": "2023-10-13T04:37:03.085Z"
   },
   {
    "duration": 6,
    "start_time": "2023-10-13T04:37:03.107Z"
   },
   {
    "duration": 168,
    "start_time": "2023-10-13T04:37:03.114Z"
   },
   {
    "duration": 15,
    "start_time": "2023-10-13T04:37:03.284Z"
   },
   {
    "duration": 33,
    "start_time": "2023-10-13T04:43:36.357Z"
   },
   {
    "duration": 12,
    "start_time": "2023-10-13T04:44:19.129Z"
   },
   {
    "duration": 13,
    "start_time": "2023-10-13T04:45:36.403Z"
   },
   {
    "duration": 509,
    "start_time": "2023-10-13T05:25:08.919Z"
   },
   {
    "duration": 2128,
    "start_time": "2023-10-13T05:25:09.430Z"
   },
   {
    "duration": 75,
    "start_time": "2023-10-13T05:25:11.559Z"
   },
   {
    "duration": 9,
    "start_time": "2023-10-13T05:25:11.636Z"
   },
   {
    "duration": 18,
    "start_time": "2023-10-13T05:25:11.646Z"
   },
   {
    "duration": 7,
    "start_time": "2023-10-13T05:25:11.666Z"
   },
   {
    "duration": 178,
    "start_time": "2023-10-13T05:25:11.674Z"
   },
   {
    "duration": 11,
    "start_time": "2023-10-13T05:25:11.854Z"
   },
   {
    "duration": 5,
    "start_time": "2023-10-13T05:25:12.070Z"
   },
   {
    "duration": 6,
    "start_time": "2023-10-13T05:26:44.135Z"
   },
   {
    "duration": 28,
    "start_time": "2023-10-13T05:33:40.583Z"
   },
   {
    "duration": 9,
    "start_time": "2023-10-13T05:35:07.965Z"
   },
   {
    "duration": 73,
    "start_time": "2023-10-13T05:37:11.905Z"
   },
   {
    "duration": 12,
    "start_time": "2023-10-13T05:38:37.600Z"
   },
   {
    "duration": 11,
    "start_time": "2023-10-13T05:38:43.643Z"
   },
   {
    "duration": 505,
    "start_time": "2023-10-13T05:38:55.472Z"
   },
   {
    "duration": 53,
    "start_time": "2023-10-13T05:38:55.979Z"
   },
   {
    "duration": 79,
    "start_time": "2023-10-13T05:39:15.707Z"
   },
   {
    "duration": 34,
    "start_time": "2023-10-13T05:39:34.019Z"
   },
   {
    "duration": 2171,
    "start_time": "2023-10-13T05:39:34.055Z"
   },
   {
    "duration": 78,
    "start_time": "2023-10-13T05:39:37.087Z"
   },
   {
    "duration": 9,
    "start_time": "2023-10-13T05:39:37.167Z"
   },
   {
    "duration": 39,
    "start_time": "2023-10-13T05:39:37.178Z"
   },
   {
    "duration": 25,
    "start_time": "2023-10-13T05:39:37.218Z"
   },
   {
    "duration": 207,
    "start_time": "2023-10-13T05:39:37.246Z"
   },
   {
    "duration": 10,
    "start_time": "2023-10-13T05:39:37.454Z"
   },
   {
    "duration": 7,
    "start_time": "2023-10-13T05:39:39.514Z"
   },
   {
    "duration": 71,
    "start_time": "2023-10-13T05:39:40.195Z"
   },
   {
    "duration": 11,
    "start_time": "2023-10-13T05:40:21.794Z"
   },
   {
    "duration": 13,
    "start_time": "2023-10-13T05:40:41.901Z"
   },
   {
    "duration": 15,
    "start_time": "2023-10-13T05:41:38.123Z"
   },
   {
    "duration": 4,
    "start_time": "2023-10-13T05:44:33.574Z"
   },
   {
    "duration": 15,
    "start_time": "2023-10-13T05:47:03.331Z"
   },
   {
    "duration": 4,
    "start_time": "2023-10-13T05:50:57.109Z"
   },
   {
    "duration": 3,
    "start_time": "2023-10-13T05:51:35.750Z"
   },
   {
    "duration": 100,
    "start_time": "2023-10-13T05:52:04.542Z"
   },
   {
    "duration": 3,
    "start_time": "2023-10-13T05:52:39.863Z"
   },
   {
    "duration": 3,
    "start_time": "2023-10-13T05:54:05.573Z"
   },
   {
    "duration": 3,
    "start_time": "2023-10-13T05:55:14.062Z"
   },
   {
    "duration": 93,
    "start_time": "2023-10-13T05:57:48.262Z"
   },
   {
    "duration": 4,
    "start_time": "2023-10-13T05:58:14.674Z"
   },
   {
    "duration": 108,
    "start_time": "2023-10-13T05:59:19.513Z"
   },
   {
    "duration": 88,
    "start_time": "2023-10-13T05:59:32.813Z"
   },
   {
    "duration": 82,
    "start_time": "2023-10-13T05:59:37.646Z"
   },
   {
    "duration": 1792,
    "start_time": "2023-10-13T06:01:05.502Z"
   },
   {
    "duration": 3,
    "start_time": "2023-10-13T06:01:45.044Z"
   },
   {
    "duration": 4,
    "start_time": "2023-10-13T06:02:05.994Z"
   },
   {
    "duration": 1492,
    "start_time": "2023-10-13T06:02:19.889Z"
   },
   {
    "duration": 1485,
    "start_time": "2023-10-13T06:03:08.400Z"
   },
   {
    "duration": 311,
    "start_time": "2023-10-13T06:03:32.836Z"
   },
   {
    "duration": 1269,
    "start_time": "2023-10-13T06:05:33.369Z"
   },
   {
    "duration": 441,
    "start_time": "2023-10-13T06:10:24.191Z"
   },
   {
    "duration": 21,
    "start_time": "2023-10-13T06:13:28.687Z"
   },
   {
    "duration": 353,
    "start_time": "2023-10-13T06:15:37.891Z"
   },
   {
    "duration": 17,
    "start_time": "2023-10-13T06:16:06.262Z"
   },
   {
    "duration": 5,
    "start_time": "2023-10-13T06:42:07.676Z"
   },
   {
    "duration": 6,
    "start_time": "2023-10-13T06:42:23.862Z"
   },
   {
    "duration": 6,
    "start_time": "2023-10-13T06:42:47.233Z"
   },
   {
    "duration": 527,
    "start_time": "2023-10-13T06:43:09.093Z"
   },
   {
    "duration": 18,
    "start_time": "2023-10-13T06:43:11.428Z"
   },
   {
    "duration": 2144,
    "start_time": "2023-10-13T06:43:11.598Z"
   },
   {
    "duration": 74,
    "start_time": "2023-10-13T06:43:13.744Z"
   },
   {
    "duration": 10,
    "start_time": "2023-10-13T06:43:13.820Z"
   },
   {
    "duration": 20,
    "start_time": "2023-10-13T06:43:13.832Z"
   },
   {
    "duration": 11,
    "start_time": "2023-10-13T06:43:13.853Z"
   },
   {
    "duration": 191,
    "start_time": "2023-10-13T06:43:13.866Z"
   },
   {
    "duration": 10,
    "start_time": "2023-10-13T06:43:14.058Z"
   },
   {
    "duration": 19,
    "start_time": "2023-10-13T06:43:14.070Z"
   },
   {
    "duration": 29,
    "start_time": "2023-10-13T06:43:14.091Z"
   },
   {
    "duration": 468,
    "start_time": "2023-10-13T06:43:14.122Z"
   },
   {
    "duration": 0,
    "start_time": "2023-10-13T06:43:14.592Z"
   },
   {
    "duration": 6,
    "start_time": "2023-10-13T06:43:19.216Z"
   },
   {
    "duration": 5,
    "start_time": "2023-10-13T06:43:30.213Z"
   },
   {
    "duration": 5,
    "start_time": "2023-10-13T06:43:36.298Z"
   },
   {
    "duration": 529,
    "start_time": "2023-10-13T06:43:45.190Z"
   },
   {
    "duration": 14,
    "start_time": "2023-10-13T06:43:45.721Z"
   },
   {
    "duration": 2333,
    "start_time": "2023-10-13T06:43:45.737Z"
   },
   {
    "duration": 74,
    "start_time": "2023-10-13T06:43:48.072Z"
   },
   {
    "duration": 8,
    "start_time": "2023-10-13T06:43:48.148Z"
   },
   {
    "duration": 33,
    "start_time": "2023-10-13T06:43:48.158Z"
   },
   {
    "duration": 30,
    "start_time": "2023-10-13T06:43:48.193Z"
   },
   {
    "duration": 199,
    "start_time": "2023-10-13T06:43:48.225Z"
   },
   {
    "duration": 11,
    "start_time": "2023-10-13T06:43:48.426Z"
   },
   {
    "duration": 26,
    "start_time": "2023-10-13T06:43:48.440Z"
   },
   {
    "duration": 42,
    "start_time": "2023-10-13T06:43:48.468Z"
   },
   {
    "duration": 554,
    "start_time": "2023-10-13T06:43:48.512Z"
   },
   {
    "duration": 0,
    "start_time": "2023-10-13T06:43:49.068Z"
   },
   {
    "duration": 5,
    "start_time": "2023-10-13T06:43:54.690Z"
   },
   {
    "duration": 7,
    "start_time": "2023-10-13T06:44:41.425Z"
   },
   {
    "duration": 5,
    "start_time": "2023-10-13T06:44:54.872Z"
   },
   {
    "duration": 6,
    "start_time": "2023-10-13T06:45:03.403Z"
   },
   {
    "duration": 566,
    "start_time": "2023-10-13T06:45:12.197Z"
   },
   {
    "duration": 15,
    "start_time": "2023-10-13T06:45:12.766Z"
   },
   {
    "duration": 2123,
    "start_time": "2023-10-13T06:45:12.783Z"
   },
   {
    "duration": 75,
    "start_time": "2023-10-13T06:45:14.908Z"
   },
   {
    "duration": 29,
    "start_time": "2023-10-13T06:45:14.985Z"
   },
   {
    "duration": 51,
    "start_time": "2023-10-13T06:45:15.016Z"
   },
   {
    "duration": 24,
    "start_time": "2023-10-13T06:45:15.069Z"
   },
   {
    "duration": 176,
    "start_time": "2023-10-13T06:45:15.095Z"
   },
   {
    "duration": 9,
    "start_time": "2023-10-13T06:45:15.273Z"
   },
   {
    "duration": 15,
    "start_time": "2023-10-13T06:45:15.284Z"
   },
   {
    "duration": 22,
    "start_time": "2023-10-13T06:45:15.306Z"
   },
   {
    "duration": 525,
    "start_time": "2023-10-13T06:45:16.386Z"
   },
   {
    "duration": 5,
    "start_time": "2023-10-13T06:45:17.658Z"
   },
   {
    "duration": 7,
    "start_time": "2023-10-13T06:49:33.867Z"
   },
   {
    "duration": 5,
    "start_time": "2023-10-13T06:49:37.512Z"
   },
   {
    "duration": 489,
    "start_time": "2023-10-13T06:49:45.249Z"
   },
   {
    "duration": 21,
    "start_time": "2023-10-13T06:49:45.740Z"
   },
   {
    "duration": 2319,
    "start_time": "2023-10-13T06:49:45.763Z"
   },
   {
    "duration": 75,
    "start_time": "2023-10-13T06:49:48.084Z"
   },
   {
    "duration": 10,
    "start_time": "2023-10-13T06:49:48.160Z"
   },
   {
    "duration": 8,
    "start_time": "2023-10-13T06:49:48.171Z"
   },
   {
    "duration": 26,
    "start_time": "2023-10-13T06:49:48.181Z"
   },
   {
    "duration": 169,
    "start_time": "2023-10-13T06:49:48.209Z"
   },
   {
    "duration": 9,
    "start_time": "2023-10-13T06:49:48.379Z"
   },
   {
    "duration": 41,
    "start_time": "2023-10-13T06:49:48.389Z"
   },
   {
    "duration": 15,
    "start_time": "2023-10-13T06:49:48.523Z"
   },
   {
    "duration": 418,
    "start_time": "2023-10-13T06:49:49.141Z"
   },
   {
    "duration": 5,
    "start_time": "2023-10-13T06:49:50.280Z"
   },
   {
    "duration": 1562,
    "start_time": "2023-10-13T07:15:48.070Z"
   },
   {
    "duration": 554,
    "start_time": "2023-10-13T07:16:00.780Z"
   },
   {
    "duration": 20,
    "start_time": "2023-10-13T07:16:02.374Z"
   },
   {
    "duration": 2152,
    "start_time": "2023-10-13T07:16:02.530Z"
   },
   {
    "duration": 76,
    "start_time": "2023-10-13T07:16:04.684Z"
   },
   {
    "duration": 12,
    "start_time": "2023-10-13T07:16:04.762Z"
   },
   {
    "duration": 40,
    "start_time": "2023-10-13T07:16:04.776Z"
   },
   {
    "duration": 8,
    "start_time": "2023-10-13T07:16:04.819Z"
   },
   {
    "duration": 179,
    "start_time": "2023-10-13T07:16:04.828Z"
   },
   {
    "duration": 11,
    "start_time": "2023-10-13T07:16:05.008Z"
   },
   {
    "duration": 37,
    "start_time": "2023-10-13T07:16:05.020Z"
   },
   {
    "duration": 31,
    "start_time": "2023-10-13T07:16:05.059Z"
   },
   {
    "duration": 494,
    "start_time": "2023-10-13T07:16:05.092Z"
   },
   {
    "duration": 1599,
    "start_time": "2023-10-13T07:16:06.375Z"
   },
   {
    "duration": 495,
    "start_time": "2023-10-13T07:20:44.633Z"
   },
   {
    "duration": 17,
    "start_time": "2023-10-13T07:20:46.824Z"
   },
   {
    "duration": 2166,
    "start_time": "2023-10-13T07:20:47.328Z"
   },
   {
    "duration": 81,
    "start_time": "2023-10-13T07:20:49.496Z"
   },
   {
    "duration": 10,
    "start_time": "2023-10-13T07:20:49.769Z"
   },
   {
    "duration": 8,
    "start_time": "2023-10-13T07:20:50.652Z"
   },
   {
    "duration": 6,
    "start_time": "2023-10-13T07:20:51.562Z"
   },
   {
    "duration": 175,
    "start_time": "2023-10-13T07:20:52.463Z"
   },
   {
    "duration": 10,
    "start_time": "2023-10-13T07:20:53.374Z"
   },
   {
    "duration": 8,
    "start_time": "2023-10-13T07:20:56.478Z"
   },
   {
    "duration": 19,
    "start_time": "2023-10-13T07:20:57.351Z"
   },
   {
    "duration": 411,
    "start_time": "2023-10-13T07:20:58.329Z"
   },
   {
    "duration": 2170,
    "start_time": "2023-10-13T07:21:02.894Z"
   },
   {
    "duration": 6,
    "start_time": "2023-10-13T07:25:10.452Z"
   },
   {
    "duration": 545,
    "start_time": "2023-10-13T07:31:52.384Z"
   },
   {
    "duration": 15,
    "start_time": "2023-10-13T07:31:54.213Z"
   },
   {
    "duration": 2285,
    "start_time": "2023-10-13T07:31:55.389Z"
   },
   {
    "duration": 75,
    "start_time": "2023-10-13T07:31:58.719Z"
   },
   {
    "duration": 10,
    "start_time": "2023-10-13T07:32:01.522Z"
   },
   {
    "duration": 9,
    "start_time": "2023-10-13T07:32:02.294Z"
   },
   {
    "duration": 7,
    "start_time": "2023-10-13T07:32:03.009Z"
   },
   {
    "duration": 161,
    "start_time": "2023-10-13T07:32:03.622Z"
   },
   {
    "duration": 9,
    "start_time": "2023-10-13T07:32:04.180Z"
   },
   {
    "duration": 8,
    "start_time": "2023-10-13T07:32:05.705Z"
   },
   {
    "duration": 17,
    "start_time": "2023-10-13T07:32:06.160Z"
   },
   {
    "duration": 3,
    "start_time": "2023-10-13T07:32:06.756Z"
   },
   {
    "duration": 498,
    "start_time": "2023-10-13T07:32:11.313Z"
   },
   {
    "duration": 470,
    "start_time": "2023-10-13T07:33:25.884Z"
   },
   {
    "duration": 469,
    "start_time": "2023-10-13T07:36:10.255Z"
   },
   {
    "duration": 16,
    "start_time": "2023-10-13T07:36:11.308Z"
   },
   {
    "duration": 2148,
    "start_time": "2023-10-13T07:36:11.505Z"
   },
   {
    "duration": 79,
    "start_time": "2023-10-13T07:36:13.656Z"
   },
   {
    "duration": 11,
    "start_time": "2023-10-13T07:36:13.737Z"
   },
   {
    "duration": 28,
    "start_time": "2023-10-13T07:36:13.750Z"
   },
   {
    "duration": 34,
    "start_time": "2023-10-13T07:36:13.780Z"
   },
   {
    "duration": 173,
    "start_time": "2023-10-13T07:36:13.816Z"
   },
   {
    "duration": 9,
    "start_time": "2023-10-13T07:36:13.991Z"
   },
   {
    "duration": 7,
    "start_time": "2023-10-13T07:36:18.874Z"
   },
   {
    "duration": 15,
    "start_time": "2023-10-13T07:36:20.592Z"
   },
   {
    "duration": 4,
    "start_time": "2023-10-13T07:37:51.226Z"
   },
   {
    "duration": 479,
    "start_time": "2023-10-13T07:37:52.630Z"
   },
   {
    "duration": 4,
    "start_time": "2023-10-13T07:39:00.259Z"
   },
   {
    "duration": 374,
    "start_time": "2023-10-13T07:39:01.734Z"
   },
   {
    "duration": 7,
    "start_time": "2023-10-13T07:40:20.227Z"
   },
   {
    "duration": 4,
    "start_time": "2023-10-13T07:40:26.124Z"
   },
   {
    "duration": 369,
    "start_time": "2023-10-13T07:40:27.055Z"
   },
   {
    "duration": 537,
    "start_time": "2023-10-13T07:40:37.696Z"
   },
   {
    "duration": 16,
    "start_time": "2023-10-13T07:40:38.235Z"
   },
   {
    "duration": 2248,
    "start_time": "2023-10-13T07:40:38.294Z"
   },
   {
    "duration": 78,
    "start_time": "2023-10-13T07:40:40.544Z"
   },
   {
    "duration": 11,
    "start_time": "2023-10-13T07:40:40.624Z"
   },
   {
    "duration": 26,
    "start_time": "2023-10-13T07:40:40.637Z"
   },
   {
    "duration": 31,
    "start_time": "2023-10-13T07:40:40.664Z"
   },
   {
    "duration": 14,
    "start_time": "2023-10-13T07:40:40.696Z"
   },
   {
    "duration": 166,
    "start_time": "2023-10-13T07:40:40.711Z"
   },
   {
    "duration": 9,
    "start_time": "2023-10-13T07:40:40.879Z"
   },
   {
    "duration": 19,
    "start_time": "2023-10-13T07:40:40.889Z"
   },
   {
    "duration": 15,
    "start_time": "2023-10-13T07:40:40.910Z"
   },
   {
    "duration": 3,
    "start_time": "2023-10-13T07:40:40.926Z"
   },
   {
    "duration": 619,
    "start_time": "2023-10-13T07:40:40.930Z"
   },
   {
    "duration": 0,
    "start_time": "2023-10-13T07:40:41.551Z"
   },
   {
    "duration": 6,
    "start_time": "2023-10-13T07:48:07.605Z"
   },
   {
    "duration": 638,
    "start_time": "2023-10-13T07:49:35.806Z"
   },
   {
    "duration": 20,
    "start_time": "2023-10-13T07:49:36.445Z"
   },
   {
    "duration": 2268,
    "start_time": "2023-10-13T07:49:36.886Z"
   },
   {
    "duration": 75,
    "start_time": "2023-10-13T07:49:39.155Z"
   },
   {
    "duration": 10,
    "start_time": "2023-10-13T07:49:39.231Z"
   },
   {
    "duration": 25,
    "start_time": "2023-10-13T07:49:39.243Z"
   },
   {
    "duration": 7,
    "start_time": "2023-10-13T07:49:39.411Z"
   },
   {
    "duration": 6,
    "start_time": "2023-10-13T07:49:40.049Z"
   },
   {
    "duration": 174,
    "start_time": "2023-10-13T07:49:40.201Z"
   },
   {
    "duration": 9,
    "start_time": "2023-10-13T07:49:40.836Z"
   },
   {
    "duration": 26,
    "start_time": "2023-10-13T07:49:44.174Z"
   },
   {
    "duration": 15,
    "start_time": "2023-10-13T07:49:46.848Z"
   },
   {
    "duration": 3,
    "start_time": "2023-10-13T07:49:47.503Z"
   },
   {
    "duration": 476,
    "start_time": "2023-10-13T07:49:49.146Z"
   },
   {
    "duration": 6,
    "start_time": "2023-10-13T07:53:33.760Z"
   },
   {
    "duration": 4,
    "start_time": "2023-10-13T07:56:24.396Z"
   },
   {
    "duration": 19,
    "start_time": "2023-10-13T07:56:24.911Z"
   },
   {
    "duration": 757,
    "start_time": "2023-10-13T07:56:37.059Z"
   },
   {
    "duration": 49,
    "start_time": "2023-10-13T08:02:35.567Z"
   },
   {
    "duration": 532,
    "start_time": "2023-10-13T08:02:47.798Z"
   },
   {
    "duration": 21,
    "start_time": "2023-10-13T08:02:48.332Z"
   },
   {
    "duration": 2206,
    "start_time": "2023-10-13T08:02:48.708Z"
   },
   {
    "duration": 83,
    "start_time": "2023-10-13T08:02:50.916Z"
   },
   {
    "duration": 14,
    "start_time": "2023-10-13T08:02:51.000Z"
   },
   {
    "duration": 27,
    "start_time": "2023-10-13T08:02:51.016Z"
   },
   {
    "duration": 41,
    "start_time": "2023-10-13T08:02:51.045Z"
   },
   {
    "duration": 17,
    "start_time": "2023-10-13T08:02:51.087Z"
   },
   {
    "duration": 195,
    "start_time": "2023-10-13T08:02:51.105Z"
   },
   {
    "duration": 12,
    "start_time": "2023-10-13T08:02:51.301Z"
   },
   {
    "duration": 22,
    "start_time": "2023-10-13T08:02:51.315Z"
   },
   {
    "duration": 33,
    "start_time": "2023-10-13T08:02:51.339Z"
   },
   {
    "duration": 30,
    "start_time": "2023-10-13T08:02:51.374Z"
   },
   {
    "duration": 109,
    "start_time": "2023-10-13T08:02:57.495Z"
   },
   {
    "duration": 19,
    "start_time": "2023-10-13T08:03:33.634Z"
   },
   {
    "duration": 347,
    "start_time": "2023-10-13T08:03:54.738Z"
   },
   {
    "duration": 528,
    "start_time": "2023-10-13T08:53:53.808Z"
   },
   {
    "duration": 15,
    "start_time": "2023-10-13T08:53:54.470Z"
   },
   {
    "duration": 2329,
    "start_time": "2023-10-13T08:53:54.913Z"
   },
   {
    "duration": 84,
    "start_time": "2023-10-13T08:53:57.244Z"
   },
   {
    "duration": 10,
    "start_time": "2023-10-13T08:53:57.851Z"
   },
   {
    "duration": 8,
    "start_time": "2023-10-13T08:53:58.024Z"
   },
   {
    "duration": 6,
    "start_time": "2023-10-13T08:53:58.757Z"
   },
   {
    "duration": 5,
    "start_time": "2023-10-13T08:53:59.005Z"
   },
   {
    "duration": 165,
    "start_time": "2023-10-13T08:53:59.551Z"
   },
   {
    "duration": 10,
    "start_time": "2023-10-13T08:54:01.726Z"
   },
   {
    "duration": 14,
    "start_time": "2023-10-13T08:54:19.163Z"
   },
   {
    "duration": 8,
    "start_time": "2023-10-13T08:55:03.319Z"
   },
   {
    "duration": 16,
    "start_time": "2023-10-13T08:55:09.310Z"
   },
   {
    "duration": 3,
    "start_time": "2023-10-13T08:55:15.746Z"
   },
   {
    "duration": 591,
    "start_time": "2023-10-13T08:55:22.843Z"
   },
   {
    "duration": 3,
    "start_time": "2023-10-13T08:58:53.495Z"
   },
   {
    "duration": 502,
    "start_time": "2023-10-13T08:58:53.845Z"
   },
   {
    "duration": 3,
    "start_time": "2023-10-13T09:02:34.722Z"
   },
   {
    "duration": 25,
    "start_time": "2023-10-13T09:02:35.140Z"
   },
   {
    "duration": 700,
    "start_time": "2023-10-13T09:43:18.172Z"
   },
   {
    "duration": 15,
    "start_time": "2023-10-13T09:43:20.173Z"
   },
   {
    "duration": 2615,
    "start_time": "2023-10-13T09:43:23.319Z"
   },
   {
    "duration": 105,
    "start_time": "2023-10-13T09:43:28.224Z"
   },
   {
    "duration": 61,
    "start_time": "2023-10-13T09:43:30.193Z"
   },
   {
    "duration": 12,
    "start_time": "2023-10-13T09:43:31.198Z"
   },
   {
    "duration": 22,
    "start_time": "2023-10-13T09:43:32.408Z"
   },
   {
    "duration": 7,
    "start_time": "2023-10-13T09:43:33.333Z"
   },
   {
    "duration": 201,
    "start_time": "2023-10-13T09:43:34.333Z"
   },
   {
    "duration": 17,
    "start_time": "2023-10-13T09:43:35.503Z"
   },
   {
    "duration": 9,
    "start_time": "2023-10-13T09:43:38.876Z"
   },
   {
    "duration": 21,
    "start_time": "2023-10-13T09:43:40.222Z"
   },
   {
    "duration": 3,
    "start_time": "2023-10-13T09:43:41.377Z"
   },
   {
    "duration": 5,
    "start_time": "2023-10-13T09:43:55.971Z"
   },
   {
    "duration": 100,
    "start_time": "2023-10-13T09:44:01.793Z"
   },
   {
    "duration": 7,
    "start_time": "2023-10-13T09:46:46.430Z"
   },
   {
    "duration": 510,
    "start_time": "2023-10-13T09:46:46.930Z"
   },
   {
    "duration": 4,
    "start_time": "2023-10-13T09:47:12.536Z"
   },
   {
    "duration": 435,
    "start_time": "2023-10-13T09:47:12.719Z"
   },
   {
    "duration": 3,
    "start_time": "2023-10-13T09:48:07.554Z"
   },
   {
    "duration": 494,
    "start_time": "2023-10-13T09:48:07.774Z"
   },
   {
    "duration": 584,
    "start_time": "2023-10-13T09:48:42.398Z"
   },
   {
    "duration": 17,
    "start_time": "2023-10-13T09:48:43.571Z"
   },
   {
    "duration": 2463,
    "start_time": "2023-10-13T09:48:44.175Z"
   },
   {
    "duration": 124,
    "start_time": "2023-10-13T09:48:46.640Z"
   },
   {
    "duration": 10,
    "start_time": "2023-10-13T09:48:46.766Z"
   },
   {
    "duration": 50,
    "start_time": "2023-10-13T09:48:46.778Z"
   },
   {
    "duration": 27,
    "start_time": "2023-10-13T09:48:46.830Z"
   },
   {
    "duration": 32,
    "start_time": "2023-10-13T09:48:46.859Z"
   },
   {
    "duration": 201,
    "start_time": "2023-10-13T09:48:46.893Z"
   },
   {
    "duration": 11,
    "start_time": "2023-10-13T09:48:47.096Z"
   },
   {
    "duration": 9,
    "start_time": "2023-10-13T09:48:47.723Z"
   },
   {
    "duration": 15,
    "start_time": "2023-10-13T09:48:48.359Z"
   },
   {
    "duration": 3,
    "start_time": "2023-10-13T09:48:48.898Z"
   },
   {
    "duration": 572,
    "start_time": "2023-10-13T09:48:50.244Z"
   },
   {
    "duration": 526,
    "start_time": "2023-10-13T09:49:17.818Z"
   },
   {
    "duration": 17,
    "start_time": "2023-10-13T09:49:18.347Z"
   },
   {
    "duration": 2404,
    "start_time": "2023-10-13T09:49:18.366Z"
   },
   {
    "duration": 83,
    "start_time": "2023-10-13T09:49:20.772Z"
   },
   {
    "duration": 8,
    "start_time": "2023-10-13T09:49:20.857Z"
   },
   {
    "duration": 12,
    "start_time": "2023-10-13T09:49:20.867Z"
   },
   {
    "duration": 49,
    "start_time": "2023-10-13T09:49:20.880Z"
   },
   {
    "duration": 13,
    "start_time": "2023-10-13T09:49:20.932Z"
   },
   {
    "duration": 212,
    "start_time": "2023-10-13T09:49:20.947Z"
   },
   {
    "duration": 10,
    "start_time": "2023-10-13T09:49:21.160Z"
   },
   {
    "duration": 28,
    "start_time": "2023-10-13T09:49:21.171Z"
   },
   {
    "duration": 38,
    "start_time": "2023-10-13T09:49:21.200Z"
   },
   {
    "duration": 3,
    "start_time": "2023-10-13T09:49:21.240Z"
   },
   {
    "duration": 124,
    "start_time": "2023-10-13T09:49:21.245Z"
   },
   {
    "duration": 0,
    "start_time": "2023-10-13T09:49:21.370Z"
   },
   {
    "duration": 333,
    "start_time": "2023-10-13T09:51:26.147Z"
   },
   {
    "duration": 6,
    "start_time": "2023-10-13T09:51:29.954Z"
   },
   {
    "duration": 168,
    "start_time": "2023-10-13T09:54:02.062Z"
   },
   {
    "duration": 6,
    "start_time": "2023-10-13T09:54:30.906Z"
   },
   {
    "duration": 147,
    "start_time": "2023-10-13T09:54:43.551Z"
   },
   {
    "duration": 203,
    "start_time": "2023-10-13T09:55:05.385Z"
   },
   {
    "duration": 18,
    "start_time": "2023-10-13T09:55:12.102Z"
   },
   {
    "duration": 215,
    "start_time": "2023-10-13T09:55:58.931Z"
   },
   {
    "duration": 22,
    "start_time": "2023-10-13T09:56:17.425Z"
   },
   {
    "duration": 150,
    "start_time": "2023-10-13T09:57:52.430Z"
   },
   {
    "duration": 2126,
    "start_time": "2023-10-13T09:57:59.657Z"
   },
   {
    "duration": 2670,
    "start_time": "2023-10-13T09:58:23.711Z"
   },
   {
    "duration": 5,
    "start_time": "2023-10-13T10:00:24.006Z"
   },
   {
    "duration": 8,
    "start_time": "2023-10-13T10:00:25.180Z"
   },
   {
    "duration": 531,
    "start_time": "2023-10-13T10:00:56.513Z"
   },
   {
    "duration": 3,
    "start_time": "2023-10-13T10:01:00.162Z"
   },
   {
    "duration": 377,
    "start_time": "2023-10-13T10:01:00.667Z"
   },
   {
    "duration": 139,
    "start_time": "2023-10-13T10:05:18.789Z"
   },
   {
    "duration": 386,
    "start_time": "2023-10-13T10:08:12.213Z"
   },
   {
    "duration": 10,
    "start_time": "2023-10-13T10:23:49.329Z"
   },
   {
    "duration": 3291,
    "start_time": "2023-10-13T10:23:59.508Z"
   },
   {
    "duration": 3297,
    "start_time": "2023-10-13T10:24:55.394Z"
   },
   {
    "duration": 165,
    "start_time": "2023-10-13T10:31:03.696Z"
   },
   {
    "duration": 147,
    "start_time": "2023-10-13T10:31:44.040Z"
   },
   {
    "duration": 155,
    "start_time": "2023-10-13T10:31:53.145Z"
   },
   {
    "duration": 174,
    "start_time": "2023-10-13T10:33:35.281Z"
   },
   {
    "duration": 562,
    "start_time": "2023-10-13T12:49:24.965Z"
   },
   {
    "duration": 16,
    "start_time": "2023-10-13T12:49:27.469Z"
   },
   {
    "duration": 77,
    "start_time": "2023-10-13T12:49:27.828Z"
   },
   {
    "duration": 9,
    "start_time": "2023-10-13T12:49:28.085Z"
   },
   {
    "duration": 10,
    "start_time": "2023-10-13T12:49:28.228Z"
   },
   {
    "duration": 8,
    "start_time": "2023-10-13T12:49:28.357Z"
   },
   {
    "duration": 6,
    "start_time": "2023-10-13T12:49:28.497Z"
   },
   {
    "duration": 202,
    "start_time": "2023-10-13T12:49:28.638Z"
   },
   {
    "duration": 9,
    "start_time": "2023-10-13T12:49:28.842Z"
   },
   {
    "duration": 7,
    "start_time": "2023-10-13T12:49:29.348Z"
   },
   {
    "duration": 18,
    "start_time": "2023-10-13T12:49:29.532Z"
   },
   {
    "duration": 3,
    "start_time": "2023-10-13T12:49:29.724Z"
   },
   {
    "duration": 384,
    "start_time": "2023-10-13T12:49:29.856Z"
   },
   {
    "duration": 6,
    "start_time": "2023-10-13T12:49:30.429Z"
   },
   {
    "duration": 519,
    "start_time": "2023-10-13T12:49:31.796Z"
   },
   {
    "duration": 196,
    "start_time": "2023-10-13T12:50:24.244Z"
   },
   {
    "duration": 242,
    "start_time": "2023-10-13T12:54:04.045Z"
   },
   {
    "duration": 831,
    "start_time": "2023-10-14T05:18:45.640Z"
   },
   {
    "duration": 16,
    "start_time": "2023-10-14T05:18:47.547Z"
   },
   {
    "duration": 79,
    "start_time": "2023-10-14T05:18:47.993Z"
   },
   {
    "duration": 9,
    "start_time": "2023-10-14T05:18:48.310Z"
   },
   {
    "duration": 8,
    "start_time": "2023-10-14T05:18:48.474Z"
   },
   {
    "duration": 7,
    "start_time": "2023-10-14T05:18:48.623Z"
   },
   {
    "duration": 4,
    "start_time": "2023-10-14T05:18:48.776Z"
   },
   {
    "duration": 161,
    "start_time": "2023-10-14T05:18:48.932Z"
   },
   {
    "duration": 13,
    "start_time": "2023-10-14T05:18:49.095Z"
   },
   {
    "duration": 7,
    "start_time": "2023-10-14T05:18:49.711Z"
   },
   {
    "duration": 14,
    "start_time": "2023-10-14T05:18:49.856Z"
   },
   {
    "duration": 4,
    "start_time": "2023-10-14T05:18:50.010Z"
   },
   {
    "duration": 359,
    "start_time": "2023-10-14T05:18:50.218Z"
   },
   {
    "duration": 5,
    "start_time": "2023-10-14T05:18:50.579Z"
   },
   {
    "duration": 570,
    "start_time": "2023-10-14T05:18:50.693Z"
   },
   {
    "duration": 515,
    "start_time": "2023-10-14T05:20:34.202Z"
   },
   {
    "duration": 16,
    "start_time": "2023-10-14T05:20:34.719Z"
   },
   {
    "duration": 81,
    "start_time": "2023-10-14T05:20:34.768Z"
   },
   {
    "duration": 9,
    "start_time": "2023-10-14T05:20:35.350Z"
   },
   {
    "duration": 7,
    "start_time": "2023-10-14T05:20:35.539Z"
   },
   {
    "duration": 8,
    "start_time": "2023-10-14T05:20:35.708Z"
   },
   {
    "duration": 7,
    "start_time": "2023-10-14T05:20:35.896Z"
   },
   {
    "duration": 169,
    "start_time": "2023-10-14T05:20:36.061Z"
   },
   {
    "duration": 9,
    "start_time": "2023-10-14T05:20:36.233Z"
   },
   {
    "duration": 7,
    "start_time": "2023-10-14T05:20:37.453Z"
   },
   {
    "duration": 15,
    "start_time": "2023-10-14T05:20:38.437Z"
   },
   {
    "duration": 3,
    "start_time": "2023-10-14T05:20:39.004Z"
   },
   {
    "duration": 335,
    "start_time": "2023-10-14T05:20:40.415Z"
   },
   {
    "duration": 4,
    "start_time": "2023-10-14T05:20:40.954Z"
   },
   {
    "duration": 385,
    "start_time": "2023-10-14T05:20:43.423Z"
   },
   {
    "duration": 54747,
    "start_time": "2023-10-14T05:20:44.537Z"
   },
   {
    "duration": 182,
    "start_time": "2023-10-14T05:28:59.878Z"
   },
   {
    "duration": 1497,
    "start_time": "2023-10-14T05:29:01.023Z"
   },
   {
    "duration": 236,
    "start_time": "2023-10-14T05:29:10.518Z"
   },
   {
    "duration": 389,
    "start_time": "2023-10-14T05:29:10.844Z"
   },
   {
    "duration": 395,
    "start_time": "2023-10-14T05:29:16.849Z"
   },
   {
    "duration": 1999,
    "start_time": "2023-10-14T05:30:23.887Z"
   },
   {
    "duration": 1887,
    "start_time": "2023-10-14T05:30:49.726Z"
   },
   {
    "duration": 509,
    "start_time": "2023-10-14T05:31:26.053Z"
   },
   {
    "duration": 15,
    "start_time": "2023-10-14T05:31:27.054Z"
   },
   {
    "duration": 72,
    "start_time": "2023-10-14T05:31:28.117Z"
   },
   {
    "duration": 9,
    "start_time": "2023-10-14T05:31:28.667Z"
   },
   {
    "duration": 9,
    "start_time": "2023-10-14T05:31:28.880Z"
   },
   {
    "duration": 11,
    "start_time": "2023-10-14T05:31:29.506Z"
   },
   {
    "duration": 5,
    "start_time": "2023-10-14T05:31:29.676Z"
   },
   {
    "duration": 186,
    "start_time": "2023-10-14T05:31:29.825Z"
   },
   {
    "duration": 12,
    "start_time": "2023-10-14T05:31:30.018Z"
   },
   {
    "duration": 7,
    "start_time": "2023-10-14T05:31:31.671Z"
   },
   {
    "duration": 14,
    "start_time": "2023-10-14T05:31:31.876Z"
   },
   {
    "duration": 3,
    "start_time": "2023-10-14T05:31:32.533Z"
   },
   {
    "duration": 367,
    "start_time": "2023-10-14T05:31:33.146Z"
   },
   {
    "duration": 5,
    "start_time": "2023-10-14T05:31:33.654Z"
   },
   {
    "duration": 2206,
    "start_time": "2023-10-14T05:31:49.388Z"
   },
   {
    "duration": 1821,
    "start_time": "2023-10-14T05:32:08.207Z"
   },
   {
    "duration": 1823,
    "start_time": "2023-10-14T05:32:14.055Z"
   },
   {
    "duration": 1663,
    "start_time": "2023-10-14T05:32:52.713Z"
   },
   {
    "duration": 560,
    "start_time": "2023-10-14T05:33:08.577Z"
   },
   {
    "duration": 23,
    "start_time": "2023-10-14T05:33:09.139Z"
   },
   {
    "duration": 98,
    "start_time": "2023-10-14T05:33:09.164Z"
   },
   {
    "duration": 9,
    "start_time": "2023-10-14T05:33:09.359Z"
   },
   {
    "duration": 9,
    "start_time": "2023-10-14T05:33:09.492Z"
   },
   {
    "duration": 8,
    "start_time": "2023-10-14T05:33:09.646Z"
   },
   {
    "duration": 8,
    "start_time": "2023-10-14T05:33:09.909Z"
   },
   {
    "duration": 180,
    "start_time": "2023-10-14T05:33:10.081Z"
   },
   {
    "duration": 9,
    "start_time": "2023-10-14T05:33:10.264Z"
   },
   {
    "duration": 8,
    "start_time": "2023-10-14T05:33:11.375Z"
   },
   {
    "duration": 16,
    "start_time": "2023-10-14T05:33:12.474Z"
   },
   {
    "duration": 3,
    "start_time": "2023-10-14T05:33:12.657Z"
   },
   {
    "duration": 383,
    "start_time": "2023-10-14T05:33:12.845Z"
   },
   {
    "duration": 5,
    "start_time": "2023-10-14T05:33:13.840Z"
   },
   {
    "duration": 1502,
    "start_time": "2023-10-14T05:33:15.929Z"
   },
   {
    "duration": 5,
    "start_time": "2023-10-14T05:35:49.593Z"
   },
   {
    "duration": 550,
    "start_time": "2023-10-14T05:36:06.404Z"
   },
   {
    "duration": 15,
    "start_time": "2023-10-14T05:36:06.956Z"
   },
   {
    "duration": 91,
    "start_time": "2023-10-14T05:36:07.347Z"
   },
   {
    "duration": 10,
    "start_time": "2023-10-14T05:36:07.764Z"
   },
   {
    "duration": 10,
    "start_time": "2023-10-14T05:36:07.927Z"
   },
   {
    "duration": 11,
    "start_time": "2023-10-14T05:36:08.105Z"
   },
   {
    "duration": 5,
    "start_time": "2023-10-14T05:36:08.284Z"
   },
   {
    "duration": 181,
    "start_time": "2023-10-14T05:36:10.159Z"
   },
   {
    "duration": 11,
    "start_time": "2023-10-14T05:36:12.124Z"
   },
   {
    "duration": 7,
    "start_time": "2023-10-14T05:36:18.552Z"
   },
   {
    "duration": 20,
    "start_time": "2023-10-14T05:36:20.315Z"
   },
   {
    "duration": 4,
    "start_time": "2023-10-14T05:36:25.012Z"
   },
   {
    "duration": 383,
    "start_time": "2023-10-14T05:36:26.078Z"
   },
   {
    "duration": 6,
    "start_time": "2023-10-14T05:36:27.146Z"
   },
   {
    "duration": 2383,
    "start_time": "2023-10-14T05:36:44.209Z"
   },
   {
    "duration": 20,
    "start_time": "2023-10-14T05:36:59.381Z"
   },
   {
    "duration": 12,
    "start_time": "2023-10-14T05:37:21.597Z"
   },
   {
    "duration": 10,
    "start_time": "2023-10-14T05:37:32.590Z"
   },
   {
    "duration": 8,
    "start_time": "2023-10-14T05:38:08.046Z"
   },
   {
    "duration": 8,
    "start_time": "2023-10-14T05:38:28.287Z"
   },
   {
    "duration": 502,
    "start_time": "2023-10-14T06:16:20.827Z"
   },
   {
    "duration": 133,
    "start_time": "2023-10-14T06:17:17.927Z"
   },
   {
    "duration": 20,
    "start_time": "2023-10-14T06:18:01.881Z"
   },
   {
    "duration": 78,
    "start_time": "2023-10-14T06:19:20.101Z"
   },
   {
    "duration": 9,
    "start_time": "2023-10-14T06:19:48.368Z"
   },
   {
    "duration": 8,
    "start_time": "2023-10-14T06:20:54.368Z"
   },
   {
    "duration": 10,
    "start_time": "2023-10-14T06:21:50.042Z"
   },
   {
    "duration": 5,
    "start_time": "2023-10-14T06:22:43.676Z"
   },
   {
    "duration": 169,
    "start_time": "2023-10-14T06:23:02.834Z"
   },
   {
    "duration": 10,
    "start_time": "2023-10-14T06:23:58.263Z"
   },
   {
    "duration": 7,
    "start_time": "2023-10-14T06:25:11.437Z"
   },
   {
    "duration": 20,
    "start_time": "2023-10-14T06:26:23.896Z"
   },
   {
    "duration": 3,
    "start_time": "2023-10-14T06:27:19.079Z"
   },
   {
    "duration": 386,
    "start_time": "2023-10-14T06:27:21.101Z"
   },
   {
    "duration": 5,
    "start_time": "2023-10-14T06:27:58.096Z"
   },
   {
    "duration": 12,
    "start_time": "2023-10-14T06:40:34.079Z"
   },
   {
    "duration": 3,
    "start_time": "2023-10-14T06:41:28.490Z"
   },
   {
    "duration": 109,
    "start_time": "2023-10-14T06:41:36.135Z"
   },
   {
    "duration": 12,
    "start_time": "2023-10-14T06:41:59.307Z"
   },
   {
    "duration": 3,
    "start_time": "2023-10-14T06:41:59.680Z"
   },
   {
    "duration": 14,
    "start_time": "2023-10-14T06:42:00.121Z"
   },
   {
    "duration": 504,
    "start_time": "2023-10-14T06:42:29.487Z"
   },
   {
    "duration": 364,
    "start_time": "2023-10-14T06:43:18.813Z"
   },
   {
    "duration": 7,
    "start_time": "2023-10-14T06:43:32.668Z"
   },
   {
    "duration": 16,
    "start_time": "2023-10-14T06:43:36.306Z"
   },
   {
    "duration": 9,
    "start_time": "2023-10-14T06:43:58.656Z"
   },
   {
    "duration": 557,
    "start_time": "2023-10-14T07:19:44.994Z"
   },
   {
    "duration": 18,
    "start_time": "2023-10-14T07:19:45.553Z"
   },
   {
    "duration": 89,
    "start_time": "2023-10-14T07:19:45.653Z"
   },
   {
    "duration": 19,
    "start_time": "2023-10-14T07:19:46.097Z"
   },
   {
    "duration": 12,
    "start_time": "2023-10-14T07:19:46.377Z"
   },
   {
    "duration": 9,
    "start_time": "2023-10-14T07:19:46.861Z"
   },
   {
    "duration": 9,
    "start_time": "2023-10-14T07:19:47.222Z"
   },
   {
    "duration": 172,
    "start_time": "2023-10-14T07:19:47.821Z"
   },
   {
    "duration": 14,
    "start_time": "2023-10-14T07:19:48.171Z"
   },
   {
    "duration": 9,
    "start_time": "2023-10-14T07:19:49.481Z"
   },
   {
    "duration": 21,
    "start_time": "2023-10-14T07:19:49.493Z"
   },
   {
    "duration": 4,
    "start_time": "2023-10-14T07:19:49.721Z"
   },
   {
    "duration": 389,
    "start_time": "2023-10-14T07:19:49.858Z"
   },
   {
    "duration": 9,
    "start_time": "2023-10-14T07:19:50.603Z"
   },
   {
    "duration": 12,
    "start_time": "2023-10-14T07:19:52.782Z"
   },
   {
    "duration": 3,
    "start_time": "2023-10-14T07:26:24.846Z"
   },
   {
    "duration": 13,
    "start_time": "2023-10-14T07:26:25.901Z"
   },
   {
    "duration": 589,
    "start_time": "2023-10-14T07:27:20.966Z"
   },
   {
    "duration": 16,
    "start_time": "2023-10-14T07:27:21.557Z"
   },
   {
    "duration": 113,
    "start_time": "2023-10-14T07:27:21.698Z"
   },
   {
    "duration": 11,
    "start_time": "2023-10-14T07:27:22.080Z"
   },
   {
    "duration": 9,
    "start_time": "2023-10-14T07:27:22.427Z"
   },
   {
    "duration": 8,
    "start_time": "2023-10-14T07:27:22.778Z"
   },
   {
    "duration": 7,
    "start_time": "2023-10-14T07:27:23.261Z"
   },
   {
    "duration": 182,
    "start_time": "2023-10-14T07:27:23.624Z"
   },
   {
    "duration": 9,
    "start_time": "2023-10-14T07:27:23.951Z"
   },
   {
    "duration": 8,
    "start_time": "2023-10-14T07:27:24.650Z"
   },
   {
    "duration": 16,
    "start_time": "2023-10-14T07:27:24.987Z"
   },
   {
    "duration": 3,
    "start_time": "2023-10-14T07:27:25.334Z"
   },
   {
    "duration": 396,
    "start_time": "2023-10-14T07:27:25.495Z"
   },
   {
    "duration": 7,
    "start_time": "2023-10-14T07:27:25.895Z"
   },
   {
    "duration": 11,
    "start_time": "2023-10-14T07:27:28.454Z"
   },
   {
    "duration": 4,
    "start_time": "2023-10-14T07:27:31.884Z"
   },
   {
    "duration": 10,
    "start_time": "2023-10-14T07:27:35.684Z"
   },
   {
    "duration": 25,
    "start_time": "2023-10-14T07:29:26.530Z"
   },
   {
    "duration": 6,
    "start_time": "2023-10-14T07:29:49.942Z"
   },
   {
    "duration": 521,
    "start_time": "2023-10-14T07:35:13.186Z"
   },
   {
    "duration": 67,
    "start_time": "2023-10-14T07:35:23.635Z"
   },
   {
    "duration": 159,
    "start_time": "2023-10-14T07:35:29.502Z"
   },
   {
    "duration": 204,
    "start_time": "2023-10-14T07:36:27.748Z"
   },
   {
    "duration": 284,
    "start_time": "2023-10-14T07:40:55.934Z"
   },
   {
    "duration": 188,
    "start_time": "2023-10-14T07:41:22.984Z"
   },
   {
    "duration": 143,
    "start_time": "2023-10-14T07:43:55.135Z"
   },
   {
    "duration": 182,
    "start_time": "2023-10-14T07:44:06.139Z"
   },
   {
    "duration": 11,
    "start_time": "2023-10-14T07:44:16.208Z"
   },
   {
    "duration": 9,
    "start_time": "2023-10-14T07:44:20.138Z"
   },
   {
    "duration": 136,
    "start_time": "2023-10-14T07:45:34.316Z"
   },
   {
    "duration": 176,
    "start_time": "2023-10-14T07:46:02.078Z"
   },
   {
    "duration": 149,
    "start_time": "2023-10-14T07:46:26.193Z"
   },
   {
    "duration": 11,
    "start_time": "2023-10-14T07:50:29.832Z"
   },
   {
    "duration": 168,
    "start_time": "2023-10-14T07:50:30.187Z"
   },
   {
    "duration": 183,
    "start_time": "2023-10-14T07:51:41.028Z"
   },
   {
    "duration": 185,
    "start_time": "2023-10-14T07:51:58.072Z"
   },
   {
    "duration": 299,
    "start_time": "2023-10-14T08:39:50.947Z"
   },
   {
    "duration": 199,
    "start_time": "2023-10-14T08:39:55.083Z"
   },
   {
    "duration": 202,
    "start_time": "2023-10-14T08:39:58.681Z"
   },
   {
    "duration": 541,
    "start_time": "2023-10-14T08:40:06.314Z"
   },
   {
    "duration": 16,
    "start_time": "2023-10-14T08:40:06.857Z"
   },
   {
    "duration": 87,
    "start_time": "2023-10-14T08:40:07.001Z"
   },
   {
    "duration": 12,
    "start_time": "2023-10-14T08:40:07.498Z"
   },
   {
    "duration": 9,
    "start_time": "2023-10-14T08:40:07.843Z"
   },
   {
    "duration": 8,
    "start_time": "2023-10-14T08:40:08.153Z"
   },
   {
    "duration": 5,
    "start_time": "2023-10-14T08:40:08.499Z"
   },
   {
    "duration": 182,
    "start_time": "2023-10-14T08:40:08.855Z"
   },
   {
    "duration": 9,
    "start_time": "2023-10-14T08:40:09.255Z"
   },
   {
    "duration": 7,
    "start_time": "2023-10-14T08:40:09.993Z"
   },
   {
    "duration": 16,
    "start_time": "2023-10-14T08:40:10.323Z"
   },
   {
    "duration": 3,
    "start_time": "2023-10-14T08:40:10.671Z"
   },
   {
    "duration": 384,
    "start_time": "2023-10-14T08:40:10.856Z"
   },
   {
    "duration": 5,
    "start_time": "2023-10-14T08:40:11.241Z"
   },
   {
    "duration": 14,
    "start_time": "2023-10-14T08:40:12.333Z"
   },
   {
    "duration": 392,
    "start_time": "2023-10-14T08:40:12.746Z"
   },
   {
    "duration": 207,
    "start_time": "2023-10-14T08:40:14.124Z"
   },
   {
    "duration": 255,
    "start_time": "2023-10-14T08:40:54.585Z"
   },
   {
    "duration": 483,
    "start_time": "2023-10-14T08:41:04.054Z"
   },
   {
    "duration": 14,
    "start_time": "2023-10-14T08:41:04.539Z"
   },
   {
    "duration": 81,
    "start_time": "2023-10-14T08:41:04.732Z"
   },
   {
    "duration": 10,
    "start_time": "2023-10-14T08:41:05.267Z"
   },
   {
    "duration": 16,
    "start_time": "2023-10-14T08:41:05.614Z"
   },
   {
    "duration": 8,
    "start_time": "2023-10-14T08:41:06.042Z"
   },
   {
    "duration": 6,
    "start_time": "2023-10-14T08:41:06.268Z"
   },
   {
    "duration": 183,
    "start_time": "2023-10-14T08:41:06.620Z"
   },
   {
    "duration": 10,
    "start_time": "2023-10-14T08:41:06.984Z"
   },
   {
    "duration": 7,
    "start_time": "2023-10-14T08:41:07.751Z"
   },
   {
    "duration": 18,
    "start_time": "2023-10-14T08:41:08.114Z"
   },
   {
    "duration": 3,
    "start_time": "2023-10-14T08:41:08.499Z"
   },
   {
    "duration": 373,
    "start_time": "2023-10-14T08:41:08.681Z"
   },
   {
    "duration": 5,
    "start_time": "2023-10-14T08:41:09.071Z"
   },
   {
    "duration": 16,
    "start_time": "2023-10-14T08:41:09.668Z"
   },
   {
    "duration": 414,
    "start_time": "2023-10-14T08:41:09.924Z"
   },
   {
    "duration": 206,
    "start_time": "2023-10-14T08:41:12.304Z"
   },
   {
    "duration": 5,
    "start_time": "2023-10-14T08:42:02.648Z"
   },
   {
    "duration": 15,
    "start_time": "2023-10-14T08:43:19.368Z"
   },
   {
    "duration": 14,
    "start_time": "2023-10-14T08:43:35.241Z"
   },
   {
    "duration": 17,
    "start_time": "2023-10-14T08:44:08.891Z"
   },
   {
    "duration": 692,
    "start_time": "2023-10-15T20:25:00.978Z"
   },
   {
    "duration": 15,
    "start_time": "2023-10-15T20:25:01.864Z"
   },
   {
    "duration": 86,
    "start_time": "2023-10-15T20:25:02.299Z"
   },
   {
    "duration": 10,
    "start_time": "2023-10-15T20:25:02.933Z"
   },
   {
    "duration": 8,
    "start_time": "2023-10-15T20:25:03.352Z"
   },
   {
    "duration": 7,
    "start_time": "2023-10-15T20:25:03.787Z"
   },
   {
    "duration": 5,
    "start_time": "2023-10-15T20:25:04.253Z"
   },
   {
    "duration": 166,
    "start_time": "2023-10-15T20:25:04.690Z"
   },
   {
    "duration": 9,
    "start_time": "2023-10-15T20:25:05.101Z"
   },
   {
    "duration": 7,
    "start_time": "2023-10-15T20:25:07.772Z"
   },
   {
    "duration": 14,
    "start_time": "2023-10-15T20:25:08.165Z"
   },
   {
    "duration": 4,
    "start_time": "2023-10-15T20:25:08.592Z"
   },
   {
    "duration": 351,
    "start_time": "2023-10-15T20:25:08.773Z"
   },
   {
    "duration": 5,
    "start_time": "2023-10-15T20:25:09.182Z"
   },
   {
    "duration": 13,
    "start_time": "2023-10-15T20:25:09.796Z"
   },
   {
    "duration": 542,
    "start_time": "2023-10-15T20:25:10.000Z"
   },
   {
    "duration": 244,
    "start_time": "2023-10-15T20:25:10.545Z"
   },
   {
    "duration": 21,
    "start_time": "2023-10-15T20:25:10.878Z"
   },
   {
    "duration": 152,
    "start_time": "2023-10-15T20:25:29.045Z"
   },
   {
    "duration": 7,
    "start_time": "2023-10-15T20:25:41.735Z"
   },
   {
    "duration": 166,
    "start_time": "2023-10-15T20:25:42.268Z"
   },
   {
    "duration": 183,
    "start_time": "2023-10-15T20:28:29.956Z"
   },
   {
    "duration": 11,
    "start_time": "2023-10-15T20:28:47.871Z"
   },
   {
    "duration": 259,
    "start_time": "2023-10-15T20:31:09.057Z"
   },
   {
    "duration": 184,
    "start_time": "2023-10-15T20:31:19.340Z"
   },
   {
    "duration": 11,
    "start_time": "2023-10-15T20:31:57.606Z"
   },
   {
    "duration": 12,
    "start_time": "2023-10-15T20:32:01.199Z"
   },
   {
    "duration": 521,
    "start_time": "2023-10-15T20:32:12.540Z"
   },
   {
    "duration": 14,
    "start_time": "2023-10-15T20:32:13.063Z"
   },
   {
    "duration": 81,
    "start_time": "2023-10-15T20:32:13.142Z"
   },
   {
    "duration": 9,
    "start_time": "2023-10-15T20:32:13.610Z"
   },
   {
    "duration": 8,
    "start_time": "2023-10-15T20:32:13.910Z"
   },
   {
    "duration": 8,
    "start_time": "2023-10-15T20:32:14.217Z"
   },
   {
    "duration": 6,
    "start_time": "2023-10-15T20:32:14.498Z"
   },
   {
    "duration": 174,
    "start_time": "2023-10-15T20:32:14.822Z"
   },
   {
    "duration": 10,
    "start_time": "2023-10-15T20:32:15.163Z"
   },
   {
    "duration": 7,
    "start_time": "2023-10-15T20:32:15.807Z"
   },
   {
    "duration": 17,
    "start_time": "2023-10-15T20:32:16.143Z"
   },
   {
    "duration": 3,
    "start_time": "2023-10-15T20:32:16.491Z"
   },
   {
    "duration": 356,
    "start_time": "2023-10-15T20:32:16.668Z"
   },
   {
    "duration": 6,
    "start_time": "2023-10-15T20:32:17.038Z"
   },
   {
    "duration": 14,
    "start_time": "2023-10-15T20:32:17.558Z"
   },
   {
    "duration": 399,
    "start_time": "2023-10-15T20:32:17.720Z"
   },
   {
    "duration": 73,
    "start_time": "2023-10-15T20:32:21.559Z"
   },
   {
    "duration": 186,
    "start_time": "2023-10-15T20:32:35.002Z"
   },
   {
    "duration": 72,
    "start_time": "2023-10-15T20:34:28.847Z"
   },
   {
    "duration": 233,
    "start_time": "2023-10-15T20:34:38.263Z"
   },
   {
    "duration": 230,
    "start_time": "2023-10-15T20:34:52.467Z"
   },
   {
    "duration": 203,
    "start_time": "2023-10-15T20:35:04.123Z"
   },
   {
    "duration": 181,
    "start_time": "2023-10-15T20:35:14.091Z"
   },
   {
    "duration": 198,
    "start_time": "2023-10-15T20:35:21.733Z"
   },
   {
    "duration": 195,
    "start_time": "2023-10-15T20:35:39.874Z"
   },
   {
    "duration": 4,
    "start_time": "2023-10-15T20:40:10.668Z"
   },
   {
    "duration": 82,
    "start_time": "2023-10-15T20:40:23.069Z"
   },
   {
    "duration": 106,
    "start_time": "2023-10-15T20:40:48.911Z"
   },
   {
    "duration": 5,
    "start_time": "2023-10-15T20:41:03.672Z"
   },
   {
    "duration": 3,
    "start_time": "2023-10-15T20:41:12.414Z"
   },
   {
    "duration": 5,
    "start_time": "2023-10-15T20:41:51.654Z"
   },
   {
    "duration": 25,
    "start_time": "2023-10-15T20:42:45.268Z"
   },
   {
    "duration": 12,
    "start_time": "2023-10-15T20:43:29.867Z"
   },
   {
    "duration": 199,
    "start_time": "2023-10-15T20:43:49.172Z"
   },
   {
    "duration": 212,
    "start_time": "2023-10-15T20:44:08.500Z"
   },
   {
    "duration": 174,
    "start_time": "2023-10-15T20:44:16.369Z"
   },
   {
    "duration": 556,
    "start_time": "2023-10-15T20:45:00.020Z"
   },
   {
    "duration": 79,
    "start_time": "2023-10-15T20:45:00.577Z"
   },
   {
    "duration": 107,
    "start_time": "2023-10-15T20:45:00.658Z"
   },
   {
    "duration": 9,
    "start_time": "2023-10-15T20:45:00.766Z"
   },
   {
    "duration": 29,
    "start_time": "2023-10-15T20:45:00.777Z"
   },
   {
    "duration": 29,
    "start_time": "2023-10-15T20:45:00.808Z"
   },
   {
    "duration": 84,
    "start_time": "2023-10-15T20:45:00.839Z"
   },
   {
    "duration": 222,
    "start_time": "2023-10-15T20:45:00.926Z"
   },
   {
    "duration": 11,
    "start_time": "2023-10-15T20:45:01.150Z"
   },
   {
    "duration": 44,
    "start_time": "2023-10-15T20:45:01.164Z"
   },
   {
    "duration": 50,
    "start_time": "2023-10-15T20:45:01.210Z"
   },
   {
    "duration": 33,
    "start_time": "2023-10-15T20:45:01.262Z"
   },
   {
    "duration": 399,
    "start_time": "2023-10-15T20:45:01.297Z"
   },
   {
    "duration": 5,
    "start_time": "2023-10-15T20:45:01.698Z"
   },
   {
    "duration": 13,
    "start_time": "2023-10-15T20:45:01.934Z"
   },
   {
    "duration": 500,
    "start_time": "2023-10-15T20:45:02.080Z"
   },
   {
    "duration": 207,
    "start_time": "2023-10-15T20:45:02.582Z"
   },
   {
    "duration": 263,
    "start_time": "2023-10-15T20:45:02.869Z"
   },
   {
    "duration": 207,
    "start_time": "2023-10-15T20:45:18.052Z"
   },
   {
    "duration": 20,
    "start_time": "2023-10-15T20:48:39.222Z"
   },
   {
    "duration": 12,
    "start_time": "2023-10-15T20:49:02.806Z"
   },
   {
    "duration": 12,
    "start_time": "2023-10-15T20:49:51.464Z"
   },
   {
    "duration": 1394,
    "start_time": "2023-10-15T20:50:19.960Z"
   },
   {
    "duration": 134,
    "start_time": "2023-10-15T20:51:04.284Z"
   },
   {
    "duration": 10,
    "start_time": "2023-10-15T20:51:29.106Z"
   },
   {
    "duration": 11,
    "start_time": "2023-10-15T20:51:34.075Z"
   },
   {
    "duration": 11,
    "start_time": "2023-10-15T20:52:55.534Z"
   },
   {
    "duration": 10,
    "start_time": "2023-10-15T20:53:03.180Z"
   },
   {
    "duration": 13,
    "start_time": "2023-10-15T20:53:13.924Z"
   },
   {
    "duration": 10,
    "start_time": "2023-10-15T20:54:41.132Z"
   },
   {
    "duration": 11,
    "start_time": "2023-10-15T20:54:47.098Z"
   },
   {
    "duration": 173,
    "start_time": "2023-10-15T21:07:27.978Z"
   },
   {
    "duration": 176,
    "start_time": "2023-10-15T21:07:54.054Z"
   },
   {
    "duration": 168,
    "start_time": "2023-10-15T21:12:14.373Z"
   },
   {
    "duration": 224,
    "start_time": "2023-10-15T21:14:10.215Z"
   },
   {
    "duration": 124,
    "start_time": "2023-10-15T21:14:41.895Z"
   },
   {
    "duration": 118,
    "start_time": "2023-10-15T21:14:45.590Z"
   },
   {
    "duration": 206,
    "start_time": "2023-10-15T21:14:50.922Z"
   },
   {
    "duration": 160,
    "start_time": "2023-10-15T21:14:58.200Z"
   },
   {
    "duration": 248,
    "start_time": "2023-10-15T21:15:04.538Z"
   },
   {
    "duration": 155,
    "start_time": "2023-10-15T21:17:13.910Z"
   },
   {
    "duration": 203,
    "start_time": "2023-10-15T21:17:24.850Z"
   },
   {
    "duration": 180,
    "start_time": "2023-10-15T21:17:29.519Z"
   },
   {
    "duration": 184,
    "start_time": "2023-10-15T21:17:38.327Z"
   },
   {
    "duration": 173,
    "start_time": "2023-10-15T21:17:43.546Z"
   },
   {
    "duration": 182,
    "start_time": "2023-10-15T21:17:47.155Z"
   },
   {
    "duration": 181,
    "start_time": "2023-10-15T21:17:51.546Z"
   },
   {
    "duration": 193,
    "start_time": "2023-10-15T21:18:03.480Z"
   },
   {
    "duration": 181,
    "start_time": "2023-10-15T21:18:17.584Z"
   },
   {
    "duration": 351,
    "start_time": "2023-10-15T21:19:09.931Z"
   },
   {
    "duration": 177,
    "start_time": "2023-10-15T21:21:14.619Z"
   },
   {
    "duration": 172,
    "start_time": "2023-10-15T21:22:22.651Z"
   },
   {
    "duration": 256,
    "start_time": "2023-10-15T21:22:41.916Z"
   },
   {
    "duration": 228,
    "start_time": "2023-10-15T21:22:55.731Z"
   },
   {
    "duration": 190,
    "start_time": "2023-10-15T21:23:26.036Z"
   },
   {
    "duration": 188,
    "start_time": "2023-10-15T21:23:39.783Z"
   },
   {
    "duration": 245,
    "start_time": "2023-10-15T21:23:55.747Z"
   },
   {
    "duration": 1570,
    "start_time": "2023-10-15T21:26:15.455Z"
   },
   {
    "duration": 189,
    "start_time": "2023-10-15T21:26:40.998Z"
   },
   {
    "duration": 198,
    "start_time": "2023-10-15T21:28:01.755Z"
   },
   {
    "duration": 192,
    "start_time": "2023-10-15T21:28:18.083Z"
   },
   {
    "duration": 187,
    "start_time": "2023-10-15T21:28:24.072Z"
   },
   {
    "duration": 5,
    "start_time": "2023-10-15T21:56:28.294Z"
   },
   {
    "duration": 11,
    "start_time": "2023-10-15T21:58:49.791Z"
   },
   {
    "duration": 9,
    "start_time": "2023-10-15T21:58:57.927Z"
   },
   {
    "duration": 11,
    "start_time": "2023-10-15T21:59:44.683Z"
   },
   {
    "duration": 9,
    "start_time": "2023-10-15T21:59:55.735Z"
   },
   {
    "duration": 9,
    "start_time": "2023-10-15T21:59:59.495Z"
   },
   {
    "duration": 5,
    "start_time": "2023-10-15T22:12:19.780Z"
   },
   {
    "duration": 20,
    "start_time": "2023-10-15T22:14:39.483Z"
   },
   {
    "duration": 8,
    "start_time": "2023-10-15T22:16:58.661Z"
   },
   {
    "duration": 79,
    "start_time": "2023-10-15T22:17:13.184Z"
   },
   {
    "duration": 79,
    "start_time": "2023-10-15T22:17:21.921Z"
   },
   {
    "duration": 21,
    "start_time": "2023-10-15T22:17:27.087Z"
   },
   {
    "duration": 33,
    "start_time": "2023-10-15T22:19:17.623Z"
   },
   {
    "duration": 37,
    "start_time": "2023-10-15T22:19:48.847Z"
   },
   {
    "duration": 8,
    "start_time": "2023-10-15T22:21:34.453Z"
   },
   {
    "duration": 17,
    "start_time": "2023-10-15T22:22:38.749Z"
   },
   {
    "duration": 8,
    "start_time": "2023-10-15T22:22:42.995Z"
   },
   {
    "duration": 8,
    "start_time": "2023-10-15T22:22:59.487Z"
   },
   {
    "duration": 9,
    "start_time": "2023-10-15T22:24:09.047Z"
   },
   {
    "duration": 12,
    "start_time": "2023-10-15T22:27:17.488Z"
   },
   {
    "duration": 8,
    "start_time": "2023-10-15T22:27:33.339Z"
   },
   {
    "duration": 8,
    "start_time": "2023-10-15T22:29:02.202Z"
   },
   {
    "duration": 8,
    "start_time": "2023-10-15T22:29:08.368Z"
   },
   {
    "duration": 10,
    "start_time": "2023-10-15T22:39:56.903Z"
   },
   {
    "duration": 32,
    "start_time": "2023-10-15T22:40:53.823Z"
   },
   {
    "duration": 22,
    "start_time": "2023-10-15T22:41:01.431Z"
   },
   {
    "duration": 15,
    "start_time": "2023-10-15T22:41:39.340Z"
   },
   {
    "duration": 9,
    "start_time": "2023-10-15T22:42:03.505Z"
   },
   {
    "duration": 13,
    "start_time": "2023-10-15T22:43:04.412Z"
   },
   {
    "duration": 14,
    "start_time": "2023-10-15T22:43:16.654Z"
   },
   {
    "duration": 10,
    "start_time": "2023-10-15T22:44:28.868Z"
   },
   {
    "duration": 32,
    "start_time": "2023-10-15T22:46:42.957Z"
   },
   {
    "duration": 42,
    "start_time": "2023-10-15T22:47:36.182Z"
   },
   {
    "duration": 25,
    "start_time": "2023-10-15T22:47:43.899Z"
   },
   {
    "duration": 29,
    "start_time": "2023-10-15T22:51:07.991Z"
   },
   {
    "duration": 28,
    "start_time": "2023-10-15T22:51:22.143Z"
   },
   {
    "duration": 29,
    "start_time": "2023-10-15T22:56:15.386Z"
   },
   {
    "duration": 27,
    "start_time": "2023-10-15T22:56:24.746Z"
   },
   {
    "duration": 27,
    "start_time": "2023-10-15T22:56:48.578Z"
   },
   {
    "duration": 27,
    "start_time": "2023-10-15T22:56:56.701Z"
   },
   {
    "duration": 734,
    "start_time": "2023-10-16T04:51:20.720Z"
   },
   {
    "duration": 16,
    "start_time": "2023-10-16T04:51:21.456Z"
   },
   {
    "duration": 82,
    "start_time": "2023-10-16T04:51:21.516Z"
   },
   {
    "duration": 9,
    "start_time": "2023-10-16T04:51:22.112Z"
   },
   {
    "duration": 8,
    "start_time": "2023-10-16T04:51:23.082Z"
   },
   {
    "duration": 8,
    "start_time": "2023-10-16T04:51:23.474Z"
   },
   {
    "duration": 6,
    "start_time": "2023-10-16T04:51:23.832Z"
   },
   {
    "duration": 205,
    "start_time": "2023-10-16T04:51:24.202Z"
   },
   {
    "duration": 10,
    "start_time": "2023-10-16T04:51:24.558Z"
   },
   {
    "duration": 7,
    "start_time": "2023-10-16T04:51:25.307Z"
   },
   {
    "duration": 15,
    "start_time": "2023-10-16T04:51:25.661Z"
   },
   {
    "duration": 3,
    "start_time": "2023-10-16T04:51:26.044Z"
   },
   {
    "duration": 363,
    "start_time": "2023-10-16T04:51:26.221Z"
   },
   {
    "duration": 5,
    "start_time": "2023-10-16T04:51:26.594Z"
   },
   {
    "duration": 13,
    "start_time": "2023-10-16T04:51:27.128Z"
   },
   {
    "duration": 563,
    "start_time": "2023-10-16T04:51:27.305Z"
   },
   {
    "duration": 252,
    "start_time": "2023-10-16T04:51:27.870Z"
   },
   {
    "duration": 212,
    "start_time": "2023-10-16T04:51:28.124Z"
   },
   {
    "duration": 12,
    "start_time": "2023-10-16T04:51:28.409Z"
   },
   {
    "duration": 385,
    "start_time": "2023-10-16T04:51:28.807Z"
   },
   {
    "duration": 210,
    "start_time": "2023-10-16T04:51:29.201Z"
   },
   {
    "duration": 211,
    "start_time": "2023-10-16T04:51:29.533Z"
   },
   {
    "duration": 10,
    "start_time": "2023-10-16T04:51:29.908Z"
   },
   {
    "duration": 74,
    "start_time": "2023-10-16T04:51:30.366Z"
   },
   {
    "duration": 30,
    "start_time": "2023-10-16T04:51:34.495Z"
   },
   {
    "duration": 4,
    "start_time": "2023-10-16T04:52:05.042Z"
   },
   {
    "duration": 147,
    "start_time": "2023-10-16T04:52:11.074Z"
   },
   {
    "duration": 147,
    "start_time": "2023-10-16T04:54:48.713Z"
   },
   {
    "duration": 160,
    "start_time": "2023-10-16T04:55:01.744Z"
   },
   {
    "duration": 98,
    "start_time": "2023-10-16T04:55:30.821Z"
   },
   {
    "duration": 163,
    "start_time": "2023-10-16T04:55:39.528Z"
   },
   {
    "duration": 151,
    "start_time": "2023-10-16T04:56:06.151Z"
   },
   {
    "duration": 1894,
    "start_time": "2023-10-16T05:00:37.979Z"
   },
   {
    "duration": 137,
    "start_time": "2023-10-16T05:01:01.274Z"
   },
   {
    "duration": 143,
    "start_time": "2023-10-16T05:02:20.560Z"
   },
   {
    "duration": 135,
    "start_time": "2023-10-16T05:06:02.812Z"
   },
   {
    "duration": 223,
    "start_time": "2023-10-16T05:06:35.902Z"
   },
   {
    "duration": 135,
    "start_time": "2023-10-16T05:07:36.411Z"
   },
   {
    "duration": 136,
    "start_time": "2023-10-16T05:08:49.503Z"
   },
   {
    "duration": 132,
    "start_time": "2023-10-16T05:09:29.107Z"
   },
   {
    "duration": 32,
    "start_time": "2023-10-16T05:12:46.577Z"
   },
   {
    "duration": 4,
    "start_time": "2023-10-16T05:24:18.415Z"
   },
   {
    "duration": 8,
    "start_time": "2023-10-16T05:26:16.552Z"
   },
   {
    "duration": 126,
    "start_time": "2023-10-16T05:31:16.886Z"
   },
   {
    "duration": 99,
    "start_time": "2023-10-16T05:31:56.408Z"
   },
   {
    "duration": 164,
    "start_time": "2023-10-16T05:33:55.741Z"
   },
   {
    "duration": 501,
    "start_time": "2023-10-16T05:34:08.014Z"
   },
   {
    "duration": 16,
    "start_time": "2023-10-16T05:34:08.517Z"
   },
   {
    "duration": 90,
    "start_time": "2023-10-16T05:34:08.623Z"
   },
   {
    "duration": 11,
    "start_time": "2023-10-16T05:34:09.061Z"
   },
   {
    "duration": 8,
    "start_time": "2023-10-16T05:34:09.385Z"
   },
   {
    "duration": 7,
    "start_time": "2023-10-16T05:34:09.677Z"
   },
   {
    "duration": 5,
    "start_time": "2023-10-16T05:34:10.017Z"
   },
   {
    "duration": 169,
    "start_time": "2023-10-16T05:34:10.324Z"
   },
   {
    "duration": 9,
    "start_time": "2023-10-16T05:34:10.687Z"
   },
   {
    "duration": 8,
    "start_time": "2023-10-16T05:34:11.334Z"
   },
   {
    "duration": 16,
    "start_time": "2023-10-16T05:34:11.662Z"
   },
   {
    "duration": 3,
    "start_time": "2023-10-16T05:34:11.981Z"
   },
   {
    "duration": 361,
    "start_time": "2023-10-16T05:34:12.148Z"
   },
   {
    "duration": 6,
    "start_time": "2023-10-16T05:34:12.511Z"
   },
   {
    "duration": 14,
    "start_time": "2023-10-16T05:34:12.922Z"
   },
   {
    "duration": 390,
    "start_time": "2023-10-16T05:34:13.411Z"
   },
   {
    "duration": 211,
    "start_time": "2023-10-16T05:34:13.803Z"
   },
   {
    "duration": 277,
    "start_time": "2023-10-16T05:34:14.067Z"
   },
   {
    "duration": 12,
    "start_time": "2023-10-16T05:34:14.385Z"
   },
   {
    "duration": 390,
    "start_time": "2023-10-16T05:34:14.711Z"
   },
   {
    "duration": 216,
    "start_time": "2023-10-16T05:34:15.103Z"
   },
   {
    "duration": 202,
    "start_time": "2023-10-16T05:34:15.365Z"
   },
   {
    "duration": 13,
    "start_time": "2023-10-16T05:34:15.675Z"
   },
   {
    "duration": 172,
    "start_time": "2023-10-16T05:34:15.992Z"
   },
   {
    "duration": 138,
    "start_time": "2023-10-16T05:34:16.314Z"
   },
   {
    "duration": 84,
    "start_time": "2023-10-16T05:34:16.670Z"
   },
   {
    "duration": 29,
    "start_time": "2023-10-16T05:34:16.824Z"
   },
   {
    "duration": 103,
    "start_time": "2023-10-16T05:34:54.032Z"
   },
   {
    "duration": 20,
    "start_time": "2023-10-16T05:35:11.814Z"
   },
   {
    "duration": 249,
    "start_time": "2023-10-16T05:36:09.567Z"
   },
   {
    "duration": 1795,
    "start_time": "2023-10-16T05:37:21.222Z"
   },
   {
    "duration": 25,
    "start_time": "2023-10-16T05:37:41.172Z"
   },
   {
    "duration": 23,
    "start_time": "2023-10-16T05:37:49.235Z"
   },
   {
    "duration": 1920,
    "start_time": "2023-10-16T05:43:14.360Z"
   },
   {
    "duration": 2096,
    "start_time": "2023-10-16T05:43:37.036Z"
   },
   {
    "duration": 204,
    "start_time": "2023-10-16T05:47:26.251Z"
   },
   {
    "duration": 685,
    "start_time": "2023-10-16T10:30:11.571Z"
   },
   {
    "duration": 14,
    "start_time": "2023-10-16T10:30:14.054Z"
   },
   {
    "duration": 77,
    "start_time": "2023-10-16T10:30:14.841Z"
   },
   {
    "duration": 8,
    "start_time": "2023-10-16T10:30:15.816Z"
   },
   {
    "duration": 9,
    "start_time": "2023-10-16T10:30:16.189Z"
   },
   {
    "duration": 8,
    "start_time": "2023-10-16T10:30:16.872Z"
   },
   {
    "duration": 6,
    "start_time": "2023-10-16T10:30:17.897Z"
   },
   {
    "duration": 205,
    "start_time": "2023-10-16T10:30:18.546Z"
   },
   {
    "duration": 9,
    "start_time": "2023-10-16T10:30:19.175Z"
   },
   {
    "duration": 7,
    "start_time": "2023-10-16T10:30:19.926Z"
   },
   {
    "duration": 13,
    "start_time": "2023-10-16T10:30:20.566Z"
   },
   {
    "duration": 4,
    "start_time": "2023-10-16T10:30:21.219Z"
   },
   {
    "duration": 354,
    "start_time": "2023-10-16T10:30:21.622Z"
   },
   {
    "duration": 6,
    "start_time": "2023-10-16T10:30:22.236Z"
   },
   {
    "duration": 12,
    "start_time": "2023-10-16T10:30:22.985Z"
   },
   {
    "duration": 717,
    "start_time": "2023-10-16T10:30:23.147Z"
   },
   {
    "duration": 321,
    "start_time": "2023-10-16T10:30:23.867Z"
   },
   {
    "duration": 204,
    "start_time": "2023-10-16T10:30:24.190Z"
   },
   {
    "duration": 12,
    "start_time": "2023-10-16T10:30:24.920Z"
   },
   {
    "duration": 359,
    "start_time": "2023-10-16T10:30:25.440Z"
   },
   {
    "duration": 193,
    "start_time": "2023-10-16T10:30:25.801Z"
   },
   {
    "duration": 266,
    "start_time": "2023-10-16T10:30:26.338Z"
   },
   {
    "duration": 12,
    "start_time": "2023-10-16T10:30:26.706Z"
   },
   {
    "duration": 163,
    "start_time": "2023-10-16T10:30:27.386Z"
   },
   {
    "duration": 123,
    "start_time": "2023-10-16T10:30:28.056Z"
   },
   {
    "duration": 133,
    "start_time": "2023-10-16T10:30:28.620Z"
   },
   {
    "duration": 28,
    "start_time": "2023-10-16T10:30:28.810Z"
   },
   {
    "duration": 6,
    "start_time": "2023-10-16T10:30:52.462Z"
   },
   {
    "duration": 5,
    "start_time": "2023-10-16T10:31:03.838Z"
   },
   {
    "duration": 6,
    "start_time": "2023-10-16T10:32:27.790Z"
   },
   {
    "duration": 7,
    "start_time": "2023-10-16T10:32:44.487Z"
   },
   {
    "duration": 5,
    "start_time": "2023-10-16T10:33:02.541Z"
   },
   {
    "duration": 5,
    "start_time": "2023-10-16T10:33:05.728Z"
   },
   {
    "duration": 5,
    "start_time": "2023-10-16T10:33:05.983Z"
   },
   {
    "duration": 602,
    "start_time": "2023-10-16T10:33:14.386Z"
   },
   {
    "duration": 15,
    "start_time": "2023-10-16T10:33:16.375Z"
   },
   {
    "duration": 71,
    "start_time": "2023-10-16T10:33:16.881Z"
   },
   {
    "duration": 11,
    "start_time": "2023-10-16T10:33:17.497Z"
   },
   {
    "duration": 9,
    "start_time": "2023-10-16T10:33:18.143Z"
   },
   {
    "duration": 8,
    "start_time": "2023-10-16T10:33:18.271Z"
   },
   {
    "duration": 6,
    "start_time": "2023-10-16T10:33:18.589Z"
   },
   {
    "duration": 185,
    "start_time": "2023-10-16T10:33:19.368Z"
   },
   {
    "duration": 9,
    "start_time": "2023-10-16T10:33:19.755Z"
   },
   {
    "duration": 7,
    "start_time": "2023-10-16T10:33:20.472Z"
   },
   {
    "duration": 12,
    "start_time": "2023-10-16T10:33:21.149Z"
   },
   {
    "duration": 4,
    "start_time": "2023-10-16T10:33:21.573Z"
   },
   {
    "duration": 438,
    "start_time": "2023-10-16T10:33:22.214Z"
   },
   {
    "duration": 3,
    "start_time": "2023-10-16T10:33:23.782Z"
   },
   {
    "duration": 4,
    "start_time": "2023-10-16T10:33:24.621Z"
   },
   {
    "duration": 17,
    "start_time": "2023-10-16T10:33:31.162Z"
   },
   {
    "duration": 382,
    "start_time": "2023-10-16T10:33:31.345Z"
   },
   {
    "duration": 183,
    "start_time": "2023-10-16T10:33:31.739Z"
   },
   {
    "duration": 233,
    "start_time": "2023-10-16T10:33:32.130Z"
   },
   {
    "duration": 12,
    "start_time": "2023-10-16T10:33:32.427Z"
   },
   {
    "duration": 365,
    "start_time": "2023-10-16T10:33:33.150Z"
   },
   {
    "duration": 196,
    "start_time": "2023-10-16T10:33:33.576Z"
   },
   {
    "duration": 182,
    "start_time": "2023-10-16T10:33:34.027Z"
   },
   {
    "duration": 10,
    "start_time": "2023-10-16T10:33:38.594Z"
   },
   {
    "duration": 141,
    "start_time": "2023-10-16T10:33:40.359Z"
   },
   {
    "duration": 133,
    "start_time": "2023-10-16T10:33:43.867Z"
   },
   {
    "duration": 126,
    "start_time": "2023-10-16T10:33:48.504Z"
   },
   {
    "duration": 28,
    "start_time": "2023-10-16T10:33:50.303Z"
   },
   {
    "duration": 5,
    "start_time": "2023-10-16T10:33:52.601Z"
   },
   {
    "duration": 9,
    "start_time": "2023-10-16T10:34:39.634Z"
   },
   {
    "duration": 5,
    "start_time": "2023-10-16T10:34:40.430Z"
   },
   {
    "duration": 533,
    "start_time": "2023-10-16T10:34:55.442Z"
   },
   {
    "duration": 15,
    "start_time": "2023-10-16T10:34:56.052Z"
   },
   {
    "duration": 68,
    "start_time": "2023-10-16T10:34:57.016Z"
   },
   {
    "duration": 13,
    "start_time": "2023-10-16T10:34:57.086Z"
   },
   {
    "duration": 10,
    "start_time": "2023-10-16T10:34:57.361Z"
   },
   {
    "duration": 8,
    "start_time": "2023-10-16T10:34:57.703Z"
   },
   {
    "duration": 6,
    "start_time": "2023-10-16T10:34:58.054Z"
   },
   {
    "duration": 184,
    "start_time": "2023-10-16T10:34:58.447Z"
   },
   {
    "duration": 10,
    "start_time": "2023-10-16T10:34:58.875Z"
   },
   {
    "duration": 8,
    "start_time": "2023-10-16T10:35:00.779Z"
   },
   {
    "duration": 15,
    "start_time": "2023-10-16T10:35:02.520Z"
   },
   {
    "duration": 4,
    "start_time": "2023-10-16T10:35:04.134Z"
   },
   {
    "duration": 382,
    "start_time": "2023-10-16T10:35:05.101Z"
   },
   {
    "duration": 7,
    "start_time": "2023-10-16T10:35:06.398Z"
   },
   {
    "duration": 4,
    "start_time": "2023-10-16T10:35:09.587Z"
   },
   {
    "duration": 16,
    "start_time": "2023-10-16T10:35:12.453Z"
   },
   {
    "duration": 356,
    "start_time": "2023-10-16T10:35:12.586Z"
   },
   {
    "duration": 197,
    "start_time": "2023-10-16T10:35:12.944Z"
   },
   {
    "duration": 236,
    "start_time": "2023-10-16T10:35:13.303Z"
   },
   {
    "duration": 14,
    "start_time": "2023-10-16T10:35:13.595Z"
   },
   {
    "duration": 339,
    "start_time": "2023-10-16T10:35:13.998Z"
   },
   {
    "duration": 183,
    "start_time": "2023-10-16T10:35:14.684Z"
   },
   {
    "duration": 219,
    "start_time": "2023-10-16T10:35:14.869Z"
   },
   {
    "duration": 11,
    "start_time": "2023-10-16T10:35:15.667Z"
   },
   {
    "duration": 145,
    "start_time": "2023-10-16T10:35:15.680Z"
   },
   {
    "duration": 120,
    "start_time": "2023-10-16T10:35:15.962Z"
   },
   {
    "duration": 141,
    "start_time": "2023-10-16T10:35:16.220Z"
   },
   {
    "duration": 33,
    "start_time": "2023-10-16T10:35:16.363Z"
   },
   {
    "duration": 5,
    "start_time": "2023-10-16T10:35:16.599Z"
   },
   {
    "duration": 26,
    "start_time": "2023-10-16T10:37:29.705Z"
   },
   {
    "duration": 14,
    "start_time": "2023-10-16T10:37:52.655Z"
   },
   {
    "duration": 34,
    "start_time": "2023-10-16T10:40:06.585Z"
   },
   {
    "duration": 97,
    "start_time": "2023-10-16T10:41:06.181Z"
   },
   {
    "duration": 138,
    "start_time": "2023-10-16T10:41:20.686Z"
   },
   {
    "duration": 207,
    "start_time": "2023-10-16T10:42:34.710Z"
   },
   {
    "duration": 165,
    "start_time": "2023-10-16T10:42:53.667Z"
   },
   {
    "duration": 169,
    "start_time": "2023-10-16T10:44:18.546Z"
   },
   {
    "duration": 5,
    "start_time": "2023-10-16T10:44:50.559Z"
   },
   {
    "duration": 17,
    "start_time": "2023-10-16T10:45:00.237Z"
   },
   {
    "duration": 245,
    "start_time": "2023-10-16T10:47:33.537Z"
   },
   {
    "duration": 202,
    "start_time": "2023-10-16T10:47:56.579Z"
   },
   {
    "duration": 197,
    "start_time": "2023-10-16T10:48:02.678Z"
   },
   {
    "duration": 157,
    "start_time": "2023-10-16T10:48:07.155Z"
   },
   {
    "duration": 157,
    "start_time": "2023-10-16T10:48:11.370Z"
   },
   {
    "duration": 158,
    "start_time": "2023-10-16T10:48:21.845Z"
   },
   {
    "duration": 168,
    "start_time": "2023-10-16T10:48:36.942Z"
   },
   {
    "duration": 447,
    "start_time": "2023-10-16T10:48:48.586Z"
   },
   {
    "duration": 24,
    "start_time": "2023-10-16T10:48:49.034Z"
   },
   {
    "duration": 80,
    "start_time": "2023-10-16T10:48:49.436Z"
   },
   {
    "duration": 8,
    "start_time": "2023-10-16T10:48:49.974Z"
   },
   {
    "duration": 10,
    "start_time": "2023-10-16T10:48:50.290Z"
   },
   {
    "duration": 8,
    "start_time": "2023-10-16T10:48:50.611Z"
   },
   {
    "duration": 5,
    "start_time": "2023-10-16T10:48:50.948Z"
   },
   {
    "duration": 181,
    "start_time": "2023-10-16T10:48:51.454Z"
   },
   {
    "duration": 8,
    "start_time": "2023-10-16T10:48:52.219Z"
   },
   {
    "duration": 8,
    "start_time": "2023-10-16T10:48:52.898Z"
   },
   {
    "duration": 12,
    "start_time": "2023-10-16T10:48:53.273Z"
   },
   {
    "duration": 3,
    "start_time": "2023-10-16T10:48:53.618Z"
   },
   {
    "duration": 365,
    "start_time": "2023-10-16T10:48:53.794Z"
   },
   {
    "duration": 7,
    "start_time": "2023-10-16T10:48:54.161Z"
   },
   {
    "duration": 4,
    "start_time": "2023-10-16T10:48:54.310Z"
   },
   {
    "duration": 12,
    "start_time": "2023-10-16T10:48:54.775Z"
   },
   {
    "duration": 372,
    "start_time": "2023-10-16T10:48:54.923Z"
   },
   {
    "duration": 187,
    "start_time": "2023-10-16T10:48:55.296Z"
   },
   {
    "duration": 238,
    "start_time": "2023-10-16T10:48:55.514Z"
   },
   {
    "duration": 9,
    "start_time": "2023-10-16T10:48:55.921Z"
   },
   {
    "duration": 387,
    "start_time": "2023-10-16T10:48:56.323Z"
   },
   {
    "duration": 198,
    "start_time": "2023-10-16T10:48:56.712Z"
   },
   {
    "duration": 182,
    "start_time": "2023-10-16T10:48:57.053Z"
   },
   {
    "duration": 16,
    "start_time": "2023-10-16T10:48:57.446Z"
   },
   {
    "duration": 163,
    "start_time": "2023-10-16T10:48:57.870Z"
   },
   {
    "duration": 135,
    "start_time": "2023-10-16T10:48:58.157Z"
   },
   {
    "duration": 129,
    "start_time": "2023-10-16T10:48:58.546Z"
   },
   {
    "duration": 44,
    "start_time": "2023-10-16T10:48:58.740Z"
   },
   {
    "duration": 174,
    "start_time": "2023-10-16T10:48:59.354Z"
   },
   {
    "duration": 736,
    "start_time": "2023-10-16T11:32:03.625Z"
   },
   {
    "duration": 17,
    "start_time": "2023-10-16T11:32:04.363Z"
   },
   {
    "duration": 85,
    "start_time": "2023-10-16T11:32:04.382Z"
   },
   {
    "duration": 11,
    "start_time": "2023-10-16T11:32:04.468Z"
   },
   {
    "duration": 90,
    "start_time": "2023-10-16T11:32:04.481Z"
   },
   {
    "duration": 25,
    "start_time": "2023-10-16T11:32:04.573Z"
   },
   {
    "duration": 25,
    "start_time": "2023-10-16T11:32:04.599Z"
   },
   {
    "duration": 244,
    "start_time": "2023-10-16T11:32:04.626Z"
   },
   {
    "duration": 11,
    "start_time": "2023-10-16T11:32:04.871Z"
   },
   {
    "duration": 40,
    "start_time": "2023-10-16T11:32:04.883Z"
   },
   {
    "duration": 26,
    "start_time": "2023-10-16T11:32:04.925Z"
   },
   {
    "duration": 25,
    "start_time": "2023-10-16T11:32:04.952Z"
   },
   {
    "duration": 377,
    "start_time": "2023-10-16T11:32:04.979Z"
   },
   {
    "duration": 8,
    "start_time": "2023-10-16T11:32:05.359Z"
   },
   {
    "duration": 68,
    "start_time": "2023-10-16T11:32:05.369Z"
   },
   {
    "duration": 108,
    "start_time": "2023-10-16T11:32:05.440Z"
   },
   {
    "duration": 636,
    "start_time": "2023-10-16T11:32:05.549Z"
   },
   {
    "duration": 269,
    "start_time": "2023-10-16T11:32:06.187Z"
   },
   {
    "duration": 259,
    "start_time": "2023-10-16T11:32:06.458Z"
   },
   {
    "duration": 12,
    "start_time": "2023-10-16T11:32:06.719Z"
   },
   {
    "duration": 428,
    "start_time": "2023-10-16T11:32:06.733Z"
   },
   {
    "duration": 240,
    "start_time": "2023-10-16T11:32:07.163Z"
   },
   {
    "duration": 245,
    "start_time": "2023-10-16T11:32:07.405Z"
   },
   {
    "duration": 13,
    "start_time": "2023-10-16T11:32:07.652Z"
   },
   {
    "duration": 448,
    "start_time": "2023-10-16T11:32:07.666Z"
   },
   {
    "duration": 164,
    "start_time": "2023-10-16T11:32:08.116Z"
   },
   {
    "duration": 304,
    "start_time": "2023-10-16T11:32:08.282Z"
   },
   {
    "duration": 40,
    "start_time": "2023-10-16T11:32:08.588Z"
   },
   {
    "duration": 265,
    "start_time": "2023-10-16T11:32:08.630Z"
   },
   {
    "duration": 12,
    "start_time": "2023-10-16T13:49:38.789Z"
   },
   {
    "duration": 90,
    "start_time": "2023-10-16T13:50:41.709Z"
   },
   {
    "duration": 259,
    "start_time": "2023-10-16T13:51:12.818Z"
   },
   {
    "duration": 405,
    "start_time": "2023-10-17T06:07:55.972Z"
   },
   {
    "duration": 316,
    "start_time": "2023-10-17T06:07:56.922Z"
   },
   {
    "duration": 72,
    "start_time": "2023-10-17T06:08:11.033Z"
   },
   {
    "duration": 55,
    "start_time": "2023-10-17T06:08:24.781Z"
   },
   {
    "duration": 15,
    "start_time": "2023-10-17T06:08:37.676Z"
   },
   {
    "duration": 89,
    "start_time": "2023-10-17T06:08:58.506Z"
   },
   {
    "duration": 415,
    "start_time": "2023-10-17T06:10:22.598Z"
   },
   {
    "duration": 114,
    "start_time": "2023-10-17T06:10:23.015Z"
   },
   {
    "duration": 59,
    "start_time": "2023-10-17T06:10:23.131Z"
   },
   {
    "duration": 17,
    "start_time": "2023-10-17T06:10:23.192Z"
   },
   {
    "duration": 108,
    "start_time": "2023-10-17T06:10:23.212Z"
   },
   {
    "duration": 2428,
    "start_time": "2023-10-17T06:10:23.322Z"
   },
   {
    "duration": 20,
    "start_time": "2023-10-17T06:10:25.752Z"
   },
   {
    "duration": 18,
    "start_time": "2023-10-17T06:10:25.773Z"
   },
   {
    "duration": 9,
    "start_time": "2023-10-17T06:10:25.793Z"
   },
   {
    "duration": 7,
    "start_time": "2023-10-17T06:10:25.804Z"
   },
   {
    "duration": 206,
    "start_time": "2023-10-17T06:10:25.813Z"
   },
   {
    "duration": 12,
    "start_time": "2023-10-17T06:10:26.021Z"
   },
   {
    "duration": 8,
    "start_time": "2023-10-17T06:10:26.047Z"
   },
   {
    "duration": 32,
    "start_time": "2023-10-17T06:10:26.059Z"
   },
   {
    "duration": 8,
    "start_time": "2023-10-17T06:10:26.093Z"
   },
   {
    "duration": 366,
    "start_time": "2023-10-17T06:10:26.103Z"
   },
   {
    "duration": 7,
    "start_time": "2023-10-17T06:10:26.470Z"
   },
   {
    "duration": 20,
    "start_time": "2023-10-17T06:10:26.479Z"
   },
   {
    "duration": 29,
    "start_time": "2023-10-17T06:10:26.501Z"
   },
   {
    "duration": 174,
    "start_time": "2023-10-17T06:10:26.533Z"
   },
   {
    "duration": 212,
    "start_time": "2023-10-17T06:10:26.710Z"
   },
   {
    "duration": 228,
    "start_time": "2023-10-17T06:10:26.923Z"
   },
   {
    "duration": 12,
    "start_time": "2023-10-17T06:10:27.153Z"
   },
   {
    "duration": 480,
    "start_time": "2023-10-17T06:10:27.166Z"
   },
   {
    "duration": 226,
    "start_time": "2023-10-17T06:10:27.648Z"
   },
   {
    "duration": 229,
    "start_time": "2023-10-17T06:10:27.876Z"
   },
   {
    "duration": 13,
    "start_time": "2023-10-17T06:10:28.106Z"
   },
   {
    "duration": 186,
    "start_time": "2023-10-17T06:10:28.120Z"
   },
   {
    "duration": 161,
    "start_time": "2023-10-17T06:10:28.308Z"
   },
   {
    "duration": 159,
    "start_time": "2023-10-17T06:10:28.471Z"
   },
   {
    "duration": 43,
    "start_time": "2023-10-17T06:10:28.632Z"
   },
   {
    "duration": 224,
    "start_time": "2023-10-17T06:10:28.676Z"
   },
   {
    "duration": 7,
    "start_time": "2023-10-17T06:14:49.351Z"
   },
   {
    "duration": 5,
    "start_time": "2023-10-17T06:15:31.657Z"
   },
   {
    "duration": 2,
    "start_time": "2023-10-17T06:16:05.028Z"
   },
   {
    "duration": 7,
    "start_time": "2023-10-17T06:17:05.860Z"
   },
   {
    "duration": 461,
    "start_time": "2023-10-17T06:17:20.664Z"
   },
   {
    "duration": 117,
    "start_time": "2023-10-17T06:17:21.127Z"
   },
   {
    "duration": 55,
    "start_time": "2023-10-17T06:17:21.246Z"
   },
   {
    "duration": 18,
    "start_time": "2023-10-17T06:17:21.302Z"
   },
   {
    "duration": 137,
    "start_time": "2023-10-17T06:17:21.323Z"
   },
   {
    "duration": 2363,
    "start_time": "2023-10-17T06:17:21.463Z"
   },
   {
    "duration": 10,
    "start_time": "2023-10-17T06:17:23.828Z"
   },
   {
    "duration": 52,
    "start_time": "2023-10-17T06:17:23.840Z"
   },
   {
    "duration": 114,
    "start_time": "2023-10-17T06:17:23.894Z"
   },
   {
    "duration": 0,
    "start_time": "2023-10-17T06:17:24.011Z"
   },
   {
    "duration": 0,
    "start_time": "2023-10-17T06:17:24.012Z"
   },
   {
    "duration": 0,
    "start_time": "2023-10-17T06:17:24.013Z"
   },
   {
    "duration": 0,
    "start_time": "2023-10-17T06:17:24.015Z"
   },
   {
    "duration": 0,
    "start_time": "2023-10-17T06:17:24.017Z"
   },
   {
    "duration": 0,
    "start_time": "2023-10-17T06:17:24.019Z"
   },
   {
    "duration": 0,
    "start_time": "2023-10-17T06:17:24.020Z"
   },
   {
    "duration": 0,
    "start_time": "2023-10-17T06:17:24.022Z"
   },
   {
    "duration": 0,
    "start_time": "2023-10-17T06:17:24.023Z"
   },
   {
    "duration": 0,
    "start_time": "2023-10-17T06:17:24.024Z"
   },
   {
    "duration": 0,
    "start_time": "2023-10-17T06:17:24.025Z"
   },
   {
    "duration": 0,
    "start_time": "2023-10-17T06:17:24.026Z"
   },
   {
    "duration": 0,
    "start_time": "2023-10-17T06:17:24.047Z"
   },
   {
    "duration": 0,
    "start_time": "2023-10-17T06:17:24.048Z"
   },
   {
    "duration": 0,
    "start_time": "2023-10-17T06:17:24.049Z"
   },
   {
    "duration": 0,
    "start_time": "2023-10-17T06:17:24.050Z"
   },
   {
    "duration": 0,
    "start_time": "2023-10-17T06:17:24.052Z"
   },
   {
    "duration": 0,
    "start_time": "2023-10-17T06:17:24.053Z"
   },
   {
    "duration": 0,
    "start_time": "2023-10-17T06:17:24.054Z"
   },
   {
    "duration": 0,
    "start_time": "2023-10-17T06:17:24.055Z"
   },
   {
    "duration": 0,
    "start_time": "2023-10-17T06:17:24.057Z"
   },
   {
    "duration": 0,
    "start_time": "2023-10-17T06:17:24.058Z"
   },
   {
    "duration": 0,
    "start_time": "2023-10-17T06:17:24.059Z"
   },
   {
    "duration": 15,
    "start_time": "2023-10-17T06:20:34.345Z"
   },
   {
    "duration": 8,
    "start_time": "2023-10-17T06:22:42.722Z"
   },
   {
    "duration": 29,
    "start_time": "2023-10-17T06:23:13.941Z"
   },
   {
    "duration": 28,
    "start_time": "2023-10-17T06:26:53.209Z"
   },
   {
    "duration": 33,
    "start_time": "2023-10-17T06:31:37.690Z"
   },
   {
    "duration": 439,
    "start_time": "2023-10-17T06:31:56.982Z"
   },
   {
    "duration": 116,
    "start_time": "2023-10-17T06:31:57.423Z"
   },
   {
    "duration": 55,
    "start_time": "2023-10-17T06:31:57.540Z"
   },
   {
    "duration": 87,
    "start_time": "2023-10-17T06:31:57.597Z"
   },
   {
    "duration": 2348,
    "start_time": "2023-10-17T06:31:57.686Z"
   },
   {
    "duration": 10,
    "start_time": "2023-10-17T06:32:00.036Z"
   },
   {
    "duration": 79,
    "start_time": "2023-10-17T06:32:00.048Z"
   },
   {
    "duration": 40,
    "start_time": "2023-10-17T06:32:00.129Z"
   },
   {
    "duration": 123,
    "start_time": "2023-10-17T06:32:00.171Z"
   },
   {
    "duration": 0,
    "start_time": "2023-10-17T06:32:00.298Z"
   },
   {
    "duration": 0,
    "start_time": "2023-10-17T06:32:00.298Z"
   },
   {
    "duration": 0,
    "start_time": "2023-10-17T06:32:00.300Z"
   },
   {
    "duration": 0,
    "start_time": "2023-10-17T06:32:00.302Z"
   },
   {
    "duration": 0,
    "start_time": "2023-10-17T06:32:00.304Z"
   },
   {
    "duration": 0,
    "start_time": "2023-10-17T06:32:00.305Z"
   },
   {
    "duration": 0,
    "start_time": "2023-10-17T06:32:00.307Z"
   },
   {
    "duration": 0,
    "start_time": "2023-10-17T06:32:00.308Z"
   },
   {
    "duration": 0,
    "start_time": "2023-10-17T06:32:00.309Z"
   },
   {
    "duration": 0,
    "start_time": "2023-10-17T06:32:00.310Z"
   },
   {
    "duration": 0,
    "start_time": "2023-10-17T06:32:00.312Z"
   },
   {
    "duration": 0,
    "start_time": "2023-10-17T06:32:00.313Z"
   },
   {
    "duration": 0,
    "start_time": "2023-10-17T06:32:00.314Z"
   },
   {
    "duration": 0,
    "start_time": "2023-10-17T06:32:00.316Z"
   },
   {
    "duration": 0,
    "start_time": "2023-10-17T06:32:00.318Z"
   },
   {
    "duration": 0,
    "start_time": "2023-10-17T06:32:00.319Z"
   },
   {
    "duration": 0,
    "start_time": "2023-10-17T06:32:00.347Z"
   },
   {
    "duration": 0,
    "start_time": "2023-10-17T06:32:00.348Z"
   },
   {
    "duration": 0,
    "start_time": "2023-10-17T06:32:00.349Z"
   },
   {
    "duration": 0,
    "start_time": "2023-10-17T06:32:00.351Z"
   },
   {
    "duration": 0,
    "start_time": "2023-10-17T06:32:00.352Z"
   },
   {
    "duration": 0,
    "start_time": "2023-10-17T06:32:00.353Z"
   },
   {
    "duration": 5,
    "start_time": "2023-10-17T06:34:29.630Z"
   },
   {
    "duration": 407,
    "start_time": "2023-10-17T06:35:59.461Z"
   },
   {
    "duration": 114,
    "start_time": "2023-10-17T06:35:59.871Z"
   },
   {
    "duration": 62,
    "start_time": "2023-10-17T06:35:59.986Z"
   },
   {
    "duration": 99,
    "start_time": "2023-10-17T06:36:00.050Z"
   },
   {
    "duration": 2512,
    "start_time": "2023-10-17T06:36:00.150Z"
   },
   {
    "duration": 11,
    "start_time": "2023-10-17T06:36:02.663Z"
   },
   {
    "duration": 38,
    "start_time": "2023-10-17T06:36:02.676Z"
   },
   {
    "duration": 26,
    "start_time": "2023-10-17T06:36:02.716Z"
   },
   {
    "duration": 234,
    "start_time": "2023-10-17T06:36:02.745Z"
   },
   {
    "duration": 11,
    "start_time": "2023-10-17T06:36:02.982Z"
   },
   {
    "duration": 166,
    "start_time": "2023-10-17T06:36:02.995Z"
   },
   {
    "duration": 73,
    "start_time": "2023-10-17T06:36:03.163Z"
   },
   {
    "duration": 39,
    "start_time": "2023-10-17T06:36:03.238Z"
   },
   {
    "duration": 391,
    "start_time": "2023-10-17T06:36:03.278Z"
   },
   {
    "duration": 8,
    "start_time": "2023-10-17T06:36:03.671Z"
   },
   {
    "duration": 23,
    "start_time": "2023-10-17T06:36:03.680Z"
   },
   {
    "duration": 35,
    "start_time": "2023-10-17T06:36:03.705Z"
   },
   {
    "duration": 204,
    "start_time": "2023-10-17T06:36:03.742Z"
   },
   {
    "duration": 232,
    "start_time": "2023-10-17T06:36:03.948Z"
   },
   {
    "duration": 250,
    "start_time": "2023-10-17T06:36:04.182Z"
   },
   {
    "duration": 16,
    "start_time": "2023-10-17T06:36:04.434Z"
   },
   {
    "duration": 525,
    "start_time": "2023-10-17T06:36:04.452Z"
   },
   {
    "duration": 260,
    "start_time": "2023-10-17T06:36:04.979Z"
   },
   {
    "duration": 279,
    "start_time": "2023-10-17T06:36:05.241Z"
   },
   {
    "duration": 13,
    "start_time": "2023-10-17T06:36:05.521Z"
   },
   {
    "duration": 186,
    "start_time": "2023-10-17T06:36:05.547Z"
   },
   {
    "duration": 205,
    "start_time": "2023-10-17T06:36:05.736Z"
   },
   {
    "duration": 196,
    "start_time": "2023-10-17T06:36:05.947Z"
   },
   {
    "duration": 268,
    "start_time": "2023-10-17T06:36:06.147Z"
   },
   {
    "duration": 221,
    "start_time": "2023-10-17T06:36:06.417Z"
   },
   {
    "duration": 215,
    "start_time": "2023-10-17T06:40:41.753Z"
   },
   {
    "duration": 2046,
    "start_time": "2023-10-17T06:41:12.555Z"
   },
   {
    "duration": 36,
    "start_time": "2023-10-17T06:41:30.609Z"
   },
   {
    "duration": 22,
    "start_time": "2023-10-17T06:41:55.007Z"
   },
   {
    "duration": 283,
    "start_time": "2023-10-17T06:42:16.741Z"
   },
   {
    "duration": 418,
    "start_time": "2023-10-17T07:06:49.371Z"
   },
   {
    "duration": 122,
    "start_time": "2023-10-17T07:06:49.792Z"
   },
   {
    "duration": 59,
    "start_time": "2023-10-17T07:06:49.915Z"
   },
   {
    "duration": 92,
    "start_time": "2023-10-17T07:06:49.976Z"
   },
   {
    "duration": 2403,
    "start_time": "2023-10-17T07:06:50.070Z"
   },
   {
    "duration": 11,
    "start_time": "2023-10-17T07:06:52.475Z"
   },
   {
    "duration": 33,
    "start_time": "2023-10-17T07:06:52.488Z"
   },
   {
    "duration": 25,
    "start_time": "2023-10-17T07:06:52.522Z"
   },
   {
    "duration": 190,
    "start_time": "2023-10-17T07:06:52.548Z"
   },
   {
    "duration": 13,
    "start_time": "2023-10-17T07:06:52.739Z"
   },
   {
    "duration": 49,
    "start_time": "2023-10-17T07:06:52.754Z"
   },
   {
    "duration": 37,
    "start_time": "2023-10-17T07:06:52.805Z"
   },
   {
    "duration": 6,
    "start_time": "2023-10-17T07:06:52.844Z"
   },
   {
    "duration": 374,
    "start_time": "2023-10-17T07:06:52.853Z"
   },
   {
    "duration": 7,
    "start_time": "2023-10-17T07:06:53.229Z"
   },
   {
    "duration": 11,
    "start_time": "2023-10-17T07:06:53.238Z"
   },
   {
    "duration": 51,
    "start_time": "2023-10-17T07:06:53.251Z"
   },
   {
    "duration": 169,
    "start_time": "2023-10-17T07:06:53.304Z"
   },
   {
    "duration": 207,
    "start_time": "2023-10-17T07:06:53.475Z"
   },
   {
    "duration": 230,
    "start_time": "2023-10-17T07:06:53.684Z"
   },
   {
    "duration": 12,
    "start_time": "2023-10-17T07:06:53.916Z"
   },
   {
    "duration": 501,
    "start_time": "2023-10-17T07:06:53.929Z"
   },
   {
    "duration": 232,
    "start_time": "2023-10-17T07:06:54.432Z"
   },
   {
    "duration": 221,
    "start_time": "2023-10-17T07:06:54.666Z"
   },
   {
    "duration": 14,
    "start_time": "2023-10-17T07:06:54.889Z"
   },
   {
    "duration": 172,
    "start_time": "2023-10-17T07:06:54.908Z"
   },
   {
    "duration": 222,
    "start_time": "2023-10-17T07:06:55.081Z"
   },
   {
    "duration": 180,
    "start_time": "2023-10-17T07:06:55.305Z"
   },
   {
    "duration": 241,
    "start_time": "2023-10-17T07:06:55.486Z"
   },
   {
    "duration": 320,
    "start_time": "2023-10-17T07:06:55.728Z"
   },
   {
    "duration": 472,
    "start_time": "2023-10-17T07:08:48.314Z"
   },
   {
    "duration": 477,
    "start_time": "2023-10-17T07:08:56.801Z"
   },
   {
    "duration": 514,
    "start_time": "2023-10-17T07:09:10.728Z"
   },
   {
    "duration": 435,
    "start_time": "2023-10-17T07:09:25.218Z"
   },
   {
    "duration": 470,
    "start_time": "2023-10-17T09:10:00.765Z"
   },
   {
    "duration": 196,
    "start_time": "2023-10-17T09:10:01.237Z"
   },
   {
    "duration": 61,
    "start_time": "2023-10-17T09:10:01.435Z"
   },
   {
    "duration": 302,
    "start_time": "2023-10-17T09:10:01.498Z"
   },
   {
    "duration": 2834,
    "start_time": "2023-10-17T09:10:01.803Z"
   },
   {
    "duration": 12,
    "start_time": "2023-10-17T09:10:04.639Z"
   },
   {
    "duration": 22,
    "start_time": "2023-10-17T09:10:04.653Z"
   },
   {
    "duration": 16,
    "start_time": "2023-10-17T09:10:04.677Z"
   },
   {
    "duration": 209,
    "start_time": "2023-10-17T09:10:04.696Z"
   },
   {
    "duration": 12,
    "start_time": "2023-10-17T09:10:04.907Z"
   },
   {
    "duration": 22,
    "start_time": "2023-10-17T09:10:04.921Z"
   },
   {
    "duration": 26,
    "start_time": "2023-10-17T09:10:04.945Z"
   },
   {
    "duration": 6,
    "start_time": "2023-10-17T09:10:04.973Z"
   },
   {
    "duration": 376,
    "start_time": "2023-10-17T09:10:04.982Z"
   },
   {
    "duration": 9,
    "start_time": "2023-10-17T09:10:05.360Z"
   },
   {
    "duration": 54,
    "start_time": "2023-10-17T09:10:05.371Z"
   },
   {
    "duration": 50,
    "start_time": "2023-10-17T09:10:05.428Z"
   },
   {
    "duration": 206,
    "start_time": "2023-10-17T09:10:05.481Z"
   },
   {
    "duration": 230,
    "start_time": "2023-10-17T09:10:05.689Z"
   },
   {
    "duration": 350,
    "start_time": "2023-10-17T09:10:05.921Z"
   },
   {
    "duration": 14,
    "start_time": "2023-10-17T09:10:06.273Z"
   },
   {
    "duration": 514,
    "start_time": "2023-10-17T09:10:06.289Z"
   },
   {
    "duration": 262,
    "start_time": "2023-10-17T09:10:06.806Z"
   },
   {
    "duration": 238,
    "start_time": "2023-10-17T09:10:07.071Z"
   },
   {
    "duration": 14,
    "start_time": "2023-10-17T09:10:07.312Z"
   },
   {
    "duration": 191,
    "start_time": "2023-10-17T09:10:07.328Z"
   },
   {
    "duration": 202,
    "start_time": "2023-10-17T09:10:07.520Z"
   },
   {
    "duration": 179,
    "start_time": "2023-10-17T09:10:07.724Z"
   },
   {
    "duration": 271,
    "start_time": "2023-10-17T09:10:07.905Z"
   },
   {
    "duration": 429,
    "start_time": "2023-10-17T09:10:08.177Z"
   },
   {
    "duration": 237,
    "start_time": "2023-10-17T09:10:25.008Z"
   },
   {
    "duration": 399,
    "start_time": "2023-10-17T09:10:45.810Z"
   },
   {
    "duration": 274,
    "start_time": "2023-10-17T09:11:42.982Z"
   },
   {
    "duration": 379,
    "start_time": "2023-10-17T15:08:52.782Z"
   },
   {
    "duration": 325,
    "start_time": "2023-10-17T15:08:53.163Z"
   },
   {
    "duration": 49,
    "start_time": "2023-10-17T15:08:53.489Z"
   },
   {
    "duration": 82,
    "start_time": "2023-10-17T15:08:53.620Z"
   },
   {
    "duration": 2497,
    "start_time": "2023-10-17T15:08:54.094Z"
   },
   {
    "duration": 10,
    "start_time": "2023-10-17T15:08:56.594Z"
   },
   {
    "duration": 17,
    "start_time": "2023-10-17T15:08:56.605Z"
   },
   {
    "duration": 7,
    "start_time": "2023-10-17T15:08:56.624Z"
   },
   {
    "duration": 183,
    "start_time": "2023-10-17T15:08:56.632Z"
   },
   {
    "duration": 9,
    "start_time": "2023-10-17T15:08:57.000Z"
   },
   {
    "duration": 8,
    "start_time": "2023-10-17T15:08:57.837Z"
   },
   {
    "duration": 15,
    "start_time": "2023-10-17T15:08:58.186Z"
   },
   {
    "duration": 2,
    "start_time": "2023-10-17T15:08:58.847Z"
   },
   {
    "duration": 338,
    "start_time": "2023-10-17T15:08:59.086Z"
   },
   {
    "duration": 8,
    "start_time": "2023-10-17T15:09:00.155Z"
   },
   {
    "duration": 4,
    "start_time": "2023-10-17T15:09:01.203Z"
   },
   {
    "duration": 16,
    "start_time": "2023-10-17T15:09:04.393Z"
   },
   {
    "duration": 134,
    "start_time": "2023-10-17T15:09:19.240Z"
   },
   {
    "duration": 116,
    "start_time": "2023-10-17T15:09:45.804Z"
   },
   {
    "duration": 241,
    "start_time": "2023-10-17T15:10:03.709Z"
   },
   {
    "duration": 12,
    "start_time": "2023-10-17T15:10:10.125Z"
   },
   {
    "duration": 139,
    "start_time": "2023-10-17T15:10:36.094Z"
   },
   {
    "duration": 141,
    "start_time": "2023-10-17T15:11:07.292Z"
   },
   {
    "duration": 124,
    "start_time": "2023-10-17T15:11:32.993Z"
   },
   {
    "duration": 11,
    "start_time": "2023-10-17T15:11:37.503Z"
   },
   {
    "duration": 300,
    "start_time": "2023-10-17T15:11:51.244Z"
   },
   {
    "duration": 15,
    "start_time": "2023-10-17T15:11:54.484Z"
   },
   {
    "duration": 8,
    "start_time": "2023-10-17T15:25:48.956Z"
   },
   {
    "duration": 146,
    "start_time": "2023-10-17T15:25:57.579Z"
   },
   {
    "duration": 119,
    "start_time": "2023-10-17T15:27:28.934Z"
   },
   {
    "duration": 141,
    "start_time": "2023-10-17T15:27:36.193Z"
   },
   {
    "duration": 171,
    "start_time": "2023-10-17T15:29:03.323Z"
   },
   {
    "duration": 114,
    "start_time": "2023-10-17T15:29:21.998Z"
   },
   {
    "duration": 143,
    "start_time": "2023-10-17T15:39:45.253Z"
   },
   {
    "duration": 134,
    "start_time": "2023-10-17T15:39:52.898Z"
   },
   {
    "duration": 212,
    "start_time": "2023-10-17T15:40:58.533Z"
   },
   {
    "duration": 135,
    "start_time": "2023-10-17T15:41:04.195Z"
   },
   {
    "duration": 106,
    "start_time": "2023-10-17T15:41:54.215Z"
   },
   {
    "duration": 11,
    "start_time": "2023-10-17T15:44:23.102Z"
   },
   {
    "duration": 5,
    "start_time": "2023-10-17T15:44:37.754Z"
   },
   {
    "duration": 31,
    "start_time": "2023-10-17T15:45:22.220Z"
   },
   {
    "duration": 31,
    "start_time": "2023-10-17T15:45:33.637Z"
   },
   {
    "duration": 149,
    "start_time": "2023-10-17T15:45:50.982Z"
   },
   {
    "duration": 135,
    "start_time": "2023-10-17T15:45:57.886Z"
   },
   {
    "duration": 6,
    "start_time": "2023-10-17T15:46:07.015Z"
   },
   {
    "duration": 145,
    "start_time": "2023-10-17T15:46:09.938Z"
   },
   {
    "duration": 134,
    "start_time": "2023-10-17T15:46:23.183Z"
   },
   {
    "duration": 129,
    "start_time": "2023-10-17T15:46:28.831Z"
   },
   {
    "duration": 135,
    "start_time": "2023-10-17T15:46:35.358Z"
   },
   {
    "duration": 135,
    "start_time": "2023-10-17T15:47:07.233Z"
   },
   {
    "duration": 127,
    "start_time": "2023-10-17T15:47:50.303Z"
   },
   {
    "duration": 141,
    "start_time": "2023-10-17T15:47:58.219Z"
   },
   {
    "duration": 1855,
    "start_time": "2023-10-17T15:49:38.909Z"
   },
   {
    "duration": 134,
    "start_time": "2023-10-17T15:49:52.112Z"
   },
   {
    "duration": 140,
    "start_time": "2023-10-17T15:50:00.822Z"
   },
   {
    "duration": 150,
    "start_time": "2023-10-17T15:50:09.844Z"
   },
   {
    "duration": 335,
    "start_time": "2023-10-17T15:59:04.412Z"
   },
   {
    "duration": 1429,
    "start_time": "2023-10-17T15:59:33.491Z"
   },
   {
    "duration": 142,
    "start_time": "2023-10-17T15:59:45.473Z"
   },
   {
    "duration": 120,
    "start_time": "2023-10-17T15:59:58.109Z"
   },
   {
    "duration": 10,
    "start_time": "2023-10-17T16:00:47.128Z"
   },
   {
    "duration": 354,
    "start_time": "2023-10-17T16:02:45.899Z"
   },
   {
    "duration": 115,
    "start_time": "2023-10-17T16:02:46.255Z"
   },
   {
    "duration": 54,
    "start_time": "2023-10-17T16:02:46.372Z"
   },
   {
    "duration": 84,
    "start_time": "2023-10-17T16:02:46.427Z"
   },
   {
    "duration": 2122,
    "start_time": "2023-10-17T16:02:46.513Z"
   },
   {
    "duration": 10,
    "start_time": "2023-10-17T16:02:48.637Z"
   },
   {
    "duration": 11,
    "start_time": "2023-10-17T16:02:48.648Z"
   },
   {
    "duration": 21,
    "start_time": "2023-10-17T16:02:48.660Z"
   },
   {
    "duration": 177,
    "start_time": "2023-10-17T16:02:48.682Z"
   },
   {
    "duration": 9,
    "start_time": "2023-10-17T16:02:48.860Z"
   },
   {
    "duration": 30,
    "start_time": "2023-10-17T16:02:48.870Z"
   },
   {
    "duration": 34,
    "start_time": "2023-10-17T16:02:48.902Z"
   },
   {
    "duration": 12,
    "start_time": "2023-10-17T16:02:48.938Z"
   },
   {
    "duration": 344,
    "start_time": "2023-10-17T16:02:48.953Z"
   },
   {
    "duration": 7,
    "start_time": "2023-10-17T16:02:49.299Z"
   },
   {
    "duration": 11,
    "start_time": "2023-10-17T16:02:49.308Z"
   },
   {
    "duration": 32,
    "start_time": "2023-10-17T16:02:49.321Z"
   },
   {
    "duration": 152,
    "start_time": "2023-10-17T16:02:49.354Z"
   },
   {
    "duration": 148,
    "start_time": "2023-10-17T16:02:49.507Z"
   },
   {
    "duration": 155,
    "start_time": "2023-10-17T16:02:49.657Z"
   },
   {
    "duration": 11,
    "start_time": "2023-10-17T16:02:49.814Z"
   },
   {
    "duration": 204,
    "start_time": "2023-10-17T16:02:49.826Z"
   },
   {
    "duration": 143,
    "start_time": "2023-10-17T16:02:50.032Z"
   },
   {
    "duration": 137,
    "start_time": "2023-10-17T16:02:50.177Z"
   },
   {
    "duration": 11,
    "start_time": "2023-10-17T16:02:50.316Z"
   },
   {
    "duration": 159,
    "start_time": "2023-10-17T16:02:50.329Z"
   },
   {
    "duration": 146,
    "start_time": "2023-10-17T16:02:50.490Z"
   },
   {
    "duration": 142,
    "start_time": "2023-10-17T16:02:50.643Z"
   },
   {
    "duration": 141,
    "start_time": "2023-10-17T16:02:50.787Z"
   },
   {
    "duration": 155,
    "start_time": "2023-10-17T16:02:50.930Z"
   },
   {
    "duration": 166,
    "start_time": "2023-10-17T16:02:51.087Z"
   },
   {
    "duration": 14,
    "start_time": "2023-10-17T16:02:51.255Z"
   },
   {
    "duration": 227,
    "start_time": "2023-10-17T16:02:51.270Z"
   },
   {
    "duration": 369,
    "start_time": "2023-10-17T16:02:51.498Z"
   },
   {
    "duration": 85,
    "start_time": "2023-10-17T16:07:17.358Z"
   },
   {
    "duration": 1361,
    "start_time": "2023-10-17T16:07:46.104Z"
   },
   {
    "duration": 400,
    "start_time": "2023-10-17T16:08:21.590Z"
   },
   {
    "duration": 112,
    "start_time": "2023-10-17T16:08:21.992Z"
   },
   {
    "duration": 51,
    "start_time": "2023-10-17T16:08:22.105Z"
   },
   {
    "duration": 70,
    "start_time": "2023-10-17T16:08:22.158Z"
   },
   {
    "duration": 2204,
    "start_time": "2023-10-17T16:08:22.243Z"
   },
   {
    "duration": 11,
    "start_time": "2023-10-17T16:08:24.449Z"
   },
   {
    "duration": 27,
    "start_time": "2023-10-17T16:08:24.462Z"
   },
   {
    "duration": 30,
    "start_time": "2023-10-17T16:08:24.491Z"
   },
   {
    "duration": 188,
    "start_time": "2023-10-17T16:08:24.523Z"
   },
   {
    "duration": 10,
    "start_time": "2023-10-17T16:08:24.713Z"
   },
   {
    "duration": 19,
    "start_time": "2023-10-17T16:08:24.725Z"
   },
   {
    "duration": 15,
    "start_time": "2023-10-17T16:08:24.745Z"
   },
   {
    "duration": 3,
    "start_time": "2023-10-17T16:08:24.762Z"
   },
   {
    "duration": 339,
    "start_time": "2023-10-17T16:08:24.768Z"
   },
   {
    "duration": 8,
    "start_time": "2023-10-17T16:08:25.109Z"
   },
   {
    "duration": 39,
    "start_time": "2023-10-17T16:08:25.119Z"
   },
   {
    "duration": 46,
    "start_time": "2023-10-17T16:08:25.160Z"
   },
   {
    "duration": 188,
    "start_time": "2023-10-17T16:08:25.208Z"
   },
   {
    "duration": 138,
    "start_time": "2023-10-17T16:08:25.397Z"
   },
   {
    "duration": 164,
    "start_time": "2023-10-17T16:08:25.537Z"
   },
   {
    "duration": 11,
    "start_time": "2023-10-17T16:08:25.703Z"
   },
   {
    "duration": 207,
    "start_time": "2023-10-17T16:08:25.716Z"
   },
   {
    "duration": 151,
    "start_time": "2023-10-17T16:08:25.925Z"
   },
   {
    "duration": 145,
    "start_time": "2023-10-17T16:08:26.078Z"
   },
   {
    "duration": 19,
    "start_time": "2023-10-17T16:08:26.224Z"
   },
   {
    "duration": 147,
    "start_time": "2023-10-17T16:08:26.245Z"
   },
   {
    "duration": 157,
    "start_time": "2023-10-17T16:08:26.394Z"
   },
   {
    "duration": 140,
    "start_time": "2023-10-17T16:08:26.553Z"
   },
   {
    "duration": 140,
    "start_time": "2023-10-17T16:08:26.695Z"
   },
   {
    "duration": 149,
    "start_time": "2023-10-17T16:08:26.843Z"
   },
   {
    "duration": 180,
    "start_time": "2023-10-17T16:08:26.994Z"
   },
   {
    "duration": 410,
    "start_time": "2023-10-17T16:10:47.060Z"
   },
   {
    "duration": 109,
    "start_time": "2023-10-17T16:10:47.472Z"
   },
   {
    "duration": 50,
    "start_time": "2023-10-17T16:10:47.583Z"
   },
   {
    "duration": 69,
    "start_time": "2023-10-17T16:10:47.644Z"
   },
   {
    "duration": 2165,
    "start_time": "2023-10-17T16:10:47.714Z"
   },
   {
    "duration": 12,
    "start_time": "2023-10-17T16:10:49.881Z"
   },
   {
    "duration": 16,
    "start_time": "2023-10-17T16:10:49.894Z"
   },
   {
    "duration": 13,
    "start_time": "2023-10-17T16:10:49.912Z"
   },
   {
    "duration": 174,
    "start_time": "2023-10-17T16:10:49.927Z"
   },
   {
    "duration": 10,
    "start_time": "2023-10-17T16:10:50.104Z"
   },
   {
    "duration": 15,
    "start_time": "2023-10-17T16:10:50.116Z"
   },
   {
    "duration": 23,
    "start_time": "2023-10-17T16:10:50.132Z"
   },
   {
    "duration": 3,
    "start_time": "2023-10-17T16:10:50.157Z"
   },
   {
    "duration": 338,
    "start_time": "2023-10-17T16:10:50.162Z"
   },
   {
    "duration": 7,
    "start_time": "2023-10-17T16:10:50.502Z"
   },
   {
    "duration": 9,
    "start_time": "2023-10-17T16:10:50.510Z"
   },
   {
    "duration": 33,
    "start_time": "2023-10-17T16:10:50.520Z"
   },
   {
    "duration": 179,
    "start_time": "2023-10-17T16:10:50.555Z"
   },
   {
    "duration": 141,
    "start_time": "2023-10-17T16:10:50.736Z"
   },
   {
    "duration": 157,
    "start_time": "2023-10-17T16:10:50.879Z"
   },
   {
    "duration": 13,
    "start_time": "2023-10-17T16:10:51.043Z"
   },
   {
    "duration": 202,
    "start_time": "2023-10-17T16:10:51.058Z"
   },
   {
    "duration": 143,
    "start_time": "2023-10-17T16:10:51.261Z"
   },
   {
    "duration": 123,
    "start_time": "2023-10-17T16:10:51.405Z"
   },
   {
    "duration": 20,
    "start_time": "2023-10-17T16:10:51.530Z"
   },
   {
    "duration": 147,
    "start_time": "2023-10-17T16:10:51.552Z"
   },
   {
    "duration": 134,
    "start_time": "2023-10-17T16:10:51.701Z"
   },
   {
    "duration": 146,
    "start_time": "2023-10-17T16:10:51.843Z"
   },
   {
    "duration": 146,
    "start_time": "2023-10-17T16:10:51.990Z"
   },
   {
    "duration": 153,
    "start_time": "2023-10-17T16:10:52.143Z"
   },
   {
    "duration": 177,
    "start_time": "2023-10-17T16:10:52.298Z"
   },
   {
    "duration": 429,
    "start_time": "2023-10-17T16:13:10.031Z"
   },
   {
    "duration": 112,
    "start_time": "2023-10-17T16:13:10.462Z"
   },
   {
    "duration": 52,
    "start_time": "2023-10-17T16:13:10.575Z"
   },
   {
    "duration": 99,
    "start_time": "2023-10-17T16:13:10.629Z"
   },
   {
    "duration": 2157,
    "start_time": "2023-10-17T16:13:10.730Z"
   },
   {
    "duration": 10,
    "start_time": "2023-10-17T16:13:12.889Z"
   },
   {
    "duration": 18,
    "start_time": "2023-10-17T16:13:12.900Z"
   },
   {
    "duration": 23,
    "start_time": "2023-10-17T16:13:12.920Z"
   },
   {
    "duration": 172,
    "start_time": "2023-10-17T16:13:12.945Z"
   },
   {
    "duration": 10,
    "start_time": "2023-10-17T16:13:13.119Z"
   },
   {
    "duration": 17,
    "start_time": "2023-10-17T16:13:13.130Z"
   },
   {
    "duration": 14,
    "start_time": "2023-10-17T16:13:13.148Z"
   },
   {
    "duration": 3,
    "start_time": "2023-10-17T16:13:13.163Z"
   },
   {
    "duration": 342,
    "start_time": "2023-10-17T16:13:13.168Z"
   },
   {
    "duration": 7,
    "start_time": "2023-10-17T16:13:13.512Z"
   },
   {
    "duration": 8,
    "start_time": "2023-10-17T16:13:13.520Z"
   },
   {
    "duration": 22,
    "start_time": "2023-10-17T16:13:13.530Z"
   },
   {
    "duration": 175,
    "start_time": "2023-10-17T16:13:13.554Z"
   },
   {
    "duration": 166,
    "start_time": "2023-10-17T16:13:13.731Z"
   },
   {
    "duration": 157,
    "start_time": "2023-10-17T16:13:13.899Z"
   },
   {
    "duration": 12,
    "start_time": "2023-10-17T16:13:14.058Z"
   },
   {
    "duration": 218,
    "start_time": "2023-10-17T16:13:14.071Z"
   },
   {
    "duration": 164,
    "start_time": "2023-10-17T16:13:14.290Z"
   },
   {
    "duration": 187,
    "start_time": "2023-10-17T16:13:14.456Z"
   },
   {
    "duration": 12,
    "start_time": "2023-10-17T16:13:14.645Z"
   },
   {
    "duration": 150,
    "start_time": "2023-10-17T16:13:14.658Z"
   },
   {
    "duration": 145,
    "start_time": "2023-10-17T16:13:14.810Z"
   },
   {
    "duration": 142,
    "start_time": "2023-10-17T16:13:14.958Z"
   },
   {
    "duration": 135,
    "start_time": "2023-10-17T16:13:15.102Z"
   },
   {
    "duration": 138,
    "start_time": "2023-10-17T16:13:15.243Z"
   },
   {
    "duration": 171,
    "start_time": "2023-10-17T16:13:15.383Z"
   },
   {
    "duration": 393,
    "start_time": "2023-10-17T16:14:17.558Z"
   },
   {
    "duration": 113,
    "start_time": "2023-10-17T16:14:17.954Z"
   },
   {
    "duration": 51,
    "start_time": "2023-10-17T16:14:18.069Z"
   },
   {
    "duration": 72,
    "start_time": "2023-10-17T16:14:18.354Z"
   },
   {
    "duration": 2171,
    "start_time": "2023-10-17T16:14:18.784Z"
   },
   {
    "duration": 12,
    "start_time": "2023-10-17T16:14:20.958Z"
   },
   {
    "duration": 24,
    "start_time": "2023-10-17T16:14:20.972Z"
   },
   {
    "duration": 8,
    "start_time": "2023-10-17T16:14:20.999Z"
   },
   {
    "duration": 200,
    "start_time": "2023-10-17T16:14:21.008Z"
   },
   {
    "duration": 12,
    "start_time": "2023-10-17T16:14:21.441Z"
   },
   {
    "duration": 8,
    "start_time": "2023-10-17T16:14:22.059Z"
   },
   {
    "duration": 15,
    "start_time": "2023-10-17T16:14:22.384Z"
   },
   {
    "duration": 3,
    "start_time": "2023-10-17T16:14:22.696Z"
   },
   {
    "duration": 352,
    "start_time": "2023-10-17T16:14:22.884Z"
   },
   {
    "duration": 10,
    "start_time": "2023-10-17T16:14:23.238Z"
   },
   {
    "duration": 4,
    "start_time": "2023-10-17T16:14:23.559Z"
   },
   {
    "duration": 15,
    "start_time": "2023-10-17T16:14:24.094Z"
   },
   {
    "duration": 149,
    "start_time": "2023-10-17T16:14:24.257Z"
   },
   {
    "duration": 136,
    "start_time": "2023-10-17T16:14:24.582Z"
   },
   {
    "duration": 146,
    "start_time": "2023-10-17T16:14:24.927Z"
   },
   {
    "duration": 11,
    "start_time": "2023-10-17T16:14:25.858Z"
   },
   {
    "duration": 216,
    "start_time": "2023-10-17T16:14:26.913Z"
   },
   {
    "duration": 126,
    "start_time": "2023-10-17T16:14:27.286Z"
   },
   {
    "duration": 126,
    "start_time": "2023-10-17T16:14:27.648Z"
   },
   {
    "duration": 12,
    "start_time": "2023-10-17T16:14:27.991Z"
   },
   {
    "duration": 138,
    "start_time": "2023-10-17T16:14:28.185Z"
   },
   {
    "duration": 137,
    "start_time": "2023-10-17T16:14:28.524Z"
   },
   {
    "duration": 133,
    "start_time": "2023-10-17T16:14:28.863Z"
   },
   {
    "duration": 138,
    "start_time": "2023-10-17T16:14:29.195Z"
   },
   {
    "duration": 146,
    "start_time": "2023-10-17T16:14:29.907Z"
   },
   {
    "duration": 159,
    "start_time": "2023-10-17T16:14:30.282Z"
   },
   {
    "duration": 421,
    "start_time": "2023-10-17T16:19:08.829Z"
   },
   {
    "duration": 108,
    "start_time": "2023-10-17T16:19:09.252Z"
   },
   {
    "duration": 50,
    "start_time": "2023-10-17T16:19:09.361Z"
   },
   {
    "duration": 81,
    "start_time": "2023-10-17T16:19:09.412Z"
   },
   {
    "duration": 2124,
    "start_time": "2023-10-17T16:19:09.495Z"
   },
   {
    "duration": 9,
    "start_time": "2023-10-17T16:19:11.621Z"
   },
   {
    "duration": 36,
    "start_time": "2023-10-17T16:19:11.632Z"
   },
   {
    "duration": 43,
    "start_time": "2023-10-17T16:19:11.669Z"
   },
   {
    "duration": 203,
    "start_time": "2023-10-17T16:19:11.714Z"
   },
   {
    "duration": 11,
    "start_time": "2023-10-17T16:19:11.919Z"
   },
   {
    "duration": 17,
    "start_time": "2023-10-17T16:19:11.932Z"
   },
   {
    "duration": 46,
    "start_time": "2023-10-17T16:19:11.950Z"
   },
   {
    "duration": 29,
    "start_time": "2023-10-17T16:19:11.997Z"
   },
   {
    "duration": 353,
    "start_time": "2023-10-17T16:19:12.029Z"
   },
   {
    "duration": 9,
    "start_time": "2023-10-17T16:19:12.384Z"
   },
   {
    "duration": 21,
    "start_time": "2023-10-17T16:19:12.395Z"
   },
   {
    "duration": 21,
    "start_time": "2023-10-17T16:19:12.418Z"
   },
   {
    "duration": 173,
    "start_time": "2023-10-17T16:19:12.440Z"
   },
   {
    "duration": 139,
    "start_time": "2023-10-17T16:19:12.615Z"
   },
   {
    "duration": 149,
    "start_time": "2023-10-17T16:19:12.755Z"
   },
   {
    "duration": 10,
    "start_time": "2023-10-17T16:19:12.906Z"
   },
   {
    "duration": 235,
    "start_time": "2023-10-17T16:19:12.918Z"
   },
   {
    "duration": 141,
    "start_time": "2023-10-17T16:19:13.155Z"
   },
   {
    "duration": 125,
    "start_time": "2023-10-17T16:19:13.298Z"
   },
   {
    "duration": 20,
    "start_time": "2023-10-17T16:19:13.425Z"
   },
   {
    "duration": 144,
    "start_time": "2023-10-17T16:19:13.446Z"
   },
   {
    "duration": 159,
    "start_time": "2023-10-17T16:19:13.591Z"
   },
   {
    "duration": 167,
    "start_time": "2023-10-17T16:19:13.752Z"
   },
   {
    "duration": 147,
    "start_time": "2023-10-17T16:19:13.920Z"
   },
   {
    "duration": 149,
    "start_time": "2023-10-17T16:19:14.069Z"
   },
   {
    "duration": 171,
    "start_time": "2023-10-17T16:19:14.220Z"
   },
   {
    "duration": 371,
    "start_time": "2023-10-17T16:20:06.377Z"
   },
   {
    "duration": 115,
    "start_time": "2023-10-17T16:20:06.750Z"
   },
   {
    "duration": 54,
    "start_time": "2023-10-17T16:20:06.867Z"
   },
   {
    "duration": 86,
    "start_time": "2023-10-17T16:20:06.923Z"
   },
   {
    "duration": 2207,
    "start_time": "2023-10-17T16:20:07.012Z"
   },
   {
    "duration": 10,
    "start_time": "2023-10-17T16:20:09.221Z"
   },
   {
    "duration": 14,
    "start_time": "2023-10-17T16:20:09.233Z"
   },
   {
    "duration": 7,
    "start_time": "2023-10-17T16:20:09.249Z"
   },
   {
    "duration": 184,
    "start_time": "2023-10-17T16:20:09.260Z"
   },
   {
    "duration": 11,
    "start_time": "2023-10-17T16:20:09.445Z"
   },
   {
    "duration": 21,
    "start_time": "2023-10-17T16:20:09.459Z"
   },
   {
    "duration": 36,
    "start_time": "2023-10-17T16:20:09.481Z"
   },
   {
    "duration": 4,
    "start_time": "2023-10-17T16:20:09.519Z"
   },
   {
    "duration": 341,
    "start_time": "2023-10-17T16:20:09.524Z"
   },
   {
    "duration": 7,
    "start_time": "2023-10-17T16:20:09.867Z"
   },
   {
    "duration": 23,
    "start_time": "2023-10-17T16:20:09.875Z"
   },
   {
    "duration": 29,
    "start_time": "2023-10-17T16:20:09.900Z"
   },
   {
    "duration": 146,
    "start_time": "2023-10-17T16:20:09.931Z"
   },
   {
    "duration": 151,
    "start_time": "2023-10-17T16:20:10.078Z"
   },
   {
    "duration": 157,
    "start_time": "2023-10-17T16:20:10.231Z"
   },
   {
    "duration": 11,
    "start_time": "2023-10-17T16:20:10.483Z"
   },
   {
    "duration": 189,
    "start_time": "2023-10-17T16:20:10.831Z"
   },
   {
    "duration": 133,
    "start_time": "2023-10-17T16:20:11.181Z"
   },
   {
    "duration": 129,
    "start_time": "2023-10-17T16:20:11.493Z"
   },
   {
    "duration": 11,
    "start_time": "2023-10-17T16:20:11.801Z"
   },
   {
    "duration": 134,
    "start_time": "2023-10-17T16:20:11.964Z"
   },
   {
    "duration": 136,
    "start_time": "2023-10-17T16:20:12.288Z"
   },
   {
    "duration": 139,
    "start_time": "2023-10-17T16:20:12.614Z"
   },
   {
    "duration": 135,
    "start_time": "2023-10-17T16:20:12.953Z"
   },
   {
    "duration": 181,
    "start_time": "2023-10-17T16:20:13.662Z"
   },
   {
    "duration": 162,
    "start_time": "2023-10-17T16:20:13.991Z"
   },
   {
    "duration": 377,
    "start_time": "2023-10-17T16:22:37.791Z"
   },
   {
    "duration": 115,
    "start_time": "2023-10-17T16:22:38.170Z"
   },
   {
    "duration": 58,
    "start_time": "2023-10-17T16:22:38.287Z"
   },
   {
    "duration": 72,
    "start_time": "2023-10-17T16:22:38.347Z"
   },
   {
    "duration": 2223,
    "start_time": "2023-10-17T16:22:38.420Z"
   },
   {
    "duration": 11,
    "start_time": "2023-10-17T16:22:40.645Z"
   },
   {
    "duration": 45,
    "start_time": "2023-10-17T16:22:40.657Z"
   },
   {
    "duration": 28,
    "start_time": "2023-10-17T16:22:40.704Z"
   },
   {
    "duration": 192,
    "start_time": "2023-10-17T16:22:40.734Z"
   },
   {
    "duration": 14,
    "start_time": "2023-10-17T16:22:40.929Z"
   },
   {
    "duration": 20,
    "start_time": "2023-10-17T16:22:40.945Z"
   },
   {
    "duration": 45,
    "start_time": "2023-10-17T16:22:40.967Z"
   },
   {
    "duration": 15,
    "start_time": "2023-10-17T16:22:41.013Z"
   },
   {
    "duration": 338,
    "start_time": "2023-10-17T16:22:41.030Z"
   },
   {
    "duration": 8,
    "start_time": "2023-10-17T16:22:41.369Z"
   },
   {
    "duration": 20,
    "start_time": "2023-10-17T16:22:41.379Z"
   },
   {
    "duration": 20,
    "start_time": "2023-10-17T16:22:41.401Z"
   },
   {
    "duration": 160,
    "start_time": "2023-10-17T16:22:41.423Z"
   },
   {
    "duration": 153,
    "start_time": "2023-10-17T16:22:41.585Z"
   },
   {
    "duration": 159,
    "start_time": "2023-10-17T16:22:41.739Z"
   },
   {
    "duration": 11,
    "start_time": "2023-10-17T16:22:41.900Z"
   },
   {
    "duration": 213,
    "start_time": "2023-10-17T16:22:41.913Z"
   },
   {
    "duration": 157,
    "start_time": "2023-10-17T16:22:42.128Z"
   },
   {
    "duration": 136,
    "start_time": "2023-10-17T16:22:42.287Z"
   },
   {
    "duration": 24,
    "start_time": "2023-10-17T16:22:42.425Z"
   },
   {
    "duration": 142,
    "start_time": "2023-10-17T16:22:42.451Z"
   },
   {
    "duration": 163,
    "start_time": "2023-10-17T16:22:42.595Z"
   },
   {
    "duration": 152,
    "start_time": "2023-10-17T16:22:42.762Z"
   },
   {
    "duration": 155,
    "start_time": "2023-10-17T16:22:42.916Z"
   },
   {
    "duration": 156,
    "start_time": "2023-10-17T16:22:43.073Z"
   },
   {
    "duration": 172,
    "start_time": "2023-10-17T16:22:43.231Z"
   },
   {
    "duration": 290896,
    "start_time": "2023-10-17T16:22:43.405Z"
   },
   {
    "duration": 255,
    "start_time": "2023-10-17T16:27:34.303Z"
   },
   {
    "duration": 381,
    "start_time": "2023-10-17T16:27:34.560Z"
   },
   {
    "duration": 410,
    "start_time": "2023-10-17T16:41:46.308Z"
   },
   {
    "duration": 114,
    "start_time": "2023-10-17T16:41:46.720Z"
   },
   {
    "duration": 51,
    "start_time": "2023-10-17T16:41:46.835Z"
   },
   {
    "duration": 72,
    "start_time": "2023-10-17T16:41:47.104Z"
   },
   {
    "duration": 2178,
    "start_time": "2023-10-17T16:41:47.961Z"
   },
   {
    "duration": 9,
    "start_time": "2023-10-17T16:41:50.142Z"
   },
   {
    "duration": 14,
    "start_time": "2023-10-17T16:41:50.153Z"
   },
   {
    "duration": 14,
    "start_time": "2023-10-17T16:41:50.170Z"
   },
   {
    "duration": 172,
    "start_time": "2023-10-17T16:41:50.340Z"
   },
   {
    "duration": 12,
    "start_time": "2023-10-17T16:41:50.826Z"
   },
   {
    "duration": 7,
    "start_time": "2023-10-17T16:41:51.471Z"
   },
   {
    "duration": 15,
    "start_time": "2023-10-17T16:41:51.800Z"
   },
   {
    "duration": 3,
    "start_time": "2023-10-17T16:41:52.110Z"
   },
   {
    "duration": 323,
    "start_time": "2023-10-17T16:41:52.256Z"
   },
   {
    "duration": 8,
    "start_time": "2023-10-17T16:41:52.582Z"
   },
   {
    "duration": 4,
    "start_time": "2023-10-17T16:41:52.908Z"
   },
   {
    "duration": 12,
    "start_time": "2023-10-17T16:41:53.401Z"
   },
   {
    "duration": 153,
    "start_time": "2023-10-17T16:41:53.554Z"
   },
   {
    "duration": 126,
    "start_time": "2023-10-17T16:41:53.869Z"
   },
   {
    "duration": 136,
    "start_time": "2023-10-17T16:41:54.206Z"
   },
   {
    "duration": 14,
    "start_time": "2023-10-17T16:41:54.534Z"
   },
   {
    "duration": 198,
    "start_time": "2023-10-17T16:41:54.856Z"
   },
   {
    "duration": 136,
    "start_time": "2023-10-17T16:41:55.169Z"
   },
   {
    "duration": 120,
    "start_time": "2023-10-17T16:41:55.512Z"
   },
   {
    "duration": 11,
    "start_time": "2023-10-17T16:41:55.810Z"
   },
   {
    "duration": 133,
    "start_time": "2023-10-17T16:41:55.967Z"
   },
   {
    "duration": 140,
    "start_time": "2023-10-17T16:41:56.274Z"
   },
   {
    "duration": 135,
    "start_time": "2023-10-17T16:41:56.608Z"
   },
   {
    "duration": 135,
    "start_time": "2023-10-17T16:41:56.911Z"
   },
   {
    "duration": 143,
    "start_time": "2023-10-17T16:41:57.513Z"
   },
   {
    "duration": 154,
    "start_time": "2023-10-17T16:41:57.860Z"
   },
   {
    "duration": 404,
    "start_time": "2023-10-17T16:42:37.564Z"
   },
   {
    "duration": 109,
    "start_time": "2023-10-17T16:42:37.970Z"
   },
   {
    "duration": 49,
    "start_time": "2023-10-17T16:42:38.081Z"
   },
   {
    "duration": 72,
    "start_time": "2023-10-17T16:42:38.143Z"
   },
   {
    "duration": 2120,
    "start_time": "2023-10-17T16:42:38.219Z"
   },
   {
    "duration": 11,
    "start_time": "2023-10-17T16:42:40.342Z"
   },
   {
    "duration": 18,
    "start_time": "2023-10-17T16:42:40.354Z"
   },
   {
    "duration": 16,
    "start_time": "2023-10-17T16:42:40.374Z"
   },
   {
    "duration": 171,
    "start_time": "2023-10-17T16:42:40.392Z"
   },
   {
    "duration": 10,
    "start_time": "2023-10-17T16:42:40.565Z"
   },
   {
    "duration": 28,
    "start_time": "2023-10-17T16:42:40.577Z"
   },
   {
    "duration": 16,
    "start_time": "2023-10-17T16:42:40.607Z"
   },
   {
    "duration": 3,
    "start_time": "2023-10-17T16:42:40.625Z"
   },
   {
    "duration": 365,
    "start_time": "2023-10-17T16:42:40.632Z"
   },
   {
    "duration": 6,
    "start_time": "2023-10-17T16:42:40.999Z"
   },
   {
    "duration": 6,
    "start_time": "2023-10-17T16:42:41.007Z"
   },
   {
    "duration": 36,
    "start_time": "2023-10-17T16:42:41.014Z"
   },
   {
    "duration": 168,
    "start_time": "2023-10-17T16:42:41.052Z"
   },
   {
    "duration": 152,
    "start_time": "2023-10-17T16:42:41.222Z"
   },
   {
    "duration": 163,
    "start_time": "2023-10-17T16:42:41.376Z"
   },
   {
    "duration": 10,
    "start_time": "2023-10-17T16:42:41.543Z"
   },
   {
    "duration": 194,
    "start_time": "2023-10-17T16:42:41.555Z"
   },
   {
    "duration": 136,
    "start_time": "2023-10-17T16:42:41.751Z"
   },
   {
    "duration": 140,
    "start_time": "2023-10-17T16:42:41.889Z"
   },
   {
    "duration": 21,
    "start_time": "2023-10-17T16:42:42.031Z"
   },
   {
    "duration": 155,
    "start_time": "2023-10-17T16:42:42.054Z"
   },
   {
    "duration": 158,
    "start_time": "2023-10-17T16:42:42.211Z"
   },
   {
    "duration": 148,
    "start_time": "2023-10-17T16:42:42.371Z"
   },
   {
    "duration": 144,
    "start_time": "2023-10-17T16:42:42.521Z"
   },
   {
    "duration": 151,
    "start_time": "2023-10-17T16:42:42.666Z"
   },
   {
    "duration": 168,
    "start_time": "2023-10-17T16:42:42.819Z"
   },
   {
    "duration": 407,
    "start_time": "2023-10-17T16:44:08.451Z"
   },
   {
    "duration": 110,
    "start_time": "2023-10-17T16:44:08.860Z"
   },
   {
    "duration": 51,
    "start_time": "2023-10-17T16:44:08.971Z"
   },
   {
    "duration": 82,
    "start_time": "2023-10-17T16:44:09.024Z"
   },
   {
    "duration": 2150,
    "start_time": "2023-10-17T16:44:09.109Z"
   },
   {
    "duration": 10,
    "start_time": "2023-10-17T16:44:11.261Z"
   },
   {
    "duration": 11,
    "start_time": "2023-10-17T16:44:11.272Z"
   },
   {
    "duration": 6,
    "start_time": "2023-10-17T16:44:11.284Z"
   },
   {
    "duration": 176,
    "start_time": "2023-10-17T16:44:11.292Z"
   },
   {
    "duration": 10,
    "start_time": "2023-10-17T16:44:11.469Z"
   },
   {
    "duration": 8,
    "start_time": "2023-10-17T16:44:11.480Z"
   },
   {
    "duration": 14,
    "start_time": "2023-10-17T16:44:11.490Z"
   },
   {
    "duration": 3,
    "start_time": "2023-10-17T16:44:11.505Z"
   },
   {
    "duration": 340,
    "start_time": "2023-10-17T16:44:11.510Z"
   },
   {
    "duration": 7,
    "start_time": "2023-10-17T16:44:11.852Z"
   },
   {
    "duration": 15,
    "start_time": "2023-10-17T16:44:11.860Z"
   },
   {
    "duration": 41,
    "start_time": "2023-10-17T16:44:11.876Z"
   },
   {
    "duration": 184,
    "start_time": "2023-10-17T16:44:11.918Z"
   },
   {
    "duration": 151,
    "start_time": "2023-10-17T16:44:12.103Z"
   },
   {
    "duration": 164,
    "start_time": "2023-10-17T16:44:12.256Z"
   },
   {
    "duration": 12,
    "start_time": "2023-10-17T16:44:12.422Z"
   },
   {
    "duration": 212,
    "start_time": "2023-10-17T16:44:12.443Z"
   },
   {
    "duration": 146,
    "start_time": "2023-10-17T16:44:12.657Z"
   },
   {
    "duration": 147,
    "start_time": "2023-10-17T16:44:12.805Z"
   },
   {
    "duration": 12,
    "start_time": "2023-10-17T16:44:12.955Z"
   },
   {
    "duration": 166,
    "start_time": "2023-10-17T16:44:12.969Z"
   },
   {
    "duration": 160,
    "start_time": "2023-10-17T16:44:13.137Z"
   },
   {
    "duration": 154,
    "start_time": "2023-10-17T16:44:13.298Z"
   },
   {
    "duration": 180,
    "start_time": "2023-10-17T16:44:13.454Z"
   },
   {
    "duration": 204,
    "start_time": "2023-10-17T16:44:13.636Z"
   },
   {
    "duration": 189,
    "start_time": "2023-10-17T16:44:13.842Z"
   },
   {
    "duration": 142,
    "start_time": "2023-10-17T16:51:42.769Z"
   },
   {
    "duration": 151,
    "start_time": "2023-10-17T16:51:46.070Z"
   },
   {
    "duration": 289155,
    "start_time": "2023-10-17T16:51:48.915Z"
   },
   {
    "duration": 210,
    "start_time": "2023-10-17T16:56:38.295Z"
   },
   {
    "duration": 353,
    "start_time": "2023-10-17T16:56:38.507Z"
   },
   {
    "duration": 399,
    "start_time": "2023-10-17T18:23:56.456Z"
   },
   {
    "duration": 114,
    "start_time": "2023-10-17T18:23:56.857Z"
   },
   {
    "duration": 50,
    "start_time": "2023-10-17T18:23:56.972Z"
   },
   {
    "duration": 91,
    "start_time": "2023-10-17T18:23:57.026Z"
   },
   {
    "duration": 2316,
    "start_time": "2023-10-17T18:23:57.119Z"
   },
   {
    "duration": 11,
    "start_time": "2023-10-17T18:23:59.437Z"
   },
   {
    "duration": 18,
    "start_time": "2023-10-17T18:23:59.450Z"
   },
   {
    "duration": 12,
    "start_time": "2023-10-17T18:23:59.470Z"
   },
   {
    "duration": 185,
    "start_time": "2023-10-17T18:23:59.485Z"
   },
   {
    "duration": 10,
    "start_time": "2023-10-17T18:23:59.673Z"
   },
   {
    "duration": 11,
    "start_time": "2023-10-17T18:23:59.685Z"
   },
   {
    "duration": 26,
    "start_time": "2023-10-17T18:23:59.698Z"
   },
   {
    "duration": 18,
    "start_time": "2023-10-17T18:23:59.726Z"
   },
   {
    "duration": 340,
    "start_time": "2023-10-17T18:23:59.745Z"
   },
   {
    "duration": 7,
    "start_time": "2023-10-17T18:24:00.087Z"
   },
   {
    "duration": 16,
    "start_time": "2023-10-17T18:24:00.096Z"
   },
   {
    "duration": 29,
    "start_time": "2023-10-17T18:24:00.114Z"
   },
   {
    "duration": 156,
    "start_time": "2023-10-17T18:24:00.144Z"
   },
   {
    "duration": 149,
    "start_time": "2023-10-17T18:24:00.302Z"
   },
   {
    "duration": 163,
    "start_time": "2023-10-17T18:24:00.453Z"
   },
   {
    "duration": 12,
    "start_time": "2023-10-17T18:24:00.617Z"
   },
   {
    "duration": 272,
    "start_time": "2023-10-17T18:24:00.644Z"
   },
   {
    "duration": 147,
    "start_time": "2023-10-17T18:24:00.918Z"
   },
   {
    "duration": 139,
    "start_time": "2023-10-17T18:24:01.066Z"
   },
   {
    "duration": 12,
    "start_time": "2023-10-17T18:24:01.207Z"
   },
   {
    "duration": 184,
    "start_time": "2023-10-17T18:24:01.221Z"
   },
   {
    "duration": 148,
    "start_time": "2023-10-17T18:24:01.407Z"
   },
   {
    "duration": 144,
    "start_time": "2023-10-17T18:24:01.558Z"
   },
   {
    "duration": 213,
    "start_time": "2023-10-17T18:24:01.703Z"
   },
   {
    "duration": 148,
    "start_time": "2023-10-17T18:24:01.919Z"
   },
   {
    "duration": 169,
    "start_time": "2023-10-17T18:24:02.069Z"
   },
   {
    "duration": 46108,
    "start_time": "2023-10-17T18:24:02.243Z"
   },
   {
    "duration": 217,
    "start_time": "2023-10-17T18:24:48.353Z"
   },
   {
    "duration": 370,
    "start_time": "2023-10-17T18:24:48.572Z"
   },
   {
    "duration": 86,
    "start_time": "2023-10-17T20:16:57.470Z"
   },
   {
    "duration": 458,
    "start_time": "2023-10-18T08:42:50.008Z"
   },
   {
    "duration": 750,
    "start_time": "2023-10-18T08:42:50.468Z"
   },
   {
    "duration": 50,
    "start_time": "2023-10-18T08:42:51.220Z"
   },
   {
    "duration": 85,
    "start_time": "2023-10-18T08:42:51.272Z"
   },
   {
    "duration": 2328,
    "start_time": "2023-10-18T08:42:51.358Z"
   },
   {
    "duration": 11,
    "start_time": "2023-10-18T08:42:53.688Z"
   },
   {
    "duration": 23,
    "start_time": "2023-10-18T08:42:53.701Z"
   },
   {
    "duration": 19,
    "start_time": "2023-10-18T08:42:53.726Z"
   },
   {
    "duration": 191,
    "start_time": "2023-10-18T08:42:53.747Z"
   },
   {
    "duration": 10,
    "start_time": "2023-10-18T08:42:53.941Z"
   },
   {
    "duration": 25,
    "start_time": "2023-10-18T08:42:53.953Z"
   },
   {
    "duration": 22,
    "start_time": "2023-10-18T08:42:53.979Z"
   },
   {
    "duration": 4,
    "start_time": "2023-10-18T08:42:54.002Z"
   },
   {
    "duration": 324,
    "start_time": "2023-10-18T08:42:54.007Z"
   },
   {
    "duration": 7,
    "start_time": "2023-10-18T08:42:54.333Z"
   },
   {
    "duration": 91,
    "start_time": "2023-10-18T08:42:54.342Z"
   },
   {
    "duration": 20,
    "start_time": "2023-10-18T08:42:54.435Z"
   },
   {
    "duration": 142,
    "start_time": "2023-10-18T08:42:54.457Z"
   },
   {
    "duration": 140,
    "start_time": "2023-10-18T08:42:54.600Z"
   },
   {
    "duration": 227,
    "start_time": "2023-10-18T08:42:54.742Z"
   },
   {
    "duration": 10,
    "start_time": "2023-10-18T08:42:54.970Z"
   },
   {
    "duration": 133,
    "start_time": "2023-10-18T08:42:54.982Z"
   },
   {
    "duration": 145,
    "start_time": "2023-10-18T08:42:55.123Z"
   },
   {
    "duration": 126,
    "start_time": "2023-10-18T08:42:55.269Z"
   },
   {
    "duration": 11,
    "start_time": "2023-10-18T08:42:55.396Z"
   },
   {
    "duration": 157,
    "start_time": "2023-10-18T08:42:55.408Z"
   },
   {
    "duration": 144,
    "start_time": "2023-10-18T08:42:55.566Z"
   },
   {
    "duration": 191,
    "start_time": "2023-10-18T08:42:55.713Z"
   },
   {
    "duration": 154,
    "start_time": "2023-10-18T08:42:55.906Z"
   },
   {
    "duration": 157,
    "start_time": "2023-10-18T08:42:56.062Z"
   },
   {
    "duration": 163,
    "start_time": "2023-10-18T08:42:56.224Z"
   },
   {
    "duration": 96,
    "start_time": "2023-10-18T08:42:56.389Z"
   },
   {
    "duration": 0,
    "start_time": "2023-10-18T08:42:56.486Z"
   },
   {
    "duration": 0,
    "start_time": "2023-10-18T08:42:56.487Z"
   },
   {
    "duration": 457,
    "start_time": "2023-10-18T10:03:59.906Z"
   },
   {
    "duration": 127,
    "start_time": "2023-10-18T10:04:00.367Z"
   },
   {
    "duration": 61,
    "start_time": "2023-10-18T10:04:00.497Z"
   },
   {
    "duration": 88,
    "start_time": "2023-10-18T10:04:00.561Z"
   },
   {
    "duration": 2403,
    "start_time": "2023-10-18T10:04:00.651Z"
   },
   {
    "duration": 11,
    "start_time": "2023-10-18T10:04:03.056Z"
   },
   {
    "duration": 52,
    "start_time": "2023-10-18T10:04:03.068Z"
   },
   {
    "duration": 31,
    "start_time": "2023-10-18T10:04:03.122Z"
   },
   {
    "duration": 243,
    "start_time": "2023-10-18T10:04:03.155Z"
   },
   {
    "duration": 12,
    "start_time": "2023-10-18T10:04:03.401Z"
   },
   {
    "duration": 28,
    "start_time": "2023-10-18T10:04:03.425Z"
   },
   {
    "duration": 49,
    "start_time": "2023-10-18T10:04:03.456Z"
   },
   {
    "duration": 14,
    "start_time": "2023-10-18T10:04:03.507Z"
   },
   {
    "duration": 367,
    "start_time": "2023-10-18T10:04:03.523Z"
   },
   {
    "duration": 7,
    "start_time": "2023-10-18T10:04:03.892Z"
   },
   {
    "duration": 17,
    "start_time": "2023-10-18T10:04:03.901Z"
   },
   {
    "duration": 16,
    "start_time": "2023-10-18T10:04:03.920Z"
   },
   {
    "duration": 163,
    "start_time": "2023-10-18T10:04:03.938Z"
   },
   {
    "duration": 150,
    "start_time": "2023-10-18T10:04:04.103Z"
   },
   {
    "duration": 173,
    "start_time": "2023-10-18T10:04:04.256Z"
   },
   {
    "duration": 12,
    "start_time": "2023-10-18T10:04:04.431Z"
   },
   {
    "duration": 234,
    "start_time": "2023-10-18T10:04:04.445Z"
   },
   {
    "duration": 157,
    "start_time": "2023-10-18T10:04:04.681Z"
   },
   {
    "duration": 148,
    "start_time": "2023-10-18T10:04:04.839Z"
   },
   {
    "duration": 13,
    "start_time": "2023-10-18T10:04:04.989Z"
   },
   {
    "duration": 166,
    "start_time": "2023-10-18T10:04:05.003Z"
   },
   {
    "duration": 155,
    "start_time": "2023-10-18T10:04:05.171Z"
   },
   {
    "duration": 150,
    "start_time": "2023-10-18T10:04:05.329Z"
   },
   {
    "duration": 149,
    "start_time": "2023-10-18T10:04:05.480Z"
   },
   {
    "duration": 177,
    "start_time": "2023-10-18T10:04:05.631Z"
   },
   {
    "duration": 226,
    "start_time": "2023-10-18T10:04:05.810Z"
   },
   {
    "duration": 97,
    "start_time": "2023-10-18T10:04:06.037Z"
   },
   {
    "duration": 0,
    "start_time": "2023-10-18T10:04:06.137Z"
   },
   {
    "duration": 0,
    "start_time": "2023-10-18T10:04:06.138Z"
   },
   {
    "duration": 22,
    "start_time": "2023-10-18T10:07:10.082Z"
   },
   {
    "duration": 272055,
    "start_time": "2023-10-18T10:07:40.578Z"
   },
   {
    "duration": 395,
    "start_time": "2023-10-18T12:23:42.945Z"
   },
   {
    "duration": 111,
    "start_time": "2023-10-18T12:23:43.342Z"
   },
   {
    "duration": 51,
    "start_time": "2023-10-18T12:23:43.455Z"
   },
   {
    "duration": 81,
    "start_time": "2023-10-18T12:23:43.508Z"
   },
   {
    "duration": 2159,
    "start_time": "2023-10-18T12:23:43.591Z"
   },
   {
    "duration": 10,
    "start_time": "2023-10-18T12:23:45.752Z"
   },
   {
    "duration": 22,
    "start_time": "2023-10-18T12:23:45.763Z"
   },
   {
    "duration": 25,
    "start_time": "2023-10-18T12:23:45.788Z"
   },
   {
    "duration": 222,
    "start_time": "2023-10-18T12:23:45.815Z"
   },
   {
    "duration": 10,
    "start_time": "2023-10-18T12:23:46.039Z"
   },
   {
    "duration": 28,
    "start_time": "2023-10-18T12:23:46.050Z"
   },
   {
    "duration": 34,
    "start_time": "2023-10-18T12:23:46.079Z"
   },
   {
    "duration": 16,
    "start_time": "2023-10-18T12:23:46.115Z"
   },
   {
    "duration": 345,
    "start_time": "2023-10-18T12:23:46.134Z"
   },
   {
    "duration": 7,
    "start_time": "2023-10-18T12:23:46.481Z"
   },
   {
    "duration": 148,
    "start_time": "2023-10-18T12:23:46.490Z"
   },
   {
    "duration": 77,
    "start_time": "2023-10-18T12:23:46.640Z"
   },
   {
    "duration": 260,
    "start_time": "2023-10-18T12:23:46.719Z"
   },
   {
    "duration": 325,
    "start_time": "2023-10-18T12:23:46.981Z"
   },
   {
    "duration": 180,
    "start_time": "2023-10-18T12:23:47.308Z"
   },
   {
    "duration": 12,
    "start_time": "2023-10-18T12:23:47.490Z"
   },
   {
    "duration": 225,
    "start_time": "2023-10-18T12:23:47.503Z"
   },
   {
    "duration": 144,
    "start_time": "2023-10-18T12:23:47.729Z"
   },
   {
    "duration": 135,
    "start_time": "2023-10-18T12:23:47.875Z"
   },
   {
    "duration": 19,
    "start_time": "2023-10-18T12:23:48.012Z"
   },
   {
    "duration": 229,
    "start_time": "2023-10-18T12:23:48.033Z"
   },
   {
    "duration": 145,
    "start_time": "2023-10-18T12:23:48.264Z"
   },
   {
    "duration": 146,
    "start_time": "2023-10-18T12:23:48.412Z"
   },
   {
    "duration": 147,
    "start_time": "2023-10-18T12:23:48.560Z"
   },
   {
    "duration": 151,
    "start_time": "2023-10-18T12:23:48.709Z"
   },
   {
    "duration": 205,
    "start_time": "2023-10-18T12:23:48.862Z"
   },
   {
    "duration": 416,
    "start_time": "2023-10-18T12:25:16.928Z"
   },
   {
    "duration": 133,
    "start_time": "2023-10-18T12:25:17.346Z"
   },
   {
    "duration": 65,
    "start_time": "2023-10-18T12:25:17.481Z"
   },
   {
    "duration": 85,
    "start_time": "2023-10-18T12:25:17.549Z"
   },
   {
    "duration": 2226,
    "start_time": "2023-10-18T12:25:17.636Z"
   },
   {
    "duration": 10,
    "start_time": "2023-10-18T12:25:19.864Z"
   },
   {
    "duration": 34,
    "start_time": "2023-10-18T12:25:19.876Z"
   },
   {
    "duration": 26,
    "start_time": "2023-10-18T12:25:19.912Z"
   },
   {
    "duration": 190,
    "start_time": "2023-10-18T12:25:19.940Z"
   },
   {
    "duration": 18,
    "start_time": "2023-10-18T12:25:20.134Z"
   },
   {
    "duration": 31,
    "start_time": "2023-10-18T12:25:20.154Z"
   },
   {
    "duration": 43,
    "start_time": "2023-10-18T12:25:20.187Z"
   },
   {
    "duration": 29,
    "start_time": "2023-10-18T12:25:20.232Z"
   },
   {
    "duration": 387,
    "start_time": "2023-10-18T12:25:20.263Z"
   },
   {
    "duration": 7,
    "start_time": "2023-10-18T12:25:20.652Z"
   },
   {
    "duration": 43,
    "start_time": "2023-10-18T12:25:20.661Z"
   },
   {
    "duration": 76,
    "start_time": "2023-10-18T12:25:20.706Z"
   },
   {
    "duration": 225,
    "start_time": "2023-10-18T12:25:20.784Z"
   },
   {
    "duration": 159,
    "start_time": "2023-10-18T12:25:21.011Z"
   },
   {
    "duration": 177,
    "start_time": "2023-10-18T12:25:21.172Z"
   },
   {
    "duration": 11,
    "start_time": "2023-10-18T12:25:21.351Z"
   },
   {
    "duration": 223,
    "start_time": "2023-10-18T12:25:21.364Z"
   },
   {
    "duration": 165,
    "start_time": "2023-10-18T12:25:21.589Z"
   },
   {
    "duration": 143,
    "start_time": "2023-10-18T12:25:21.756Z"
   },
   {
    "duration": 11,
    "start_time": "2023-10-18T12:25:21.900Z"
   },
   {
    "duration": 158,
    "start_time": "2023-10-18T12:25:21.913Z"
   },
   {
    "duration": 155,
    "start_time": "2023-10-18T12:25:22.073Z"
   },
   {
    "duration": 165,
    "start_time": "2023-10-18T12:25:22.234Z"
   },
   {
    "duration": 151,
    "start_time": "2023-10-18T12:25:22.401Z"
   },
   {
    "duration": 153,
    "start_time": "2023-10-18T12:25:22.554Z"
   },
   {
    "duration": 178,
    "start_time": "2023-10-18T12:25:22.709Z"
   },
   {
    "duration": 1195,
    "start_time": "2023-10-18T12:27:08.403Z"
   },
   {
    "duration": 123,
    "start_time": "2023-10-18T12:27:09.600Z"
   },
   {
    "duration": 89,
    "start_time": "2023-10-18T12:27:09.728Z"
   },
   {
    "duration": 135,
    "start_time": "2023-10-18T12:27:09.820Z"
   },
   {
    "duration": 2033,
    "start_time": "2023-10-18T12:27:09.957Z"
   },
   {
    "duration": 9,
    "start_time": "2023-10-18T12:27:11.992Z"
   },
   {
    "duration": 30,
    "start_time": "2023-10-18T12:27:12.003Z"
   },
   {
    "duration": 20,
    "start_time": "2023-10-18T12:27:12.036Z"
   },
   {
    "duration": 218,
    "start_time": "2023-10-18T12:27:12.058Z"
   },
   {
    "duration": 109,
    "start_time": "2023-10-18T12:27:12.278Z"
   },
   {
    "duration": 6,
    "start_time": "2023-10-18T12:27:12.389Z"
   },
   {
    "duration": 37,
    "start_time": "2023-10-18T12:27:12.397Z"
   },
   {
    "duration": 23,
    "start_time": "2023-10-18T12:27:12.437Z"
   },
   {
    "duration": 363,
    "start_time": "2023-10-18T12:27:12.462Z"
   },
   {
    "duration": 9,
    "start_time": "2023-10-18T12:27:12.827Z"
   },
   {
    "duration": 5,
    "start_time": "2023-10-18T12:27:12.838Z"
   },
   {
    "duration": 29,
    "start_time": "2023-10-18T12:27:12.845Z"
   },
   {
    "duration": 190,
    "start_time": "2023-10-18T12:27:12.876Z"
   },
   {
    "duration": 147,
    "start_time": "2023-10-18T12:27:13.068Z"
   },
   {
    "duration": 177,
    "start_time": "2023-10-18T12:27:13.217Z"
   },
   {
    "duration": 11,
    "start_time": "2023-10-18T12:27:13.395Z"
   },
   {
    "duration": 173,
    "start_time": "2023-10-18T12:27:13.408Z"
   },
   {
    "duration": 153,
    "start_time": "2023-10-18T12:27:13.583Z"
   },
   {
    "duration": 153,
    "start_time": "2023-10-18T12:27:13.738Z"
   },
   {
    "duration": 10,
    "start_time": "2023-10-18T12:27:13.893Z"
   },
   {
    "duration": 165,
    "start_time": "2023-10-18T12:27:13.905Z"
   },
   {
    "duration": 152,
    "start_time": "2023-10-18T12:27:14.072Z"
   },
   {
    "duration": 159,
    "start_time": "2023-10-18T12:27:14.228Z"
   },
   {
    "duration": 243,
    "start_time": "2023-10-18T12:27:14.388Z"
   },
   {
    "duration": 159,
    "start_time": "2023-10-18T12:27:14.634Z"
   },
   {
    "duration": 184,
    "start_time": "2023-10-18T12:27:14.794Z"
   },
   {
    "duration": 0,
    "start_time": "2023-10-18T12:31:43.311Z"
   },
   {
    "duration": 0,
    "start_time": "2023-10-18T12:31:43.313Z"
   },
   {
    "duration": 0,
    "start_time": "2023-10-18T12:31:43.314Z"
   },
   {
    "duration": 1148,
    "start_time": "2023-10-18T12:33:35.618Z"
   },
   {
    "duration": 113,
    "start_time": "2023-10-18T12:33:36.768Z"
   },
   {
    "duration": 60,
    "start_time": "2023-10-18T12:33:36.883Z"
   },
   {
    "duration": 85,
    "start_time": "2023-10-18T12:33:36.945Z"
   },
   {
    "duration": 1993,
    "start_time": "2023-10-18T12:33:37.033Z"
   },
   {
    "duration": 10,
    "start_time": "2023-10-18T12:33:39.027Z"
   },
   {
    "duration": 34,
    "start_time": "2023-10-18T12:33:39.039Z"
   },
   {
    "duration": 11,
    "start_time": "2023-10-18T12:33:39.074Z"
   },
   {
    "duration": 178,
    "start_time": "2023-10-18T12:33:39.087Z"
   },
   {
    "duration": 9,
    "start_time": "2023-10-18T12:33:39.267Z"
   },
   {
    "duration": 119,
    "start_time": "2023-10-18T12:33:39.278Z"
   },
   {
    "duration": 15,
    "start_time": "2023-10-18T12:33:39.398Z"
   },
   {
    "duration": 4,
    "start_time": "2023-10-18T12:33:39.423Z"
   },
   {
    "duration": 342,
    "start_time": "2023-10-18T12:33:39.429Z"
   },
   {
    "duration": 7,
    "start_time": "2023-10-18T12:33:39.773Z"
   },
   {
    "duration": 8,
    "start_time": "2023-10-18T12:33:39.782Z"
   },
   {
    "duration": 32,
    "start_time": "2023-10-18T12:33:39.791Z"
   },
   {
    "duration": 143,
    "start_time": "2023-10-18T12:33:39.825Z"
   },
   {
    "duration": 146,
    "start_time": "2023-10-18T12:33:39.969Z"
   },
   {
    "duration": 155,
    "start_time": "2023-10-18T12:33:40.123Z"
   },
   {
    "duration": 12,
    "start_time": "2023-10-18T12:33:40.280Z"
   },
   {
    "duration": 165,
    "start_time": "2023-10-18T12:33:40.294Z"
   },
   {
    "duration": 145,
    "start_time": "2023-10-18T12:33:40.461Z"
   },
   {
    "duration": 142,
    "start_time": "2023-10-18T12:33:40.608Z"
   },
   {
    "duration": 12,
    "start_time": "2023-10-18T12:33:40.752Z"
   },
   {
    "duration": 166,
    "start_time": "2023-10-18T12:33:40.766Z"
   },
   {
    "duration": 155,
    "start_time": "2023-10-18T12:33:40.935Z"
   },
   {
    "duration": 153,
    "start_time": "2023-10-18T12:33:41.092Z"
   },
   {
    "duration": 266,
    "start_time": "2023-10-18T12:33:41.247Z"
   },
   {
    "duration": 157,
    "start_time": "2023-10-18T12:33:41.515Z"
   },
   {
    "duration": 167,
    "start_time": "2023-10-18T12:33:41.674Z"
   },
   {
    "duration": 221,
    "start_time": "2023-10-18T12:33:41.843Z"
   },
   {
    "duration": 234,
    "start_time": "2023-10-18T12:33:42.065Z"
   },
   {
    "duration": 416,
    "start_time": "2023-10-18T12:33:42.301Z"
   },
   {
    "duration": 199,
    "start_time": "2023-10-18T12:35:10.950Z"
   },
   {
    "duration": 200,
    "start_time": "2023-10-18T12:35:35.307Z"
   },
   {
    "duration": 264,
    "start_time": "2023-10-18T12:39:25.819Z"
   },
   {
    "duration": 201,
    "start_time": "2023-10-18T12:39:56.286Z"
   },
   {
    "duration": 100,
    "start_time": "2023-10-18T12:41:43.919Z"
   },
   {
    "duration": 98,
    "start_time": "2023-10-18T12:42:02.253Z"
   },
   {
    "duration": 1448,
    "start_time": "2023-10-18T15:00:27.318Z"
   },
   {
    "duration": 339,
    "start_time": "2023-10-18T15:00:28.768Z"
   },
   {
    "duration": 48,
    "start_time": "2023-10-18T15:00:29.109Z"
   },
   {
    "duration": 74,
    "start_time": "2023-10-18T15:00:29.159Z"
   },
   {
    "duration": 1954,
    "start_time": "2023-10-18T15:00:29.245Z"
   },
   {
    "duration": 11,
    "start_time": "2023-10-18T15:00:31.202Z"
   },
   {
    "duration": 106,
    "start_time": "2023-10-18T15:00:31.214Z"
   },
   {
    "duration": 63,
    "start_time": "2023-10-18T15:00:31.322Z"
   },
   {
    "duration": 243,
    "start_time": "2023-10-18T15:00:31.386Z"
   },
   {
    "duration": 226,
    "start_time": "2023-10-18T15:00:31.632Z"
   },
   {
    "duration": 148,
    "start_time": "2023-10-18T15:00:31.860Z"
   },
   {
    "duration": 49,
    "start_time": "2023-10-18T15:00:32.010Z"
   },
   {
    "duration": 60,
    "start_time": "2023-10-18T15:00:32.062Z"
   },
   {
    "duration": 378,
    "start_time": "2023-10-18T15:00:32.124Z"
   },
   {
    "duration": 9,
    "start_time": "2023-10-18T15:00:32.504Z"
   },
   {
    "duration": 60,
    "start_time": "2023-10-18T15:00:32.515Z"
   },
   {
    "duration": 41,
    "start_time": "2023-10-18T15:00:32.577Z"
   },
   {
    "duration": 162,
    "start_time": "2023-10-18T15:00:32.619Z"
   },
   {
    "duration": 157,
    "start_time": "2023-10-18T15:00:32.783Z"
   },
   {
    "duration": 177,
    "start_time": "2023-10-18T15:00:32.944Z"
   },
   {
    "duration": 21,
    "start_time": "2023-10-18T15:00:33.123Z"
   },
   {
    "duration": 164,
    "start_time": "2023-10-18T15:00:33.146Z"
   },
   {
    "duration": 143,
    "start_time": "2023-10-18T15:00:33.312Z"
   },
   {
    "duration": 170,
    "start_time": "2023-10-18T15:00:33.457Z"
   },
   {
    "duration": 19,
    "start_time": "2023-10-18T15:00:33.629Z"
   },
   {
    "duration": 178,
    "start_time": "2023-10-18T15:00:33.650Z"
   },
   {
    "duration": 201,
    "start_time": "2023-10-18T15:00:33.830Z"
   },
   {
    "duration": 144,
    "start_time": "2023-10-18T15:00:34.034Z"
   },
   {
    "duration": 246,
    "start_time": "2023-10-18T15:00:34.180Z"
   },
   {
    "duration": 207,
    "start_time": "2023-10-18T15:00:34.428Z"
   },
   {
    "duration": 172,
    "start_time": "2023-10-18T15:00:34.637Z"
   },
   {
    "duration": 127,
    "start_time": "2023-10-18T15:00:34.811Z"
   },
   {
    "duration": 0,
    "start_time": "2023-10-18T15:00:34.944Z"
   },
   {
    "duration": 0,
    "start_time": "2023-10-18T15:00:34.945Z"
   },
   {
    "duration": 0,
    "start_time": "2023-10-18T15:00:34.947Z"
   },
   {
    "duration": 202,
    "start_time": "2023-10-18T15:01:56.759Z"
   },
   {
    "duration": 22,
    "start_time": "2023-10-18T15:02:06.833Z"
   },
   {
    "duration": 189,
    "start_time": "2023-10-18T15:02:39.312Z"
   },
   {
    "duration": 194,
    "start_time": "2023-10-18T15:03:27.320Z"
   },
   {
    "duration": 4,
    "start_time": "2023-10-18T15:03:35.254Z"
   },
   {
    "duration": 216,
    "start_time": "2023-10-18T15:03:42.143Z"
   },
   {
    "duration": 221,
    "start_time": "2023-10-18T15:03:56.842Z"
   },
   {
    "duration": 346,
    "start_time": "2023-10-18T15:03:57.793Z"
   },
   {
    "duration": 190,
    "start_time": "2023-10-18T15:06:40.000Z"
   },
   {
    "duration": 216,
    "start_time": "2023-10-18T15:06:55.965Z"
   },
   {
    "duration": 200,
    "start_time": "2023-10-18T15:07:27.536Z"
   },
   {
    "duration": 275,
    "start_time": "2023-10-18T15:10:04.374Z"
   },
   {
    "duration": 209,
    "start_time": "2023-10-18T15:10:30.095Z"
   },
   {
    "duration": 1775,
    "start_time": "2023-10-18T15:14:52.015Z"
   },
   {
    "duration": 194,
    "start_time": "2023-10-18T15:15:16.906Z"
   },
   {
    "duration": 195,
    "start_time": "2023-10-18T15:17:46.374Z"
   },
   {
    "duration": 424,
    "start_time": "2023-10-18T15:20:22.583Z"
   },
   {
    "duration": 15,
    "start_time": "2023-10-18T15:22:08.195Z"
   },
   {
    "duration": 5,
    "start_time": "2023-10-18T15:22:09.938Z"
   },
   {
    "duration": 7,
    "start_time": "2023-10-18T15:22:25.861Z"
   },
   {
    "duration": 317,
    "start_time": "2023-10-18T15:23:19.402Z"
   },
   {
    "duration": 202,
    "start_time": "2023-10-18T15:24:09.589Z"
   },
   {
    "duration": 223,
    "start_time": "2023-10-18T15:25:47.644Z"
   },
   {
    "duration": 26,
    "start_time": "2023-10-18T15:27:13.917Z"
   },
   {
    "duration": 208,
    "start_time": "2023-10-18T15:27:18.938Z"
   },
   {
    "duration": 208,
    "start_time": "2023-10-18T15:40:25.150Z"
   },
   {
    "duration": 1430,
    "start_time": "2023-10-18T16:54:34.160Z"
   },
   {
    "duration": 117,
    "start_time": "2023-10-18T16:54:35.592Z"
   },
   {
    "duration": 53,
    "start_time": "2023-10-18T16:54:35.710Z"
   },
   {
    "duration": 79,
    "start_time": "2023-10-18T16:54:35.764Z"
   },
   {
    "duration": 2420,
    "start_time": "2023-10-18T16:54:35.845Z"
   },
   {
    "duration": 11,
    "start_time": "2023-10-18T16:54:38.267Z"
   },
   {
    "duration": 43,
    "start_time": "2023-10-18T16:54:38.279Z"
   },
   {
    "duration": 28,
    "start_time": "2023-10-18T16:54:38.324Z"
   },
   {
    "duration": 282,
    "start_time": "2023-10-18T16:54:38.354Z"
   },
   {
    "duration": 15,
    "start_time": "2023-10-18T16:54:38.638Z"
   },
   {
    "duration": 159,
    "start_time": "2023-10-18T16:54:38.655Z"
   },
   {
    "duration": 16,
    "start_time": "2023-10-18T16:54:38.816Z"
   },
   {
    "duration": 46,
    "start_time": "2023-10-18T16:54:38.833Z"
   },
   {
    "duration": 381,
    "start_time": "2023-10-18T16:54:38.882Z"
   },
   {
    "duration": 9,
    "start_time": "2023-10-18T16:54:39.265Z"
   },
   {
    "duration": 35,
    "start_time": "2023-10-18T16:54:39.275Z"
   },
   {
    "duration": 23,
    "start_time": "2023-10-18T16:54:39.311Z"
   },
   {
    "duration": 175,
    "start_time": "2023-10-18T16:54:39.336Z"
   },
   {
    "duration": 172,
    "start_time": "2023-10-18T16:54:39.512Z"
   },
   {
    "duration": 185,
    "start_time": "2023-10-18T16:54:39.686Z"
   },
   {
    "duration": 13,
    "start_time": "2023-10-18T16:54:39.873Z"
   },
   {
    "duration": 145,
    "start_time": "2023-10-18T16:54:39.901Z"
   },
   {
    "duration": 156,
    "start_time": "2023-10-18T16:54:40.048Z"
   },
   {
    "duration": 151,
    "start_time": "2023-10-18T16:54:40.206Z"
   },
   {
    "duration": 15,
    "start_time": "2023-10-18T16:54:40.358Z"
   },
   {
    "duration": 186,
    "start_time": "2023-10-18T16:54:40.375Z"
   },
   {
    "duration": 179,
    "start_time": "2023-10-18T16:54:40.563Z"
   },
   {
    "duration": 191,
    "start_time": "2023-10-18T16:54:40.745Z"
   },
   {
    "duration": 253,
    "start_time": "2023-10-18T16:54:40.938Z"
   },
   {
    "duration": 222,
    "start_time": "2023-10-18T16:54:41.193Z"
   },
   {
    "duration": 332,
    "start_time": "2023-10-18T16:54:41.418Z"
   },
   {
    "duration": 284,
    "start_time": "2023-10-18T16:54:41.803Z"
   },
   {
    "duration": 268,
    "start_time": "2023-10-18T16:54:42.089Z"
   },
   {
    "duration": 219,
    "start_time": "2023-10-18T16:54:42.359Z"
   },
   {
    "duration": 229,
    "start_time": "2023-10-18T16:54:42.580Z"
   },
   {
    "duration": 237,
    "start_time": "2023-10-18T16:54:42.812Z"
   },
   {
    "duration": 254,
    "start_time": "2023-10-18T16:54:43.051Z"
   },
   {
    "duration": 270,
    "start_time": "2023-10-18T16:54:43.307Z"
   },
   {
    "duration": 355,
    "start_time": "2023-10-18T16:54:43.579Z"
   },
   {
    "duration": 989,
    "start_time": "2023-10-18T16:54:43.937Z"
   },
   {
    "duration": 100,
    "start_time": "2023-10-18T16:55:49.975Z"
   },
   {
    "duration": 250,
    "start_time": "2023-10-18T16:56:07.040Z"
   },
   {
    "duration": 15,
    "start_time": "2023-10-18T16:57:53.412Z"
   },
   {
    "duration": 69,
    "start_time": "2023-10-18T17:10:45.467Z"
   },
   {
    "duration": 1542,
    "start_time": "2023-10-18T17:10:55.821Z"
   },
   {
    "duration": 340,
    "start_time": "2023-10-18T17:10:57.365Z"
   },
   {
    "duration": 58,
    "start_time": "2023-10-18T17:10:57.706Z"
   },
   {
    "duration": 91,
    "start_time": "2023-10-18T17:10:57.767Z"
   },
   {
    "duration": 1954,
    "start_time": "2023-10-18T17:10:57.860Z"
   },
   {
    "duration": 14,
    "start_time": "2023-10-18T17:10:59.816Z"
   },
   {
    "duration": 13,
    "start_time": "2023-10-18T17:10:59.832Z"
   },
   {
    "duration": 11,
    "start_time": "2023-10-18T17:10:59.847Z"
   },
   {
    "duration": 257,
    "start_time": "2023-10-18T17:10:59.860Z"
   },
   {
    "duration": 91,
    "start_time": "2023-10-18T17:11:00.120Z"
   },
   {
    "duration": 56,
    "start_time": "2023-10-18T17:11:00.213Z"
   },
   {
    "duration": 62,
    "start_time": "2023-10-18T17:11:00.271Z"
   },
   {
    "duration": 42,
    "start_time": "2023-10-18T17:11:00.334Z"
   },
   {
    "duration": 389,
    "start_time": "2023-10-18T17:11:00.378Z"
   },
   {
    "duration": 8,
    "start_time": "2023-10-18T17:11:00.769Z"
   },
   {
    "duration": 110,
    "start_time": "2023-10-18T17:11:00.779Z"
   },
   {
    "duration": 92,
    "start_time": "2023-10-18T17:11:00.891Z"
   },
   {
    "duration": 231,
    "start_time": "2023-10-18T17:11:00.985Z"
   },
   {
    "duration": 203,
    "start_time": "2023-10-18T17:11:01.218Z"
   },
   {
    "duration": 174,
    "start_time": "2023-10-18T17:11:01.424Z"
   },
   {
    "duration": 14,
    "start_time": "2023-10-18T17:11:01.600Z"
   },
   {
    "duration": 190,
    "start_time": "2023-10-18T17:11:01.616Z"
   },
   {
    "duration": 160,
    "start_time": "2023-10-18T17:11:01.809Z"
   },
   {
    "duration": 153,
    "start_time": "2023-10-18T17:11:01.970Z"
   },
   {
    "duration": 11,
    "start_time": "2023-10-18T17:11:02.125Z"
   },
   {
    "duration": 173,
    "start_time": "2023-10-18T17:11:02.138Z"
   },
   {
    "duration": 158,
    "start_time": "2023-10-18T17:11:02.313Z"
   },
   {
    "duration": 151,
    "start_time": "2023-10-18T17:11:02.474Z"
   },
   {
    "duration": 262,
    "start_time": "2023-10-18T17:11:02.626Z"
   },
   {
    "duration": 176,
    "start_time": "2023-10-18T17:11:02.890Z"
   },
   {
    "duration": 191,
    "start_time": "2023-10-18T17:11:03.068Z"
   },
   {
    "duration": 265,
    "start_time": "2023-10-18T17:11:03.260Z"
   },
   {
    "duration": 232,
    "start_time": "2023-10-18T17:11:03.526Z"
   },
   {
    "duration": 195,
    "start_time": "2023-10-18T17:11:03.760Z"
   },
   {
    "duration": 232,
    "start_time": "2023-10-18T17:11:03.957Z"
   },
   {
    "duration": 220,
    "start_time": "2023-10-18T17:11:04.191Z"
   },
   {
    "duration": 240,
    "start_time": "2023-10-18T17:11:04.413Z"
   },
   {
    "duration": 227,
    "start_time": "2023-10-18T17:11:04.655Z"
   },
   {
    "duration": 529,
    "start_time": "2023-10-18T17:11:04.884Z"
   },
   {
    "duration": 0,
    "start_time": "2023-10-18T17:11:05.415Z"
   },
   {
    "duration": 0,
    "start_time": "2023-10-18T17:11:05.417Z"
   },
   {
    "duration": 180,
    "start_time": "2023-10-18T17:11:35.674Z"
   },
   {
    "duration": 149,
    "start_time": "2023-10-18T17:12:08.440Z"
   },
   {
    "duration": 376,
    "start_time": "2023-10-18T17:12:41.936Z"
   },
   {
    "duration": 192,
    "start_time": "2023-10-18T17:12:57.804Z"
   },
   {
    "duration": 174,
    "start_time": "2023-10-18T17:13:20.517Z"
   },
   {
    "duration": 578,
    "start_time": "2023-10-18T17:13:37.086Z"
   },
   {
    "duration": 260,
    "start_time": "2023-10-18T17:13:43.264Z"
   },
   {
    "duration": 217,
    "start_time": "2023-10-18T17:14:59.137Z"
   },
   {
    "duration": 28743,
    "start_time": "2023-10-18T17:15:51.242Z"
   },
   {
    "duration": 236,
    "start_time": "2023-10-18T17:17:01.997Z"
   },
   {
    "duration": 177,
    "start_time": "2023-10-18T17:27:58.044Z"
   },
   {
    "duration": 133,
    "start_time": "2023-10-18T17:27:58.562Z"
   },
   {
    "duration": 143,
    "start_time": "2023-10-18T17:27:59.012Z"
   },
   {
    "duration": 10,
    "start_time": "2023-10-18T17:27:59.334Z"
   },
   {
    "duration": 146,
    "start_time": "2023-10-18T17:28:00.363Z"
   },
   {
    "duration": 143,
    "start_time": "2023-10-18T17:28:00.678Z"
   },
   {
    "duration": 161,
    "start_time": "2023-10-18T17:28:01.011Z"
   },
   {
    "duration": 11,
    "start_time": "2023-10-18T17:28:01.339Z"
   },
   {
    "duration": 140,
    "start_time": "2023-10-18T17:28:01.516Z"
   },
   {
    "duration": 164,
    "start_time": "2023-10-18T17:28:01.829Z"
   },
   {
    "duration": 154,
    "start_time": "2023-10-18T17:28:02.141Z"
   },
   {
    "duration": 128,
    "start_time": "2023-10-18T17:28:02.464Z"
   },
   {
    "duration": 147,
    "start_time": "2023-10-18T17:29:05.364Z"
   },
   {
    "duration": 157,
    "start_time": "2023-10-18T17:29:08.402Z"
   },
   {
    "duration": 11,
    "start_time": "2023-10-18T17:29:08.679Z"
   },
   {
    "duration": 138,
    "start_time": "2023-10-18T17:29:09.066Z"
   },
   {
    "duration": 130,
    "start_time": "2023-10-18T17:29:09.328Z"
   },
   {
    "duration": 146,
    "start_time": "2023-10-18T17:29:09.571Z"
   },
   {
    "duration": 10,
    "start_time": "2023-10-18T17:29:09.884Z"
   },
   {
    "duration": 162,
    "start_time": "2023-10-18T17:29:10.103Z"
   },
   {
    "duration": 175,
    "start_time": "2023-10-18T17:29:10.373Z"
   },
   {
    "duration": 155,
    "start_time": "2023-10-18T17:29:10.771Z"
   },
   {
    "duration": 157,
    "start_time": "2023-10-18T17:29:11.006Z"
   },
   {
    "duration": 1302,
    "start_time": "2023-10-18T17:29:24.522Z"
   },
   {
    "duration": 138,
    "start_time": "2023-10-18T17:29:25.826Z"
   },
   {
    "duration": 78,
    "start_time": "2023-10-18T17:29:25.966Z"
   },
   {
    "duration": 122,
    "start_time": "2023-10-18T17:29:26.046Z"
   },
   {
    "duration": 2099,
    "start_time": "2023-10-18T17:29:26.171Z"
   },
   {
    "duration": 12,
    "start_time": "2023-10-18T17:29:28.272Z"
   },
   {
    "duration": 53,
    "start_time": "2023-10-18T17:29:28.286Z"
   },
   {
    "duration": 35,
    "start_time": "2023-10-18T17:29:28.341Z"
   },
   {
    "duration": 222,
    "start_time": "2023-10-18T17:29:28.378Z"
   },
   {
    "duration": 17,
    "start_time": "2023-10-18T17:29:28.602Z"
   },
   {
    "duration": 156,
    "start_time": "2023-10-18T17:29:28.620Z"
   },
   {
    "duration": 16,
    "start_time": "2023-10-18T17:29:28.778Z"
   },
   {
    "duration": 29,
    "start_time": "2023-10-18T17:29:28.796Z"
   },
   {
    "duration": 375,
    "start_time": "2023-10-18T17:29:28.828Z"
   },
   {
    "duration": 19,
    "start_time": "2023-10-18T17:29:29.206Z"
   },
   {
    "duration": 42,
    "start_time": "2023-10-18T17:29:29.227Z"
   },
   {
    "duration": 113,
    "start_time": "2023-10-18T17:29:29.270Z"
   },
   {
    "duration": 172,
    "start_time": "2023-10-18T17:29:29.385Z"
   },
   {
    "duration": 132,
    "start_time": "2023-10-18T17:29:29.559Z"
   },
   {
    "duration": 152,
    "start_time": "2023-10-18T17:29:29.692Z"
   },
   {
    "duration": 10,
    "start_time": "2023-10-18T17:29:29.846Z"
   },
   {
    "duration": 163,
    "start_time": "2023-10-18T17:29:29.858Z"
   },
   {
    "duration": 131,
    "start_time": "2023-10-18T17:29:30.023Z"
   },
   {
    "duration": 172,
    "start_time": "2023-10-18T17:29:30.155Z"
   },
   {
    "duration": 10,
    "start_time": "2023-10-18T17:29:30.329Z"
   },
   {
    "duration": 164,
    "start_time": "2023-10-18T17:29:30.340Z"
   },
   {
    "duration": 159,
    "start_time": "2023-10-18T17:29:30.508Z"
   },
   {
    "duration": 156,
    "start_time": "2023-10-18T17:29:30.669Z"
   },
   {
    "duration": 246,
    "start_time": "2023-10-18T17:29:30.827Z"
   },
   {
    "duration": 169,
    "start_time": "2023-10-18T17:29:31.074Z"
   },
   {
    "duration": 177,
    "start_time": "2023-10-18T17:29:31.245Z"
   },
   {
    "duration": 159,
    "start_time": "2023-10-18T17:29:31.424Z"
   },
   {
    "duration": 181,
    "start_time": "2023-10-18T17:29:31.584Z"
   },
   {
    "duration": 164,
    "start_time": "2023-10-18T17:29:31.766Z"
   },
   {
    "duration": 202,
    "start_time": "2023-10-18T17:29:31.932Z"
   },
   {
    "duration": 241,
    "start_time": "2023-10-18T17:29:32.137Z"
   },
   {
    "duration": 189,
    "start_time": "2023-10-18T17:29:32.380Z"
   },
   {
    "duration": 215,
    "start_time": "2023-10-18T17:29:32.570Z"
   },
   {
    "duration": 156,
    "start_time": "2023-10-18T17:29:32.787Z"
   },
   {
    "duration": 179,
    "start_time": "2023-10-18T17:29:32.945Z"
   },
   {
    "duration": 408,
    "start_time": "2023-10-18T17:29:33.128Z"
   },
   {
    "duration": 1169,
    "start_time": "2023-10-18T18:58:53.135Z"
   },
   {
    "duration": 111,
    "start_time": "2023-10-18T18:58:54.306Z"
   },
   {
    "duration": 47,
    "start_time": "2023-10-18T18:58:54.419Z"
   },
   {
    "duration": 93,
    "start_time": "2023-10-18T18:58:54.468Z"
   },
   {
    "duration": 1934,
    "start_time": "2023-10-18T18:58:54.563Z"
   },
   {
    "duration": 14,
    "start_time": "2023-10-18T18:58:56.498Z"
   },
   {
    "duration": 34,
    "start_time": "2023-10-18T18:58:56.514Z"
   },
   {
    "duration": 26,
    "start_time": "2023-10-18T18:58:56.551Z"
   },
   {
    "duration": 210,
    "start_time": "2023-10-18T18:58:56.579Z"
   },
   {
    "duration": 91,
    "start_time": "2023-10-18T18:58:56.791Z"
   },
   {
    "duration": 20,
    "start_time": "2023-10-18T18:58:56.884Z"
   },
   {
    "duration": 24,
    "start_time": "2023-10-18T18:58:56.906Z"
   },
   {
    "duration": 26,
    "start_time": "2023-10-18T18:58:56.932Z"
   },
   {
    "duration": 356,
    "start_time": "2023-10-18T18:58:56.959Z"
   },
   {
    "duration": 7,
    "start_time": "2023-10-18T18:58:57.317Z"
   },
   {
    "duration": 26,
    "start_time": "2023-10-18T18:58:57.326Z"
   },
   {
    "duration": 40,
    "start_time": "2023-10-18T18:58:57.353Z"
   },
   {
    "duration": 174,
    "start_time": "2023-10-18T18:58:57.394Z"
   },
   {
    "duration": 140,
    "start_time": "2023-10-18T18:58:57.570Z"
   },
   {
    "duration": 147,
    "start_time": "2023-10-18T18:58:57.712Z"
   },
   {
    "duration": 11,
    "start_time": "2023-10-18T18:58:57.861Z"
   },
   {
    "duration": 158,
    "start_time": "2023-10-18T18:58:57.874Z"
   },
   {
    "duration": 129,
    "start_time": "2023-10-18T18:58:58.034Z"
   },
   {
    "duration": 154,
    "start_time": "2023-10-18T18:58:58.165Z"
   },
   {
    "duration": 11,
    "start_time": "2023-10-18T18:58:58.320Z"
   },
   {
    "duration": 146,
    "start_time": "2023-10-18T18:58:58.333Z"
   },
   {
    "duration": 164,
    "start_time": "2023-10-18T18:58:58.481Z"
   },
   {
    "duration": 159,
    "start_time": "2023-10-18T18:58:58.649Z"
   },
   {
    "duration": 224,
    "start_time": "2023-10-18T18:58:58.810Z"
   },
   {
    "duration": 160,
    "start_time": "2023-10-18T18:58:59.036Z"
   },
   {
    "duration": 145,
    "start_time": "2023-10-18T18:58:59.197Z"
   },
   {
    "duration": 160,
    "start_time": "2023-10-18T18:58:59.343Z"
   },
   {
    "duration": 169,
    "start_time": "2023-10-18T18:58:59.505Z"
   },
   {
    "duration": 145,
    "start_time": "2023-10-18T18:58:59.676Z"
   },
   {
    "duration": 186,
    "start_time": "2023-10-18T18:58:59.823Z"
   },
   {
    "duration": 233,
    "start_time": "2023-10-18T18:59:00.010Z"
   },
   {
    "duration": 193,
    "start_time": "2023-10-18T18:59:00.245Z"
   },
   {
    "duration": 203,
    "start_time": "2023-10-18T18:59:00.440Z"
   },
   {
    "duration": 161,
    "start_time": "2023-10-18T18:59:00.645Z"
   },
   {
    "duration": 176,
    "start_time": "2023-10-18T18:59:00.808Z"
   },
   {
    "duration": 366,
    "start_time": "2023-10-18T18:59:00.986Z"
   },
   {
    "duration": 69,
    "start_time": "2023-10-18T18:59:41.641Z"
   },
   {
    "duration": 1258,
    "start_time": "2023-10-18T18:59:50.386Z"
   },
   {
    "duration": 113,
    "start_time": "2023-10-18T18:59:51.646Z"
   },
   {
    "duration": 55,
    "start_time": "2023-10-18T18:59:51.761Z"
   },
   {
    "duration": 84,
    "start_time": "2023-10-18T18:59:51.818Z"
   },
   {
    "duration": 1920,
    "start_time": "2023-10-18T18:59:51.904Z"
   },
   {
    "duration": 10,
    "start_time": "2023-10-18T18:59:53.827Z"
   },
   {
    "duration": 43,
    "start_time": "2023-10-18T18:59:53.838Z"
   },
   {
    "duration": 25,
    "start_time": "2023-10-18T18:59:53.883Z"
   },
   {
    "duration": 233,
    "start_time": "2023-10-18T18:59:53.909Z"
   },
   {
    "duration": 10,
    "start_time": "2023-10-18T18:59:54.144Z"
   },
   {
    "duration": 120,
    "start_time": "2023-10-18T18:59:54.156Z"
   },
   {
    "duration": 23,
    "start_time": "2023-10-18T18:59:54.278Z"
   },
   {
    "duration": 44,
    "start_time": "2023-10-18T18:59:54.303Z"
   },
   {
    "duration": 416,
    "start_time": "2023-10-18T18:59:54.350Z"
   },
   {
    "duration": 8,
    "start_time": "2023-10-18T18:59:54.768Z"
   },
   {
    "duration": 84,
    "start_time": "2023-10-18T18:59:54.777Z"
   },
   {
    "duration": 71,
    "start_time": "2023-10-18T18:59:54.863Z"
   },
   {
    "duration": 197,
    "start_time": "2023-10-18T18:59:54.936Z"
   },
   {
    "duration": 143,
    "start_time": "2023-10-18T18:59:55.134Z"
   },
   {
    "duration": 143,
    "start_time": "2023-10-18T18:59:55.279Z"
   },
   {
    "duration": 13,
    "start_time": "2023-10-18T18:59:55.423Z"
   },
   {
    "duration": 152,
    "start_time": "2023-10-18T18:59:55.438Z"
   },
   {
    "duration": 138,
    "start_time": "2023-10-18T18:59:55.592Z"
   },
   {
    "duration": 162,
    "start_time": "2023-10-18T18:59:55.732Z"
   },
   {
    "duration": 16,
    "start_time": "2023-10-18T18:59:55.895Z"
   },
   {
    "duration": 152,
    "start_time": "2023-10-18T18:59:55.913Z"
   },
   {
    "duration": 158,
    "start_time": "2023-10-18T18:59:56.066Z"
   },
   {
    "duration": 152,
    "start_time": "2023-10-18T18:59:56.225Z"
   },
   {
    "duration": 228,
    "start_time": "2023-10-18T18:59:56.378Z"
   },
   {
    "duration": 66,
    "start_time": "2023-10-18T18:59:56.607Z"
   },
   {
    "duration": 153,
    "start_time": "2023-10-18T18:59:56.674Z"
   },
   {
    "duration": 155,
    "start_time": "2023-10-18T18:59:56.828Z"
   },
   {
    "duration": 157,
    "start_time": "2023-10-18T18:59:56.984Z"
   },
   {
    "duration": 198,
    "start_time": "2023-10-18T18:59:57.143Z"
   },
   {
    "duration": 151,
    "start_time": "2023-10-18T18:59:57.342Z"
   },
   {
    "duration": 191,
    "start_time": "2023-10-18T18:59:57.495Z"
   },
   {
    "duration": 229,
    "start_time": "2023-10-18T18:59:57.687Z"
   },
   {
    "duration": 205,
    "start_time": "2023-10-18T18:59:57.918Z"
   },
   {
    "duration": 192,
    "start_time": "2023-10-18T18:59:58.126Z"
   },
   {
    "duration": 153,
    "start_time": "2023-10-18T18:59:58.320Z"
   },
   {
    "duration": 184,
    "start_time": "2023-10-18T18:59:58.477Z"
   },
   {
    "duration": 362,
    "start_time": "2023-10-18T18:59:58.662Z"
   },
   {
    "duration": 53,
    "start_time": "2023-10-19T08:16:59.564Z"
   },
   {
    "duration": 1375,
    "start_time": "2023-10-19T08:17:07.237Z"
   },
   {
    "duration": 328,
    "start_time": "2023-10-19T08:17:08.614Z"
   },
   {
    "duration": 53,
    "start_time": "2023-10-19T08:17:08.944Z"
   },
   {
    "duration": 103,
    "start_time": "2023-10-19T08:17:09.000Z"
   },
   {
    "duration": 1233,
    "start_time": "2023-10-19T09:26:04.375Z"
   },
   {
    "duration": 120,
    "start_time": "2023-10-19T09:26:05.610Z"
   },
   {
    "duration": 55,
    "start_time": "2023-10-19T09:26:05.731Z"
   },
   {
    "duration": 113,
    "start_time": "2023-10-19T09:26:05.788Z"
   },
   {
    "duration": 2119,
    "start_time": "2023-10-19T09:26:05.904Z"
   },
   {
    "duration": 12,
    "start_time": "2023-10-19T09:26:08.025Z"
   },
   {
    "duration": 13,
    "start_time": "2023-10-19T09:26:08.039Z"
   },
   {
    "duration": 23,
    "start_time": "2023-10-19T09:26:08.057Z"
   },
   {
    "duration": 222,
    "start_time": "2023-10-19T09:26:08.081Z"
   },
   {
    "duration": 10,
    "start_time": "2023-10-19T09:26:08.304Z"
   },
   {
    "duration": 116,
    "start_time": "2023-10-19T09:26:08.316Z"
   },
   {
    "duration": 41,
    "start_time": "2023-10-19T09:26:08.434Z"
   },
   {
    "duration": 37,
    "start_time": "2023-10-19T09:26:08.477Z"
   },
   {
    "duration": 390,
    "start_time": "2023-10-19T09:26:08.517Z"
   },
   {
    "duration": 7,
    "start_time": "2023-10-19T09:26:08.909Z"
   },
   {
    "duration": 33,
    "start_time": "2023-10-19T09:26:08.918Z"
   },
   {
    "duration": 15,
    "start_time": "2023-10-19T09:26:08.959Z"
   },
   {
    "duration": 180,
    "start_time": "2023-10-19T09:26:08.975Z"
   },
   {
    "duration": 145,
    "start_time": "2023-10-19T09:26:09.156Z"
   },
   {
    "duration": 160,
    "start_time": "2023-10-19T09:26:09.303Z"
   },
   {
    "duration": 12,
    "start_time": "2023-10-19T09:26:09.465Z"
   },
   {
    "duration": 156,
    "start_time": "2023-10-19T09:26:09.479Z"
   },
   {
    "duration": 147,
    "start_time": "2023-10-19T09:26:09.637Z"
   },
   {
    "duration": 170,
    "start_time": "2023-10-19T09:26:09.786Z"
   },
   {
    "duration": 11,
    "start_time": "2023-10-19T09:26:09.959Z"
   },
   {
    "duration": 154,
    "start_time": "2023-10-19T09:26:09.972Z"
   },
   {
    "duration": 171,
    "start_time": "2023-10-19T09:26:10.128Z"
   },
   {
    "duration": 195,
    "start_time": "2023-10-19T09:26:10.302Z"
   },
   {
    "duration": 257,
    "start_time": "2023-10-19T09:26:10.499Z"
   },
   {
    "duration": 149,
    "start_time": "2023-10-19T09:26:10.758Z"
   },
   {
    "duration": 173,
    "start_time": "2023-10-19T09:26:10.909Z"
   },
   {
    "duration": 188,
    "start_time": "2023-10-19T09:26:11.085Z"
   },
   {
    "duration": 191,
    "start_time": "2023-10-19T09:26:11.275Z"
   },
   {
    "duration": 153,
    "start_time": "2023-10-19T09:26:11.468Z"
   },
   {
    "duration": 206,
    "start_time": "2023-10-19T09:26:11.623Z"
   },
   {
    "duration": 236,
    "start_time": "2023-10-19T09:26:11.831Z"
   },
   {
    "duration": 226,
    "start_time": "2023-10-19T09:26:12.068Z"
   },
   {
    "duration": 210,
    "start_time": "2023-10-19T09:26:12.296Z"
   },
   {
    "duration": 159,
    "start_time": "2023-10-19T09:26:12.507Z"
   },
   {
    "duration": 165,
    "start_time": "2023-10-19T09:26:12.668Z"
   },
   {
    "duration": 378,
    "start_time": "2023-10-19T09:26:12.836Z"
   },
   {
    "duration": 117,
    "start_time": "2023-10-19T09:26:49.621Z"
   },
   {
    "duration": 191,
    "start_time": "2023-10-19T09:27:10.294Z"
   },
   {
    "duration": 134,
    "start_time": "2023-10-19T09:27:20.464Z"
   },
   {
    "duration": 277,
    "start_time": "2023-10-19T09:28:39.870Z"
   },
   {
    "duration": 152,
    "start_time": "2023-10-19T09:28:47.237Z"
   },
   {
    "duration": 142,
    "start_time": "2023-10-19T09:28:55.515Z"
   },
   {
    "duration": 184,
    "start_time": "2023-10-19T09:31:51.207Z"
   },
   {
    "duration": 169,
    "start_time": "2023-10-19T09:32:29.664Z"
   },
   {
    "duration": 163,
    "start_time": "2023-10-19T09:32:50.229Z"
   },
   {
    "duration": 195,
    "start_time": "2023-10-19T09:33:04.970Z"
   },
   {
    "duration": 179,
    "start_time": "2023-10-19T09:39:46.288Z"
   },
   {
    "duration": 39,
    "start_time": "2023-10-19T09:40:33.966Z"
   },
   {
    "duration": 40,
    "start_time": "2023-10-19T09:40:48.983Z"
   },
   {
    "duration": 1230,
    "start_time": "2023-10-19T09:41:03.894Z"
   },
   {
    "duration": 120,
    "start_time": "2023-10-19T09:41:05.126Z"
   },
   {
    "duration": 52,
    "start_time": "2023-10-19T09:41:05.249Z"
   },
   {
    "duration": 85,
    "start_time": "2023-10-19T09:41:05.304Z"
   },
   {
    "duration": 2168,
    "start_time": "2023-10-19T09:41:05.391Z"
   },
   {
    "duration": 10,
    "start_time": "2023-10-19T09:41:07.561Z"
   },
   {
    "duration": 57,
    "start_time": "2023-10-19T09:41:07.573Z"
   },
   {
    "duration": 21,
    "start_time": "2023-10-19T09:41:07.632Z"
   },
   {
    "duration": 220,
    "start_time": "2023-10-19T09:41:07.656Z"
   },
   {
    "duration": 98,
    "start_time": "2023-10-19T09:41:07.879Z"
   },
   {
    "duration": 22,
    "start_time": "2023-10-19T09:41:07.979Z"
   },
   {
    "duration": 33,
    "start_time": "2023-10-19T09:41:08.002Z"
   },
   {
    "duration": 32,
    "start_time": "2023-10-19T09:41:08.037Z"
   },
   {
    "duration": 344,
    "start_time": "2023-10-19T09:41:08.071Z"
   },
   {
    "duration": 7,
    "start_time": "2023-10-19T09:41:08.417Z"
   },
   {
    "duration": 35,
    "start_time": "2023-10-19T09:41:08.426Z"
   },
   {
    "duration": 58,
    "start_time": "2023-10-19T09:41:08.463Z"
   },
   {
    "duration": 337,
    "start_time": "2023-10-19T09:41:08.523Z"
   },
   {
    "duration": 145,
    "start_time": "2023-10-19T09:41:08.862Z"
   },
   {
    "duration": 164,
    "start_time": "2023-10-19T09:41:09.009Z"
   },
   {
    "duration": 12,
    "start_time": "2023-10-19T09:41:09.175Z"
   },
   {
    "duration": 162,
    "start_time": "2023-10-19T09:41:09.188Z"
   },
   {
    "duration": 147,
    "start_time": "2023-10-19T09:41:09.351Z"
   },
   {
    "duration": 178,
    "start_time": "2023-10-19T09:41:09.501Z"
   },
   {
    "duration": 10,
    "start_time": "2023-10-19T09:41:09.682Z"
   },
   {
    "duration": 173,
    "start_time": "2023-10-19T09:41:09.694Z"
   },
   {
    "duration": 168,
    "start_time": "2023-10-19T09:41:09.869Z"
   },
   {
    "duration": 187,
    "start_time": "2023-10-19T09:41:10.043Z"
   },
   {
    "duration": 249,
    "start_time": "2023-10-19T09:41:10.232Z"
   },
   {
    "duration": 165,
    "start_time": "2023-10-19T09:41:10.483Z"
   },
   {
    "duration": 153,
    "start_time": "2023-10-19T09:41:10.655Z"
   },
   {
    "duration": 186,
    "start_time": "2023-10-19T09:41:10.810Z"
   },
   {
    "duration": 190,
    "start_time": "2023-10-19T09:41:10.997Z"
   },
   {
    "duration": 167,
    "start_time": "2023-10-19T09:41:11.189Z"
   },
   {
    "duration": 192,
    "start_time": "2023-10-19T09:41:11.357Z"
   },
   {
    "duration": 225,
    "start_time": "2023-10-19T09:41:11.554Z"
   },
   {
    "duration": 199,
    "start_time": "2023-10-19T09:41:11.781Z"
   },
   {
    "duration": 204,
    "start_time": "2023-10-19T09:41:11.983Z"
   },
   {
    "duration": 191,
    "start_time": "2023-10-19T09:41:12.189Z"
   },
   {
    "duration": 196,
    "start_time": "2023-10-19T09:41:12.383Z"
   },
   {
    "duration": 381,
    "start_time": "2023-10-19T09:41:12.581Z"
   },
   {
    "duration": 4,
    "start_time": "2023-10-19T09:42:26.230Z"
   },
   {
    "duration": 4,
    "start_time": "2023-10-19T09:42:45.312Z"
   },
   {
    "duration": 219,
    "start_time": "2023-10-19T09:43:03.086Z"
   },
   {
    "duration": 1242,
    "start_time": "2023-10-19T09:43:11.556Z"
   },
   {
    "duration": 121,
    "start_time": "2023-10-19T09:43:12.800Z"
   },
   {
    "duration": 64,
    "start_time": "2023-10-19T09:43:12.923Z"
   },
   {
    "duration": 92,
    "start_time": "2023-10-19T09:43:12.990Z"
   },
   {
    "duration": 2234,
    "start_time": "2023-10-19T09:43:13.086Z"
   },
   {
    "duration": 9,
    "start_time": "2023-10-19T09:43:15.322Z"
   },
   {
    "duration": 79,
    "start_time": "2023-10-19T09:43:15.333Z"
   },
   {
    "duration": 6,
    "start_time": "2023-10-19T09:43:15.413Z"
   },
   {
    "duration": 208,
    "start_time": "2023-10-19T09:43:15.421Z"
   },
   {
    "duration": 18,
    "start_time": "2023-10-19T09:43:15.631Z"
   },
   {
    "duration": 90,
    "start_time": "2023-10-19T09:43:15.651Z"
   },
   {
    "duration": 26,
    "start_time": "2023-10-19T09:43:15.742Z"
   },
   {
    "duration": 8,
    "start_time": "2023-10-19T09:43:15.769Z"
   },
   {
    "duration": 354,
    "start_time": "2023-10-19T09:43:15.780Z"
   },
   {
    "duration": 9,
    "start_time": "2023-10-19T09:43:16.136Z"
   },
   {
    "duration": 5,
    "start_time": "2023-10-19T09:43:16.153Z"
   },
   {
    "duration": 16,
    "start_time": "2023-10-19T09:43:16.159Z"
   },
   {
    "duration": 191,
    "start_time": "2023-10-19T09:43:16.176Z"
   },
   {
    "duration": 149,
    "start_time": "2023-10-19T09:43:16.369Z"
   },
   {
    "duration": 166,
    "start_time": "2023-10-19T09:43:16.520Z"
   },
   {
    "duration": 16,
    "start_time": "2023-10-19T09:43:16.688Z"
   },
   {
    "duration": 187,
    "start_time": "2023-10-19T09:43:16.706Z"
   },
   {
    "duration": 131,
    "start_time": "2023-10-19T09:43:16.895Z"
   },
   {
    "duration": 171,
    "start_time": "2023-10-19T09:43:17.028Z"
   },
   {
    "duration": 11,
    "start_time": "2023-10-19T09:43:17.200Z"
   },
   {
    "duration": 157,
    "start_time": "2023-10-19T09:43:17.212Z"
   },
   {
    "duration": 155,
    "start_time": "2023-10-19T09:43:17.371Z"
   },
   {
    "duration": 176,
    "start_time": "2023-10-19T09:43:17.528Z"
   },
   {
    "duration": 228,
    "start_time": "2023-10-19T09:43:17.705Z"
   },
   {
    "duration": 146,
    "start_time": "2023-10-19T09:43:17.934Z"
   },
   {
    "duration": 167,
    "start_time": "2023-10-19T09:43:18.082Z"
   },
   {
    "duration": 161,
    "start_time": "2023-10-19T09:43:18.251Z"
   },
   {
    "duration": 183,
    "start_time": "2023-10-19T09:43:18.413Z"
   },
   {
    "duration": 159,
    "start_time": "2023-10-19T09:43:18.598Z"
   },
   {
    "duration": 176,
    "start_time": "2023-10-19T09:43:18.760Z"
   },
   {
    "duration": 230,
    "start_time": "2023-10-19T09:43:18.938Z"
   },
   {
    "duration": 192,
    "start_time": "2023-10-19T09:43:19.170Z"
   },
   {
    "duration": 194,
    "start_time": "2023-10-19T09:43:19.364Z"
   },
   {
    "duration": 148,
    "start_time": "2023-10-19T09:43:19.559Z"
   },
   {
    "duration": 176,
    "start_time": "2023-10-19T09:43:19.709Z"
   },
   {
    "duration": 389,
    "start_time": "2023-10-19T09:43:19.888Z"
   },
   {
    "duration": 1494,
    "start_time": "2023-10-19T14:23:40.220Z"
   },
   {
    "duration": 353,
    "start_time": "2023-10-19T14:23:41.717Z"
   },
   {
    "duration": 58,
    "start_time": "2023-10-19T14:23:42.072Z"
   },
   {
    "duration": 98,
    "start_time": "2023-10-19T14:23:42.133Z"
   },
   {
    "duration": 2189,
    "start_time": "2023-10-19T14:23:42.233Z"
   },
   {
    "duration": 10,
    "start_time": "2023-10-19T14:23:44.424Z"
   },
   {
    "duration": 70,
    "start_time": "2023-10-19T14:23:44.435Z"
   },
   {
    "duration": 9,
    "start_time": "2023-10-19T14:23:44.507Z"
   },
   {
    "duration": 257,
    "start_time": "2023-10-19T14:23:44.518Z"
   },
   {
    "duration": 110,
    "start_time": "2023-10-19T14:23:44.779Z"
   },
   {
    "duration": 13,
    "start_time": "2023-10-19T14:23:44.900Z"
   },
   {
    "duration": 29,
    "start_time": "2023-10-19T14:23:44.915Z"
   },
   {
    "duration": 3,
    "start_time": "2023-10-19T14:23:44.946Z"
   },
   {
    "duration": 424,
    "start_time": "2023-10-19T14:23:44.951Z"
   },
   {
    "duration": 4,
    "start_time": "2023-10-19T14:23:45.377Z"
   },
   {
    "duration": 8,
    "start_time": "2023-10-19T14:23:45.382Z"
   },
   {
    "duration": 19,
    "start_time": "2023-10-19T14:23:45.404Z"
   },
   {
    "duration": 235,
    "start_time": "2023-10-19T14:23:45.425Z"
   },
   {
    "duration": 155,
    "start_time": "2023-10-19T14:23:45.663Z"
   },
   {
    "duration": 165,
    "start_time": "2023-10-19T14:23:45.819Z"
   },
   {
    "duration": 22,
    "start_time": "2023-10-19T14:23:45.986Z"
   },
   {
    "duration": 164,
    "start_time": "2023-10-19T14:23:46.010Z"
   },
   {
    "duration": 151,
    "start_time": "2023-10-19T14:23:46.176Z"
   },
   {
    "duration": 192,
    "start_time": "2023-10-19T14:23:46.329Z"
   },
   {
    "duration": 12,
    "start_time": "2023-10-19T14:23:46.522Z"
   },
   {
    "duration": 185,
    "start_time": "2023-10-19T14:23:46.536Z"
   },
   {
    "duration": 166,
    "start_time": "2023-10-19T14:23:46.724Z"
   },
   {
    "duration": 188,
    "start_time": "2023-10-19T14:23:46.893Z"
   },
   {
    "duration": 266,
    "start_time": "2023-10-19T14:23:47.083Z"
   },
   {
    "duration": 158,
    "start_time": "2023-10-19T14:23:47.351Z"
   },
   {
    "duration": 165,
    "start_time": "2023-10-19T14:23:47.511Z"
   },
   {
    "duration": 179,
    "start_time": "2023-10-19T14:23:47.678Z"
   },
   {
    "duration": 199,
    "start_time": "2023-10-19T14:23:47.859Z"
   },
   {
    "duration": 172,
    "start_time": "2023-10-19T14:23:48.060Z"
   },
   {
    "duration": 207,
    "start_time": "2023-10-19T14:23:48.234Z"
   },
   {
    "duration": 248,
    "start_time": "2023-10-19T14:23:48.443Z"
   },
   {
    "duration": 199,
    "start_time": "2023-10-19T14:23:48.693Z"
   },
   {
    "duration": 199,
    "start_time": "2023-10-19T14:23:48.894Z"
   },
   {
    "duration": 166,
    "start_time": "2023-10-19T14:23:49.094Z"
   },
   {
    "duration": 190,
    "start_time": "2023-10-19T14:23:49.261Z"
   },
   {
    "duration": 400,
    "start_time": "2023-10-19T14:23:49.452Z"
   },
   {
    "duration": 197,
    "start_time": "2023-10-19T14:24:41.685Z"
   },
   {
    "duration": 202,
    "start_time": "2023-10-19T14:24:52.490Z"
   },
   {
    "duration": 296,
    "start_time": "2023-10-19T14:25:05.379Z"
   },
   {
    "duration": 42,
    "start_time": "2023-10-19T14:25:24.868Z"
   },
   {
    "duration": 194,
    "start_time": "2023-10-19T14:25:34.042Z"
   },
   {
    "duration": 1307,
    "start_time": "2023-10-19T14:26:47.936Z"
   },
   {
    "duration": 130,
    "start_time": "2023-10-19T14:26:49.245Z"
   },
   {
    "duration": 78,
    "start_time": "2023-10-19T14:26:49.377Z"
   },
   {
    "duration": 90,
    "start_time": "2023-10-19T14:26:49.457Z"
   },
   {
    "duration": 2342,
    "start_time": "2023-10-19T14:26:49.549Z"
   },
   {
    "duration": 20,
    "start_time": "2023-10-19T14:26:51.892Z"
   },
   {
    "duration": 67,
    "start_time": "2023-10-19T14:26:51.916Z"
   },
   {
    "duration": 6,
    "start_time": "2023-10-19T14:26:51.985Z"
   },
   {
    "duration": 268,
    "start_time": "2023-10-19T14:26:51.993Z"
   },
   {
    "duration": 114,
    "start_time": "2023-10-19T14:26:52.264Z"
   },
   {
    "duration": 27,
    "start_time": "2023-10-19T14:26:52.380Z"
   },
   {
    "duration": 26,
    "start_time": "2023-10-19T14:26:52.417Z"
   },
   {
    "duration": 29,
    "start_time": "2023-10-19T14:26:52.445Z"
   },
   {
    "duration": 435,
    "start_time": "2023-10-19T14:26:52.476Z"
   },
   {
    "duration": 7,
    "start_time": "2023-10-19T14:26:52.922Z"
   },
   {
    "duration": 83,
    "start_time": "2023-10-19T14:26:52.931Z"
   },
   {
    "duration": 71,
    "start_time": "2023-10-19T14:26:53.016Z"
   },
   {
    "duration": 277,
    "start_time": "2023-10-19T14:26:53.089Z"
   },
   {
    "duration": 187,
    "start_time": "2023-10-19T14:26:53.369Z"
   },
   {
    "duration": 190,
    "start_time": "2023-10-19T14:26:53.558Z"
   },
   {
    "duration": 11,
    "start_time": "2023-10-19T14:26:53.751Z"
   },
   {
    "duration": 183,
    "start_time": "2023-10-19T14:26:53.764Z"
   },
   {
    "duration": 175,
    "start_time": "2023-10-19T14:26:53.950Z"
   },
   {
    "duration": 170,
    "start_time": "2023-10-19T14:26:54.127Z"
   },
   {
    "duration": 132,
    "start_time": "2023-10-19T14:26:54.302Z"
   },
   {
    "duration": 198,
    "start_time": "2023-10-19T14:26:54.435Z"
   },
   {
    "duration": 210,
    "start_time": "2023-10-19T14:26:54.635Z"
   },
   {
    "duration": 199,
    "start_time": "2023-10-19T14:26:54.849Z"
   },
   {
    "duration": 281,
    "start_time": "2023-10-19T14:26:55.050Z"
   },
   {
    "duration": 196,
    "start_time": "2023-10-19T14:26:55.333Z"
   },
   {
    "duration": 180,
    "start_time": "2023-10-19T14:26:55.532Z"
   },
   {
    "duration": 195,
    "start_time": "2023-10-19T14:26:55.714Z"
   },
   {
    "duration": 209,
    "start_time": "2023-10-19T14:26:55.913Z"
   },
   {
    "duration": 149,
    "start_time": "2023-10-19T14:26:56.129Z"
   },
   {
    "duration": 247,
    "start_time": "2023-10-19T14:26:56.280Z"
   },
   {
    "duration": 264,
    "start_time": "2023-10-19T14:26:56.530Z"
   },
   {
    "duration": 222,
    "start_time": "2023-10-19T14:26:56.796Z"
   },
   {
    "duration": 209,
    "start_time": "2023-10-19T14:26:57.020Z"
   },
   {
    "duration": 196,
    "start_time": "2023-10-19T14:26:57.230Z"
   },
   {
    "duration": 204,
    "start_time": "2023-10-19T14:26:57.428Z"
   },
   {
    "duration": 440,
    "start_time": "2023-10-19T14:26:57.634Z"
   },
   {
    "duration": 180,
    "start_time": "2023-10-19T14:27:27.970Z"
   },
   {
    "duration": 270,
    "start_time": "2023-10-19T14:27:44.762Z"
   },
   {
    "duration": 355,
    "start_time": "2023-10-19T14:27:49.587Z"
   },
   {
    "duration": 210,
    "start_time": "2023-10-19T14:28:45.753Z"
   },
   {
    "duration": 168,
    "start_time": "2023-10-19T14:29:09.156Z"
   },
   {
    "duration": 168,
    "start_time": "2023-10-19T14:29:26.656Z"
   },
   {
    "duration": 181,
    "start_time": "2023-10-19T14:29:36.158Z"
   },
   {
    "duration": 197,
    "start_time": "2023-10-19T14:29:42.827Z"
   },
   {
    "duration": 173,
    "start_time": "2023-10-19T14:29:52.566Z"
   },
   {
    "duration": 206,
    "start_time": "2023-10-19T14:30:00.470Z"
   },
   {
    "duration": 1357,
    "start_time": "2023-10-19T14:30:07.976Z"
   },
   {
    "duration": 126,
    "start_time": "2023-10-19T14:30:09.336Z"
   },
   {
    "duration": 61,
    "start_time": "2023-10-19T14:30:09.464Z"
   },
   {
    "duration": 91,
    "start_time": "2023-10-19T14:30:09.527Z"
   },
   {
    "duration": 2150,
    "start_time": "2023-10-19T14:30:09.620Z"
   },
   {
    "duration": 11,
    "start_time": "2023-10-19T14:30:11.772Z"
   },
   {
    "duration": 60,
    "start_time": "2023-10-19T14:30:11.785Z"
   },
   {
    "duration": 8,
    "start_time": "2023-10-19T14:30:11.847Z"
   },
   {
    "duration": 209,
    "start_time": "2023-10-19T14:30:11.857Z"
   },
   {
    "duration": 101,
    "start_time": "2023-10-19T14:30:12.069Z"
   },
   {
    "duration": 19,
    "start_time": "2023-10-19T14:30:12.172Z"
   },
   {
    "duration": 33,
    "start_time": "2023-10-19T14:30:12.193Z"
   },
   {
    "duration": 4,
    "start_time": "2023-10-19T14:30:12.228Z"
   },
   {
    "duration": 395,
    "start_time": "2023-10-19T14:30:12.234Z"
   },
   {
    "duration": 4,
    "start_time": "2023-10-19T14:30:12.631Z"
   },
   {
    "duration": 12,
    "start_time": "2023-10-19T14:30:12.637Z"
   },
   {
    "duration": 17,
    "start_time": "2023-10-19T14:30:12.651Z"
   },
   {
    "duration": 217,
    "start_time": "2023-10-19T14:30:12.670Z"
   },
   {
    "duration": 160,
    "start_time": "2023-10-19T14:30:12.889Z"
   },
   {
    "duration": 223,
    "start_time": "2023-10-19T14:30:13.051Z"
   },
   {
    "duration": 25,
    "start_time": "2023-10-19T14:30:13.276Z"
   },
   {
    "duration": 206,
    "start_time": "2023-10-19T14:30:13.303Z"
   },
   {
    "duration": 169,
    "start_time": "2023-10-19T14:30:13.511Z"
   },
   {
    "duration": 186,
    "start_time": "2023-10-19T14:30:13.682Z"
   },
   {
    "duration": 13,
    "start_time": "2023-10-19T14:30:13.870Z"
   },
   {
    "duration": 156,
    "start_time": "2023-10-19T14:30:13.885Z"
   },
   {
    "duration": 154,
    "start_time": "2023-10-19T14:30:14.043Z"
   },
   {
    "duration": 279,
    "start_time": "2023-10-19T14:30:14.203Z"
   },
   {
    "duration": 367,
    "start_time": "2023-10-19T14:30:14.484Z"
   },
   {
    "duration": 170,
    "start_time": "2023-10-19T14:30:14.853Z"
   },
   {
    "duration": 200,
    "start_time": "2023-10-19T14:30:15.025Z"
   },
   {
    "duration": 198,
    "start_time": "2023-10-19T14:30:15.227Z"
   },
   {
    "duration": 213,
    "start_time": "2023-10-19T14:30:15.427Z"
   },
   {
    "duration": 190,
    "start_time": "2023-10-19T14:30:15.643Z"
   },
   {
    "duration": 230,
    "start_time": "2023-10-19T14:30:15.835Z"
   },
   {
    "duration": 249,
    "start_time": "2023-10-19T14:30:16.067Z"
   },
   {
    "duration": 213,
    "start_time": "2023-10-19T14:30:16.318Z"
   },
   {
    "duration": 222,
    "start_time": "2023-10-19T14:30:16.533Z"
   },
   {
    "duration": 163,
    "start_time": "2023-10-19T14:30:16.757Z"
   },
   {
    "duration": 219,
    "start_time": "2023-10-19T14:30:16.921Z"
   },
   {
    "duration": 441,
    "start_time": "2023-10-19T14:30:17.142Z"
   },
   {
    "duration": 235,
    "start_time": "2023-10-19T14:32:04.594Z"
   },
   {
    "duration": 1287,
    "start_time": "2023-10-19T14:32:31.364Z"
   },
   {
    "duration": 127,
    "start_time": "2023-10-19T14:32:32.653Z"
   },
   {
    "duration": 166,
    "start_time": "2023-10-19T14:32:32.782Z"
   },
   {
    "duration": 87,
    "start_time": "2023-10-19T14:32:32.951Z"
   },
   {
    "duration": 2298,
    "start_time": "2023-10-19T14:32:33.040Z"
   },
   {
    "duration": 11,
    "start_time": "2023-10-19T14:32:35.340Z"
   },
   {
    "duration": 277,
    "start_time": "2023-10-19T14:32:35.352Z"
   },
   {
    "duration": 9,
    "start_time": "2023-10-19T14:32:35.631Z"
   },
   {
    "duration": 238,
    "start_time": "2023-10-19T14:32:35.642Z"
   },
   {
    "duration": 103,
    "start_time": "2023-10-19T14:32:35.884Z"
   },
   {
    "duration": 24,
    "start_time": "2023-10-19T14:32:35.990Z"
   },
   {
    "duration": 18,
    "start_time": "2023-10-19T14:32:36.016Z"
   },
   {
    "duration": 4,
    "start_time": "2023-10-19T14:32:36.036Z"
   },
   {
    "duration": 404,
    "start_time": "2023-10-19T14:32:36.042Z"
   },
   {
    "duration": 5,
    "start_time": "2023-10-19T14:32:36.448Z"
   },
   {
    "duration": 20,
    "start_time": "2023-10-19T14:32:36.455Z"
   },
   {
    "duration": 20,
    "start_time": "2023-10-19T14:32:36.477Z"
   },
   {
    "duration": 212,
    "start_time": "2023-10-19T14:32:36.501Z"
   },
   {
    "duration": 163,
    "start_time": "2023-10-19T14:32:36.717Z"
   },
   {
    "duration": 239,
    "start_time": "2023-10-19T14:32:36.882Z"
   },
   {
    "duration": 12,
    "start_time": "2023-10-19T14:32:37.122Z"
   },
   {
    "duration": 235,
    "start_time": "2023-10-19T14:32:37.136Z"
   },
   {
    "duration": 173,
    "start_time": "2023-10-19T14:32:37.373Z"
   },
   {
    "duration": 186,
    "start_time": "2023-10-19T14:32:37.548Z"
   },
   {
    "duration": 13,
    "start_time": "2023-10-19T14:32:37.736Z"
   },
   {
    "duration": 168,
    "start_time": "2023-10-19T14:32:37.750Z"
   },
   {
    "duration": 167,
    "start_time": "2023-10-19T14:32:37.921Z"
   },
   {
    "duration": 199,
    "start_time": "2023-10-19T14:32:38.092Z"
   },
   {
    "duration": 342,
    "start_time": "2023-10-19T14:32:38.293Z"
   },
   {
    "duration": 175,
    "start_time": "2023-10-19T14:32:38.637Z"
   },
   {
    "duration": 215,
    "start_time": "2023-10-19T14:32:38.814Z"
   },
   {
    "duration": 214,
    "start_time": "2023-10-19T14:32:39.031Z"
   },
   {
    "duration": 217,
    "start_time": "2023-10-19T14:32:39.248Z"
   },
   {
    "duration": 195,
    "start_time": "2023-10-19T14:32:39.466Z"
   },
   {
    "duration": 253,
    "start_time": "2023-10-19T14:32:39.663Z"
   },
   {
    "duration": 255,
    "start_time": "2023-10-19T14:32:39.918Z"
   },
   {
    "duration": 204,
    "start_time": "2023-10-19T14:32:40.174Z"
   },
   {
    "duration": 235,
    "start_time": "2023-10-19T14:32:40.379Z"
   },
   {
    "duration": 141,
    "start_time": "2023-10-19T14:32:40.616Z"
   },
   {
    "duration": 228,
    "start_time": "2023-10-19T14:32:40.758Z"
   },
   {
    "duration": 443,
    "start_time": "2023-10-19T14:32:40.987Z"
   },
   {
    "duration": 184,
    "start_time": "2023-10-19T14:38:50.330Z"
   },
   {
    "duration": 1337,
    "start_time": "2023-10-19T15:53:16.435Z"
   },
   {
    "duration": 180,
    "start_time": "2023-10-19T15:53:17.774Z"
   },
   {
    "duration": 59,
    "start_time": "2023-10-19T15:53:17.956Z"
   },
   {
    "duration": 102,
    "start_time": "2023-10-19T15:53:18.016Z"
   },
   {
    "duration": 2169,
    "start_time": "2023-10-19T15:53:18.121Z"
   },
   {
    "duration": 11,
    "start_time": "2023-10-19T15:53:20.291Z"
   },
   {
    "duration": 75,
    "start_time": "2023-10-19T15:53:20.304Z"
   },
   {
    "duration": 7,
    "start_time": "2023-10-19T15:53:20.381Z"
   },
   {
    "duration": 201,
    "start_time": "2023-10-19T15:53:20.389Z"
   },
   {
    "duration": 10,
    "start_time": "2023-10-19T15:53:20.593Z"
   },
   {
    "duration": 138,
    "start_time": "2023-10-19T15:53:20.606Z"
   },
   {
    "duration": 29,
    "start_time": "2023-10-19T15:53:20.746Z"
   },
   {
    "duration": 4,
    "start_time": "2023-10-19T15:53:20.777Z"
   },
   {
    "duration": 390,
    "start_time": "2023-10-19T15:53:20.784Z"
   },
   {
    "duration": 4,
    "start_time": "2023-10-19T15:53:21.176Z"
   },
   {
    "duration": 23,
    "start_time": "2023-10-19T15:53:21.182Z"
   },
   {
    "duration": 20,
    "start_time": "2023-10-19T15:53:21.208Z"
   },
   {
    "duration": 199,
    "start_time": "2023-10-19T15:53:21.230Z"
   },
   {
    "duration": 169,
    "start_time": "2023-10-19T15:53:21.430Z"
   },
   {
    "duration": 226,
    "start_time": "2023-10-19T15:53:21.600Z"
   },
   {
    "duration": 12,
    "start_time": "2023-10-19T15:53:21.828Z"
   },
   {
    "duration": 202,
    "start_time": "2023-10-19T15:53:21.841Z"
   },
   {
    "duration": 174,
    "start_time": "2023-10-19T15:53:22.044Z"
   },
   {
    "duration": 176,
    "start_time": "2023-10-19T15:53:22.220Z"
   },
   {
    "duration": 12,
    "start_time": "2023-10-19T15:53:22.398Z"
   },
   {
    "duration": 160,
    "start_time": "2023-10-19T15:53:22.412Z"
   },
   {
    "duration": 184,
    "start_time": "2023-10-19T15:53:22.574Z"
   },
   {
    "duration": 199,
    "start_time": "2023-10-19T15:53:22.760Z"
   },
   {
    "duration": 317,
    "start_time": "2023-10-19T15:53:22.960Z"
   },
   {
    "duration": 191,
    "start_time": "2023-10-19T15:53:23.279Z"
   },
   {
    "duration": 211,
    "start_time": "2023-10-19T15:53:23.472Z"
   },
   {
    "duration": 222,
    "start_time": "2023-10-19T15:53:23.685Z"
   },
   {
    "duration": 229,
    "start_time": "2023-10-19T15:53:23.909Z"
   },
   {
    "duration": 218,
    "start_time": "2023-10-19T15:53:24.140Z"
   },
   {
    "duration": 232,
    "start_time": "2023-10-19T15:53:24.360Z"
   },
   {
    "duration": 256,
    "start_time": "2023-10-19T15:53:24.593Z"
   },
   {
    "duration": 199,
    "start_time": "2023-10-19T15:53:24.850Z"
   },
   {
    "duration": 208,
    "start_time": "2023-10-19T15:53:25.051Z"
   },
   {
    "duration": 164,
    "start_time": "2023-10-19T15:53:25.260Z"
   },
   {
    "duration": 257,
    "start_time": "2023-10-19T15:53:25.426Z"
   },
   {
    "duration": 414,
    "start_time": "2023-10-19T15:53:25.688Z"
   },
   {
    "duration": 119,
    "start_time": "2023-10-19T15:56:21.354Z"
   },
   {
    "duration": 277,
    "start_time": "2023-10-19T16:01:45.910Z"
   },
   {
    "duration": 269,
    "start_time": "2023-10-19T16:02:10.316Z"
   },
   {
    "duration": 52,
    "start_time": "2023-10-19T17:19:32.047Z"
   },
   {
    "duration": 6,
    "start_time": "2023-10-19T17:20:27.622Z"
   },
   {
    "duration": 6,
    "start_time": "2023-10-19T17:21:06.365Z"
   },
   {
    "duration": 1464,
    "start_time": "2023-10-19T17:22:51.262Z"
   },
   {
    "duration": 644,
    "start_time": "2023-10-19T17:22:52.728Z"
   },
   {
    "duration": 56,
    "start_time": "2023-10-19T17:22:53.373Z"
   },
   {
    "duration": 86,
    "start_time": "2023-10-19T17:22:53.431Z"
   },
   {
    "duration": 2159,
    "start_time": "2023-10-19T17:22:53.518Z"
   },
   {
    "duration": 11,
    "start_time": "2023-10-19T17:22:55.679Z"
   },
   {
    "duration": 60,
    "start_time": "2023-10-19T17:22:55.692Z"
   },
   {
    "duration": 7,
    "start_time": "2023-10-19T17:22:55.754Z"
   },
   {
    "duration": 226,
    "start_time": "2023-10-19T17:22:55.762Z"
   },
   {
    "duration": 105,
    "start_time": "2023-10-19T17:22:55.992Z"
   },
   {
    "duration": 20,
    "start_time": "2023-10-19T17:22:56.099Z"
   },
   {
    "duration": 30,
    "start_time": "2023-10-19T17:22:56.121Z"
   },
   {
    "duration": 86,
    "start_time": "2023-10-19T17:22:56.154Z"
   },
   {
    "duration": 370,
    "start_time": "2023-10-19T17:22:56.242Z"
   },
   {
    "duration": 4,
    "start_time": "2023-10-19T17:22:56.614Z"
   },
   {
    "duration": 58,
    "start_time": "2023-10-19T17:22:56.620Z"
   },
   {
    "duration": 42,
    "start_time": "2023-10-19T17:22:56.680Z"
   },
   {
    "duration": 229,
    "start_time": "2023-10-19T17:22:56.724Z"
   },
   {
    "duration": 168,
    "start_time": "2023-10-19T17:22:56.954Z"
   },
   {
    "duration": 225,
    "start_time": "2023-10-19T17:22:57.124Z"
   },
   {
    "duration": 13,
    "start_time": "2023-10-19T17:22:57.350Z"
   },
   {
    "duration": 193,
    "start_time": "2023-10-19T17:22:57.364Z"
   },
   {
    "duration": 167,
    "start_time": "2023-10-19T17:22:57.559Z"
   },
   {
    "duration": 167,
    "start_time": "2023-10-19T17:22:57.727Z"
   },
   {
    "duration": 11,
    "start_time": "2023-10-19T17:22:57.896Z"
   },
   {
    "duration": 158,
    "start_time": "2023-10-19T17:22:57.909Z"
   },
   {
    "duration": 0,
    "start_time": "2023-10-19T17:22:58.070Z"
   },
   {
    "duration": 0,
    "start_time": "2023-10-19T17:22:58.071Z"
   },
   {
    "duration": 0,
    "start_time": "2023-10-19T17:22:58.073Z"
   },
   {
    "duration": 0,
    "start_time": "2023-10-19T17:22:58.075Z"
   },
   {
    "duration": 0,
    "start_time": "2023-10-19T17:22:58.076Z"
   },
   {
    "duration": 0,
    "start_time": "2023-10-19T17:22:58.078Z"
   },
   {
    "duration": 0,
    "start_time": "2023-10-19T17:22:58.080Z"
   },
   {
    "duration": 0,
    "start_time": "2023-10-19T17:22:58.081Z"
   },
   {
    "duration": 0,
    "start_time": "2023-10-19T17:22:58.083Z"
   },
   {
    "duration": 1,
    "start_time": "2023-10-19T17:22:58.084Z"
   },
   {
    "duration": 0,
    "start_time": "2023-10-19T17:22:58.086Z"
   },
   {
    "duration": 0,
    "start_time": "2023-10-19T17:22:58.087Z"
   },
   {
    "duration": 0,
    "start_time": "2023-10-19T17:22:58.088Z"
   },
   {
    "duration": 1,
    "start_time": "2023-10-19T17:22:58.091Z"
   },
   {
    "duration": 0,
    "start_time": "2023-10-19T17:22:58.093Z"
   },
   {
    "duration": 0,
    "start_time": "2023-10-19T17:22:58.096Z"
   },
   {
    "duration": 144,
    "start_time": "2023-10-19T17:23:08.459Z"
   },
   {
    "duration": 154,
    "start_time": "2023-10-19T17:23:14.233Z"
   },
   {
    "duration": 166,
    "start_time": "2023-10-19T17:23:14.584Z"
   },
   {
    "duration": 291,
    "start_time": "2023-10-19T17:23:14.900Z"
   },
   {
    "duration": 256,
    "start_time": "2023-10-19T17:23:16.233Z"
   },
   {
    "duration": 157,
    "start_time": "2023-10-19T17:23:16.491Z"
   },
   {
    "duration": 174,
    "start_time": "2023-10-19T17:23:16.722Z"
   },
   {
    "duration": 198,
    "start_time": "2023-10-19T17:23:17.196Z"
   },
   {
    "duration": 207,
    "start_time": "2023-10-19T17:23:17.519Z"
   },
   {
    "duration": 191,
    "start_time": "2023-10-19T17:23:17.837Z"
   },
   {
    "duration": 201,
    "start_time": "2023-10-19T17:23:18.140Z"
   },
   {
    "duration": 232,
    "start_time": "2023-10-19T17:23:18.458Z"
   },
   {
    "duration": 193,
    "start_time": "2023-10-19T17:23:18.778Z"
   },
   {
    "duration": 197,
    "start_time": "2023-10-19T17:23:19.126Z"
   },
   {
    "duration": 152,
    "start_time": "2023-10-19T17:23:19.439Z"
   },
   {
    "duration": 201,
    "start_time": "2023-10-19T17:23:20.949Z"
   },
   {
    "duration": 406,
    "start_time": "2023-10-19T17:23:21.842Z"
   },
   {
    "duration": 308,
    "start_time": "2023-10-19T17:23:48.307Z"
   },
   {
    "duration": 187,
    "start_time": "2023-10-19T17:23:51.428Z"
   },
   {
    "duration": 205,
    "start_time": "2023-10-19T17:23:51.784Z"
   },
   {
    "duration": 146,
    "start_time": "2023-10-19T17:24:11.009Z"
   },
   {
    "duration": 1336,
    "start_time": "2023-10-19T17:24:33.617Z"
   },
   {
    "duration": 122,
    "start_time": "2023-10-19T17:24:34.955Z"
   },
   {
    "duration": 57,
    "start_time": "2023-10-19T17:24:35.079Z"
   },
   {
    "duration": 131,
    "start_time": "2023-10-19T17:24:35.139Z"
   },
   {
    "duration": 2114,
    "start_time": "2023-10-19T17:24:35.272Z"
   },
   {
    "duration": 10,
    "start_time": "2023-10-19T17:24:37.388Z"
   },
   {
    "duration": 52,
    "start_time": "2023-10-19T17:24:37.400Z"
   },
   {
    "duration": 6,
    "start_time": "2023-10-19T17:24:37.454Z"
   },
   {
    "duration": 205,
    "start_time": "2023-10-19T17:24:37.462Z"
   },
   {
    "duration": 106,
    "start_time": "2023-10-19T17:24:37.671Z"
   },
   {
    "duration": 12,
    "start_time": "2023-10-19T17:24:37.780Z"
   },
   {
    "duration": 17,
    "start_time": "2023-10-19T17:24:37.794Z"
   },
   {
    "duration": 9,
    "start_time": "2023-10-19T17:24:37.812Z"
   },
   {
    "duration": 398,
    "start_time": "2023-10-19T17:24:37.823Z"
   },
   {
    "duration": 4,
    "start_time": "2023-10-19T17:24:38.223Z"
   },
   {
    "duration": 20,
    "start_time": "2023-10-19T17:24:38.229Z"
   },
   {
    "duration": 33,
    "start_time": "2023-10-19T17:24:38.252Z"
   },
   {
    "duration": 195,
    "start_time": "2023-10-19T17:24:38.288Z"
   },
   {
    "duration": 165,
    "start_time": "2023-10-19T17:24:38.485Z"
   },
   {
    "duration": 227,
    "start_time": "2023-10-19T17:24:38.652Z"
   },
   {
    "duration": 13,
    "start_time": "2023-10-19T17:24:38.881Z"
   },
   {
    "duration": 233,
    "start_time": "2023-10-19T17:24:38.896Z"
   },
   {
    "duration": 166,
    "start_time": "2023-10-19T17:24:39.131Z"
   },
   {
    "duration": 173,
    "start_time": "2023-10-19T17:24:39.300Z"
   },
   {
    "duration": 12,
    "start_time": "2023-10-19T17:24:39.475Z"
   },
   {
    "duration": 157,
    "start_time": "2023-10-19T17:24:39.489Z"
   },
   {
    "duration": 163,
    "start_time": "2023-10-19T17:24:39.648Z"
   },
   {
    "duration": 188,
    "start_time": "2023-10-19T17:24:39.815Z"
   },
   {
    "duration": 294,
    "start_time": "2023-10-19T17:24:40.005Z"
   },
   {
    "duration": 265,
    "start_time": "2023-10-19T17:24:40.301Z"
   },
   {
    "duration": 152,
    "start_time": "2023-10-19T17:24:40.568Z"
   },
   {
    "duration": 188,
    "start_time": "2023-10-19T17:24:40.722Z"
   },
   {
    "duration": 208,
    "start_time": "2023-10-19T17:24:40.912Z"
   },
   {
    "duration": 200,
    "start_time": "2023-10-19T17:24:41.122Z"
   },
   {
    "duration": 224,
    "start_time": "2023-10-19T17:24:41.323Z"
   },
   {
    "duration": 225,
    "start_time": "2023-10-19T17:24:41.549Z"
   },
   {
    "duration": 250,
    "start_time": "2023-10-19T17:24:41.776Z"
   },
   {
    "duration": 217,
    "start_time": "2023-10-19T17:24:42.028Z"
   },
   {
    "duration": 212,
    "start_time": "2023-10-19T17:24:42.246Z"
   },
   {
    "duration": 151,
    "start_time": "2023-10-19T17:24:42.460Z"
   },
   {
    "duration": 206,
    "start_time": "2023-10-19T17:24:42.613Z"
   },
   {
    "duration": 458,
    "start_time": "2023-10-19T17:24:42.820Z"
   },
   {
    "duration": 298,
    "start_time": "2023-10-19T17:26:21.348Z"
   },
   {
    "duration": 151,
    "start_time": "2023-10-19T17:27:08.351Z"
   },
   {
    "duration": 1255,
    "start_time": "2023-10-19T17:27:14.103Z"
   },
   {
    "duration": 153,
    "start_time": "2023-10-19T17:27:15.362Z"
   },
   {
    "duration": 76,
    "start_time": "2023-10-19T17:27:15.517Z"
   },
   {
    "duration": 102,
    "start_time": "2023-10-19T17:27:15.596Z"
   },
   {
    "duration": 2075,
    "start_time": "2023-10-19T17:27:15.699Z"
   },
   {
    "duration": 10,
    "start_time": "2023-10-19T17:27:17.776Z"
   },
   {
    "duration": 71,
    "start_time": "2023-10-19T17:27:17.788Z"
   },
   {
    "duration": 7,
    "start_time": "2023-10-19T17:27:17.861Z"
   },
   {
    "duration": 211,
    "start_time": "2023-10-19T17:27:17.870Z"
   },
   {
    "duration": 107,
    "start_time": "2023-10-19T17:27:18.084Z"
   },
   {
    "duration": 12,
    "start_time": "2023-10-19T17:27:18.193Z"
   },
   {
    "duration": 18,
    "start_time": "2023-10-19T17:27:18.207Z"
   },
   {
    "duration": 22,
    "start_time": "2023-10-19T17:27:18.226Z"
   },
   {
    "duration": 369,
    "start_time": "2023-10-19T17:27:18.251Z"
   },
   {
    "duration": 5,
    "start_time": "2023-10-19T17:27:18.621Z"
   },
   {
    "duration": 27,
    "start_time": "2023-10-19T17:27:18.628Z"
   },
   {
    "duration": 24,
    "start_time": "2023-10-19T17:27:18.657Z"
   },
   {
    "duration": 188,
    "start_time": "2023-10-19T17:27:18.683Z"
   },
   {
    "duration": 169,
    "start_time": "2023-10-19T17:27:18.872Z"
   },
   {
    "duration": 219,
    "start_time": "2023-10-19T17:27:19.047Z"
   },
   {
    "duration": 11,
    "start_time": "2023-10-19T17:27:19.268Z"
   },
   {
    "duration": 214,
    "start_time": "2023-10-19T17:27:19.281Z"
   },
   {
    "duration": 164,
    "start_time": "2023-10-19T17:27:19.497Z"
   },
   {
    "duration": 163,
    "start_time": "2023-10-19T17:27:19.663Z"
   },
   {
    "duration": 22,
    "start_time": "2023-10-19T17:27:19.828Z"
   },
   {
    "duration": 152,
    "start_time": "2023-10-19T17:27:19.852Z"
   },
   {
    "duration": 165,
    "start_time": "2023-10-19T17:27:20.006Z"
   },
   {
    "duration": 186,
    "start_time": "2023-10-19T17:27:20.176Z"
   },
   {
    "duration": 315,
    "start_time": "2023-10-19T17:27:20.364Z"
   },
   {
    "duration": 255,
    "start_time": "2023-10-19T17:27:20.682Z"
   },
   {
    "duration": 154,
    "start_time": "2023-10-19T17:27:20.939Z"
   },
   {
    "duration": 185,
    "start_time": "2023-10-19T17:27:21.095Z"
   },
   {
    "duration": 211,
    "start_time": "2023-10-19T17:27:21.282Z"
   },
   {
    "duration": 209,
    "start_time": "2023-10-19T17:27:21.495Z"
   },
   {
    "duration": 189,
    "start_time": "2023-10-19T17:27:21.705Z"
   },
   {
    "duration": 212,
    "start_time": "2023-10-19T17:27:21.896Z"
   },
   {
    "duration": 250,
    "start_time": "2023-10-19T17:27:22.110Z"
   },
   {
    "duration": 197,
    "start_time": "2023-10-19T17:27:22.361Z"
   },
   {
    "duration": 207,
    "start_time": "2023-10-19T17:27:22.560Z"
   },
   {
    "duration": 148,
    "start_time": "2023-10-19T17:27:22.769Z"
   },
   {
    "duration": 194,
    "start_time": "2023-10-19T17:27:22.919Z"
   },
   {
    "duration": 414,
    "start_time": "2023-10-19T17:27:23.115Z"
   },
   {
    "duration": 302,
    "start_time": "2023-10-19T17:29:03.974Z"
   },
   {
    "duration": 191,
    "start_time": "2023-10-19T17:29:14.844Z"
   },
   {
    "duration": 193,
    "start_time": "2023-10-19T17:29:52.772Z"
   },
   {
    "duration": 1298,
    "start_time": "2023-10-19T17:30:00.541Z"
   },
   {
    "duration": 118,
    "start_time": "2023-10-19T17:30:01.841Z"
   },
   {
    "duration": 815,
    "start_time": "2023-10-19T17:30:01.961Z"
   },
   {
    "duration": 86,
    "start_time": "2023-10-19T17:30:02.779Z"
   },
   {
    "duration": 2092,
    "start_time": "2023-10-19T17:30:02.866Z"
   },
   {
    "duration": 11,
    "start_time": "2023-10-19T17:30:04.959Z"
   },
   {
    "duration": 57,
    "start_time": "2023-10-19T17:30:04.971Z"
   },
   {
    "duration": 17,
    "start_time": "2023-10-19T17:30:05.030Z"
   },
   {
    "duration": 228,
    "start_time": "2023-10-19T17:30:05.049Z"
   },
   {
    "duration": 114,
    "start_time": "2023-10-19T17:30:05.281Z"
   },
   {
    "duration": 17,
    "start_time": "2023-10-19T17:30:05.396Z"
   },
   {
    "duration": 35,
    "start_time": "2023-10-19T17:30:05.415Z"
   },
   {
    "duration": 11,
    "start_time": "2023-10-19T17:30:05.452Z"
   },
   {
    "duration": 369,
    "start_time": "2023-10-19T17:30:05.465Z"
   },
   {
    "duration": 3,
    "start_time": "2023-10-19T17:30:05.836Z"
   },
   {
    "duration": 9,
    "start_time": "2023-10-19T17:30:05.847Z"
   },
   {
    "duration": 32,
    "start_time": "2023-10-19T17:30:05.857Z"
   },
   {
    "duration": 214,
    "start_time": "2023-10-19T17:30:05.891Z"
   },
   {
    "duration": 165,
    "start_time": "2023-10-19T17:30:06.107Z"
   },
   {
    "duration": 226,
    "start_time": "2023-10-19T17:30:06.274Z"
   },
   {
    "duration": 13,
    "start_time": "2023-10-19T17:30:06.501Z"
   },
   {
    "duration": 213,
    "start_time": "2023-10-19T17:30:06.516Z"
   },
   {
    "duration": 166,
    "start_time": "2023-10-19T17:30:06.731Z"
   },
   {
    "duration": 164,
    "start_time": "2023-10-19T17:30:06.899Z"
   },
   {
    "duration": 11,
    "start_time": "2023-10-19T17:30:07.065Z"
   },
   {
    "duration": 171,
    "start_time": "2023-10-19T17:30:07.078Z"
   },
   {
    "duration": 166,
    "start_time": "2023-10-19T17:30:07.251Z"
   },
   {
    "duration": 175,
    "start_time": "2023-10-19T17:30:07.421Z"
   },
   {
    "duration": 288,
    "start_time": "2023-10-19T17:30:07.598Z"
   },
   {
    "duration": 261,
    "start_time": "2023-10-19T17:30:07.888Z"
   },
   {
    "duration": 152,
    "start_time": "2023-10-19T17:30:08.151Z"
   },
   {
    "duration": 182,
    "start_time": "2023-10-19T17:30:08.305Z"
   },
   {
    "duration": 229,
    "start_time": "2023-10-19T17:30:08.489Z"
   },
   {
    "duration": 209,
    "start_time": "2023-10-19T17:30:08.720Z"
   },
   {
    "duration": 209,
    "start_time": "2023-10-19T17:30:08.931Z"
   },
   {
    "duration": 210,
    "start_time": "2023-10-19T17:30:09.142Z"
   },
   {
    "duration": 244,
    "start_time": "2023-10-19T17:30:09.354Z"
   },
   {
    "duration": 201,
    "start_time": "2023-10-19T17:30:09.600Z"
   },
   {
    "duration": 217,
    "start_time": "2023-10-19T17:30:09.803Z"
   },
   {
    "duration": 158,
    "start_time": "2023-10-19T17:30:10.022Z"
   },
   {
    "duration": 220,
    "start_time": "2023-10-19T17:30:10.181Z"
   },
   {
    "duration": 402,
    "start_time": "2023-10-19T17:30:10.404Z"
   },
   {
    "duration": 317,
    "start_time": "2023-10-19T17:34:33.436Z"
   },
   {
    "duration": 155,
    "start_time": "2023-10-19T17:34:49.111Z"
   },
   {
    "duration": 175,
    "start_time": "2023-10-19T17:34:53.340Z"
   },
   {
    "duration": 1322,
    "start_time": "2023-10-19T17:35:17.929Z"
   },
   {
    "duration": 123,
    "start_time": "2023-10-19T17:35:19.253Z"
   },
   {
    "duration": 56,
    "start_time": "2023-10-19T17:35:19.377Z"
   },
   {
    "duration": 92,
    "start_time": "2023-10-19T17:35:19.434Z"
   },
   {
    "duration": 2169,
    "start_time": "2023-10-19T17:35:19.529Z"
   },
   {
    "duration": 11,
    "start_time": "2023-10-19T17:35:21.699Z"
   },
   {
    "duration": 85,
    "start_time": "2023-10-19T17:35:21.712Z"
   },
   {
    "duration": 7,
    "start_time": "2023-10-19T17:35:21.799Z"
   },
   {
    "duration": 312,
    "start_time": "2023-10-19T17:35:21.808Z"
   },
   {
    "duration": 10,
    "start_time": "2023-10-19T17:35:22.123Z"
   },
   {
    "duration": 113,
    "start_time": "2023-10-19T17:35:22.147Z"
   },
   {
    "duration": 17,
    "start_time": "2023-10-19T17:35:22.262Z"
   },
   {
    "duration": 11,
    "start_time": "2023-10-19T17:35:22.281Z"
   },
   {
    "duration": 384,
    "start_time": "2023-10-19T17:35:22.296Z"
   },
   {
    "duration": 5,
    "start_time": "2023-10-19T17:35:22.682Z"
   },
   {
    "duration": 45,
    "start_time": "2023-10-19T17:35:22.689Z"
   },
   {
    "duration": 26,
    "start_time": "2023-10-19T17:35:22.736Z"
   },
   {
    "duration": 184,
    "start_time": "2023-10-19T17:35:22.764Z"
   },
   {
    "duration": 163,
    "start_time": "2023-10-19T17:35:22.950Z"
   },
   {
    "duration": 225,
    "start_time": "2023-10-19T17:35:23.115Z"
   },
   {
    "duration": 13,
    "start_time": "2023-10-19T17:35:23.341Z"
   },
   {
    "duration": 202,
    "start_time": "2023-10-19T17:35:23.356Z"
   },
   {
    "duration": 158,
    "start_time": "2023-10-19T17:35:23.559Z"
   },
   {
    "duration": 164,
    "start_time": "2023-10-19T17:35:23.719Z"
   },
   {
    "duration": 11,
    "start_time": "2023-10-19T17:35:23.885Z"
   },
   {
    "duration": 175,
    "start_time": "2023-10-19T17:35:23.897Z"
   },
   {
    "duration": 172,
    "start_time": "2023-10-19T17:35:24.074Z"
   },
   {
    "duration": 181,
    "start_time": "2023-10-19T17:35:24.248Z"
   },
   {
    "duration": 282,
    "start_time": "2023-10-19T17:35:24.430Z"
   },
   {
    "duration": 248,
    "start_time": "2023-10-19T17:35:24.714Z"
   },
   {
    "duration": 150,
    "start_time": "2023-10-19T17:35:24.964Z"
   },
   {
    "duration": 233,
    "start_time": "2023-10-19T17:35:25.115Z"
   },
   {
    "duration": 230,
    "start_time": "2023-10-19T17:35:25.350Z"
   },
   {
    "duration": 207,
    "start_time": "2023-10-19T17:35:25.582Z"
   },
   {
    "duration": 201,
    "start_time": "2023-10-19T17:35:25.791Z"
   },
   {
    "duration": 217,
    "start_time": "2023-10-19T17:35:25.994Z"
   },
   {
    "duration": 252,
    "start_time": "2023-10-19T17:35:26.213Z"
   },
   {
    "duration": 207,
    "start_time": "2023-10-19T17:35:26.467Z"
   },
   {
    "duration": 214,
    "start_time": "2023-10-19T17:35:26.676Z"
   },
   {
    "duration": 156,
    "start_time": "2023-10-19T17:35:26.892Z"
   },
   {
    "duration": 200,
    "start_time": "2023-10-19T17:35:27.052Z"
   },
   {
    "duration": 410,
    "start_time": "2023-10-19T17:35:27.254Z"
   },
   {
    "duration": 282,
    "start_time": "2023-10-19T17:35:53.767Z"
   },
   {
    "duration": 165,
    "start_time": "2023-10-19T17:37:36.146Z"
   },
   {
    "duration": 167,
    "start_time": "2023-10-19T17:37:43.186Z"
   },
   {
    "duration": 186,
    "start_time": "2023-10-19T17:37:54.490Z"
   },
   {
    "duration": 1315,
    "start_time": "2023-10-19T17:38:01.261Z"
   },
   {
    "duration": 125,
    "start_time": "2023-10-19T17:38:02.578Z"
   },
   {
    "duration": 67,
    "start_time": "2023-10-19T17:38:02.705Z"
   },
   {
    "duration": 112,
    "start_time": "2023-10-19T17:38:02.774Z"
   },
   {
    "duration": 2327,
    "start_time": "2023-10-19T17:38:02.887Z"
   },
   {
    "duration": 16,
    "start_time": "2023-10-19T17:38:05.216Z"
   },
   {
    "duration": 112,
    "start_time": "2023-10-19T17:38:05.235Z"
   },
   {
    "duration": 16,
    "start_time": "2023-10-19T17:38:05.349Z"
   },
   {
    "duration": 245,
    "start_time": "2023-10-19T17:38:05.367Z"
   },
   {
    "duration": 103,
    "start_time": "2023-10-19T17:38:05.615Z"
   },
   {
    "duration": 46,
    "start_time": "2023-10-19T17:38:05.720Z"
   },
   {
    "duration": 42,
    "start_time": "2023-10-19T17:38:05.768Z"
   },
   {
    "duration": 15,
    "start_time": "2023-10-19T17:38:05.811Z"
   },
   {
    "duration": 401,
    "start_time": "2023-10-19T17:38:05.828Z"
   },
   {
    "duration": 4,
    "start_time": "2023-10-19T17:38:06.232Z"
   },
   {
    "duration": 13,
    "start_time": "2023-10-19T17:38:06.247Z"
   },
   {
    "duration": 52,
    "start_time": "2023-10-19T17:38:06.262Z"
   },
   {
    "duration": 221,
    "start_time": "2023-10-19T17:38:06.316Z"
   },
   {
    "duration": 183,
    "start_time": "2023-10-19T17:38:06.539Z"
   },
   {
    "duration": 234,
    "start_time": "2023-10-19T17:38:06.725Z"
   },
   {
    "duration": 18,
    "start_time": "2023-10-19T17:38:06.961Z"
   },
   {
    "duration": 226,
    "start_time": "2023-10-19T17:38:06.981Z"
   },
   {
    "duration": 198,
    "start_time": "2023-10-19T17:38:07.208Z"
   },
   {
    "duration": 201,
    "start_time": "2023-10-19T17:38:07.408Z"
   },
   {
    "duration": 13,
    "start_time": "2023-10-19T17:38:07.611Z"
   },
   {
    "duration": 191,
    "start_time": "2023-10-19T17:38:07.626Z"
   },
   {
    "duration": 187,
    "start_time": "2023-10-19T17:38:07.819Z"
   },
   {
    "duration": 218,
    "start_time": "2023-10-19T17:38:08.010Z"
   },
   {
    "duration": 329,
    "start_time": "2023-10-19T17:38:08.231Z"
   },
   {
    "duration": 303,
    "start_time": "2023-10-19T17:38:08.563Z"
   },
   {
    "duration": 187,
    "start_time": "2023-10-19T17:38:08.869Z"
   },
   {
    "duration": 244,
    "start_time": "2023-10-19T17:38:09.059Z"
   },
   {
    "duration": 247,
    "start_time": "2023-10-19T17:38:09.305Z"
   },
   {
    "duration": 248,
    "start_time": "2023-10-19T17:38:09.554Z"
   },
   {
    "duration": 208,
    "start_time": "2023-10-19T17:38:09.804Z"
   },
   {
    "duration": 228,
    "start_time": "2023-10-19T17:38:10.014Z"
   },
   {
    "duration": 313,
    "start_time": "2023-10-19T17:38:10.246Z"
   },
   {
    "duration": 251,
    "start_time": "2023-10-19T17:38:10.561Z"
   },
   {
    "duration": 239,
    "start_time": "2023-10-19T17:38:10.814Z"
   },
   {
    "duration": 155,
    "start_time": "2023-10-19T17:38:11.060Z"
   },
   {
    "duration": 231,
    "start_time": "2023-10-19T17:38:11.218Z"
   },
   {
    "duration": 471,
    "start_time": "2023-10-19T17:38:11.453Z"
   },
   {
    "duration": 294,
    "start_time": "2023-10-19T17:39:31.280Z"
   },
   {
    "duration": 155,
    "start_time": "2023-10-19T17:39:36.313Z"
   },
   {
    "duration": 206,
    "start_time": "2023-10-19T17:39:50.512Z"
   },
   {
    "duration": 1315,
    "start_time": "2023-10-19T17:39:57.728Z"
   },
   {
    "duration": 122,
    "start_time": "2023-10-19T17:39:59.045Z"
   },
   {
    "duration": 55,
    "start_time": "2023-10-19T17:39:59.170Z"
   },
   {
    "duration": 91,
    "start_time": "2023-10-19T17:39:59.227Z"
   },
   {
    "duration": 2221,
    "start_time": "2023-10-19T17:39:59.321Z"
   },
   {
    "duration": 10,
    "start_time": "2023-10-19T17:40:01.544Z"
   },
   {
    "duration": 124,
    "start_time": "2023-10-19T17:40:01.556Z"
   },
   {
    "duration": 91,
    "start_time": "2023-10-19T17:40:01.682Z"
   },
   {
    "duration": 443,
    "start_time": "2023-10-19T17:40:01.775Z"
   },
   {
    "duration": 183,
    "start_time": "2023-10-19T17:40:02.220Z"
   },
   {
    "duration": 160,
    "start_time": "2023-10-19T17:40:02.405Z"
   },
   {
    "duration": 69,
    "start_time": "2023-10-19T17:40:02.566Z"
   },
   {
    "duration": 28,
    "start_time": "2023-10-19T17:40:02.637Z"
   },
   {
    "duration": 418,
    "start_time": "2023-10-19T17:40:02.669Z"
   },
   {
    "duration": 4,
    "start_time": "2023-10-19T17:40:03.089Z"
   },
   {
    "duration": 44,
    "start_time": "2023-10-19T17:40:03.094Z"
   },
   {
    "duration": 48,
    "start_time": "2023-10-19T17:40:03.140Z"
   },
   {
    "duration": 225,
    "start_time": "2023-10-19T17:40:03.189Z"
   },
   {
    "duration": 169,
    "start_time": "2023-10-19T17:40:03.416Z"
   },
   {
    "duration": 224,
    "start_time": "2023-10-19T17:40:03.587Z"
   },
   {
    "duration": 12,
    "start_time": "2023-10-19T17:40:03.813Z"
   },
   {
    "duration": 213,
    "start_time": "2023-10-19T17:40:03.827Z"
   },
   {
    "duration": 195,
    "start_time": "2023-10-19T17:40:04.041Z"
   },
   {
    "duration": 173,
    "start_time": "2023-10-19T17:40:04.238Z"
   },
   {
    "duration": 12,
    "start_time": "2023-10-19T17:40:04.413Z"
   },
   {
    "duration": 242,
    "start_time": "2023-10-19T17:40:04.427Z"
   },
   {
    "duration": 164,
    "start_time": "2023-10-19T17:40:04.670Z"
   },
   {
    "duration": 183,
    "start_time": "2023-10-19T17:40:04.835Z"
   },
   {
    "duration": 348,
    "start_time": "2023-10-19T17:40:05.020Z"
   },
   {
    "duration": 260,
    "start_time": "2023-10-19T17:40:05.370Z"
   },
   {
    "duration": 163,
    "start_time": "2023-10-19T17:40:05.632Z"
   },
   {
    "duration": 195,
    "start_time": "2023-10-19T17:40:05.797Z"
   },
   {
    "duration": 246,
    "start_time": "2023-10-19T17:40:05.995Z"
   },
   {
    "duration": 211,
    "start_time": "2023-10-19T17:40:06.246Z"
   },
   {
    "duration": 202,
    "start_time": "2023-10-19T17:40:06.459Z"
   },
   {
    "duration": 238,
    "start_time": "2023-10-19T17:40:06.662Z"
   },
   {
    "duration": 257,
    "start_time": "2023-10-19T17:40:06.902Z"
   },
   {
    "duration": 205,
    "start_time": "2023-10-19T17:40:07.161Z"
   },
   {
    "duration": 203,
    "start_time": "2023-10-19T17:40:07.367Z"
   },
   {
    "duration": 157,
    "start_time": "2023-10-19T17:40:07.572Z"
   },
   {
    "duration": 205,
    "start_time": "2023-10-19T17:40:07.734Z"
   },
   {
    "duration": 416,
    "start_time": "2023-10-19T17:40:07.941Z"
   },
   {
    "duration": 1290,
    "start_time": "2023-10-19T17:41:23.456Z"
   },
   {
    "duration": 116,
    "start_time": "2023-10-19T17:41:24.749Z"
   },
   {
    "duration": 60,
    "start_time": "2023-10-19T17:41:24.867Z"
   },
   {
    "duration": 96,
    "start_time": "2023-10-19T17:41:24.930Z"
   },
   {
    "duration": 2197,
    "start_time": "2023-10-19T17:41:25.028Z"
   },
   {
    "duration": 11,
    "start_time": "2023-10-19T17:41:27.227Z"
   },
   {
    "duration": 85,
    "start_time": "2023-10-19T17:41:27.239Z"
   },
   {
    "duration": 7,
    "start_time": "2023-10-19T17:41:27.325Z"
   },
   {
    "duration": 186,
    "start_time": "2023-10-19T17:41:27.722Z"
   },
   {
    "duration": 10,
    "start_time": "2023-10-19T17:41:28.228Z"
   },
   {
    "duration": 8,
    "start_time": "2023-10-19T17:41:28.923Z"
   },
   {
    "duration": 24,
    "start_time": "2023-10-19T17:41:29.271Z"
   },
   {
    "duration": 3,
    "start_time": "2023-10-19T17:41:29.611Z"
   },
   {
    "duration": 444,
    "start_time": "2023-10-19T17:41:29.780Z"
   },
   {
    "duration": 3,
    "start_time": "2023-10-19T17:41:30.226Z"
   },
   {
    "duration": 6,
    "start_time": "2023-10-19T17:41:30.378Z"
   },
   {
    "duration": 15,
    "start_time": "2023-10-19T17:41:30.977Z"
   },
   {
    "duration": 194,
    "start_time": "2023-10-19T17:41:31.122Z"
   },
   {
    "duration": 151,
    "start_time": "2023-10-19T17:41:31.482Z"
   },
   {
    "duration": 268,
    "start_time": "2023-10-19T17:41:35.242Z"
   },
   {
    "duration": 12,
    "start_time": "2023-10-19T17:41:36.856Z"
   },
   {
    "duration": 204,
    "start_time": "2023-10-19T17:41:38.960Z"
   },
   {
    "duration": 151,
    "start_time": "2023-10-19T17:41:41.232Z"
   },
   {
    "duration": 158,
    "start_time": "2023-10-19T17:41:41.734Z"
   },
   {
    "duration": 14,
    "start_time": "2023-10-19T17:41:42.521Z"
   },
   {
    "duration": 153,
    "start_time": "2023-10-19T17:41:43.056Z"
   },
   {
    "duration": 149,
    "start_time": "2023-10-19T17:41:43.506Z"
   },
   {
    "duration": 197,
    "start_time": "2023-10-19T17:41:45.301Z"
   },
   {
    "duration": 300,
    "start_time": "2023-10-19T17:41:47.937Z"
   },
   {
    "duration": 203,
    "start_time": "2023-10-19T17:42:30.528Z"
   },
   {
    "duration": 185,
    "start_time": "2023-10-19T17:44:19.148Z"
   },
   {
    "duration": 203,
    "start_time": "2023-10-19T17:46:14.914Z"
   },
   {
    "duration": 160,
    "start_time": "2023-10-19T17:46:32.765Z"
   },
   {
    "duration": 163,
    "start_time": "2023-10-19T17:46:38.174Z"
   },
   {
    "duration": 1264,
    "start_time": "2023-10-19T17:46:50.873Z"
   },
   {
    "duration": 118,
    "start_time": "2023-10-19T17:46:52.140Z"
   },
   {
    "duration": 55,
    "start_time": "2023-10-19T17:46:52.259Z"
   },
   {
    "duration": 87,
    "start_time": "2023-10-19T17:46:52.316Z"
   },
   {
    "duration": 2061,
    "start_time": "2023-10-19T17:46:52.405Z"
   },
   {
    "duration": 12,
    "start_time": "2023-10-19T17:46:54.468Z"
   },
   {
    "duration": 66,
    "start_time": "2023-10-19T17:46:54.481Z"
   },
   {
    "duration": 7,
    "start_time": "2023-10-19T17:46:54.549Z"
   },
   {
    "duration": 204,
    "start_time": "2023-10-19T17:46:54.558Z"
   },
   {
    "duration": 86,
    "start_time": "2023-10-19T17:46:54.765Z"
   },
   {
    "duration": 21,
    "start_time": "2023-10-19T17:46:54.852Z"
   },
   {
    "duration": 23,
    "start_time": "2023-10-19T17:46:54.875Z"
   },
   {
    "duration": 3,
    "start_time": "2023-10-19T17:46:54.900Z"
   },
   {
    "duration": 388,
    "start_time": "2023-10-19T17:46:54.905Z"
   },
   {
    "duration": 5,
    "start_time": "2023-10-19T17:46:55.295Z"
   },
   {
    "duration": 23,
    "start_time": "2023-10-19T17:46:55.304Z"
   },
   {
    "duration": 27,
    "start_time": "2023-10-19T17:46:55.329Z"
   },
   {
    "duration": 196,
    "start_time": "2023-10-19T17:46:55.359Z"
   },
   {
    "duration": 165,
    "start_time": "2023-10-19T17:46:55.557Z"
   },
   {
    "duration": 216,
    "start_time": "2023-10-19T17:46:55.724Z"
   },
   {
    "duration": 16,
    "start_time": "2023-10-19T17:46:55.941Z"
   },
   {
    "duration": 221,
    "start_time": "2023-10-19T17:46:55.959Z"
   },
   {
    "duration": 167,
    "start_time": "2023-10-19T17:46:56.182Z"
   },
   {
    "duration": 168,
    "start_time": "2023-10-19T17:46:56.351Z"
   },
   {
    "duration": 13,
    "start_time": "2023-10-19T17:46:56.520Z"
   },
   {
    "duration": 179,
    "start_time": "2023-10-19T17:46:56.534Z"
   },
   {
    "duration": 159,
    "start_time": "2023-10-19T17:46:56.714Z"
   },
   {
    "duration": 174,
    "start_time": "2023-10-19T17:46:56.876Z"
   },
   {
    "duration": 284,
    "start_time": "2023-10-19T17:46:57.051Z"
   },
   {
    "duration": 248,
    "start_time": "2023-10-19T17:46:57.337Z"
   },
   {
    "duration": 150,
    "start_time": "2023-10-19T17:46:57.587Z"
   },
   {
    "duration": 187,
    "start_time": "2023-10-19T17:46:57.739Z"
   },
   {
    "duration": 224,
    "start_time": "2023-10-19T17:46:57.928Z"
   },
   {
    "duration": 207,
    "start_time": "2023-10-19T17:46:58.154Z"
   },
   {
    "duration": 212,
    "start_time": "2023-10-19T17:46:58.363Z"
   },
   {
    "duration": 208,
    "start_time": "2023-10-19T17:46:58.577Z"
   },
   {
    "duration": 237,
    "start_time": "2023-10-19T17:46:58.786Z"
   },
   {
    "duration": 210,
    "start_time": "2023-10-19T17:46:59.025Z"
   },
   {
    "duration": 204,
    "start_time": "2023-10-19T17:46:59.237Z"
   },
   {
    "duration": 159,
    "start_time": "2023-10-19T17:46:59.443Z"
   },
   {
    "duration": 206,
    "start_time": "2023-10-19T17:46:59.604Z"
   },
   {
    "duration": 440,
    "start_time": "2023-10-19T17:46:59.812Z"
   },
   {
    "duration": 100,
    "start_time": "2023-10-19T18:34:05.728Z"
   },
   {
    "duration": 332,
    "start_time": "2023-10-19T18:43:53.755Z"
   },
   {
    "duration": 182,
    "start_time": "2023-10-19T18:44:05.066Z"
   },
   {
    "duration": 153,
    "start_time": "2023-10-19T18:44:43.217Z"
   },
   {
    "duration": 149,
    "start_time": "2023-10-19T18:45:10.974Z"
   },
   {
    "duration": 161,
    "start_time": "2023-10-19T18:46:28.006Z"
   },
   {
    "duration": 163,
    "start_time": "2023-10-19T18:46:40.057Z"
   },
   {
    "duration": 164,
    "start_time": "2023-10-19T18:48:07.378Z"
   },
   {
    "duration": 9,
    "start_time": "2023-10-19T18:48:22.231Z"
   },
   {
    "duration": 158,
    "start_time": "2023-10-19T18:48:36.988Z"
   },
   {
    "duration": 156,
    "start_time": "2023-10-19T18:48:47.160Z"
   },
   {
    "duration": 160,
    "start_time": "2023-10-19T18:50:06.848Z"
   },
   {
    "duration": 158,
    "start_time": "2023-10-19T18:51:14.228Z"
   },
   {
    "duration": 166,
    "start_time": "2023-10-19T18:51:25.858Z"
   },
   {
    "duration": 170,
    "start_time": "2023-10-19T18:51:36.493Z"
   },
   {
    "duration": 173,
    "start_time": "2023-10-19T18:51:52.096Z"
   },
   {
    "duration": 161,
    "start_time": "2023-10-19T18:51:59.270Z"
   },
   {
    "duration": 1252,
    "start_time": "2023-10-19T18:52:08.993Z"
   },
   {
    "duration": 128,
    "start_time": "2023-10-19T18:52:10.247Z"
   },
   {
    "duration": 53,
    "start_time": "2023-10-19T18:52:10.378Z"
   },
   {
    "duration": 89,
    "start_time": "2023-10-19T18:52:10.433Z"
   },
   {
    "duration": 2150,
    "start_time": "2023-10-19T18:52:10.524Z"
   },
   {
    "duration": 10,
    "start_time": "2023-10-19T18:52:12.676Z"
   },
   {
    "duration": 81,
    "start_time": "2023-10-19T18:52:12.687Z"
   },
   {
    "duration": 8,
    "start_time": "2023-10-19T18:52:12.771Z"
   },
   {
    "duration": 208,
    "start_time": "2023-10-19T18:52:12.781Z"
   },
   {
    "duration": 99,
    "start_time": "2023-10-19T18:52:12.992Z"
   },
   {
    "duration": 13,
    "start_time": "2023-10-19T18:52:13.093Z"
   },
   {
    "duration": 26,
    "start_time": "2023-10-19T18:52:13.108Z"
   },
   {
    "duration": 12,
    "start_time": "2023-10-19T18:52:13.135Z"
   },
   {
    "duration": 378,
    "start_time": "2023-10-19T18:52:13.149Z"
   },
   {
    "duration": 4,
    "start_time": "2023-10-19T18:52:13.529Z"
   },
   {
    "duration": 13,
    "start_time": "2023-10-19T18:52:13.535Z"
   },
   {
    "duration": 18,
    "start_time": "2023-10-19T18:52:13.549Z"
   },
   {
    "duration": 209,
    "start_time": "2023-10-19T18:52:13.568Z"
   },
   {
    "duration": 163,
    "start_time": "2023-10-19T18:52:13.779Z"
   },
   {
    "duration": 232,
    "start_time": "2023-10-19T18:52:13.947Z"
   },
   {
    "duration": 192,
    "start_time": "2023-10-19T18:52:14.181Z"
   },
   {
    "duration": 182,
    "start_time": "2023-10-19T18:52:14.374Z"
   },
   {
    "duration": 202,
    "start_time": "2023-10-19T18:52:14.557Z"
   },
   {
    "duration": 165,
    "start_time": "2023-10-19T18:52:14.761Z"
   },
   {
    "duration": 167,
    "start_time": "2023-10-19T18:52:14.928Z"
   },
   {
    "duration": 12,
    "start_time": "2023-10-19T18:52:15.097Z"
   },
   {
    "duration": 167,
    "start_time": "2023-10-19T18:52:15.110Z"
   },
   {
    "duration": 310,
    "start_time": "2023-10-19T18:52:15.280Z"
   },
   {
    "duration": 176,
    "start_time": "2023-10-19T18:52:15.592Z"
   },
   {
    "duration": 195,
    "start_time": "2023-10-19T18:52:15.770Z"
   },
   {
    "duration": 254,
    "start_time": "2023-10-19T18:52:15.967Z"
   },
   {
    "duration": 162,
    "start_time": "2023-10-19T18:52:16.223Z"
   },
   {
    "duration": 203,
    "start_time": "2023-10-19T18:52:16.387Z"
   },
   {
    "duration": 221,
    "start_time": "2023-10-19T18:52:16.592Z"
   },
   {
    "duration": 226,
    "start_time": "2023-10-19T18:52:16.816Z"
   },
   {
    "duration": 213,
    "start_time": "2023-10-19T18:52:17.043Z"
   },
   {
    "duration": 166,
    "start_time": "2023-10-19T18:52:17.257Z"
   },
   {
    "duration": 237,
    "start_time": "2023-10-19T18:52:17.425Z"
   },
   {
    "duration": 206,
    "start_time": "2023-10-19T18:52:17.663Z"
   },
   {
    "duration": 202,
    "start_time": "2023-10-19T18:52:17.870Z"
   },
   {
    "duration": 160,
    "start_time": "2023-10-19T18:52:18.074Z"
   },
   {
    "duration": 249,
    "start_time": "2023-10-19T18:52:18.236Z"
   },
   {
    "duration": 529,
    "start_time": "2023-10-19T18:52:18.488Z"
   },
   {
    "duration": 147,
    "start_time": "2023-10-19T18:53:02.575Z"
   },
   {
    "duration": 154,
    "start_time": "2023-10-19T18:53:15.763Z"
   },
   {
    "duration": 150,
    "start_time": "2023-10-19T18:54:12.794Z"
   },
   {
    "duration": 172,
    "start_time": "2023-10-19T18:54:19.856Z"
   },
   {
    "duration": 185,
    "start_time": "2023-10-19T18:54:32.162Z"
   },
   {
    "duration": 162,
    "start_time": "2023-10-19T18:54:39.644Z"
   },
   {
    "duration": 1183,
    "start_time": "2023-10-19T18:55:24.194Z"
   },
   {
    "duration": 122,
    "start_time": "2023-10-19T18:55:25.380Z"
   },
   {
    "duration": 61,
    "start_time": "2023-10-19T18:55:25.504Z"
   },
   {
    "duration": 86,
    "start_time": "2023-10-19T18:55:25.567Z"
   },
   {
    "duration": 2091,
    "start_time": "2023-10-19T18:55:25.655Z"
   },
   {
    "duration": 10,
    "start_time": "2023-10-19T18:55:27.748Z"
   },
   {
    "duration": 54,
    "start_time": "2023-10-19T18:55:27.760Z"
   },
   {
    "duration": 33,
    "start_time": "2023-10-19T18:55:27.816Z"
   },
   {
    "duration": 194,
    "start_time": "2023-10-19T18:55:27.851Z"
   },
   {
    "duration": 91,
    "start_time": "2023-10-19T18:55:28.048Z"
   },
   {
    "duration": 20,
    "start_time": "2023-10-19T18:55:28.147Z"
   },
   {
    "duration": 36,
    "start_time": "2023-10-19T18:55:28.169Z"
   },
   {
    "duration": 3,
    "start_time": "2023-10-19T18:55:28.207Z"
   },
   {
    "duration": 356,
    "start_time": "2023-10-19T18:55:28.211Z"
   },
   {
    "duration": 4,
    "start_time": "2023-10-19T18:55:28.569Z"
   },
   {
    "duration": 18,
    "start_time": "2023-10-19T18:55:28.575Z"
   },
   {
    "duration": 49,
    "start_time": "2023-10-19T18:55:28.595Z"
   },
   {
    "duration": 196,
    "start_time": "2023-10-19T18:55:28.646Z"
   },
   {
    "duration": 158,
    "start_time": "2023-10-19T18:55:28.847Z"
   },
   {
    "duration": 226,
    "start_time": "2023-10-19T18:55:29.007Z"
   },
   {
    "duration": 188,
    "start_time": "2023-10-19T18:55:29.235Z"
   },
   {
    "duration": 166,
    "start_time": "2023-10-19T18:55:29.425Z"
   },
   {
    "duration": 192,
    "start_time": "2023-10-19T18:55:29.592Z"
   },
   {
    "duration": 155,
    "start_time": "2023-10-19T18:55:29.786Z"
   },
   {
    "duration": 143,
    "start_time": "2023-10-19T18:55:29.947Z"
   },
   {
    "duration": 13,
    "start_time": "2023-10-19T18:55:30.093Z"
   },
   {
    "duration": 263,
    "start_time": "2023-10-19T18:55:30.108Z"
   },
   {
    "duration": 255,
    "start_time": "2023-10-19T18:55:30.375Z"
   },
   {
    "duration": 187,
    "start_time": "2023-10-19T18:55:30.632Z"
   },
   {
    "duration": 212,
    "start_time": "2023-10-19T18:55:30.821Z"
   },
   {
    "duration": 266,
    "start_time": "2023-10-19T18:55:31.035Z"
   },
   {
    "duration": 163,
    "start_time": "2023-10-19T18:55:31.303Z"
   },
   {
    "duration": 198,
    "start_time": "2023-10-19T18:55:31.468Z"
   },
   {
    "duration": 244,
    "start_time": "2023-10-19T18:55:31.669Z"
   },
   {
    "duration": 239,
    "start_time": "2023-10-19T18:55:31.915Z"
   },
   {
    "duration": 214,
    "start_time": "2023-10-19T18:55:32.156Z"
   },
   {
    "duration": 184,
    "start_time": "2023-10-19T18:55:32.372Z"
   },
   {
    "duration": 242,
    "start_time": "2023-10-19T18:55:32.558Z"
   },
   {
    "duration": 196,
    "start_time": "2023-10-19T18:55:32.802Z"
   },
   {
    "duration": 201,
    "start_time": "2023-10-19T18:55:33.000Z"
   },
   {
    "duration": 164,
    "start_time": "2023-10-19T18:55:33.203Z"
   },
   {
    "duration": 258,
    "start_time": "2023-10-19T18:55:33.369Z"
   },
   {
    "duration": 537,
    "start_time": "2023-10-19T18:55:33.630Z"
   },
   {
    "duration": 152,
    "start_time": "2023-10-19T18:56:40.554Z"
   },
   {
    "duration": 171,
    "start_time": "2023-10-19T18:57:43.308Z"
   },
   {
    "duration": 155,
    "start_time": "2023-10-19T18:57:53.223Z"
   },
   {
    "duration": 1268,
    "start_time": "2023-10-19T18:58:04.511Z"
   },
   {
    "duration": 128,
    "start_time": "2023-10-19T18:58:05.781Z"
   },
   {
    "duration": 77,
    "start_time": "2023-10-19T18:58:05.910Z"
   },
   {
    "duration": 87,
    "start_time": "2023-10-19T18:58:05.990Z"
   },
   {
    "duration": 2091,
    "start_time": "2023-10-19T18:58:06.078Z"
   },
   {
    "duration": 10,
    "start_time": "2023-10-19T18:58:08.172Z"
   },
   {
    "duration": 54,
    "start_time": "2023-10-19T18:58:08.184Z"
   },
   {
    "duration": 10,
    "start_time": "2023-10-19T18:58:08.240Z"
   },
   {
    "duration": 188,
    "start_time": "2023-10-19T18:58:08.252Z"
   },
   {
    "duration": 87,
    "start_time": "2023-10-19T18:58:08.446Z"
   },
   {
    "duration": 20,
    "start_time": "2023-10-19T18:58:08.534Z"
   },
   {
    "duration": 31,
    "start_time": "2023-10-19T18:58:08.556Z"
   },
   {
    "duration": 3,
    "start_time": "2023-10-19T18:58:08.589Z"
   },
   {
    "duration": 367,
    "start_time": "2023-10-19T18:58:08.593Z"
   },
   {
    "duration": 4,
    "start_time": "2023-10-19T18:58:08.961Z"
   },
   {
    "duration": 30,
    "start_time": "2023-10-19T18:58:08.967Z"
   },
   {
    "duration": 23,
    "start_time": "2023-10-19T18:58:08.998Z"
   },
   {
    "duration": 209,
    "start_time": "2023-10-19T18:58:09.023Z"
   },
   {
    "duration": 159,
    "start_time": "2023-10-19T18:58:09.233Z"
   },
   {
    "duration": 219,
    "start_time": "2023-10-19T18:58:09.394Z"
   },
   {
    "duration": 190,
    "start_time": "2023-10-19T18:58:09.615Z"
   },
   {
    "duration": 181,
    "start_time": "2023-10-19T18:58:09.806Z"
   },
   {
    "duration": 204,
    "start_time": "2023-10-19T18:58:09.988Z"
   },
   {
    "duration": 163,
    "start_time": "2023-10-19T18:58:10.193Z"
   },
   {
    "duration": 154,
    "start_time": "2023-10-19T18:58:10.357Z"
   },
   {
    "duration": 12,
    "start_time": "2023-10-19T18:58:10.513Z"
   },
   {
    "duration": 175,
    "start_time": "2023-10-19T18:58:10.527Z"
   },
   {
    "duration": 267,
    "start_time": "2023-10-19T18:58:10.706Z"
   },
   {
    "duration": 185,
    "start_time": "2023-10-19T18:58:10.975Z"
   },
   {
    "duration": 207,
    "start_time": "2023-10-19T18:58:11.162Z"
   },
   {
    "duration": 250,
    "start_time": "2023-10-19T18:58:11.370Z"
   },
   {
    "duration": 168,
    "start_time": "2023-10-19T18:58:11.621Z"
   },
   {
    "duration": 191,
    "start_time": "2023-10-19T18:58:11.790Z"
   },
   {
    "duration": 257,
    "start_time": "2023-10-19T18:58:11.982Z"
   },
   {
    "duration": 267,
    "start_time": "2023-10-19T18:58:12.246Z"
   },
   {
    "duration": 241,
    "start_time": "2023-10-19T18:58:12.516Z"
   },
   {
    "duration": 186,
    "start_time": "2023-10-19T18:58:12.760Z"
   },
   {
    "duration": 244,
    "start_time": "2023-10-19T18:58:12.948Z"
   },
   {
    "duration": 193,
    "start_time": "2023-10-19T18:58:13.194Z"
   },
   {
    "duration": 204,
    "start_time": "2023-10-19T18:58:13.389Z"
   },
   {
    "duration": 154,
    "start_time": "2023-10-19T18:58:13.595Z"
   },
   {
    "duration": 253,
    "start_time": "2023-10-19T18:58:13.751Z"
   },
   {
    "duration": 531,
    "start_time": "2023-10-19T18:58:14.006Z"
   },
   {
    "duration": 148,
    "start_time": "2023-10-19T18:58:34.039Z"
   },
   {
    "duration": 142,
    "start_time": "2023-10-19T18:58:46.453Z"
   },
   {
    "duration": 152,
    "start_time": "2023-10-19T18:58:53.538Z"
   },
   {
    "duration": 164,
    "start_time": "2023-10-19T18:59:13.455Z"
   },
   {
    "duration": 156,
    "start_time": "2023-10-19T18:59:19.271Z"
   },
   {
    "duration": 182,
    "start_time": "2023-10-19T18:59:42.105Z"
   },
   {
    "duration": 1345,
    "start_time": "2023-10-19T18:59:51.610Z"
   },
   {
    "duration": 123,
    "start_time": "2023-10-19T18:59:52.957Z"
   },
   {
    "duration": 53,
    "start_time": "2023-10-19T18:59:53.082Z"
   },
   {
    "duration": 81,
    "start_time": "2023-10-19T18:59:53.146Z"
   },
   {
    "duration": 2197,
    "start_time": "2023-10-19T18:59:53.229Z"
   },
   {
    "duration": 15,
    "start_time": "2023-10-19T18:59:55.428Z"
   },
   {
    "duration": 80,
    "start_time": "2023-10-19T18:59:55.445Z"
   },
   {
    "duration": 9,
    "start_time": "2023-10-19T18:59:55.528Z"
   },
   {
    "duration": 239,
    "start_time": "2023-10-19T18:59:55.539Z"
   },
   {
    "duration": 100,
    "start_time": "2023-10-19T18:59:55.782Z"
   },
   {
    "duration": 10,
    "start_time": "2023-10-19T18:59:55.884Z"
   },
   {
    "duration": 22,
    "start_time": "2023-10-19T18:59:55.896Z"
   },
   {
    "duration": 27,
    "start_time": "2023-10-19T18:59:55.920Z"
   },
   {
    "duration": 403,
    "start_time": "2023-10-19T18:59:55.950Z"
   },
   {
    "duration": 5,
    "start_time": "2023-10-19T18:59:56.354Z"
   },
   {
    "duration": 16,
    "start_time": "2023-10-19T18:59:56.360Z"
   },
   {
    "duration": 18,
    "start_time": "2023-10-19T18:59:56.377Z"
   },
   {
    "duration": 196,
    "start_time": "2023-10-19T18:59:56.396Z"
   },
   {
    "duration": 166,
    "start_time": "2023-10-19T18:59:56.594Z"
   },
   {
    "duration": 230,
    "start_time": "2023-10-19T18:59:56.762Z"
   },
   {
    "duration": 175,
    "start_time": "2023-10-19T18:59:56.995Z"
   },
   {
    "duration": 177,
    "start_time": "2023-10-19T18:59:57.171Z"
   },
   {
    "duration": 199,
    "start_time": "2023-10-19T18:59:57.350Z"
   },
   {
    "duration": 161,
    "start_time": "2023-10-19T18:59:57.551Z"
   },
   {
    "duration": 148,
    "start_time": "2023-10-19T18:59:57.714Z"
   },
   {
    "duration": 12,
    "start_time": "2023-10-19T18:59:57.864Z"
   },
   {
    "duration": 175,
    "start_time": "2023-10-19T18:59:57.877Z"
   },
   {
    "duration": 294,
    "start_time": "2023-10-19T18:59:58.056Z"
   },
   {
    "duration": 177,
    "start_time": "2023-10-19T18:59:58.352Z"
   },
   {
    "duration": 201,
    "start_time": "2023-10-19T18:59:58.531Z"
   },
   {
    "duration": 263,
    "start_time": "2023-10-19T18:59:58.734Z"
   },
   {
    "duration": 177,
    "start_time": "2023-10-19T18:59:58.999Z"
   },
   {
    "duration": 191,
    "start_time": "2023-10-19T18:59:59.177Z"
   },
   {
    "duration": 251,
    "start_time": "2023-10-19T18:59:59.370Z"
   },
   {
    "duration": 244,
    "start_time": "2023-10-19T18:59:59.622Z"
   },
   {
    "duration": 226,
    "start_time": "2023-10-19T18:59:59.868Z"
   },
   {
    "duration": 213,
    "start_time": "2023-10-19T19:00:00.096Z"
   },
   {
    "duration": 260,
    "start_time": "2023-10-19T19:00:00.312Z"
   },
   {
    "duration": 198,
    "start_time": "2023-10-19T19:00:00.574Z"
   },
   {
    "duration": 231,
    "start_time": "2023-10-19T19:00:00.774Z"
   },
   {
    "duration": 185,
    "start_time": "2023-10-19T19:00:01.007Z"
   },
   {
    "duration": 250,
    "start_time": "2023-10-19T19:00:01.194Z"
   },
   {
    "duration": 530,
    "start_time": "2023-10-19T19:00:01.447Z"
   },
   {
    "duration": 152,
    "start_time": "2023-10-19T19:01:04.146Z"
   },
   {
    "duration": 163,
    "start_time": "2023-10-19T19:01:15.586Z"
   },
   {
    "duration": 186,
    "start_time": "2023-10-19T19:01:39.073Z"
   },
   {
    "duration": 189,
    "start_time": "2023-10-19T19:01:46.657Z"
   },
   {
    "duration": 1429,
    "start_time": "2023-10-19T19:01:54.918Z"
   },
   {
    "duration": 174,
    "start_time": "2023-10-19T19:01:56.350Z"
   },
   {
    "duration": 61,
    "start_time": "2023-10-19T19:01:56.526Z"
   },
   {
    "duration": 104,
    "start_time": "2023-10-19T19:01:56.590Z"
   },
   {
    "duration": 2154,
    "start_time": "2023-10-19T19:01:56.696Z"
   },
   {
    "duration": 15,
    "start_time": "2023-10-19T19:01:58.852Z"
   },
   {
    "duration": 76,
    "start_time": "2023-10-19T19:01:58.869Z"
   },
   {
    "duration": 7,
    "start_time": "2023-10-19T19:01:58.947Z"
   },
   {
    "duration": 230,
    "start_time": "2023-10-19T19:01:58.956Z"
   },
   {
    "duration": 104,
    "start_time": "2023-10-19T19:01:59.191Z"
   },
   {
    "duration": 28,
    "start_time": "2023-10-19T19:01:59.297Z"
   },
   {
    "duration": 27,
    "start_time": "2023-10-19T19:01:59.327Z"
   },
   {
    "duration": 5,
    "start_time": "2023-10-19T19:01:59.356Z"
   },
   {
    "duration": 424,
    "start_time": "2023-10-19T19:01:59.363Z"
   },
   {
    "duration": 4,
    "start_time": "2023-10-19T19:01:59.789Z"
   },
   {
    "duration": 22,
    "start_time": "2023-10-19T19:01:59.795Z"
   },
   {
    "duration": 17,
    "start_time": "2023-10-19T19:01:59.819Z"
   },
   {
    "duration": 200,
    "start_time": "2023-10-19T19:01:59.838Z"
   },
   {
    "duration": 195,
    "start_time": "2023-10-19T19:02:00.040Z"
   },
   {
    "duration": 246,
    "start_time": "2023-10-19T19:02:00.238Z"
   },
   {
    "duration": 179,
    "start_time": "2023-10-19T19:02:00.486Z"
   },
   {
    "duration": 180,
    "start_time": "2023-10-19T19:02:00.667Z"
   },
   {
    "duration": 200,
    "start_time": "2023-10-19T19:02:00.849Z"
   },
   {
    "duration": 181,
    "start_time": "2023-10-19T19:02:01.052Z"
   },
   {
    "duration": 157,
    "start_time": "2023-10-19T19:02:01.235Z"
   },
   {
    "duration": 15,
    "start_time": "2023-10-19T19:02:01.394Z"
   },
   {
    "duration": 219,
    "start_time": "2023-10-19T19:02:01.411Z"
   },
   {
    "duration": 294,
    "start_time": "2023-10-19T19:02:01.635Z"
   },
   {
    "duration": 195,
    "start_time": "2023-10-19T19:02:01.931Z"
   },
   {
    "duration": 232,
    "start_time": "2023-10-19T19:02:02.129Z"
   },
   {
    "duration": 257,
    "start_time": "2023-10-19T19:02:02.364Z"
   },
   {
    "duration": 165,
    "start_time": "2023-10-19T19:02:02.623Z"
   },
   {
    "duration": 225,
    "start_time": "2023-10-19T19:02:02.789Z"
   },
   {
    "duration": 259,
    "start_time": "2023-10-19T19:02:03.016Z"
   },
   {
    "duration": 300,
    "start_time": "2023-10-19T19:02:03.277Z"
   },
   {
    "duration": 233,
    "start_time": "2023-10-19T19:02:03.579Z"
   },
   {
    "duration": 207,
    "start_time": "2023-10-19T19:02:03.814Z"
   },
   {
    "duration": 264,
    "start_time": "2023-10-19T19:02:04.023Z"
   },
   {
    "duration": 199,
    "start_time": "2023-10-19T19:02:04.290Z"
   },
   {
    "duration": 203,
    "start_time": "2023-10-19T19:02:04.491Z"
   },
   {
    "duration": 166,
    "start_time": "2023-10-19T19:02:04.696Z"
   },
   {
    "duration": 297,
    "start_time": "2023-10-19T19:02:04.865Z"
   },
   {
    "duration": 590,
    "start_time": "2023-10-19T19:02:05.164Z"
   },
   {
    "duration": 1318,
    "start_time": "2023-10-19T19:37:55.666Z"
   },
   {
    "duration": 127,
    "start_time": "2023-10-19T19:37:56.987Z"
   },
   {
    "duration": 65,
    "start_time": "2023-10-19T19:37:57.116Z"
   },
   {
    "duration": 87,
    "start_time": "2023-10-19T19:37:57.183Z"
   },
   {
    "duration": 2080,
    "start_time": "2023-10-19T19:37:57.272Z"
   },
   {
    "duration": 10,
    "start_time": "2023-10-19T19:37:59.354Z"
   },
   {
    "duration": 55,
    "start_time": "2023-10-19T19:37:59.366Z"
   },
   {
    "duration": 35,
    "start_time": "2023-10-19T19:37:59.422Z"
   },
   {
    "duration": 179,
    "start_time": "2023-10-19T19:37:59.459Z"
   },
   {
    "duration": 19,
    "start_time": "2023-10-19T19:37:59.640Z"
   },
   {
    "duration": 114,
    "start_time": "2023-10-19T19:37:59.661Z"
   },
   {
    "duration": 23,
    "start_time": "2023-10-19T19:37:59.777Z"
   },
   {
    "duration": 17,
    "start_time": "2023-10-19T19:37:59.802Z"
   },
   {
    "duration": 351,
    "start_time": "2023-10-19T19:37:59.822Z"
   },
   {
    "duration": 5,
    "start_time": "2023-10-19T19:38:00.174Z"
   },
   {
    "duration": 25,
    "start_time": "2023-10-19T19:38:00.181Z"
   },
   {
    "duration": 44,
    "start_time": "2023-10-19T19:38:00.208Z"
   },
   {
    "duration": 228,
    "start_time": "2023-10-19T19:38:00.254Z"
   },
   {
    "duration": 166,
    "start_time": "2023-10-19T19:38:00.484Z"
   },
   {
    "duration": 216,
    "start_time": "2023-10-19T19:38:00.655Z"
   },
   {
    "duration": 173,
    "start_time": "2023-10-19T19:38:00.873Z"
   },
   {
    "duration": 159,
    "start_time": "2023-10-19T19:38:01.048Z"
   },
   {
    "duration": 199,
    "start_time": "2023-10-19T19:38:01.209Z"
   },
   {
    "duration": 172,
    "start_time": "2023-10-19T19:38:01.410Z"
   },
   {
    "duration": 149,
    "start_time": "2023-10-19T19:38:01.584Z"
   },
   {
    "duration": 21,
    "start_time": "2023-10-19T19:38:01.735Z"
   },
   {
    "duration": 173,
    "start_time": "2023-10-19T19:38:01.758Z"
   },
   {
    "duration": 290,
    "start_time": "2023-10-19T19:38:01.933Z"
   },
   {
    "duration": 177,
    "start_time": "2023-10-19T19:38:02.225Z"
   },
   {
    "duration": 201,
    "start_time": "2023-10-19T19:38:02.404Z"
   },
   {
    "duration": 260,
    "start_time": "2023-10-19T19:38:02.606Z"
   },
   {
    "duration": 174,
    "start_time": "2023-10-19T19:38:02.868Z"
   },
   {
    "duration": 227,
    "start_time": "2023-10-19T19:38:03.045Z"
   },
   {
    "duration": 245,
    "start_time": "2023-10-19T19:38:03.274Z"
   },
   {
    "duration": 249,
    "start_time": "2023-10-19T19:38:03.521Z"
   },
   {
    "duration": 218,
    "start_time": "2023-10-19T19:38:03.771Z"
   },
   {
    "duration": 186,
    "start_time": "2023-10-19T19:38:03.991Z"
   },
   {
    "duration": 244,
    "start_time": "2023-10-19T19:38:04.179Z"
   },
   {
    "duration": 189,
    "start_time": "2023-10-19T19:38:04.425Z"
   },
   {
    "duration": 204,
    "start_time": "2023-10-19T19:38:04.617Z"
   },
   {
    "duration": 158,
    "start_time": "2023-10-19T19:38:04.826Z"
   },
   {
    "duration": 243,
    "start_time": "2023-10-19T19:38:04.986Z"
   },
   {
    "duration": 547,
    "start_time": "2023-10-19T19:38:05.231Z"
   },
   {
    "duration": 103,
    "start_time": "2023-10-19T19:38:26.467Z"
   },
   {
    "duration": 1092,
    "start_time": "2024-02-04T20:19:20.324Z"
   },
   {
    "duration": 150,
    "start_time": "2024-02-04T20:19:21.418Z"
   },
   {
    "duration": 46,
    "start_time": "2024-02-04T20:19:21.569Z"
   },
   {
    "duration": 66,
    "start_time": "2024-02-04T20:19:21.617Z"
   },
   {
    "duration": 1785,
    "start_time": "2024-02-04T20:19:21.693Z"
   },
   {
    "duration": 9,
    "start_time": "2024-02-04T20:19:23.480Z"
   },
   {
    "duration": 54,
    "start_time": "2024-02-04T20:19:23.490Z"
   },
   {
    "duration": 6,
    "start_time": "2024-02-04T20:19:23.545Z"
   },
   {
    "duration": 196,
    "start_time": "2024-02-04T20:19:23.552Z"
   },
   {
    "duration": 72,
    "start_time": "2024-02-04T20:19:23.750Z"
   },
   {
    "duration": 16,
    "start_time": "2024-02-04T20:19:23.824Z"
   },
   {
    "duration": 16,
    "start_time": "2024-02-04T20:19:23.842Z"
   },
   {
    "duration": 3,
    "start_time": "2024-02-04T20:19:23.860Z"
   },
   {
    "duration": 341,
    "start_time": "2024-02-04T20:19:23.866Z"
   },
   {
    "duration": 4,
    "start_time": "2024-02-04T20:19:24.209Z"
   },
   {
    "duration": 9,
    "start_time": "2024-02-04T20:19:24.215Z"
   },
   {
    "duration": 29,
    "start_time": "2024-02-04T20:19:24.225Z"
   },
   {
    "duration": 151,
    "start_time": "2024-02-04T20:19:24.256Z"
   },
   {
    "duration": 126,
    "start_time": "2024-02-04T20:19:24.409Z"
   },
   {
    "duration": 179,
    "start_time": "2024-02-04T20:19:24.536Z"
   },
   {
    "duration": 150,
    "start_time": "2024-02-04T20:19:24.716Z"
   },
   {
    "duration": 161,
    "start_time": "2024-02-04T20:19:24.868Z"
   },
   {
    "duration": 165,
    "start_time": "2024-02-04T20:19:25.031Z"
   },
   {
    "duration": 140,
    "start_time": "2024-02-04T20:19:25.198Z"
   },
   {
    "duration": 132,
    "start_time": "2024-02-04T20:19:25.340Z"
   },
   {
    "duration": 10,
    "start_time": "2024-02-04T20:19:25.474Z"
   },
   {
    "duration": 138,
    "start_time": "2024-02-04T20:19:25.485Z"
   },
   {
    "duration": 219,
    "start_time": "2024-02-04T20:19:25.624Z"
   },
   {
    "duration": 141,
    "start_time": "2024-02-04T20:19:25.844Z"
   },
   {
    "duration": 164,
    "start_time": "2024-02-04T20:19:25.986Z"
   },
   {
    "duration": 207,
    "start_time": "2024-02-04T20:19:26.152Z"
   },
   {
    "duration": 150,
    "start_time": "2024-02-04T20:19:26.361Z"
   },
   {
    "duration": 171,
    "start_time": "2024-02-04T20:19:26.512Z"
   },
   {
    "duration": 210,
    "start_time": "2024-02-04T20:19:26.684Z"
   },
   {
    "duration": 216,
    "start_time": "2024-02-04T20:19:26.896Z"
   },
   {
    "duration": 185,
    "start_time": "2024-02-04T20:19:27.113Z"
   },
   {
    "duration": 150,
    "start_time": "2024-02-04T20:19:27.299Z"
   },
   {
    "duration": 209,
    "start_time": "2024-02-04T20:19:27.450Z"
   },
   {
    "duration": 154,
    "start_time": "2024-02-04T20:19:27.661Z"
   },
   {
    "duration": 166,
    "start_time": "2024-02-04T20:19:27.816Z"
   },
   {
    "duration": 127,
    "start_time": "2024-02-04T20:19:27.985Z"
   },
   {
    "duration": 230,
    "start_time": "2024-02-04T20:19:28.114Z"
   },
   {
    "duration": 500,
    "start_time": "2024-02-04T20:19:28.345Z"
   }
  ],
  "kernelspec": {
   "display_name": "Python 3 (ipykernel)",
   "language": "python",
   "name": "python3"
  },
  "language_info": {
   "codemirror_mode": {
    "name": "ipython",
    "version": 3
   },
   "file_extension": ".py",
   "mimetype": "text/x-python",
   "name": "python",
   "nbconvert_exporter": "python",
   "pygments_lexer": "ipython3",
   "version": "3.11.4"
  },
  "toc": {
   "base_numbering": 1,
   "nav_menu": {},
   "number_sections": true,
   "sideBar": true,
   "skip_h1_title": true,
   "title_cell": "Table of Contents",
   "title_sidebar": "Contents",
   "toc_cell": false,
   "toc_position": {},
   "toc_section_display": true,
   "toc_window_display": false
  }
 },
 "nbformat": 4,
 "nbformat_minor": 2
}
